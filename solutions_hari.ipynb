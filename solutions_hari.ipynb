{
 "cells": [
  {
   "cell_type": "markdown",
   "id": "bab253f2",
   "metadata": {},
   "source": [
    "### Write a program to reverse an integer in Python"
   ]
  },
  {
   "cell_type": "code",
   "execution_count": 4,
   "id": "6969c070",
   "metadata": {},
   "outputs": [
    {
     "name": "stdout",
     "output_type": "stream",
     "text": [
      "4321\n"
     ]
    }
   ],
   "source": [
    "num = 1234\n",
    "num_str = str(num)\n",
    "new = ''\n",
    "for i in reversed(num_str):\n",
    "    new += i\n",
    "print(int(new))"
   ]
  },
  {
   "cell_type": "code",
   "execution_count": 26,
   "id": "690d8409",
   "metadata": {},
   "outputs": [
    {
     "name": "stdout",
     "output_type": "stream",
     "text": [
      "before 12345\n",
      "after 54321\n"
     ]
    }
   ],
   "source": [
    "num = 12345\n",
    "print(f\"before {num}\")\n",
    "rev = 0\n",
    "while num!= 0:\n",
    "    rev = (rev *10) + (num%10)\n",
    "    num = (num//10)\n",
    "print(\"after\",rev)"
   ]
  },
  {
   "cell_type": "markdown",
   "id": "406312d9",
   "metadata": {},
   "source": [
    "### Write a program in Python to check whether an integer is Armstrong number or not."
   ]
  },
  {
   "cell_type": "code",
   "execution_count": 58,
   "id": "dc32f7ae",
   "metadata": {},
   "outputs": [
    {
     "name": "stdout",
     "output_type": "stream",
     "text": [
      "enter number:1\n",
      "Armstrong number\n"
     ]
    }
   ],
   "source": [
    "#Armstrong number are 1 2 3 4 5 6 7 8 9 153 370 371 407 \n",
    "\n",
    "n = int(input(\"enter number:\"))\n",
    "str_n = str(n)\n",
    "total = 0\n",
    "\n",
    "for i in str_n:\n",
    "    total += int(i) ** len(str_n)\n",
    "if total == n:\n",
    "    print(\"Armstrong number\")\n",
    "    \n",
    "else:\n",
    "    print(\"Not an Armstrong number\")"
   ]
  },
  {
   "cell_type": "code",
   "execution_count": 57,
   "id": "8b657684",
   "metadata": {},
   "outputs": [
    {
     "name": "stdout",
     "output_type": "stream",
     "text": [
      "enter number:407\n",
      "Armstrong number\n"
     ]
    }
   ],
   "source": [
    "n = int(input(\"enter number:\"))\n",
    "num = n\n",
    "num2 = num\n",
    "power = 0\n",
    "total = 0\n",
    "\n",
    "while n!= 0:\n",
    "    n//=10\n",
    "    power +=1\n",
    "\n",
    "while num != 0:\n",
    "    total += (num % 10)**power\n",
    "    num = (num//10)\n",
    "\n",
    "if total == num2:\n",
    "    print(\"Armstrong number\")\n",
    "else:\n",
    "    print(\"Not an Armstrong number\")"
   ]
  },
  {
   "cell_type": "markdown",
   "id": "48f954b3",
   "metadata": {},
   "source": [
    "### Write a program in Python to check given number is prime or not"
   ]
  },
  {
   "cell_type": "code",
   "execution_count": 70,
   "id": "4fa3049d",
   "metadata": {},
   "outputs": [
    {
     "name": "stdout",
     "output_type": "stream",
     "text": [
      "enter number:15\n",
      "15 is not a prime number\n"
     ]
    }
   ],
   "source": [
    "n = int(input(\"enter number:\"))\n",
    "rt = int(n ** .5) +1\n",
    "\n",
    "if n == 1:\n",
    "    print(f\"1 is not a prime number\")\n",
    "else:\n",
    "    for i in range(2,rt):\n",
    "        if n % i == 0:\n",
    "            print(f\"{n} is not a prime number\")\n",
    "            break\n",
    "    else:\n",
    "        print(f\"{n} is a prime number\")"
   ]
  },
  {
   "cell_type": "markdown",
   "id": "c4f55c4c",
   "metadata": {},
   "source": [
    "### Write a program in Python to print the Fibonacci series using iterative method"
   ]
  },
  {
   "cell_type": "code",
   "execution_count": 89,
   "id": "e277e2e1",
   "metadata": {},
   "outputs": [
    {
     "name": "stdout",
     "output_type": "stream",
     "text": [
      "number of Fibonacci series:15\n",
      "1\n",
      "2\n",
      "3\n",
      "5\n",
      "8\n",
      "13\n",
      "21\n",
      "34\n",
      "55\n",
      "89\n",
      "144\n",
      "233\n",
      "377\n"
     ]
    }
   ],
   "source": [
    "a,b = 0,1\n",
    "n = int(input(\"number of Fibonacci series:\"))\n",
    "l = [a,b]\n",
    "for i in range(0,n-2):\n",
    "    next = a+b\n",
    "    a = b\n",
    "    b = next\n",
    "    #l.append(next)\n",
    "    print(next)\n",
    "#print(l)"
   ]
  },
  {
   "cell_type": "markdown",
   "id": "537f64d2",
   "metadata": {},
   "source": [
    "### Write a program in Python to print the Fibonacci series using recursive method."
   ]
  },
  {
   "cell_type": "code",
   "execution_count": 1,
   "id": "fc5ffadc",
   "metadata": {},
   "outputs": [
    {
     "name": "stdout",
     "output_type": "stream",
     "text": [
      "0\n",
      "1\n",
      "1\n",
      "2\n",
      "3\n",
      "5\n",
      "8\n",
      "13\n",
      "21\n",
      "34\n"
     ]
    }
   ],
   "source": [
    "def fibo(num):\n",
    "    if num == 0:\n",
    "        return 0\n",
    "    elif num == 1:\n",
    "        return 1\n",
    "    else:\n",
    "        return fibo(num - 2) + fibo(num -1) # calling function itself - recursion\n",
    "    \n",
    "for i in range(0,10):\n",
    "    print(fibo(i))"
   ]
  },
  {
   "cell_type": "markdown",
   "id": "bf4afe36",
   "metadata": {},
   "source": [
    "### Write a program in Python to check whether a number is palindrome or not using iterative method."
   ]
  },
  {
   "cell_type": "code",
   "execution_count": 8,
   "id": "72075559",
   "metadata": {},
   "outputs": [
    {
     "name": "stdout",
     "output_type": "stream",
     "text": [
      "enter a number: 123\n",
      "False\n"
     ]
    }
   ],
   "source": [
    "n = int(input(\"enter a number: \"))\n",
    "n1 = str(n)\n",
    "reverse = \"\"\n",
    "for i in reversed(n1):\n",
    "    reverse += i\n",
    "\n",
    "if int(reverse) == n:\n",
    "    print(True)\n",
    "else:\n",
    "    print(False)\n",
    "\n",
    "    "
   ]
  },
  {
   "cell_type": "code",
   "execution_count": 10,
   "id": "e2549ddf",
   "metadata": {},
   "outputs": [
    {
     "name": "stdout",
     "output_type": "stream",
     "text": [
      "enter a number: 123\n",
      "False\n"
     ]
    }
   ],
   "source": [
    "n = int(input(\"enter a number: \"))\n",
    "temp = n\n",
    "reverse = 0\n",
    "\n",
    "while n != 0:\n",
    "    reverse = reverse*10 + ( n % 10)\n",
    "    n //= 10\n",
    "    \n",
    "if reverse == temp :\n",
    "    print(True)\n",
    "else:\n",
    "    print(False)"
   ]
  },
  {
   "cell_type": "markdown",
   "id": "07dc5919",
   "metadata": {},
   "source": [
    "### Write a program in Python to check whether a number is palindrome or not using recursive method."
   ]
  },
  {
   "cell_type": "code",
   "execution_count": 23,
   "id": "0f529b5f",
   "metadata": {},
   "outputs": [
    {
     "name": "stdout",
     "output_type": "stream",
     "text": [
      "enter a number: 123\n",
      "321\n"
     ]
    },
    {
     "data": {
      "text/plain": [
       "'Not Palindrome'"
      ]
     },
     "execution_count": 23,
     "metadata": {},
     "output_type": "execute_result"
    }
   ],
   "source": [
    "n = int(input(\"enter a number: \"))\n",
    "\n",
    "def reverse(n):\n",
    "    if -10 < n < 10:\n",
    "        return n\n",
    "    else:\n",
    "        return int(str(n%10) + str(reverse(n//10)))\n",
    "print(reverse(n))\n",
    "    \n",
    "def Num_Palindrome(n):\n",
    "    if n == reverse(n):\n",
    "        return(\"Palindrome\")\n",
    "    else:\n",
    "        return(\"Not Palindrome\")\n",
    "    \n",
    "Num_Palindrome(n)"
   ]
  },
  {
   "cell_type": "markdown",
   "id": "3e113bcd",
   "metadata": {},
   "source": [
    "### Write a program in Python to find greatest among three integers.\n"
   ]
  },
  {
   "cell_type": "code",
   "execution_count": 27,
   "id": "e913175b",
   "metadata": {},
   "outputs": [
    {
     "name": "stdout",
     "output_type": "stream",
     "text": [
      "Greatest number is 8\n"
     ]
    }
   ],
   "source": [
    "a, b, c = 5,2,8\n",
    "\n",
    "if b < a > c:\n",
    "    print(f\"Greatest number is {a}\")\n",
    "elif a < b > c:\n",
    "    print(f\"Greatest number is {b}\")\n",
    "else:\n",
    "    print(f\"Greatest number is {c}\")"
   ]
  },
  {
   "cell_type": "markdown",
   "id": "46c48bc8",
   "metadata": {},
   "source": [
    "### Write a program in Python to check if a number is binary?"
   ]
  },
  {
   "cell_type": "code",
   "execution_count": 6,
   "id": "9f00b267",
   "metadata": {},
   "outputs": [
    {
     "name": "stdout",
     "output_type": "stream",
     "text": [
      "please give a number : 121\n",
      "num is not binary 2\n"
     ]
    }
   ],
   "source": [
    "num = int(input(\"please give a number : \"))\n",
    "\n",
    "while(num>0):\n",
    "    j=num%10\n",
    "\n",
    "    if j!=0 and j!=1:\n",
    "        print(\"num is not binary\",j)\n",
    "        break\n",
    "    num=num//10\n",
    "    if num==0:\n",
    "        print(\"num is binary\")"
   ]
  },
  {
   "cell_type": "markdown",
   "id": "e6658490",
   "metadata": {},
   "source": [
    "### Write a program in Python to swap two numbers without using third variable?"
   ]
  },
  {
   "cell_type": "code",
   "execution_count": 8,
   "id": "2f939731",
   "metadata": {},
   "outputs": [
    {
     "name": "stdout",
     "output_type": "stream",
     "text": [
      "before 1 2\n",
      "after 2 1\n"
     ]
    }
   ],
   "source": [
    "a ,b = 1,2\n",
    "print(\"before\",a,b)\n",
    "\n",
    "a , b = b, a\n",
    "print(\"after\",a,b)"
   ]
  },
  {
   "cell_type": "code",
   "execution_count": 10,
   "id": "e5819b4a",
   "metadata": {},
   "outputs": [
    {
     "data": {
      "text/plain": [
       "(25, 20)"
      ]
     },
     "execution_count": 10,
     "metadata": {},
     "output_type": "execute_result"
    }
   ],
   "source": [
    "def swap(a,b):\n",
    "    a , b = b, a\n",
    "    return(a, b)\n",
    "\n",
    "swap(20,25)"
   ]
  },
  {
   "cell_type": "markdown",
   "id": "46da926e",
   "metadata": {},
   "source": [
    "### Write a program in Python to swap two numbers using third variable?"
   ]
  },
  {
   "cell_type": "code",
   "execution_count": 16,
   "id": "c104caef",
   "metadata": {},
   "outputs": [
    {
     "name": "stdout",
     "output_type": "stream",
     "text": [
      "before 10 15\n",
      "after 15 10\n"
     ]
    }
   ],
   "source": [
    "a, b = 10, 15\n",
    "print('before',a,b)\n",
    "temp = a\n",
    "a = b\n",
    "b = temp\n",
    "\n",
    "print(\"after\",a,b)"
   ]
  },
  {
   "cell_type": "markdown",
   "id": "5992dceb",
   "metadata": {},
   "source": [
    "### Write a program in Python to find given number is perfect or not?"
   ]
  },
  {
   "cell_type": "code",
   "execution_count": 20,
   "id": "0ce80cb1",
   "metadata": {},
   "outputs": [
    {
     "name": "stdout",
     "output_type": "stream",
     "text": [
      "enter 6\n",
      "Perfect number\n"
     ]
    }
   ],
   "source": [
    "n = int(input(\"enter \"))\n",
    "total = 0\n",
    "\n",
    "for i in range(1,n):\n",
    "    if n % i == 0:\n",
    "        total += i\n",
    "        \n",
    "if total == n:\n",
    "    print(\"Perfect number\")\n",
    "else:\n",
    "    print(\"Non a Perfect Number\")"
   ]
  },
  {
   "cell_type": "markdown",
   "id": "f0248cba",
   "metadata": {},
   "source": [
    "### Write a method in Python which will remove any given character from a String.\n"
   ]
  },
  {
   "cell_type": "code",
   "execution_count": 23,
   "id": "330aa115",
   "metadata": {},
   "outputs": [
    {
     "name": "stdout",
     "output_type": "stream",
     "text": [
      "enter a word:yfdyhdj\n",
      "enter a char:y\n",
      "fdhdj\n"
     ]
    }
   ],
   "source": [
    "x = input(\"enter a word:\")\n",
    "char = input(\"enter a char:\")\n",
    "print(x.replace(char,''))"
   ]
  },
  {
   "cell_type": "markdown",
   "id": "7b593b0f",
   "metadata": {},
   "source": [
    "### Write a program in Python to count occurrence of a given character in a String?"
   ]
  },
  {
   "cell_type": "code",
   "execution_count": 30,
   "id": "427e5bd8",
   "metadata": {},
   "outputs": [
    {
     "name": "stdout",
     "output_type": "stream",
     "text": [
      "enter a word:aparna\n",
      "enter a char:a\n",
      "3\n"
     ]
    }
   ],
   "source": [
    "x = input(\"enter a word:\")\n",
    "char = input(\"enter a char:\")\n",
    "print(x.count(char))\n"
   ]
  },
  {
   "cell_type": "code",
   "execution_count": 32,
   "id": "3360702e",
   "metadata": {},
   "outputs": [
    {
     "name": "stdout",
     "output_type": "stream",
     "text": [
      "3\n"
     ]
    }
   ],
   "source": [
    "count = 0\n",
    "for i in x:\n",
    "    if i == char:\n",
    "        count += 1\n",
    "print(count)\n",
    "        "
   ]
  },
  {
   "cell_type": "markdown",
   "id": "26d9f24d",
   "metadata": {},
   "source": [
    "### Write a program in Python to check if two String are Anagram. "
   ]
  },
  {
   "cell_type": "code",
   "execution_count": 35,
   "id": "e7004913",
   "metadata": {},
   "outputs": [
    {
     "name": "stdout",
     "output_type": "stream",
     "text": [
      "Anagram\n"
     ]
    }
   ],
   "source": [
    "a = \"appu\"\n",
    "b = \"papu\"\n",
    "\n",
    "if sorted(a) == sorted(b):\n",
    "    print(\"Anagram\")\n",
    "else:\n",
    "    print(\"Not Anagram\")\n",
    "    "
   ]
  },
  {
   "cell_type": "code",
   "execution_count": 36,
   "id": "08c50269",
   "metadata": {},
   "outputs": [
    {
     "data": {
      "text/plain": [
       "'Anagram'"
      ]
     },
     "execution_count": 36,
     "metadata": {},
     "output_type": "execute_result"
    }
   ],
   "source": [
    "def check_anagram(a,b):\n",
    "    if sorted(a) == sorted(b):\n",
    "        return(\"Anagram\")\n",
    "    else:\n",
    "        return(\"Not Anagram\")\n",
    "    \n",
    "check_anagram(a,b)    "
   ]
  },
  {
   "cell_type": "markdown",
   "id": "e9d4b2f3",
   "metadata": {},
   "source": [
    "### Write a program in Python to check a String is palindrome or not."
   ]
  },
  {
   "cell_type": "code",
   "execution_count": 43,
   "id": "c14cdfc9",
   "metadata": {},
   "outputs": [
    {
     "name": "stdout",
     "output_type": "stream",
     "text": [
      "Not Palindrome\n"
     ]
    }
   ],
   "source": [
    "#a = \"malayalam\"\n",
    "a = \"aparna\"\n",
    "if a == a[::-1]:\n",
    "    print(\"Palindrome\")\n",
    "else:\n",
    "    print(\"Not Palindrome\")\n"
   ]
  },
  {
   "cell_type": "markdown",
   "id": "682ccc28",
   "metadata": {},
   "source": [
    "### Write a program in Python for, In array 1-100 numbers are stored, one number is missing how do you find it."
   ]
  },
  {
   "cell_type": "code",
   "execution_count": 48,
   "id": "94d354bf",
   "metadata": {},
   "outputs": [
    {
     "name": "stdout",
     "output_type": "stream",
     "text": [
      "13\n"
     ]
    }
   ],
   "source": [
    "l = [1,2,3,4,5,6,7,8,9,10,11,12,14,15,16,17,18,19,20]\n",
    "\n",
    "for i in range(1,21):\n",
    "    if i not in l:\n",
    "        print(i)"
   ]
  },
  {
   "cell_type": "code",
   "execution_count": null,
   "id": "d09a4bd1",
   "metadata": {},
   "outputs": [],
   "source": []
  },
  {
   "cell_type": "markdown",
   "id": "f9de747a",
   "metadata": {},
   "source": [
    "### Write a program in Python for, In a array 1-100 multiple numbers are duplicates, how do you find it."
   ]
  },
  {
   "cell_type": "code",
   "execution_count": 49,
   "id": "d6d6faeb",
   "metadata": {},
   "outputs": [
    {
     "data": {
      "text/plain": [
       "[1, 3, 5, 7, 9]"
      ]
     },
     "execution_count": 49,
     "metadata": {},
     "output_type": "execute_result"
    }
   ],
   "source": [
    "l = [1,2,3,4,5,6,7,8,9,1,3,5,7,9]\n",
    "dup = []\n",
    "for i in set(l):\n",
    "    if l.count(i) > 1:\n",
    "        dup.append(i)\n",
    "        \n",
    "dup"
   ]
  },
  {
   "cell_type": "code",
   "execution_count": null,
   "id": "83f69717",
   "metadata": {},
   "outputs": [],
   "source": []
  },
  {
   "cell_type": "markdown",
   "id": "1ad8da34",
   "metadata": {},
   "source": [
    "### Write a program in Python for, How to compare two array is equal in size or not.\n"
   ]
  },
  {
   "cell_type": "code",
   "execution_count": null,
   "id": "d50088de",
   "metadata": {},
   "outputs": [],
   "source": [
    "l1 = [1,2,3,4,5,6,7,8,9,10]\n",
    "l2 = [1,2,3,4,5,6,7,8,9]\n",
    "#l2 = [11,12,13,14,15,16,17,18,19,20]\n",
    "\n",
    "if len(l1) == len(l2):\n",
    "    print(\"Equal size\")\n",
    "else:\n",
    "    print(\"Not Equal in size\")"
   ]
  },
  {
   "cell_type": "code",
   "execution_count": null,
   "id": "d63a6e6d",
   "metadata": {},
   "outputs": [],
   "source": []
  },
  {
   "cell_type": "markdown",
   "id": "8095ae67",
   "metadata": {},
   "source": [
    "### Write a program in Python to find largest and smallest number in array."
   ]
  },
  {
   "cell_type": "code",
   "execution_count": 52,
   "id": "0a2384ee",
   "metadata": {},
   "outputs": [
    {
     "name": "stdout",
     "output_type": "stream",
     "text": [
      "smallest: -8,largest : 31\n"
     ]
    }
   ],
   "source": [
    "l = [1,3,4,5,7,-8,9,8,31]\n",
    "smallest = 0\n",
    "largest = 0\n",
    "\n",
    "for i in l:\n",
    "    if i > largest:\n",
    "        largest = i\n",
    "    if i < smallest:\n",
    "        smallest = i\n",
    "        \n",
    "print(f\"smallest: {smallest},largest : {largest}\")\n",
    "        "
   ]
  },
  {
   "cell_type": "code",
   "execution_count": null,
   "id": "1a51c505",
   "metadata": {},
   "outputs": [],
   "source": []
  },
  {
   "cell_type": "markdown",
   "id": "e9526e2e",
   "metadata": {},
   "source": [
    "### Write a program in Python to find second highest number in an integer array."
   ]
  },
  {
   "cell_type": "code",
   "execution_count": 72,
   "id": "0b7b7b67",
   "metadata": {},
   "outputs": [
    {
     "name": "stdout",
     "output_type": "stream",
     "text": [
      "[1, 2, 3, 4, 5, 6, 7, 9]\n",
      "7\n"
     ]
    }
   ],
   "source": [
    "l = [1,3,4,5,6,7,2,9]\n",
    "l.sort()\n",
    "print(l)\n",
    "print(l[-2])"
   ]
  },
  {
   "cell_type": "code",
   "execution_count": null,
   "id": "9b8e9cd0",
   "metadata": {},
   "outputs": [],
   "source": []
  },
  {
   "cell_type": "markdown",
   "id": "6184ac08",
   "metadata": {},
   "source": [
    "### Write a program in Python to find top two maximum number in array?"
   ]
  },
  {
   "cell_type": "code",
   "execution_count": 70,
   "id": "32fb8375",
   "metadata": {},
   "outputs": [
    {
     "name": "stdout",
     "output_type": "stream",
     "text": [
      "[3, 11, 12, 21, 34, 51]\n",
      "[34, 51]\n"
     ]
    }
   ],
   "source": [
    "l1 = [11,3,21,34,51,12]\n",
    "l1.sort()\n",
    "print(l1)\n",
    "print(l1[-2:])"
   ]
  },
  {
   "cell_type": "markdown",
   "id": "fcd27ea6",
   "metadata": {},
   "source": [
    "### Write a program in Python to remove duplicate elements form array"
   ]
  },
  {
   "cell_type": "code",
   "execution_count": 86,
   "id": "f7991c94",
   "metadata": {},
   "outputs": [
    {
     "data": {
      "text/plain": [
       "{0, 1, 2, 3, 4}"
      ]
     },
     "execution_count": 86,
     "metadata": {},
     "output_type": "execute_result"
    }
   ],
   "source": [
    "#l = [1,1,2,2,2,3,4,5,3,6,4,7,9,11]\n",
    "l = [0,0,1,1,1,2,2,3,3,4]\n",
    "l_unique = set(l)\n",
    "l_unique"
   ]
  },
  {
   "cell_type": "code",
   "execution_count": 85,
   "id": "37919dab",
   "metadata": {},
   "outputs": [
    {
     "name": "stdout",
     "output_type": "stream",
     "text": [
      "[0, 1, 2, 3, 4]\n"
     ]
    }
   ],
   "source": [
    "unique = []\n",
    "for i in l:\n",
    "    if l.count(i) > 1:\n",
    "        l.remove(i)\n",
    "print(l)"
   ]
  },
  {
   "cell_type": "markdown",
   "id": "59ff6d64",
   "metadata": {},
   "source": [
    "### Reverse a String."
   ]
  },
  {
   "cell_type": "code",
   "execution_count": 1,
   "id": "f9d510df",
   "metadata": {},
   "outputs": [
    {
     "data": {
      "text/plain": [
       "'gnirts'"
      ]
     },
     "execution_count": 1,
     "metadata": {},
     "output_type": "execute_result"
    }
   ],
   "source": [
    "s = \"string\"\n",
    "s[::-1]\n"
   ]
  },
  {
   "cell_type": "code",
   "execution_count": 4,
   "id": "449d8f67",
   "metadata": {},
   "outputs": [
    {
     "data": {
      "text/plain": [
       "'gnirts'"
      ]
     },
     "execution_count": 4,
     "metadata": {},
     "output_type": "execute_result"
    }
   ],
   "source": [
    "s1 = \"\"\n",
    "for i in reversed(s):\n",
    "    s1 += i\n",
    "s1   "
   ]
  },
  {
   "cell_type": "markdown",
   "id": "029b93eb",
   "metadata": {},
   "source": [
    "### Leap Year."
   ]
  },
  {
   "cell_type": "code",
   "execution_count": 29,
   "id": "35547205",
   "metadata": {},
   "outputs": [
    {
     "name": "stdout",
     "output_type": "stream",
     "text": [
      "enter year:1992\n",
      "1992 is a leap year\n"
     ]
    }
   ],
   "source": [
    "year = int(input(\"enter year:\"))\n",
    "\n",
    "if year % 100 != 0:\n",
    "    if year % 4 == 0:\n",
    "        print(f\"{year} is a leap year\")\n",
    "    else:\n",
    "        print(f\"{year} is not a leap year\")\n",
    "else:\n",
    "    if year % 400 == 0:\n",
    "        print(f\"{year} is a leap year\")\n",
    "    else:\n",
    "        print(f\"{year} is not a leap year\")\n",
    "        "
   ]
  },
  {
   "cell_type": "code",
   "execution_count": 28,
   "id": "32d00c89",
   "metadata": {},
   "outputs": [
    {
     "name": "stdout",
     "output_type": "stream",
     "text": [
      "enter year:1992\n",
      "leap year\n"
     ]
    }
   ],
   "source": [
    "year = int(input(\"enter year:\"))\n",
    "if year % 4 != 0:\n",
    "    print(\"not leap year\")\n",
    "else:\n",
    "    if year % 100 == 0:\n",
    "        if year % 400 == 0:\n",
    "            print(\"leap year\")\n",
    "        else:\n",
    "            print(\"not leap year\")\n",
    "    else:\n",
    "        print(\"leap year\")\n",
    "        "
   ]
  },
  {
   "cell_type": "markdown",
   "id": "1e6c901a",
   "metadata": {},
   "source": [
    "### HCF / GCD.\n"
   ]
  },
  {
   "cell_type": "code",
   "execution_count": null,
   "id": "cdad8201",
   "metadata": {},
   "outputs": [],
   "source": []
  },
  {
   "cell_type": "markdown",
   "id": "ec25b612",
   "metadata": {},
   "source": [
    "### Factorial."
   ]
  },
  {
   "cell_type": "code",
   "execution_count": 12,
   "id": "f63698a5",
   "metadata": {},
   "outputs": [
    {
     "name": "stdout",
     "output_type": "stream",
     "text": [
      "enter number:5\n",
      "120\n"
     ]
    }
   ],
   "source": [
    "num = int(input(\"enter number:\"))\n",
    "fact = 1\n",
    "for i in range(1,num+1):\n",
    "    fact *= i\n",
    "print(fact)"
   ]
  },
  {
   "cell_type": "markdown",
   "id": "39acc84f",
   "metadata": {},
   "source": [
    "### Decimal to Binary & vice versa\n"
   ]
  },
  {
   "cell_type": "code",
   "execution_count": null,
   "id": "ce37404b",
   "metadata": {},
   "outputs": [],
   "source": []
  },
  {
   "cell_type": "code",
   "execution_count": null,
   "id": "b2766e74",
   "metadata": {},
   "outputs": [],
   "source": []
  },
  {
   "cell_type": "markdown",
   "id": "f0ff5639",
   "metadata": {},
   "source": [
    "### Concatenate 2 strings."
   ]
  },
  {
   "cell_type": "code",
   "execution_count": 10,
   "id": "33f01b70",
   "metadata": {},
   "outputs": [
    {
     "data": {
      "text/plain": [
       "'Hello World!'"
      ]
     },
     "execution_count": 10,
     "metadata": {},
     "output_type": "execute_result"
    }
   ],
   "source": [
    "s1 = \"Hello\"\n",
    "s2 = \"World!\"\n",
    "s = s1 + \" \" + s2\n",
    "s"
   ]
  },
  {
   "cell_type": "markdown",
   "id": "bc40ace7",
   "metadata": {},
   "source": [
    "### LCM of Two Number using CLP."
   ]
  },
  {
   "cell_type": "code",
   "execution_count": null,
   "id": "4189c030",
   "metadata": {},
   "outputs": [],
   "source": []
  },
  {
   "cell_type": "markdown",
   "id": "91b37d5d",
   "metadata": {},
   "source": [
    "### Average of Two Numbers."
   ]
  },
  {
   "cell_type": "code",
   "execution_count": 2,
   "id": "557187dc",
   "metadata": {},
   "outputs": [
    {
     "name": "stdout",
     "output_type": "stream",
     "text": [
      "enter num1: 12\n",
      "enter num2: 15\n"
     ]
    },
    {
     "data": {
      "text/plain": [
       "13.5"
      ]
     },
     "execution_count": 2,
     "metadata": {},
     "output_type": "execute_result"
    }
   ],
   "source": [
    "num1 = int(input(\"enter num1: \"))\n",
    "num2 = int(input(\"enter num2: \"))\n",
    "\n",
    "avg = (num1 + num2)/2\n",
    "avg"
   ]
  },
  {
   "cell_type": "markdown",
   "id": "98c79cb9",
   "metadata": {},
   "source": [
    "### Sum of Digits of a number."
   ]
  },
  {
   "cell_type": "code",
   "execution_count": 9,
   "id": "c480cb77",
   "metadata": {},
   "outputs": [
    {
     "name": "stdout",
     "output_type": "stream",
     "text": [
      "enter num: 123456\n",
      "21\n"
     ]
    }
   ],
   "source": [
    "num = int(input(\"enter num: \"))\n",
    "sum = 0\n",
    "\n",
    "while num !=0:\n",
    "    sum += (num % 10)\n",
    "    num = num // 10\n",
    "    \n",
    "print(sum)\n",
    "    "
   ]
  },
  {
   "cell_type": "markdown",
   "id": "d609d806",
   "metadata": {},
   "source": [
    "### Binary to Decimal.\n"
   ]
  },
  {
   "cell_type": "code",
   "execution_count": null,
   "id": "eccc4901",
   "metadata": {},
   "outputs": [],
   "source": []
  },
  {
   "cell_type": "markdown",
   "id": "37efc269",
   "metadata": {},
   "source": [
    "### Decimal to Binary."
   ]
  },
  {
   "cell_type": "code",
   "execution_count": null,
   "id": "b652c091",
   "metadata": {},
   "outputs": [],
   "source": []
  },
  {
   "cell_type": "markdown",
   "id": "2bc2a37c",
   "metadata": {},
   "source": [
    "### Square Root without square root."
   ]
  },
  {
   "cell_type": "code",
   "execution_count": 10,
   "id": "dd58c558",
   "metadata": {},
   "outputs": [
    {
     "name": "stdout",
     "output_type": "stream",
     "text": [
      "enter num: 5\n"
     ]
    },
    {
     "data": {
      "text/plain": [
       "2.23606797749979"
      ]
     },
     "execution_count": 10,
     "metadata": {},
     "output_type": "execute_result"
    }
   ],
   "source": [
    "num = int(input(\"enter num: \"))\n",
    "\n",
    "sqrt = num ** .5\n",
    "sqrt"
   ]
  },
  {
   "cell_type": "code",
   "execution_count": 15,
   "id": "217f27f9",
   "metadata": {},
   "outputs": [
    {
     "data": {
      "text/plain": [
       "2.23606797749979"
      ]
     },
     "execution_count": 15,
     "metadata": {},
     "output_type": "execute_result"
    }
   ],
   "source": [
    "from math import sqrt \n",
    "\n",
    "sqrt_of_num = sqrt(num)\n",
    "\n",
    "sqrt_of_num\n"
   ]
  },
  {
   "cell_type": "markdown",
   "id": "3f8d46ca",
   "metadata": {},
   "source": [
    "### Square Root of Prime Number."
   ]
  },
  {
   "cell_type": "code",
   "execution_count": 41,
   "id": "f947401a",
   "metadata": {},
   "outputs": [],
   "source": [
    "def check_prime(num):\n",
    "    rt = int(num ** .5) + 1\n",
    "    if num == 1:\n",
    "        return(\"Not Prime number\")\n",
    "    else:\n",
    "        for i in range(2,rt):\n",
    "            if num % i == 0:\n",
    "                return(\"Not Prime number\")\n",
    "        else:\n",
    "            return(\"Prime number\")\n",
    "\n",
    "# def sqrt_prime(num):\n",
    "#     if check_prime(num) == \"Prime number\":\n",
    "#         return (num ** .5,num)\n",
    "        \n",
    "    \n",
    "# for i in range(1,10):\n",
    "#     print(sqrt_prime(i))"
   ]
  },
  {
   "cell_type": "code",
   "execution_count": 5,
   "id": "d77fa80b",
   "metadata": {},
   "outputs": [
    {
     "name": "stdout",
     "output_type": "stream",
     "text": [
      "(1.4142135623730951, 2)\n",
      "(1.7320508075688772, 3)\n",
      "(2.23606797749979, 5)\n",
      "(2.6457513110645907, 7)\n"
     ]
    }
   ],
   "source": [
    "\n",
    "def sqrt_prime(num):\n",
    "    return (num ** .5,num)\n",
    "    \n",
    "for i in range(1,10):\n",
    "    if check_prime(i) == \"Prime number\":\n",
    "        print (sqrt_prime(i))"
   ]
  },
  {
   "cell_type": "markdown",
   "id": "ccd3f73e",
   "metadata": {},
   "source": [
    "### Odd-Even Number."
   ]
  },
  {
   "cell_type": "code",
   "execution_count": 8,
   "id": "8c6c808b",
   "metadata": {},
   "outputs": [
    {
     "name": "stdout",
     "output_type": "stream",
     "text": [
      "enter number:5\n",
      "5 is Odd\n"
     ]
    }
   ],
   "source": [
    "num = int(input(\"enter number:\"))\n",
    "\n",
    "if num % 2 == 0:\n",
    "    print(f\"{num} is Even\")\n",
    "else:\n",
    "    print(f\"{num} is Odd\")"
   ]
  },
  {
   "cell_type": "markdown",
   "id": "a6b12a34",
   "metadata": {},
   "source": [
    "### Binary to Octal."
   ]
  },
  {
   "cell_type": "code",
   "execution_count": null,
   "id": "ccbc868f",
   "metadata": {},
   "outputs": [],
   "source": []
  },
  {
   "cell_type": "markdown",
   "id": "4ab72487",
   "metadata": {},
   "source": [
    "### Decimal to Octal."
   ]
  },
  {
   "cell_type": "code",
   "execution_count": null,
   "id": "92e1c51d",
   "metadata": {},
   "outputs": [],
   "source": []
  },
  {
   "cell_type": "markdown",
   "id": "29825138",
   "metadata": {},
   "source": [
    "### Area of Circle"
   ]
  },
  {
   "cell_type": "code",
   "execution_count": 6,
   "id": "a5156465",
   "metadata": {},
   "outputs": [
    {
     "name": "stdout",
     "output_type": "stream",
     "text": [
      "enter radius:5\n"
     ]
    },
    {
     "data": {
      "text/plain": [
       "78.57142857142857"
      ]
     },
     "execution_count": 6,
     "metadata": {},
     "output_type": "execute_result"
    }
   ],
   "source": [
    "r = a = int(input(\"enter radius:\"))\n",
    "area = (22/7) * r **2\n",
    "area"
   ]
  },
  {
   "cell_type": "markdown",
   "id": "beebab4a",
   "metadata": {},
   "source": [
    "### Area of Triangle."
   ]
  },
  {
   "cell_type": "code",
   "execution_count": 5,
   "id": "d8584835",
   "metadata": {},
   "outputs": [
    {
     "name": "stdout",
     "output_type": "stream",
     "text": [
      "enter side a:4\n",
      "enter side b:4\n",
      "enter side c:4\n"
     ]
    },
    {
     "data": {
      "text/plain": [
       "6.928203230275509"
      ]
     },
     "execution_count": 5,
     "metadata": {},
     "output_type": "execute_result"
    }
   ],
   "source": [
    "a = int(input(\"enter side a:\"))\n",
    "b = int(input(\"enter side b:\"))\n",
    "c = int(input(\"enter side c:\"))\n",
    "s = (a + b + c)/2\n",
    "area = (s * (s - a) * (s - b) * (s - c))** .5\n",
    "area"
   ]
  },
  {
   "cell_type": "code",
   "execution_count": null,
   "id": "d6726643",
   "metadata": {},
   "outputs": [],
   "source": []
  },
  {
   "cell_type": "code",
   "execution_count": null,
   "id": "3e1c2c77",
   "metadata": {},
   "outputs": [],
   "source": []
  },
  {
   "cell_type": "code",
   "execution_count": null,
   "id": "5bc34bdb",
   "metadata": {},
   "outputs": [],
   "source": []
  },
  {
   "cell_type": "code",
   "execution_count": null,
   "id": "851618d4",
   "metadata": {},
   "outputs": [],
   "source": []
  },
  {
   "cell_type": "code",
   "execution_count": null,
   "id": "045cc119",
   "metadata": {},
   "outputs": [],
   "source": []
  },
  {
   "cell_type": "code",
   "execution_count": null,
   "id": "cb03aa37",
   "metadata": {},
   "outputs": [],
   "source": []
  },
  {
   "cell_type": "code",
   "execution_count": null,
   "id": "c0833f6e",
   "metadata": {},
   "outputs": [],
   "source": []
  },
  {
   "cell_type": "code",
   "execution_count": null,
   "id": "5a87d1fc",
   "metadata": {},
   "outputs": [],
   "source": []
  },
  {
   "cell_type": "code",
   "execution_count": null,
   "id": "429f463c",
   "metadata": {},
   "outputs": [],
   "source": []
  },
  {
   "cell_type": "code",
   "execution_count": null,
   "id": "548824bb",
   "metadata": {},
   "outputs": [],
   "source": []
  },
  {
   "cell_type": "code",
   "execution_count": null,
   "id": "a72241f5",
   "metadata": {},
   "outputs": [],
   "source": []
  },
  {
   "cell_type": "code",
   "execution_count": null,
   "id": "dbd904b8",
   "metadata": {},
   "outputs": [],
   "source": []
  },
  {
   "cell_type": "code",
   "execution_count": null,
   "id": "6f5cc818",
   "metadata": {},
   "outputs": [],
   "source": []
  },
  {
   "cell_type": "code",
   "execution_count": null,
   "id": "832887e8",
   "metadata": {},
   "outputs": [],
   "source": []
  },
  {
   "cell_type": "code",
   "execution_count": null,
   "id": "1b8e7988",
   "metadata": {},
   "outputs": [],
   "source": []
  },
  {
   "cell_type": "code",
   "execution_count": null,
   "id": "5078cc6d",
   "metadata": {},
   "outputs": [],
   "source": []
  },
  {
   "cell_type": "code",
   "execution_count": null,
   "id": "9201872d",
   "metadata": {},
   "outputs": [],
   "source": []
  },
  {
   "cell_type": "code",
   "execution_count": null,
   "id": "0338e90a",
   "metadata": {},
   "outputs": [],
   "source": []
  },
  {
   "cell_type": "code",
   "execution_count": null,
   "id": "8a9c6682",
   "metadata": {},
   "outputs": [],
   "source": []
  },
  {
   "cell_type": "code",
   "execution_count": null,
   "id": "46117c28",
   "metadata": {},
   "outputs": [],
   "source": []
  },
  {
   "cell_type": "code",
   "execution_count": null,
   "id": "39235d6b",
   "metadata": {},
   "outputs": [],
   "source": []
  },
  {
   "cell_type": "code",
   "execution_count": null,
   "id": "d805a09a",
   "metadata": {},
   "outputs": [],
   "source": []
  },
  {
   "cell_type": "code",
   "execution_count": null,
   "id": "6ae3fef2",
   "metadata": {},
   "outputs": [],
   "source": []
  },
  {
   "cell_type": "code",
   "execution_count": null,
   "id": "a60524a1",
   "metadata": {},
   "outputs": [],
   "source": []
  }
 ],
 "metadata": {
  "kernelspec": {
   "display_name": "Python 3 (ipykernel)",
   "language": "python",
   "name": "python3"
  },
  "language_info": {
   "codemirror_mode": {
    "name": "ipython",
    "version": 3
   },
   "file_extension": ".py",
   "mimetype": "text/x-python",
   "name": "python",
   "nbconvert_exporter": "python",
   "pygments_lexer": "ipython3",
   "version": "3.9.13"
  }
 },
 "nbformat": 4,
 "nbformat_minor": 5
}

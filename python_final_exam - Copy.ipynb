{
 "cells": [
  {
   "cell_type": "markdown",
   "metadata": {},
   "source": [
    "# INTRODUCTION TO PYTHON FINAL EXAM"
   ]
  },
  {
   "cell_type": "markdown",
   "metadata": {},
   "source": [
    "# SECTION A: 20 MARKS"
   ]
  },
  {
   "cell_type": "markdown",
   "metadata": {},
   "source": [
    " _________________"
   ]
  },
  {
   "cell_type": "markdown",
   "metadata": {},
   "source": [
    "#### 1. Ram built his own house and was confused about what name he should keep for it. He asked his friend Shyam to help. Shyam suggested a lot of names. Ram has certain conditions for the name:  (5 marks)                                                                                                                      \n",
    "•\tIt should consist of exactly three distinct characters, say C1, C2 and C3\n",
    "•\tIt should satisfy the criteria that the string was of the form - C1n C2n C3n: This means, first C1 occurs n times, then C2 occurs n times and then C3 occurs n times. For example, xyz, ccaarr, mmmiiiaaa satisfy the criteria, but xyzw, aabbbcccc don't.\n",
    "Given N names suggested by Shyam, print \"OK\" if Ram likes the name and \"Not OK\" if he doesn't.\n",
    "\n",
    "•\tInput:\n",
    "First-line contains a single positive integer N - the number of names.\n",
    "N lines follow - each line contains a name.\n",
    "o\t\n",
    "Output:\n",
    "For each name, Print \"OK\" if the name satisfies the criteria, else print \"Not OK\", on a new line.\n",
    "Constraints:\n",
    "1 ≤ N ≤ 100 1 ≤ Length of names ≤ 500\n",
    "Names contain only lowercase English alphabets\n",
    "\n",
    "SAMPLE INPUT\n",
    "2\n",
    "\n",
    "bbbrrriii\n",
    "\n",
    "brian\n",
    "\n",
    "SAMPLE OUTPUT\n",
    "\n",
    "OK\n",
    "\n",
    "Not OK\n"
   ]
  },
  {
   "cell_type": "code",
   "execution_count": 3,
   "metadata": {},
   "outputs": [],
   "source": [
    "from collections import Counter"
   ]
  },
  {
   "cell_type": "code",
   "execution_count": 14,
   "metadata": {
    "scrolled": true
   },
   "outputs": [
    {
     "name": "stdout",
     "output_type": "stream",
     "text": [
      "Enter number of names : 5\n",
      "xyz\n",
      "xxyyz\n",
      "bbbrrriii\n",
      "bbbrriiri\n",
      "xyzw\n",
      "Counter({'x': 1, 'y': 1, 'z': 1})\n",
      "xyz : Not OK\n",
      "xxyyz : Not OK\n",
      "bbbrrriii :Ok\n",
      "bbbrriiri :Ok\n",
      "xyzw : Not OK\n"
     ]
    }
   ],
   "source": [
    "N = int(input('Enter number of names : '))\n",
    "_input = []\n",
    "for i in range(N):\n",
    "    _input.append(input())\n",
    "#_input = ['bbbrrriii', 'brain', 'brillient', 'bottle']\n",
    "coun = Counter()\n",
    "\n",
    "coun.update(_input[0])\n",
    "print(coun)\n",
    "\n",
    "# keys = list(coun.keys())\n",
    "values = list(coun.values())\n",
    "values\n",
    "\n",
    "\n",
    "\n",
    "if (len(keys) == 3) & (values[0] == values[1] == values[2]):\n",
    "     for word in _input[0:]:\n",
    "        count = 0\n",
    "        for i in keys:\n",
    "            if i in word:\n",
    "                count += 1\n",
    "        if count == 3:\n",
    "            print(f'{word} : Not OK')\n",
    "        else:\n",
    "            print(f'{word} :Ok')\n",
    "else:\n",
    "    print('Not Ok')"
   ]
  },
  {
   "cell_type": "markdown",
   "metadata": {
    "colab_type": "text",
    "id": "A0Aonn8t4Wmj"
   },
   "source": [
    "#### 2. You are  working with NASA and suddenly you got an opportunity to travel to the moon. You have to stay there for 15 years.\n",
    " \n",
    " Exercise1: You have to calculate your weight in kilograms on the moon in a period of 15 years,(3 marks)\n",
    " \n",
    " Step1: Measure your Weight on the Moon and also create a variable to store it. Assume your starting weight:30\n",
    " \n",
    "● For each year, you can calculate the new weight by adding a kilogram, and then multiplying by 6.5 percent (0.65) to get the weight on the moon:\n",
    " \n",
    " Exercise2: Create basic Moon Weight Function: The function should take two parameters: current weight:30 and increased weight:0.5 (the amount the weight will increase each year)   (2 marks)\n",
    " \n",
    " Note: moon_weight = weight * 0.65\n",
    " "
   ]
  },
  {
   "cell_type": "code",
   "execution_count": 2,
   "metadata": {},
   "outputs": [],
   "source": [
    "def moon_weight(curr_weight, increased_weight):\n",
    "    return((curr_weight + increased_weight) * 0.65)"
   ]
  },
  {
   "cell_type": "code",
   "execution_count": 3,
   "metadata": {},
   "outputs": [
    {
     "name": "stdout",
     "output_type": "stream",
     "text": [
      "Intial weight on moon : 19.5\n",
      "Weight on moon after 1 year/s 19.825\n",
      "Weight on moon after 2 year/s 20.150000000000002\n",
      "Weight on moon after 3 year/s 20.475\n",
      "Weight on moon after 4 year/s 20.8\n",
      "Weight on moon after 5 year/s 21.125\n",
      "Weight on moon after 6 year/s 21.45\n",
      "Weight on moon after 7 year/s 21.775000000000002\n",
      "Weight on moon after 8 year/s 22.1\n",
      "Weight on moon after 9 year/s 22.425\n",
      "Weight on moon after 10 year/s 22.75\n",
      "Weight on moon after 11 year/s 23.075\n",
      "Weight on moon after 12 year/s 23.400000000000002\n",
      "Weight on moon after 13 year/s 23.725\n",
      "Weight on moon after 14 year/s 24.05\n",
      "Weight on moon after 15 year/s 24.375\n"
     ]
    }
   ],
   "source": [
    "wt = 30\n",
    "moon_wt = 30 * 0.65\n",
    "print('Intial weight on moon :', moon_wt)\n",
    "\n",
    "for i in range(1, 16):\n",
    "    print(f'Weight on moon after {i} year/s {moon_weight(wt, 0.5)}')\n",
    "    wt += 0.5"
   ]
  },
  {
   "cell_type": "markdown",
   "metadata": {
    "colab_type": "text",
    "id": "6dWb6mQY4WnA"
   },
   "source": [
    "#### 3. A famous hotel is maintaining its order history in the dictionary in the given format. Find out which food item is ordered the most (5 Marks)\n",
    "\n",
    " order_id: [list of items ordered]\n",
    " \n",
    " order_history= {165:['Noodles','Tomato Soup','Fries'],168:['Rice Idli','Rawa Dosa','Fries'],190:['Fries','Noodles']}"
   ]
  },
  {
   "cell_type": "code",
   "execution_count": 78,
   "metadata": {},
   "outputs": [
    {
     "name": "stdout",
     "output_type": "stream",
     "text": [
      "Most ordered food item is Fries\n"
     ]
    }
   ],
   "source": [
    "items = []\n",
    "\n",
    "order_history= {165:['Noodles','Tomato Soup','Fries'],168:['Rice Idli','Rawa Dosa','Fries'],190:['Fries','Noodles']}\n",
    "\n",
    "for i in order_history.values():\n",
    "    items.extend(i)\n",
    "\n",
    "coun1 = Counter()\n",
    "coun1.update(items)\n",
    "print(f'Most ordered food item is {coun1.most_common()[0][0]}')"
   ]
  },
  {
   "cell_type": "markdown",
   "metadata": {
    "colab_type": "raw",
    "id": "8DxhYECS4WnJ"
   },
   "source": [
    "#### 4. Write a Python program to make a currency converter. The currency converter should be able to convert a specific currency to an appropriate INR (Indian National Rupee) value. (5 MARKS)\n",
    " 1. USD (U.S Dollars) (1 USD =71.83 INR)\n",
    " 2. YEN (Japanese YEN)  (1 YEN= 0.66 INR\n",
    " 3. EURO (1 EURO=79.57 INR) \n",
    " 4. U.K. POUND (1 U.K POUND=93.11 INR)\n",
    "  \n",
    " INPUT AND OUTPUT SAMPLE:\n",
    " \n",
    " Enter the currency which you want to convert. e.g. USD\n",
    " \n",
    " Enter the value of the currency which you want to convert. e.g. 100\n",
    " \n",
    " The total converted value is 7183.0"
   ]
  },
  {
   "cell_type": "code",
   "execution_count": 79,
   "metadata": {},
   "outputs": [
    {
     "name": "stdout",
     "output_type": "stream",
     "text": [
      "Enter the currency which you want to convert. e.g. USDUSD\n",
      "Enter the value of the currency which you want to convert. e.g. 100100\n",
      "The total converted value is 7183.0\n"
     ]
    }
   ],
   "source": [
    "_in_cur = input('Enter the currency which you want to convert. e.g. USD')\n",
    " \n",
    "_in_val = int(input('Enter the value of the currency which you want to convert. e.g. 100'))\n",
    " \n",
    "if _in_cur == 'USD':\n",
    "    print(f'The total converted value is {_in_val * 71.83}')\n",
    "elif _in_cur == 'YEN':\n",
    "    print(f'The total converted value is {_in_val * 0.66}')\n",
    "elif _in_cur == 'EURO':\n",
    "    print(f'The total converted value is {_in_val * 79.57}')\n",
    "elif _in_cur == 'U.K. POUND':\n",
    "    print(f'The total converted value is {_in_val * 93.11}')"
   ]
  },
  {
   "cell_type": "markdown",
   "metadata": {},
   "source": [
    "# SECTION B: 20 MARKS"
   ]
  },
  {
   "cell_type": "markdown",
   "metadata": {},
   "source": [
    "---------------------"
   ]
  },
  {
   "cell_type": "markdown",
   "metadata": {},
   "source": [
    "#### 5. A Basket of Halloween candy has an unknown amount of candy and you need to guess exactly how much candy is in the bowl. You ask the person in charge a few questions to make a correct guess. If the candy is divided evenly among 5 people, how many pieces would be leftover? The answer is 2 pieces. You then ask about dividing the candy evenly among 6 people, and the amount left over is 3 pieces. Finally, you ask about dividing the candy evenly among 7 people, and the amount left over is 2 pieces. By looking at the bowl, you can tell that there are less than 200 pieces. Write a program to determine how many pieces are in the bowl.             (10 Marks)\n",
    "    \t\n",
    "   1. SAMPLE INPUT:\n",
    "If the candy is divided evenly among 5 people, how many pieces would be leftover?\n",
    "2\n",
    "\n",
    "If the candy is divided evenly among 6 people, how many pieces would be leftover?\n",
    "3\n",
    "\n",
    "If the candy is divided evenly among 7 people, how many pieces would be leftover?\n",
    "2\n",
    "\n",
    "  1. SAMPLE OUTPUT:\n",
    "Number of candies in the jar: 177\n",
    "\n",
    "\n",
    "  2. SAMPLE INPUT :\n",
    "If the candy is divided evenly among 5 people, how many pieces would be leftover?\n",
    "2\n",
    "\n",
    "If the candy is divided evenly among 6 people, how many pieces would be leftover?\n",
    "4\n",
    "\n",
    "If the candy is divided evenly among 7 people, how many pieces would be leftover?\n",
    "2\n",
    "\n",
    "  2. SAMPLE OUTPUT :\n",
    "Number of candies in the jar: 142\n"
   ]
  },
  {
   "cell_type": "code",
   "execution_count": 83,
   "metadata": {},
   "outputs": [
    {
     "name": "stdout",
     "output_type": "stream",
     "text": [
      "If the candy is divided evenly among 5 people, how many pieces would be leftover?2\n",
      "If the candy is divided evenly among 6 people, how many pieces would be leftover?4\n",
      "If the candy is divided evenly among 7 people, how many pieces would be leftover?2\n",
      "Number of candies in jar : 142\n"
     ]
    }
   ],
   "source": [
    "_inp5 = int(input('If the candy is divided evenly among 5 people, how many pieces would be leftover?'))\n",
    "_inp6 = int(input('If the candy is divided evenly among 6 people, how many pieces would be leftover?'))\n",
    "_inp7 = int(input('If the candy is divided evenly among 7 people, how many pieces would be leftover?'))\n",
    "\n",
    "for i in range(1,200):\n",
    "    if i%5 == _inp5 and i%6 == _inp6 and i%7 == _inp7:\n",
    "        print('Number of candies in jar :', i)"
   ]
  },
  {
   "cell_type": "markdown",
   "metadata": {},
   "source": [
    "#### 6.generated multiplication questions to do. After each, the program should tell them whether they got it right or wrong and what the correct answer is and finally it should display the total score out of 10 scored by a user.(10 marks)                                     For Example: \n",
    " Question 1: 3 x 4 = 12 Right! \n",
    " \n",
    " Question 2: 8 x 6 = 44 Wrong. The answer is 48. \n",
    " \n",
    " ... \n",
    " \n",
    " Question 10: 7 x 7 = 49 \n",
    " \n",
    " Right.\n"
   ]
  },
  {
   "cell_type": "code",
   "execution_count": 1,
   "metadata": {},
   "outputs": [
    {
     "name": "stdout",
     "output_type": "stream",
     "text": [
      "1,9,9\n",
      "Question 1 : 1 X 9 = 9 Right!\n",
      "2,6,10\n",
      "Question 2 : 2 X 6 = 10 Wrong!. The answer is 12\n"
     ]
    },
    {
     "ename": "KeyboardInterrupt",
     "evalue": "Interrupted by user",
     "output_type": "error",
     "traceback": [
      "\u001b[1;31m---------------------------------------------------------------------------\u001b[0m",
      "\u001b[1;31mKeyboardInterrupt\u001b[0m                         Traceback (most recent call last)",
      "\u001b[1;32m~\\AppData\\Local\\Temp\\ipykernel_8840\\1684687442.py\u001b[0m in \u001b[0;36m<module>\u001b[1;34m\u001b[0m\n\u001b[0;32m      1\u001b[0m \u001b[0mcount\u001b[0m \u001b[1;33m=\u001b[0m \u001b[1;36m0\u001b[0m\u001b[1;33m\u001b[0m\u001b[1;33m\u001b[0m\u001b[0m\n\u001b[0;32m      2\u001b[0m \u001b[1;32mfor\u001b[0m \u001b[0mi\u001b[0m \u001b[1;32min\u001b[0m \u001b[0mrange\u001b[0m\u001b[1;33m(\u001b[0m\u001b[1;36m1\u001b[0m\u001b[1;33m,\u001b[0m \u001b[1;36m11\u001b[0m\u001b[1;33m)\u001b[0m\u001b[1;33m:\u001b[0m\u001b[1;33m\u001b[0m\u001b[1;33m\u001b[0m\u001b[0m\n\u001b[1;32m----> 3\u001b[1;33m     \u001b[0ma\u001b[0m\u001b[1;33m,\u001b[0m \u001b[0mb\u001b[0m\u001b[1;33m,\u001b[0m \u001b[0mc\u001b[0m \u001b[1;33m=\u001b[0m \u001b[0minput\u001b[0m\u001b[1;33m(\u001b[0m\u001b[1;33m)\u001b[0m\u001b[1;33m.\u001b[0m\u001b[0msplit\u001b[0m\u001b[1;33m(\u001b[0m\u001b[1;34m','\u001b[0m\u001b[1;33m)\u001b[0m\u001b[1;33m\u001b[0m\u001b[1;33m\u001b[0m\u001b[0m\n\u001b[0m\u001b[0;32m      4\u001b[0m     \u001b[0ma\u001b[0m \u001b[1;33m=\u001b[0m \u001b[0mint\u001b[0m\u001b[1;33m(\u001b[0m\u001b[0ma\u001b[0m\u001b[1;33m)\u001b[0m\u001b[1;33m;\u001b[0m \u001b[0mb\u001b[0m \u001b[1;33m=\u001b[0m \u001b[0mint\u001b[0m\u001b[1;33m(\u001b[0m\u001b[0mb\u001b[0m\u001b[1;33m)\u001b[0m\u001b[1;33m;\u001b[0m \u001b[0mc\u001b[0m \u001b[1;33m=\u001b[0m \u001b[0mint\u001b[0m\u001b[1;33m(\u001b[0m\u001b[0mc\u001b[0m\u001b[1;33m)\u001b[0m\u001b[1;33m\u001b[0m\u001b[1;33m\u001b[0m\u001b[0m\n\u001b[0;32m      5\u001b[0m     \u001b[1;32mif\u001b[0m \u001b[0ma\u001b[0m\u001b[1;33m*\u001b[0m\u001b[0mb\u001b[0m \u001b[1;33m==\u001b[0m \u001b[0mc\u001b[0m\u001b[1;33m:\u001b[0m\u001b[1;33m\u001b[0m\u001b[1;33m\u001b[0m\u001b[0m\n",
      "\u001b[1;32m~\\anaconda3\\lib\\site-packages\\ipykernel\\kernelbase.py\u001b[0m in \u001b[0;36mraw_input\u001b[1;34m(self, prompt)\u001b[0m\n\u001b[0;32m   1175\u001b[0m                 \u001b[1;34m\"raw_input was called, but this frontend does not support input requests.\"\u001b[0m\u001b[1;33m\u001b[0m\u001b[1;33m\u001b[0m\u001b[0m\n\u001b[0;32m   1176\u001b[0m             )\n\u001b[1;32m-> 1177\u001b[1;33m         return self._input_request(\n\u001b[0m\u001b[0;32m   1178\u001b[0m             \u001b[0mstr\u001b[0m\u001b[1;33m(\u001b[0m\u001b[0mprompt\u001b[0m\u001b[1;33m)\u001b[0m\u001b[1;33m,\u001b[0m\u001b[1;33m\u001b[0m\u001b[1;33m\u001b[0m\u001b[0m\n\u001b[0;32m   1179\u001b[0m             \u001b[0mself\u001b[0m\u001b[1;33m.\u001b[0m\u001b[0m_parent_ident\u001b[0m\u001b[1;33m[\u001b[0m\u001b[1;34m\"shell\"\u001b[0m\u001b[1;33m]\u001b[0m\u001b[1;33m,\u001b[0m\u001b[1;33m\u001b[0m\u001b[1;33m\u001b[0m\u001b[0m\n",
      "\u001b[1;32m~\\anaconda3\\lib\\site-packages\\ipykernel\\kernelbase.py\u001b[0m in \u001b[0;36m_input_request\u001b[1;34m(self, prompt, ident, parent, password)\u001b[0m\n\u001b[0;32m   1217\u001b[0m             \u001b[1;32mexcept\u001b[0m \u001b[0mKeyboardInterrupt\u001b[0m\u001b[1;33m:\u001b[0m\u001b[1;33m\u001b[0m\u001b[1;33m\u001b[0m\u001b[0m\n\u001b[0;32m   1218\u001b[0m                 \u001b[1;31m# re-raise KeyboardInterrupt, to truncate traceback\u001b[0m\u001b[1;33m\u001b[0m\u001b[1;33m\u001b[0m\u001b[0m\n\u001b[1;32m-> 1219\u001b[1;33m                 \u001b[1;32mraise\u001b[0m \u001b[0mKeyboardInterrupt\u001b[0m\u001b[1;33m(\u001b[0m\u001b[1;34m\"Interrupted by user\"\u001b[0m\u001b[1;33m)\u001b[0m \u001b[1;32mfrom\u001b[0m \u001b[1;32mNone\u001b[0m\u001b[1;33m\u001b[0m\u001b[1;33m\u001b[0m\u001b[0m\n\u001b[0m\u001b[0;32m   1220\u001b[0m             \u001b[1;32mexcept\u001b[0m \u001b[0mException\u001b[0m\u001b[1;33m:\u001b[0m\u001b[1;33m\u001b[0m\u001b[1;33m\u001b[0m\u001b[0m\n\u001b[0;32m   1221\u001b[0m                 \u001b[0mself\u001b[0m\u001b[1;33m.\u001b[0m\u001b[0mlog\u001b[0m\u001b[1;33m.\u001b[0m\u001b[0mwarning\u001b[0m\u001b[1;33m(\u001b[0m\u001b[1;34m\"Invalid Message:\"\u001b[0m\u001b[1;33m,\u001b[0m \u001b[0mexc_info\u001b[0m\u001b[1;33m=\u001b[0m\u001b[1;32mTrue\u001b[0m\u001b[1;33m)\u001b[0m\u001b[1;33m\u001b[0m\u001b[1;33m\u001b[0m\u001b[0m\n",
      "\u001b[1;31mKeyboardInterrupt\u001b[0m: Interrupted by user"
     ]
    }
   ],
   "source": [
    "count = 0\n",
    "for i in range(1, 11):\n",
    "    a, b, c = input().split(',')\n",
    "    a = int(a); b = int(b); c = int(c)\n",
    "    if a*b == c:\n",
    "        print(f'Question {i} : {a} X {b} = {c} Right!')\n",
    "        count += 1\n",
    "    else:\n",
    "        print(f'Question {i} : {a} X {b} = {c} Wrong!. The answer is {a*b}')\n",
    "print(f'Total score : {count}/10')"
   ]
  },
  {
   "cell_type": "markdown",
   "metadata": {},
   "source": [
    "# SECTION C: 30 MARKS"
   ]
  },
  {
   "cell_type": "markdown",
   "metadata": {},
   "source": [
    " _________________"
   ]
  },
  {
   "cell_type": "markdown",
   "metadata": {},
   "source": [
    "### 7. Write a Python Program to create the following series and then print the nth Prime number from the Series,0, 1, 1, 2, 3, 5, 8, 13, 21, 34, 55, 89... (15 Marks)\n",
    "\n",
    "\n",
    "INPUT:8\n",
    "\n",
    "OUTPUT:28657\n"
   ]
  },
  {
   "cell_type": "code",
   "execution_count": 122,
   "metadata": {},
   "outputs": [
    {
     "name": "stdout",
     "output_type": "stream",
     "text": [
      "8\n",
      "Output : 28657\n"
     ]
    }
   ],
   "source": [
    "a = 0; b = 1; list1 = [a, b]; temp = 0; prime = []\n",
    "_in = int(input())\n",
    "for i in range(23):\n",
    "    temp = a+b\n",
    "    a = b\n",
    "    b = temp\n",
    "    list1.append(temp)\n",
    "\n",
    "for n in list1:\n",
    "    if n > 1:\n",
    "        for i in range(2, n):\n",
    "            if n%i == 0:\n",
    "                break\n",
    "        else:\n",
    "            prime.append(n)\n",
    "print(f'Output : {prime[_in-1]}')"
   ]
  },
  {
   "cell_type": "markdown",
   "metadata": {},
   "source": [
    "### 8. Write a program that converts Roman numerals into ordinary numbers. Here are the conversions: M=1000, D=500, C=100, L=50, X=10, V=5 I=1. Don’t forget about things like IV being 4 and XL being 40.(15 marks)\n",
    " \n",
    "\n",
    "Integer numbers and their Roman equivalent:\n",
    "\n",
    "1000 : 'M'\n",
    "\n",
    "900 : 'CM'\n",
    "\n",
    "500 : 'D'\n",
    "\n",
    "400 : 'CD'\n",
    "\n",
    "100 : 'C'\n",
    "\n",
    "90 : 'XC'\n",
    "\n",
    "50 : 'L'\n",
    "\n",
    "40 : 'XL'\n",
    "\n",
    "10 : 'X'\n",
    "\n",
    "9 : 'IX'\n",
    "\n",
    "5 : 'V'\n",
    "\n",
    "4: 'IV'\n",
    "\n",
    "1: 'I'\n",
    "\n",
    "SAMPLE INPUT:\n",
    "\n",
    "Enter number to Convert: 417\n",
    "\n",
    "SAMPLE OUTPUT:\n",
    "\n",
    "CDXVII\n",
    "\n"
   ]
  },
  {
   "cell_type": "code",
   "execution_count": 5,
   "metadata": {},
   "outputs": [],
   "source": [
    "def roman(num):\n",
    "    dictionary = {1000 : 'M', 900 : 'CM', 500 : 'D', 400 : 'CD', 100 : 'C', 90 : 'XC', 50 : 'L', \\\n",
    "                    40 : 'XL', 10 : 'X', 9 : 'IX', 5 : 'V', 4: 'IV', 1: 'I'}\n",
    "    keys = list(dictionary.keys())[::-1]\n",
    "    values = list(dictionary.values())[::-1]\n",
    "    i = 12\n",
    "    while num:\n",
    "        div = num // keys[i]\n",
    "        num %= keys[i]\n",
    "        \n",
    "        while div:\n",
    "            print(values[i], end='')\n",
    "            div -= 1\n",
    "        i -= 1"
   ]
  },
  {
   "cell_type": "code",
   "execution_count": 6,
   "metadata": {},
   "outputs": [
    {
     "name": "stdout",
     "output_type": "stream",
     "text": [
      "Enter number to Convert:8468\n",
      "MMMMMMMMCDLXVIII"
     ]
    }
   ],
   "source": [
    "n = int(input('Enter number to Convert:'))\n",
    "roman(n)"
   ]
  }
 ],
 "metadata": {
  "colab": {
   "collapsed_sections": [],
   "name": "ITP_MID_1.ipynb",
   "provenance": []
  },
  "kernelspec": {
   "display_name": "Python 3 (ipykernel)",
   "language": "python",
   "name": "python3"
  },
  "language_info": {
   "codemirror_mode": {
    "name": "ipython",
    "version": 3
   },
   "file_extension": ".py",
   "mimetype": "text/x-python",
   "name": "python",
   "nbconvert_exporter": "python",
   "pygments_lexer": "ipython3",
   "version": "3.9.13"
  }
 },
 "nbformat": 4,
 "nbformat_minor": 1
}

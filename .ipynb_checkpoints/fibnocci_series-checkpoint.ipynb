{
 "cells": [
  {
   "cell_type": "code",
   "execution_count": 2,
   "id": "4c3ce064",
   "metadata": {},
   "outputs": [],
   "source": [
    "def fib(n):\n",
    "    l = []\n",
    "    for i in range(n):\n",
    "        if i < 2:\n",
    "            l.append(i)\n",
    "        else:\n",
    "            next = l[i-1] + l[i-2]\n",
    "            l.append(next)\n",
    "    return(l)\n",
    "fi"
   ]
  },
  {
   "cell_type": "code",
   "execution_count": 2,
   "id": "5adaeddd",
   "metadata": {},
   "outputs": [
    {
     "name": "stdout",
     "output_type": "stream",
     "text": [
      "Requirement already satisfied: mysql-connector-python in c:\\users\\rulga\\anaconda3\\lib\\site-packages (8.1.0)\n",
      "Requirement already satisfied: protobuf<=4.21.12,>=4.21.1 in c:\\users\\rulga\\anaconda3\\lib\\site-packages (from mysql-connector-python) (4.21.12)\n",
      "Note: you may need to restart the kernel to use updated packages.\n"
     ]
    }
   ],
   "source": [
    "pip install mysql-connector-python"
   ]
  },
  {
   "cell_type": "code",
   "execution_count": 1,
   "id": "44355d01",
   "metadata": {},
   "outputs": [
    {
     "name": "stdout",
     "output_type": "stream",
     "text": [
      "(1002, 'Murphy', 'Diane', 'x5800', 'dmurphy@classicmodelcars.com', '1', None, 'President')\n",
      "(1056, 'Patterson', 'Mary', 'x4611', 'mpatterso@classicmodelcars.com', '1', 1002, 'VP Sales')\n",
      "(1076, 'Firrelli', 'Jeff', 'x9273', 'jfirrelli@classicmodelcars.com', '1', 1002, 'VP Marketing')\n",
      "(1088, 'Patterson', 'William', 'x4871', 'wpatterson@classicmodelcars.com', '6', 1056, 'Sales Manager (APAC)')\n",
      "(1102, 'Bondur', 'Gerard', 'x5408', 'gbondur@classicmodelcars.com', '4', 1056, 'Sale Manager (EMEA)')\n"
     ]
    }
   ],
   "source": [
    "from mysql.connector import (connection)\n",
    "\n",
    "conn   = connection.MySQLConnection(user   = 'gayathri',\n",
    "                               password = 'Gayathri#1605',\n",
    "                               host     = 'localhost',\n",
    "                               database = 'classicmodels')\n",
    "cursor = conn.cursor()\n",
    "\n",
    "\n",
    "# Executing a query\n",
    "cursor.execute(\"select * from employees limit 5\")\n",
    "\n",
    "\n",
    "for i in cursor:\n",
    "    print(i)\n",
    "\n",
    "cursor.close()\n",
    "conn.close()\n"
   ]
  },
  {
   "cell_type": "code",
   "execution_count": 5,
   "id": "821bdd4a",
   "metadata": {},
   "outputs": [
    {
     "data": {
      "text/plain": [
       "[0]"
      ]
     },
     "execution_count": 5,
     "metadata": {},
     "output_type": "execute_result"
    }
   ],
   "source": [
    "fib(1)"
   ]
  },
  {
   "cell_type": "code",
   "execution_count": 4,
   "id": "4b59a383",
   "metadata": {},
   "outputs": [
    {
     "data": {
      "text/plain": [
       "[0, 1]"
      ]
     },
     "execution_count": 4,
     "metadata": {},
     "output_type": "execute_result"
    }
   ],
   "source": [
    "fib(2)"
   ]
  },
  {
   "cell_type": "code",
   "execution_count": 6,
   "id": "c8498c66",
   "metadata": {},
   "outputs": [
    {
     "data": {
      "text/plain": [
       "[0, 1, 1, 2, 3, 5, 8]"
      ]
     },
     "execution_count": 6,
     "metadata": {},
     "output_type": "execute_result"
    }
   ],
   "source": [
    "fib(7)"
   ]
  },
  {
   "cell_type": "code",
   "execution_count": 1,
   "id": "66f92ed6",
   "metadata": {},
   "outputs": [
    {
     "name": "stdout",
     "output_type": "stream",
     "text": [
      "[0, 1, 1, 2, 3, 5, 8]\n"
     ]
    }
   ],
   "source": [
    "def fibonacci(n):\n",
    "    # return a list of fibonacci numbers\n",
    "    a, b = 0, 1\n",
    "    for i in range(n):\n",
    "        yield a    # using a generator\n",
    "        a, b = b, a + b\n",
    "\n",
    "print(list(fibonacci(7)))"
   ]
  },
  {
   "cell_type": "code",
   "execution_count": null,
   "id": "fab05f0e",
   "metadata": {},
   "outputs": [],
   "source": []
  },
  {
   "cell_type": "code",
   "execution_count": null,
   "id": "d07bd46a",
   "metadata": {},
   "outputs": [],
   "source": []
  }
 ],
 "metadata": {
  "kernelspec": {
   "display_name": "Python 3 (ipykernel)",
   "language": "python",
   "name": "python3"
  },
  "language_info": {
   "codemirror_mode": {
    "name": "ipython",
    "version": 3
   },
   "file_extension": ".py",
   "mimetype": "text/x-python",
   "name": "python",
   "nbconvert_exporter": "python",
   "pygments_lexer": "ipython3",
   "version": "3.11.4"
  }
 },
 "nbformat": 4,
 "nbformat_minor": 5
}

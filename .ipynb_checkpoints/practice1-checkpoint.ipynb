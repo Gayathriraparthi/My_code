{
 "cells": [
  {
   "cell_type": "code",
   "execution_count": 6,
   "id": "c8c289ef",
   "metadata": {},
   "outputs": [
    {
     "name": "stdout",
     "output_type": "stream",
     "text": [
      "[2, 8, 11, 14]\n",
      "[3, 4, 6, 1, 9, 10, 8, 2, 3, 2, 1]\n"
     ]
    }
   ],
   "source": [
    "l = [3, 4, 5, 6, 1, 9, 10, 8, 5, 2, 3, 5, 2, 1, 5]\n",
    "rem = 5\n",
    "indices = []\n",
    "\n",
    "for i, x in enumerate(l):\n",
    "    if x == rem:\n",
    "        indices.append(i)\n",
    "print(indices)\n",
    "        \n",
    "indices.reverse() \n",
    "   \n",
    "for i in indices:\n",
    "    l.pop(i)\n",
    "    \n",
    "print(l)"
   ]
  },
  {
   "cell_type": "code",
   "execution_count": null,
   "id": "151decd9",
   "metadata": {},
   "outputs": [],
   "source": []
  },
  {
   "cell_type": "code",
   "execution_count": 7,
   "id": "ca0b379e",
   "metadata": {},
   "outputs": [
    {
     "name": "stdout",
     "output_type": "stream",
     "text": [
      "[0, 1, 1, 2, 3, 5, 8, 13, 21, 34]\n"
     ]
    }
   ],
   "source": [
    "# 1st 10 numbers in fibnocci series\n",
    "n = 10\n",
    "fib = [0,1]\n",
    "a = 0\n",
    "b = 1\n",
    "for i in range (1,n-1):\n",
    "    c = a+b\n",
    "    fib.append(c)\n",
    "\n",
    "    a = b\n",
    "    b = c\n",
    "    c = 0\n",
    "print (fib)\n",
    "\n",
    "\n"
   ]
  },
  {
   "cell_type": "code",
   "execution_count": 59,
   "id": "92f4699c",
   "metadata": {},
   "outputs": [
    {
     "name": "stdout",
     "output_type": "stream",
     "text": [
      "* * * * * \n",
      "\n",
      "* * * * \n",
      "\n",
      "* * * \n",
      "\n",
      "* * \n",
      "\n",
      "* \n",
      "\n"
     ]
    }
   ],
   "source": [
    "for i in range(5,0,-1):\n",
    "    for j in range (i):\n",
    "        print('*',end = ' ')\n",
    "    print('\\n')"
   ]
  },
  {
   "cell_type": "code",
   "execution_count": 130,
   "id": "fc68aafc",
   "metadata": {},
   "outputs": [
    {
     "name": "stdout",
     "output_type": "stream",
     "text": [
      "9 7 5 3 1 \n",
      "\n",
      "9 7 5 3 \n",
      "\n",
      "9 7 5 \n",
      "\n",
      "9 7 \n",
      "\n",
      "9 \n",
      "\n"
     ]
    }
   ],
   "source": [
    "\n",
    "for i in range(5,0,-1):\n",
    "    \n",
    "    for j in range (5,5-i,-1):\n",
    "        print((2*j)-1,end=' ')\n",
    "        \n",
    "    print('\\n')"
   ]
  },
  {
   "cell_type": "code",
   "execution_count": 111,
   "id": "620517ae",
   "metadata": {},
   "outputs": [
    {
     "name": "stdout",
     "output_type": "stream",
     "text": [
      "10\n",
      "9\n",
      "8\n",
      "7\n",
      "6\n",
      "5\n",
      "4\n",
      "3\n",
      "2\n",
      "1\n"
     ]
    }
   ],
   "source": [
    "\n",
    "for i in range (len(l)-1,-1,-1):\n",
    "    print(l[i])"
   ]
  },
  {
   "cell_type": "code",
   "execution_count": 131,
   "id": "5228b9b3",
   "metadata": {},
   "outputs": [
    {
     "name": "stdout",
     "output_type": "stream",
     "text": [
      "5 4 3 2 1 \n",
      "\n",
      "5 4 3 2 \n",
      "\n",
      "5 4 3 \n",
      "\n",
      "5 4 \n",
      "\n",
      "5 \n",
      "\n"
     ]
    }
   ],
   "source": [
    "for i in range(5,0,-1):\n",
    "    for j in range(5,5-i,-1):\n",
    "        print(j,end = ' ')\n",
    "    print('\\n')"
   ]
  },
  {
   "cell_type": "code",
   "execution_count": 3,
   "id": "52fddb1f",
   "metadata": {},
   "outputs": [
    {
     "name": "stdout",
     "output_type": "stream",
     "text": [
      "9,3 is not a prime number\n"
     ]
    }
   ],
   "source": [
    "num = 9\n",
    "root = int(num ** 0.5)\n",
    "if num == 1:\n",
    "    print('1 is not a prime number')\n",
    "else:\n",
    "    for i in range(2,root+1):\n",
    "        if num % i == 0:\n",
    "            print(f'{num},{i} is not a prime number')\n",
    "            break\n",
    "    else:\n",
    "        print(f'{num},{i} is a prime number')\n",
    "            \n",
    "            "
   ]
  },
  {
   "cell_type": "code",
   "execution_count": 1,
   "id": "483127e6",
   "metadata": {},
   "outputs": [
    {
     "name": "stdout",
     "output_type": "stream",
     "text": [
      "[3, 4, 6, 1, 2]\n"
     ]
    },
    {
     "data": {
      "text/plain": [
       "[4]"
      ]
     },
     "execution_count": 1,
     "metadata": {},
     "output_type": "execute_result"
    }
   ],
   "source": [
    "list1=[3,4,6,1,2]\n",
    "print(list1)\n",
    "list1[1:2]\n"
   ]
  },
  {
   "cell_type": "code",
   "execution_count": 15,
   "id": "807f9db1",
   "metadata": {},
   "outputs": [
    {
     "data": {
      "text/plain": [
       "{1, 2, 3, 4, 5, 7, 8}"
      ]
     },
     "execution_count": 15,
     "metadata": {},
     "output_type": "execute_result"
    }
   ],
   "source": [
    "s={1,2,3,4,5,2,4,5,7,8}\n",
    "s"
   ]
  },
  {
   "cell_type": "code",
   "execution_count": 5,
   "id": "e9349147",
   "metadata": {},
   "outputs": [],
   "source": [
    "def temp(a, b):\n",
    "    a, b = b, a\n",
    "    return(f'Swapped : a --> {a}, b --> {b}')"
   ]
  },
  {
   "cell_type": "code",
   "execution_count": 6,
   "id": "9f2cc37c",
   "metadata": {},
   "outputs": [],
   "source": [
    "x = 10\n",
    "y = 20"
   ]
  },
  {
   "cell_type": "code",
   "execution_count": 3,
   "id": "23637bdd",
   "metadata": {},
   "outputs": [
    {
     "name": "stdout",
     "output_type": "stream",
     "text": [
      "100\n"
     ]
    }
   ],
   "source": [
    "def fun(n):\n",
    "    if (n > 100):\n",
    "        return n - 5\n",
    "    return fun(fun(n+11))\n",
    "\n",
    "print(fun(45))"
   ]
  },
  {
   "cell_type": "code",
   "execution_count": null,
   "id": "0be13cef",
   "metadata": {},
   "outputs": [],
   "source": [
    "x = 20\n",
    "for i in range(1,10):\n",
    "    if x % i "
   ]
  },
  {
   "cell_type": "code",
   "execution_count": 8,
   "id": "afce6a39",
   "metadata": {},
   "outputs": [
    {
     "name": "stdout",
     "output_type": "stream",
     "text": [
      "10 20\n"
     ]
    }
   ],
   "source": [
    "print ('x = ', a, ' y = ', b)"
   ]
  },
  {
   "cell_type": "code",
   "execution_count": 4,
   "id": "bed8a7dc",
   "metadata": {},
   "outputs": [
    {
     "name": "stdout",
     "output_type": "stream",
     "text": [
      "1 2 3 4\n"
     ]
    }
   ],
   "source": [
    "def test(a, b, c, d):\n",
    "    print(a,b,c,d)\n",
    "\n",
    "test(1, 2, 3, 4)\n",
    "#test(a = 1, b = 2, c = 3, 4)\n",
    "#test(a = 1, b = 2, c = 3, d = 4)\n",
    "#test(1, 2, 3, d = 4)"
   ]
  },
  {
   "cell_type": "code",
   "execution_count": 16,
   "id": "517e81c4",
   "metadata": {},
   "outputs": [
    {
     "data": {
      "text/plain": [
       "{'name': 'kokila', 'firstname': 'raparthi', 'age': 23}"
      ]
     },
     "execution_count": 16,
     "metadata": {},
     "output_type": "execute_result"
    }
   ],
   "source": [
    "a={\"name\":\"kokila\",\"firstname\":\"raparthi\",\"age\":23}\n",
    "a\n"
   ]
  },
  {
   "cell_type": "code",
   "execution_count": 17,
   "id": "6367aaa8",
   "metadata": {},
   "outputs": [
    {
     "data": {
      "text/plain": [
       "[1, 2, 3, 4, 89]"
      ]
     },
     "execution_count": 17,
     "metadata": {},
     "output_type": "execute_result"
    }
   ],
   "source": [
    "l=[1,2,3,4,89]\n",
    "#l[4]=89\n",
    "l"
   ]
  },
  {
   "cell_type": "code",
   "execution_count": 18,
   "id": "7b570625",
   "metadata": {},
   "outputs": [
    {
     "data": {
      "text/plain": [
       "(23, 'kokila', 34.5, 45)"
      ]
     },
     "execution_count": 18,
     "metadata": {},
     "output_type": "execute_result"
    }
   ],
   "source": [
    "t=23,\"kokila\",34.5,45\n",
    "t"
   ]
  },
  {
   "cell_type": "code",
   "execution_count": 19,
   "id": "12b0b19c",
   "metadata": {
    "scrolled": true
   },
   "outputs": [
    {
     "data": {
      "text/plain": [
       "'l'"
      ]
     },
     "execution_count": 19,
     "metadata": {},
     "output_type": "execute_result"
    }
   ],
   "source": [
    "#toprint in rverse\n",
    "l=\"gayathri is a good girl\"\n",
    "l[-1::]"
   ]
  },
  {
   "cell_type": "code",
   "execution_count": 20,
   "id": "fa4d5c93",
   "metadata": {},
   "outputs": [
    {
     "name": "stdout",
     "output_type": "stream",
     "text": [
      "no.of upper case letter-2 no.of lower case letter-9\n"
     ]
    }
   ],
   "source": [
    "#wap to count the no of upper and lower case letters in the sentence\n",
    "string=' I am Gayathri'\n",
    "u_count= 0\n",
    "l_count= 0\n",
    "\n",
    "for i in string:\n",
    "    if i.isupper():\n",
    "        u_count += 1\n",
    "    if i.islower():\n",
    "        l_count+= 1\n",
    "print('no.of upper case letter-'+ str( u_count),'no.of lower case letter-'+ str(l_count))"
   ]
  },
  {
   "cell_type": "code",
   "execution_count": 4,
   "id": "1d445bb4",
   "metadata": {
    "scrolled": true
   },
   "outputs": [
    {
     "name": "stdout",
     "output_type": "stream",
     "text": [
      " * \n",
      "\n",
      " *  * \n",
      "\n",
      " *  *  * \n",
      "\n",
      " *  *  *  * \n",
      "\n"
     ]
    }
   ],
   "source": [
    "for i in range(1,5):\n",
    "    for j in range (i):\n",
    "        #if j<=i:\n",
    "        print(' *',end=' ')\n",
    "    print('\\n')"
   ]
  },
  {
   "cell_type": "code",
   "execution_count": 19,
   "id": "3f4b3256",
   "metadata": {},
   "outputs": [
    {
     "name": "stdout",
     "output_type": "stream",
     "text": [
      "* * * * * \n",
      "\n",
      "* * * * \n",
      "\n",
      "* * * \n",
      "\n",
      "* * \n",
      "\n",
      "* \n",
      "\n"
     ]
    }
   ],
   "source": [
    "for i in range (5,0,-1):\n",
    "    for j in range(i):\n",
    "        print('*',end = ' ')\n",
    "    print('\\n')"
   ]
  },
  {
   "cell_type": "code",
   "execution_count": 24,
   "id": "8a2d48b1",
   "metadata": {},
   "outputs": [
    {
     "name": "stdout",
     "output_type": "stream",
     "text": [
      "5 5 5 5 5 \n",
      "\n",
      "4 4 4 4 \n",
      "\n",
      "3 3 3 \n",
      "\n",
      "2 2 \n",
      "\n",
      "1 \n",
      "\n"
     ]
    }
   ],
   "source": [
    "for i in range(5,0,-1):\n",
    "    for j in range(i,0,-1):\n",
    "        print(i,end = ' ')\n",
    "    print('\\n')"
   ]
  },
  {
   "cell_type": "code",
   "execution_count": 2,
   "id": "d91bfe04",
   "metadata": {},
   "outputs": [
    {
     "name": "stdout",
     "output_type": "stream",
     "text": [
      "Enter no. of rows : 5\n",
      "1 1 1 1 * \n",
      "\n",
      "1 1 1 * * * \n",
      "\n",
      "1 1 * * * * * \n",
      "\n",
      "1 * * * * * * * \n",
      "\n",
      "* * * * * * * * * \n",
      "\n"
     ]
    }
   ],
   "source": [
    "rows = int(input('Enter no. of rows : '))\n",
    "spaces = rows - 1; col = rows\n",
    "for i in range(rows):\n",
    "    for j in range (col):\n",
    "        if j < spaces:\n",
    "            print('1',end=' ')\n",
    "        else:\n",
    "            print('*',end=' ')\n",
    "    spaces -= 1; col += 1\n",
    "    print('\\n')"
   ]
  },
  {
   "cell_type": "code",
   "execution_count": 55,
   "id": "96cb3fce",
   "metadata": {
    "scrolled": true
   },
   "outputs": [
    {
     "name": "stdout",
     "output_type": "stream",
     "text": [
      "Enter no. of rows : 4\n",
      "* * * * * * * \n",
      "\n",
      "  * * * * * \n",
      "\n",
      "    * * * \n",
      "\n",
      "      * \n",
      "\n"
     ]
    }
   ],
   "source": [
    "rows = int(input('Enter no. of rows : '))\n",
    "spaces = 1; col = 2 * rows - 1\n",
    "for i in range(rows):\n",
    "    for j in range (col):\n",
    "        if (spaces <= i) | (i <= j):\n",
    "            print('*',end=' ')\n",
    "            spaces += 1\n",
    "        else:\n",
    "            print(' ',end=' ')\n",
    "    col-=1\n",
    "    print('\\n')"
   ]
  },
  {
   "cell_type": "code",
   "execution_count": 47,
   "id": "18270c77",
   "metadata": {},
   "outputs": [
    {
     "name": "stdout",
     "output_type": "stream",
     "text": [
      "Enter number of rows: 7\n",
      "* * * * * * * * * * * \n",
      "\n",
      "  * * * * * * * * * \n",
      "\n",
      "    * * * * * * * \n",
      "\n",
      "      * * * * * \n",
      "\n",
      "        * * * \n",
      "\n",
      "          * \n",
      "\n"
     ]
    }
   ],
   "source": [
    "rows = int(input(\"Enter number of rows: \"))\n",
    "\n",
    "for i in range(rows, 1, -1):\n",
    "    for space in range(0, rows-i):\n",
    "        print(\"  \", end=\"\")\n",
    "    for j in range(i, 2*i-1):\n",
    "        print(\"* \", end=\"\")\n",
    "    for j in range(1, i-1):\n",
    "        print(\"* \", end=\"\")\n",
    "    print('\\n')"
   ]
  },
  {
   "cell_type": "code",
   "execution_count": 21,
   "id": "52c2b399",
   "metadata": {},
   "outputs": [
    {
     "data": {
      "text/plain": [
       "['I', 'am', 'Gayathri']"
      ]
     },
     "execution_count": 21,
     "metadata": {},
     "output_type": "execute_result"
    }
   ],
   "source": [
    "# default split by space\n",
    "string=' I am Gayathri'\n",
    "string.split()"
   ]
  },
  {
   "cell_type": "code",
   "execution_count": 22,
   "id": "3cd0c23d",
   "metadata": {},
   "outputs": [
    {
     "data": {
      "text/plain": [
       "[' I am Ga', 'athri']"
      ]
     },
     "execution_count": 22,
     "metadata": {},
     "output_type": "execute_result"
    }
   ],
   "source": [
    "# default split by y\n",
    "string=' I am Gayathri'\n",
    "string.split('y')"
   ]
  },
  {
   "cell_type": "code",
   "execution_count": 23,
   "id": "b3ef4368",
   "metadata": {},
   "outputs": [
    {
     "data": {
      "text/plain": [
       "' I Am Gayathri'"
      ]
     },
     "execution_count": 23,
     "metadata": {},
     "output_type": "execute_result"
    }
   ],
   "source": [
    "# replace a char or word\n",
    "string.replace('am','Am')"
   ]
  },
  {
   "cell_type": "code",
   "execution_count": 9,
   "id": "9a7a6568",
   "metadata": {},
   "outputs": [
    {
     "data": {
      "text/plain": [
       "'ayathri'"
      ]
     },
     "execution_count": 9,
     "metadata": {},
     "output_type": "execute_result"
    }
   ],
   "source": [
    "# to remove a starting space or char\n",
    "\"Gayathri\".strip ('G')"
   ]
  },
  {
   "cell_type": "code",
   "execution_count": 25,
   "id": "9f34719b",
   "metadata": {},
   "outputs": [
    {
     "name": "stdout",
     "output_type": "stream",
     "text": [
      "Gayathri\n",
      "G_a_y_a_t_h_r_i\n"
     ]
    }
   ],
   "source": [
    "# join values in list to string\n",
    "lst= [\"G\",'a','y','a','t','h','r','i']\n",
    "print(''.join(lst))#joining with no space\n",
    "print('_'.join(lst))#joining with underscore\n"
   ]
  },
  {
   "cell_type": "code",
   "execution_count": 26,
   "id": "1183f733",
   "metadata": {},
   "outputs": [
    {
     "data": {
      "text/plain": [
       "(10,)"
      ]
     },
     "execution_count": 26,
     "metadata": {},
     "output_type": "execute_result"
    }
   ],
   "source": [
    "(10)# single value\n",
    "(10,)# single value tuple\n"
   ]
  },
  {
   "cell_type": "code",
   "execution_count": 27,
   "id": "354e6ef0",
   "metadata": {},
   "outputs": [
    {
     "data": {
      "text/plain": [
       "567"
      ]
     },
     "execution_count": 27,
     "metadata": {},
     "output_type": "execute_result"
    }
   ],
   "source": [
    "tup1=(1,34,567,\"one\")\n",
    "tup1[2]# extracting a value from tuple with index"
   ]
  },
  {
   "cell_type": "code",
   "execution_count": 28,
   "id": "868facd6",
   "metadata": {},
   "outputs": [
    {
     "data": {
      "text/plain": [
       "45"
      ]
     },
     "execution_count": 28,
     "metadata": {},
     "output_type": "execute_result"
    }
   ],
   "source": [
    "# extracting value from nested tuple\n",
    "tup2=((1,2,3,45),'abc','Ab234')\n",
    "tup2[0][3]# extracting 45 value from 1st value which is a tuple\n"
   ]
  },
  {
   "cell_type": "code",
   "execution_count": 29,
   "id": "a0e8dfeb",
   "metadata": {
    "scrolled": true
   },
   "outputs": [
    {
     "name": "stdout",
     "output_type": "stream",
     "text": [
      "6\n",
      "78\n",
      "2\n",
      "[2, 3, 34, 45, 67, 78]\n",
      "229\n"
     ]
    }
   ],
   "source": [
    "# operations on tuple\n",
    "tup3=(2,3,34,45,67,78)\n",
    "print(len(tup3))\n",
    "print(max(tup3))\n",
    "print(min(tup3))\n",
    "print(sorted(tup3))\n",
    "print(sum(tup3))"
   ]
  },
  {
   "cell_type": "code",
   "execution_count": 30,
   "id": "d9a24d47",
   "metadata": {
    "scrolled": false
   },
   "outputs": [
    {
     "name": "stdout",
     "output_type": "stream",
     "text": [
      "0\n",
      "1\n"
     ]
    }
   ],
   "source": [
    "#tuple methods\n",
    "tup=(21,31,34,45,67,78)\n",
    "print(tup.index(21))\n",
    "print(tup.count(21)) "
   ]
  },
  {
   "cell_type": "code",
   "execution_count": 31,
   "id": "204d7b46",
   "metadata": {},
   "outputs": [],
   "source": [
    "#list\n",
    "Lst=[]\n",
    "Lst= list()\n"
   ]
  },
  {
   "cell_type": "code",
   "execution_count": 11,
   "id": "6fdab745",
   "metadata": {},
   "outputs": [
    {
     "data": {
      "text/plain": [
       "['You', 'are', 'how', 'hai']"
      ]
     },
     "execution_count": 11,
     "metadata": {},
     "output_type": "execute_result"
    }
   ],
   "source": [
    "lst1= [\"hai\",\"how\",'are','You']\n",
    "#operations on list\n",
    "lst1.index('hai')# indexing\n",
    "lst1[::-1]# slicing i.e reversing\n",
    "#can also do concatenation and repetition same like in tuple and string"
   ]
  },
  {
   "cell_type": "code",
   "execution_count": null,
   "id": "2abc22df",
   "metadata": {},
   "outputs": [],
   "source": []
  },
  {
   "cell_type": "code",
   "execution_count": 2,
   "id": "89bb8bfd",
   "metadata": {},
   "outputs": [
    {
     "name": "stdout",
     "output_type": "stream",
     "text": [
      "['hai', 'how', 'are', 'You', 'gayathri']\n"
     ]
    }
   ],
   "source": [
    "#methods on list\n",
    "lst1.append('gayathri')# append to add value at end\n",
    "print(lst1)\n"
   ]
  },
  {
   "cell_type": "code",
   "execution_count": 3,
   "id": "c2ff015b",
   "metadata": {
    "scrolled": true
   },
   "outputs": [],
   "source": [
    "lst1.insert(5,'!')# insert to add an elemrnt at specific position ,how many times u run it will be added that times\n",
    "#so give print ststement in below cell"
   ]
  },
  {
   "cell_type": "code",
   "execution_count": 4,
   "id": "50500c63",
   "metadata": {},
   "outputs": [
    {
     "name": "stdout",
     "output_type": "stream",
     "text": [
      "['hai', 'how', 'are', 'You', 'gayathri', '!']\n"
     ]
    }
   ],
   "source": [
    "print(lst1)"
   ]
  },
  {
   "cell_type": "code",
   "execution_count": 8,
   "id": "ef404676",
   "metadata": {},
   "outputs": [],
   "source": [
    "lst1new=[\"i am ok\"]\n",
    "lst1.extend(lst1new)# extend will add list to other list\n",
    "#print in another cell to avoid repeatation\n"
   ]
  },
  {
   "cell_type": "code",
   "execution_count": 7,
   "id": "2b101301",
   "metadata": {},
   "outputs": [
    {
     "name": "stdout",
     "output_type": "stream",
     "text": [
      "['hai', 'how', 'are', 'You', 'gayathri', '!', 'i am ok']\n"
     ]
    }
   ],
   "source": [
    "print(lst1)"
   ]
  },
  {
   "cell_type": "code",
   "execution_count": 9,
   "id": "8470b0e9",
   "metadata": {},
   "outputs": [
    {
     "name": "stdout",
     "output_type": "stream",
     "text": [
      "['hai', 'how', 'are', 'in', 'gayathri', '!', 'i am ok', 'i am ok']\n"
     ]
    }
   ],
   "source": [
    "lst1[3]=\"in\"\n",
    "print(lst1)"
   ]
  },
  {
   "cell_type": "code",
   "execution_count": 17,
   "id": "3fe782b8",
   "metadata": {},
   "outputs": [
    {
     "name": "stdout",
     "output_type": "stream",
     "text": [
      "['1', '2', '3', '4']\n"
     ]
    }
   ],
   "source": [
    "lst2=[\"1\",'2','3','4','5']\n",
    "lst2.pop()# pop() deletes the last one\n",
    "print(lst2)"
   ]
  },
  {
   "cell_type": "code",
   "execution_count": 18,
   "id": "3f3686eb",
   "metadata": {},
   "outputs": [
    {
     "name": "stdout",
     "output_type": "stream",
     "text": [
      "['1', '3', '4']\n"
     ]
    }
   ],
   "source": [
    "lst2.pop(1)#deletes the indexpositio value from the list\n",
    "print(lst2)"
   ]
  },
  {
   "cell_type": "code",
   "execution_count": 19,
   "id": "cadb9178",
   "metadata": {},
   "outputs": [
    {
     "name": "stdout",
     "output_type": "stream",
     "text": [
      "['1', '3']\n"
     ]
    }
   ],
   "source": [
    "lst2.remove('4')#to remove the given value\n",
    "print(lst2)"
   ]
  },
  {
   "cell_type": "code",
   "execution_count": 2,
   "id": "63d295a0",
   "metadata": {},
   "outputs": [
    {
     "data": {
      "text/plain": [
       "'au'"
      ]
     },
     "execution_count": 2,
     "metadata": {},
     "output_type": "execute_result"
    }
   ],
   "source": [
    "#a='appu'\n",
    "\"appu\".replace('p',\"\")"
   ]
  },
  {
   "cell_type": "code",
   "execution_count": 2,
   "id": "b9ce3857",
   "metadata": {},
   "outputs": [
    {
     "data": {
      "text/plain": [
       "[1, 2, 3, 4]"
      ]
     },
     "execution_count": 2,
     "metadata": {},
     "output_type": "execute_result"
    }
   ],
   "source": [
    "l=[1,2,3,4]\n",
    "l"
   ]
  },
  {
   "cell_type": "code",
   "execution_count": 3,
   "id": "5b7821da",
   "metadata": {},
   "outputs": [
    {
     "data": {
      "text/plain": [
       "[1, 3, 4]"
      ]
     },
     "execution_count": 3,
     "metadata": {},
     "output_type": "execute_result"
    }
   ],
   "source": [
    "l.remove(2)\n",
    "l"
   ]
  },
  {
   "cell_type": "code",
   "execution_count": null,
   "id": "0f5f198f",
   "metadata": {},
   "outputs": [
    {
     "name": "stdout",
     "output_type": "stream",
     "text": [
      "Enter any 5 clrs:5\n"
     ]
    }
   ],
   "source": [
    "#wap to create list of 5 clr by user and print list\n",
    "clrs = []\n",
    "for i in range(1,6):\n",
    "    clrs.append(input(\"Enter any 5 clrs:\"))\n",
    "print(clrs)"
   ]
  },
  {
   "cell_type": "code",
   "execution_count": 15,
   "id": "65e323e0",
   "metadata": {},
   "outputs": [
    {
     "name": "stdout",
     "output_type": "stream",
     "text": [
      "[2, 4, 6, 8, 10]\n"
     ]
    }
   ],
   "source": [
    "#create new list by multiplying list with  2\n",
    "abc= [1,2,3,4,5]\n",
    "new_abc=[]\n",
    "for i in abc:\n",
    "    new_abc.append(i* 2)\n",
    "print(new_abc)"
   ]
  },
  {
   "cell_type": "code",
   "execution_count": 29,
   "id": "957f720a",
   "metadata": {},
   "outputs": [],
   "source": [
    "hype=[1,2,3,4]\n",
    "hype.reverse()\n",
    "#print(hype)"
   ]
  },
  {
   "cell_type": "code",
   "execution_count": 1,
   "id": "b2211f66",
   "metadata": {},
   "outputs": [
    {
     "name": "stdout",
     "output_type": "stream",
     "text": [
      "the values of a,b are  20 30\n"
     ]
    }
   ],
   "source": [
    "# swap 2 values\n",
    "a=30\n",
    "b=20\n",
    "a,b=b,a\n",
    "print('the values of a,b are ',a,b)"
   ]
  },
  {
   "cell_type": "code",
   "execution_count": 3,
   "id": "01449e74",
   "metadata": {},
   "outputs": [
    {
     "name": "stdout",
     "output_type": "stream",
     "text": [
      "enter 120\n",
      "enter 221\n",
      "the values of a,b are  21 20\n"
     ]
    }
   ],
   "source": [
    "# swap 2 runtimes values using temp\n",
    "a=input('enter 1')\n",
    "b=input('enter 2')\n",
    "temp=a\n",
    "a=b\n",
    "b=temp\n",
    "print('the values of a,b are ',a,b)"
   ]
  },
  {
   "cell_type": "code",
   "execution_count": 13,
   "id": "47b1a8cc",
   "metadata": {},
   "outputs": [
    {
     "name": "stdout",
     "output_type": "stream",
     "text": [
      "enter -45\n",
      "enter rate-100\n",
      "4750.0\n"
     ]
    }
   ],
   "source": [
    "hrs= int(input('enter -'))\n",
    "rate =int(input('enter rate-'))\n",
    "if hrs<=40:\n",
    "    print(\"wage is -\",hrs*rate)\n",
    "else:\n",
    "    print(40*rate + (hrs-40)*1.5*rate)\n",
    "    "
   ]
  },
  {
   "cell_type": "code",
   "execution_count": 16,
   "id": "ae39bc81",
   "metadata": {},
   "outputs": [
    {
     "name": "stdout",
     "output_type": "stream",
     "text": [
      "enter -1.5\n",
      "enter -50\n",
      "22.22222222222222\n",
      "normal weight\n"
     ]
    }
   ],
   "source": [
    "h= float(input('enter -'))\n",
    "w =float(input('enter -'))\n",
    "bmi= w/(h**2)\n",
    "print(bmi)\n",
    "if bmi<18.5:\n",
    "    print(\"underweight\")\n",
    "elif bmi>18.5 and bmi<=24.9:\n",
    "    print(\"normal weight\")\n",
    "elif bmi>25 and bmi<=29.9:\n",
    "    print(\"over weight\")\n",
    "else:\n",
    "    print(\"obseity\")"
   ]
  },
  {
   "cell_type": "code",
   "execution_count": 1,
   "id": "48421457",
   "metadata": {},
   "outputs": [],
   "source": [
    "def anp(l,b):\n",
    "    area=l*b\n",
    "    perimeter=2*(l+b)\n",
    "    return(area,perimeter)\n",
    "    "
   ]
  },
  {
   "cell_type": "code",
   "execution_count": 2,
   "id": "0c8494de",
   "metadata": {},
   "outputs": [
    {
     "data": {
      "text/plain": [
       "(6, 10)"
      ]
     },
     "execution_count": 2,
     "metadata": {},
     "output_type": "execute_result"
    }
   ],
   "source": [
    "anp(2,3)"
   ]
  },
  {
   "cell_type": "code",
   "execution_count": null,
   "id": "d9905c64",
   "metadata": {},
   "outputs": [],
   "source": [
    "listnum=[1,2,3,4,5,6,7,8,9,10]\n",
    "primenum=[i for i in listnum if i%i==0\n",
    "         ]\n"
   ]
  },
  {
   "cell_type": "code",
   "execution_count": 19,
   "id": "a8e0240d",
   "metadata": {},
   "outputs": [
    {
     "name": "stdout",
     "output_type": "stream",
     "text": [
      "1\n",
      "2\n",
      "2\n",
      "3\n",
      "3\n",
      "4\n",
      "4\n",
      "4\n",
      "5\n",
      "5\n",
      "6\n",
      "6\n",
      "6\n",
      "6\n",
      "7\n",
      "7\n",
      "8\n",
      "8\n",
      "8\n",
      "8\n",
      "9\n",
      "9\n",
      "9\n",
      "10\n",
      "10\n",
      "10\n",
      "10\n"
     ]
    }
   ],
   "source": [
    "listnum=[1,2,3,4,5,6,7,8,9,10]\n",
    "for i in listnum:\n",
    "    for j in listnum:\n",
    "        if i%j==0:\n",
    "            print(i)"
   ]
  },
  {
   "cell_type": "code",
   "execution_count": 16,
   "id": "ce29a565",
   "metadata": {},
   "outputs": [
    {
     "name": "stdout",
     "output_type": "stream",
     "text": [
      "lvmyslf"
     ]
    }
   ],
   "source": [
    "string='i love my self'\n",
    "for i in string:\n",
    "    if i not in 'aeiou':\n",
    "        print(i,end='')"
   ]
  },
  {
   "cell_type": "code",
   "execution_count": 17,
   "id": "82237a5d",
   "metadata": {},
   "outputs": [
    {
     "data": {
      "text/plain": [
       "['l', 'v', 'm', 'y', 's', 'l', 'f']"
      ]
     },
     "execution_count": 17,
     "metadata": {},
     "output_type": "execute_result"
    }
   ],
   "source": [
    "const=[i for i in string if i not in 'aeiou ' ]\n",
    "const"
   ]
  },
  {
   "cell_type": "code",
   "execution_count": 6,
   "id": "255c2f85",
   "metadata": {},
   "outputs": [
    {
     "name": "stdout",
     "output_type": "stream",
     "text": [
      "enter no.of classes attended-15\n",
      "enter total no.of classes-20\n",
      "You can write exam\n"
     ]
    }
   ],
   "source": [
    "n1=int(input('enter no.of classes attended-'))\n",
    "n2=int(input('enter total no.of classes-'))\n",
    "attendence = n1*100/n2\n",
    "if attendence>=75:\n",
    "    print('You can write exam')\n",
    "else:\n",
    "    print('are you having any medical problem?')\n",
    "    answer=input('enter yes/no-')\n",
    "    if answer== 'yes':\n",
    "        print('you are eligible to write exam')\n",
    "    if answer== 'no':\n",
    "        print('you are not eligible')"
   ]
  },
  {
   "cell_type": "code",
   "execution_count": 8,
   "id": "5e4425ed",
   "metadata": {},
   "outputs": [
    {
     "name": "stdout",
     "output_type": "stream",
     "text": [
      "enter line of text-i\n",
      "enter string of test-i\n",
      "yes\n"
     ]
    }
   ],
   "source": [
    "s1=str(input('enter line of text-'))\n",
    "s2=str(input('enter string of test-'))\n",
    "if s2 in s1:\n",
    "    print('yes')\n",
    "else:\n",
    "    print('no')"
   ]
  },
  {
   "cell_type": "code",
   "execution_count": 5,
   "id": "6d9a0e71",
   "metadata": {},
   "outputs": [
    {
     "name": "stdout",
     "output_type": "stream",
     "text": [
      "enter number1-2\n",
      "enter number2-1.999\n",
      "closer\n"
     ]
    }
   ],
   "source": [
    "#Write a program that asks the user for two numbers and prints Close if the numbers are within .001 of each other and Not\n",
    "#close otherwise.\n",
    "\n",
    "\n",
    "a=float(input('enter number1-'))\n",
    "b=float(input('enter number2-'))\n",
    "if a>b:\n",
    "    if (a - b <= 0.001):\n",
    "        print('closer')\n",
    "    else:\n",
    "        print('not closer')\n",
    "if b>a:\n",
    "    if (b - a  <= 0.001):\n",
    "        print('close')\n",
    "    else:\n",
    "        print('not close')\n",
    "        "
   ]
  },
  {
   "cell_type": "code",
   "execution_count": 8,
   "id": "05b3979a",
   "metadata": {},
   "outputs": [
    {
     "name": "stdout",
     "output_type": "stream",
     "text": [
      "enter age of user1-35\n",
      "enter age of user2-36\n",
      "enter age of user3-34\n",
      "user2 id oldest\n"
     ]
    }
   ],
   "source": [
    "#Write a program to take input of age of 3 people from user and determine the oldest and the youngest among them.\n",
    "\n",
    "user1=input('enter age of user1-')\n",
    "user2=input('enter age of user2-')\n",
    "user3=input('enter age of user3-')\n",
    "if user1>user2 and user1>user3:\n",
    "    print('user1 is oldest')\n",
    "elif user2>user1 and user2>user3:\n",
    "    print('user2 id oldest')\n",
    "else:\n",
    "    print('user3 is oldest')\n",
    "        "
   ]
  },
  {
   "cell_type": "code",
   "execution_count": 12,
   "id": "c9151d51",
   "metadata": {},
   "outputs": [
    {
     "name": "stdout",
     "output_type": "stream",
     "text": [
      "enter 6 digit number-123456789\n",
      "123456\n"
     ]
    }
   ],
   "source": [
    "\n",
    "numb=input('enter 6 digit number-')[:6]\n",
    "print(numb)"
   ]
  },
  {
   "cell_type": "code",
   "execution_count": 7,
   "id": "0ecf9337",
   "metadata": {},
   "outputs": [
    {
     "name": "stdout",
     "output_type": "stream",
     "text": [
      "enter a number with maximum of 6 digits -123456\n",
      "sum of even digit numbers is 12, product of odd digit numbers is 15\n"
     ]
    }
   ],
   "source": [
    "'''#Write a program to accept maximum of 6 digits number and print out the sum of even digits of that number and\n",
    "multiplication of odd digits of that number.'''\n",
    "\n",
    "\n",
    "numb = input('enter a number with maximum of 6 digits -')\n",
    "\n",
    "sum_of_even = 0\n",
    "product_of_odd = 1\n",
    "\n",
    "if len(numb) <= 6:\n",
    "    for i in numb:\n",
    "        if int(i) % 2 == 0:\n",
    "            sum_of_even += int(i)\n",
    "        else:\n",
    "            product_of_odd *= int(i)\n",
    "    print(f'sum of even digit numbers is {sum_of_even}, product of odd digit numbers is {product_of_odd}')\n",
    "else:    \n",
    "    print('enter 6 digit number') \n",
    "\n"
   ]
  },
  {
   "cell_type": "code",
   "execution_count": 10,
   "id": "b6fdd2ca",
   "metadata": {},
   "outputs": [
    {
     "name": "stdout",
     "output_type": "stream",
     "text": [
      "enter age of side1-10\n",
      "enter age of side2-12\n",
      "enter age of side3-15\n",
      "scalene triangle\n"
     ]
    }
   ],
   "source": [
    "'''#Write a program to check a triangle is equilateral, isosceles or scalene.'''\n",
    "\n",
    "side1=input('enter age of side1-')\n",
    "side2=input('enter age of side2-')\n",
    "side3=input('enter age of side3-')\n",
    "if side1==side2==side3:\n",
    "    print('equilateral triangle')\n",
    "elif side1==side2 or side2==side3 or side1 == side3:\n",
    "    print('isosceles triangle')\n",
    "else:\n",
    "    print('scalene triangle')"
   ]
  },
  {
   "cell_type": "code",
   "execution_count": 26,
   "id": "5bfa98fe",
   "metadata": {},
   "outputs": [
    {
     "name": "stdout",
     "output_type": "stream",
     "text": [
      "[1505, 1540, 1575, 1610, 1645, 1680, 1715, 1750, 1785, 1820, 1855, 1890, 1925, 1960, 1995, 2030, 2065, 2100, 2135, 2170, 2205, 2240, 2275, 2310, 2345, 2380, 2415, 2450, 2485, 2520, 2555, 2590, 2625, 2660, 2695]\n"
     ]
    }
   ],
   "source": [
    "'''#Write a program to find those numbers which are divisible by 7 and multiple of 5, between 1500 and 2700.'''\n",
    "\n",
    "list2=[]\n",
    "list1=[]\n",
    "for i in range (1500,2700):\n",
    "    if i%5==0 and i%7==0:\n",
    "        list1.append(i)\n",
    "    #print()\n",
    "   # if i%7==0:\n",
    "       # list2.append(i)\n",
    "#print('MUltiples of 5 are in the given range are-',list1,\n",
    "         # 'the numbers divisible by 7 in the given range are-',list2)\n",
    "print(list1)"
   ]
  },
  {
   "cell_type": "code",
   "execution_count": 8,
   "id": "e9b4e3da",
   "metadata": {},
   "outputs": [
    {
     "name": "stdout",
     "output_type": "stream",
     "text": [
      "97\n",
      "enter the units in which you want to convert either F or C-C\n",
      "36.11\n"
     ]
    }
   ],
   "source": [
    "'''Write a program to prompt the user for a temperature and what units (Celsius or Fahrenheit) the temperature is in and\n",
    "print the temperature by converting into the other unit. [Hint:- F = 95 C + 32 and C = 9 5 (F − 32)]'''\n",
    "\n",
    "temp = float(input(''))\n",
    "units=input('enter the units in which you want to convert either F or C-')\n",
    "if units=='F':\n",
    "    units = (9/5 * temp )+ 32\n",
    "if units =='C':\n",
    "    units = round(5/9 * (temp - 32),2)\n",
    "print(units)\n"
   ]
  },
  {
   "cell_type": "code",
   "execution_count": 16,
   "id": "56782f48",
   "metadata": {},
   "outputs": [
    {
     "name": "stdout",
     "output_type": "stream",
     "text": [
      "enter the no.of items-12\n",
      "120\n"
     ]
    }
   ],
   "source": [
    "'''A store charges Rs.12 per item if you buy less than 10 items. If you buy between 10 and 99 items, the cost is Rs.10 \n",
    "per item. If you buy 100 or more items, the cost is Rs.7 per item. Write a program that asks the user how many items \n",
    "they are buying and prints the total cost.'''\n",
    "\n",
    "no_of_items=int(input('enter the no.of items-'))\n",
    "if no_of_items > 99:\n",
    "    total_amount = no_of_items * 7\n",
    "    print(total_amount)\n",
    "elif no_of_items < 10 and no_of_items>0:\n",
    "    total_amount = no_of_items * 12\n",
    "    print(total_amount)\n",
    "    \n",
    "elif no_of_items >=10 and no_of_items <=99:\n",
    "    total_amount = no_of_items* 10\n",
    "    print(total_amount)\n",
    "else:\n",
    "    print('invalid input')\n",
    "\n"
   ]
  },
  {
   "cell_type": "code",
   "execution_count": 22,
   "id": "74082008",
   "metadata": {},
   "outputs": [
    {
     "name": "stdout",
     "output_type": "stream",
     "text": [
      "enter no.of years :6\n",
      "enter salary :100000\n",
      "5000.0\n",
      "105000.0\n"
     ]
    }
   ],
   "source": [
    "\"\"\"A company decided to give bonus of 5% to employee if his/her year of service is more than 5 years. Write a program that\n",
    "prompt the user for their salary and year of service and print the net bonus amount.\"\"\"\n",
    "\n",
    "years_of_service = int(input('enter no.of years :'))\n",
    "salary = int(input('enter salary :'))\n",
    "\n",
    "if years_of_service > 5:\n",
    "    net_bonus_amount = salary * 0.05\n",
    "    salary += net_bonus_amount\n",
    "    \n",
    "print(net_bonus_amount)\n",
    "print(salary)"
   ]
  },
  {
   "cell_type": "code",
   "execution_count": 25,
   "id": "f52b47bf",
   "metadata": {},
   "outputs": [
    {
     "name": "stdout",
     "output_type": "stream",
     "text": [
      "enter total no.of items:11\n",
      "990.0\n"
     ]
    }
   ],
   "source": [
    "'''A shop will give discount of 10% if the cost of purchased quantity is more than 1000. Suppose, one unit will cost 100.\n",
    "Write a program to prompt the user for quantity and print the total cost for user.)'''\n",
    "\n",
    "items= int(input('enter total no.of items:'))\n",
    "total_cost = items * 100\n",
    "discount= 0\n",
    "if total_cost > 1000:\n",
    "    discount = 0.1 *total_cost\n",
    "    total_cost -= discount\n",
    "    print(total_cost)"
   ]
  },
  {
   "cell_type": "code",
   "execution_count": 4,
   "id": "e1ca5a5f",
   "metadata": {},
   "outputs": [
    {
     "name": "stdout",
     "output_type": "stream",
     "text": [
      "3\n",
      "13\n",
      "23\n",
      "33\n",
      "43\n"
     ]
    }
   ],
   "source": [
    "i = 3\n",
    "\n",
    "while i<= 50:\n",
    "    if i%10 == 3:\n",
    "        print(i)\n",
    "    i+=1\n",
    "    "
   ]
  },
  {
   "cell_type": "code",
   "execution_count": 13,
   "id": "372588c6",
   "metadata": {
    "scrolled": true
   },
   "outputs": [
    {
     "name": "stdout",
     "output_type": "stream",
     "text": [
      "Enter n value: 20\n",
      "20\n",
      "1\n",
      "2\n",
      "4\n",
      "5\n",
      "10\n",
      "20\n",
      "Factors count:  6\n",
      "The End\n"
     ]
    }
   ],
   "source": [
    "n = int(input('Enter n value: '))\n",
    "c = 0\n",
    "i = 1\n",
    "print('Factors of {}: '.format(n))\n",
    "while i <= n:\n",
    "    if n%i == 0:\n",
    "        print(i)\n",
    "        c += 1\n",
    "    i += 1\n",
    "\n",
    "print('Factors count: ',c)\n",
    "\n",
    "print(\"The End\")"
   ]
  },
  {
   "cell_type": "code",
   "execution_count": 14,
   "id": "1be252ae",
   "metadata": {},
   "outputs": [
    {
     "name": "stdout",
     "output_type": "stream",
     "text": [
      "5 4 3 2 "
     ]
    }
   ],
   "source": [
    "count = 5\n",
    "while count > 1:\n",
    "    print(count, end = ' ')\n",
    "    count -= 1"
   ]
  },
  {
   "cell_type": "code",
   "execution_count": 17,
   "id": "8a0a8969",
   "metadata": {},
   "outputs": [
    {
     "name": "stdout",
     "output_type": "stream",
     "text": [
      "1 2 3 4 5 6 7 8 9 10 "
     ]
    }
   ],
   "source": [
    "count = 1\n",
    "while count <= 10:\n",
    "    print(count, end = ' ')\n",
    "    count+= 1"
   ]
  },
  {
   "cell_type": "code",
   "execution_count": 19,
   "id": "ac987721",
   "metadata": {},
   "outputs": [],
   "source": [
    "x = \"abcdef\"\n",
    "i = \"i\"\n",
    "while i in x:\n",
    "    print(i, end=\" \")\n",
    "    "
   ]
  },
  {
   "cell_type": "code",
   "execution_count": 20,
   "id": "b1e2d543",
   "metadata": {},
   "outputs": [
    {
     "name": "stdout",
     "output_type": "stream",
     "text": [
      "100\n",
      "120\n",
      "140\n",
      "160\n",
      "180\n",
      "200\n"
     ]
    }
   ],
   "source": [
    "i=100\n",
    "\n",
    "while i <= 200:\n",
    "    print(i)\n",
    "    i += 20"
   ]
  },
  {
   "cell_type": "code",
   "execution_count": 1,
   "id": "a64fffe7",
   "metadata": {},
   "outputs": [
    {
     "name": "stdout",
     "output_type": "stream",
     "text": [
      "0\n",
      "1\n",
      "2\n",
      "3\n",
      "4\n",
      "5\n"
     ]
    }
   ],
   "source": [
    "\"\"\"Write a 'while' loop that prints integers from zero to 5.\"\"\"\n",
    "i = 0\n",
    "while i <=5:\n",
    "    print (i)\n",
    "    i+=1\n",
    "    "
   ]
  },
  {
   "cell_type": "code",
   "execution_count": 2,
   "id": "caa70923",
   "metadata": {},
   "outputs": [
    {
     "name": "stdout",
     "output_type": "stream",
     "text": [
      "i\n",
      "r\n",
      "h\n",
      "t\n",
      "a\n",
      "y\n",
      "a\n",
      "g\n"
     ]
    }
   ],
   "source": [
    "'''Write a 'while' loop that starts at the last character in the string and works its way backwards to the first character \n",
    "in the string, printing each letter on a separate line, except backwards.'''\n",
    "\n",
    "string = 'gayathri'\n",
    "\n",
    "i = len(string)\n",
    "while i-1 >= 0:\n",
    "    print(string[i-1])\n",
    "    i-=1\n"
   ]
  },
  {
   "cell_type": "code",
   "execution_count": 1,
   "id": "a82db1e2",
   "metadata": {},
   "outputs": [
    {
     "name": "stdout",
     "output_type": "stream",
     "text": [
      "enter any number :12\n",
      "1\n",
      "2\n",
      "3\n",
      "4\n",
      "6\n",
      "12\n"
     ]
    }
   ],
   "source": [
    "'''Write a program that asks the user to enter a number and prints out all the divisors of that number.'''\n",
    "\n",
    "number = int(input('enter any number :'))\n",
    "i = 1\n",
    "while i <= number :\n",
    "    if number % i == 0 :\n",
    "        print(i)\n",
    "    i += 1\n",
    "        \n",
    "\n"
   ]
  },
  {
   "cell_type": "code",
   "execution_count": 1,
   "id": "21e2280e",
   "metadata": {},
   "outputs": [
    {
     "name": "stdout",
     "output_type": "stream",
     "text": [
      "enter the number : 5\n",
      "120\n"
     ]
    }
   ],
   "source": [
    "'''Factorial of any number n is represented by n! and is equal to 1 * 2 * 3 * .... * (n-1) * n.\n",
    "E.g.-\n",
    " 4! = 1 * 2 * 3 * 4 = 24\n",
    " 3! = 3 * 2 * 1 = 6\n",
    " 2! = 2 * 1 = 2\n",
    "Also,\n",
    " 1! = 1\n",
    " 0! = 1\n",
    "Write a program to calculate factorial of any given number.'''\n",
    "\n",
    "n = int(input('enter the number : '))\n",
    "fact = 1\n",
    "i = 1\n",
    "while i <= n :\n",
    "    fact *= i\n",
    "    i+= 1\n",
    "print(fact)"
   ]
  },
  {
   "cell_type": "code",
   "execution_count": 18,
   "id": "300ca5d1",
   "metadata": {},
   "outputs": [
    {
     "name": "stdout",
     "output_type": "stream",
     "text": [
      "enter a number1 : 24\n",
      "enter a number2 : 48\n",
      "[1, 2, 3, 4, 6, 8, 12, 24]\n",
      "[1, 2, 3, 4, 6, 8, 12, 16, 24, 48]\n",
      "{1, 2, 3, 4, 6, 8, 12, 24}\n",
      "GCF of 24 and 48 is 24\n"
     ]
    }
   ],
   "source": [
    "'''Write a program to find greatest common divisor (GCD) or highest common factor (HCF) of given two numbers.'''\n",
    "numb4 = int(input('enter a number1 : '))\n",
    "numb6 = int(input('enter a number2 : '))\n",
    "i = 1\n",
    "j = 1\n",
    "list1 = []\n",
    "list2 = []\n",
    "\n",
    "while i <= numb4 :\n",
    "    if numb4 % i == 0:\n",
    "        list1.append(i)\n",
    "    i += 1\n",
    "print(list1)   \n",
    "while j <= numb6 :\n",
    "    if numb6 % j == 0:\n",
    "        list2.append(j)\n",
    "    j += 1\n",
    "print(list2)\n",
    "tuple1 = set(list1).intersection(set(list2))\n",
    "print(tuple1)\n",
    "GCF = max(tuple1)\n",
    "print(f'GCF of {numb4} and {numb6} is {GCF}')\n",
    "    "
   ]
  },
  {
   "cell_type": "code",
   "execution_count": 9,
   "id": "91510df4",
   "metadata": {},
   "outputs": [
    {
     "name": "stdout",
     "output_type": "stream",
     "text": [
      "Enter an integer (press 'q' to quit): 1\n",
      "Enter an integer (press 'q' to quit): 2\n",
      "Enter an integer (press 'q' to quit): 3\n",
      "Enter an integer (press 'q' to quit): 4\n",
      "Enter an integer (press 'q' to quit): k\n"
     ]
    },
    {
     "ename": "ValueError",
     "evalue": "invalid literal for int() with base 10: 'k'",
     "output_type": "error",
     "traceback": [
      "\u001b[1;31m---------------------------------------------------------------------------\u001b[0m",
      "\u001b[1;31mValueError\u001b[0m                                Traceback (most recent call last)",
      "\u001b[1;32m~\\AppData\\Local\\Temp\\ipykernel_22692\\1590718057.py\u001b[0m in \u001b[0;36m<module>\u001b[1;34m\u001b[0m\n\u001b[0;32m      7\u001b[0m         \u001b[1;32mbreak\u001b[0m\u001b[1;33m\u001b[0m\u001b[1;33m\u001b[0m\u001b[0m\n\u001b[0;32m      8\u001b[0m     \u001b[1;32melse\u001b[0m\u001b[1;33m:\u001b[0m\u001b[1;33m\u001b[0m\u001b[1;33m\u001b[0m\u001b[0m\n\u001b[1;32m----> 9\u001b[1;33m         \u001b[0mnumbers\u001b[0m\u001b[1;33m.\u001b[0m\u001b[0mappend\u001b[0m\u001b[1;33m(\u001b[0m\u001b[0mint\u001b[0m\u001b[1;33m(\u001b[0m\u001b[0minp\u001b[0m\u001b[1;33m)\u001b[0m\u001b[1;33m)\u001b[0m\u001b[1;33m\u001b[0m\u001b[1;33m\u001b[0m\u001b[0m\n\u001b[0m\u001b[0;32m     10\u001b[0m \u001b[1;33m\u001b[0m\u001b[0m\n\u001b[0;32m     11\u001b[0m \u001b[1;32mif\u001b[0m \u001b[0mlen\u001b[0m\u001b[1;33m(\u001b[0m\u001b[0mnumbers\u001b[0m\u001b[1;33m)\u001b[0m \u001b[1;33m==\u001b[0m \u001b[1;36m0\u001b[0m\u001b[1;33m:\u001b[0m\u001b[1;33m\u001b[0m\u001b[1;33m\u001b[0m\u001b[0m\n",
      "\u001b[1;31mValueError\u001b[0m: invalid literal for int() with base 10: 'k'"
     ]
    }
   ],
   "source": [
    "'''Write a program to take integer inputs from user until he/she presses q and print the average and product of all those\n",
    "numbers.'''\n",
    "numbers = []\n",
    "while True:\n",
    "    inp = input(\"Enter an integer (press 'q' to quit): \")\n",
    "    if inp == 'q':\n",
    "        break\n",
    "    else:\n",
    "        numbers.append(int(inp))\n",
    "\n",
    "if len(numbers) == 0:\n",
    "    print(\"No numbers were entered.\")\n",
    "else:\n",
    "    product = 1\n",
    "    for num in numbers:\n",
    "        product *= num\n",
    "    average = sum(numbers) / len(numbers)\n",
    "    print(f\"Product: {product}\")\n",
    "    print(f\"Average: {average}\")\n",
    "\n",
    "        \n",
    "\n",
    "    \n",
    "     \n",
    "     "
   ]
  },
  {
   "cell_type": "code",
   "execution_count": 7,
   "id": "fb0be01a",
   "metadata": {},
   "outputs": [
    {
     "name": "stdout",
     "output_type": "stream",
     "text": [
      "no, the given string is not a palindrome\n"
     ]
    }
   ],
   "source": [
    "'''Write a program to print whether the given number is a palindrome or not. [Hint: A palindrome is nothing but any number\n",
    "or a string which remains unaltered when reversed].\n",
    "Input1: 12321\n",
    "Output: Yes, a Palindrome number\n",
    "Input2: RACECAR\n",
    "Output: Yes, a Palindrome string'''\n",
    "string= '12322'\n",
    "i=len(string)\n",
    "string1 = ''\n",
    "while i-1>=0 :\n",
    "    string1 += string[i-1]\n",
    "    i-= 1\n",
    "if string == string1:\n",
    "    print('yes the given string is a palindrome')\n",
    "else:\n",
    "    print('no, the given string is not a palindrome')"
   ]
  },
  {
   "cell_type": "code",
   "execution_count": 1,
   "id": "586c1d1a",
   "metadata": {},
   "outputs": [
    {
     "name": "stdout",
     "output_type": "stream",
     "text": [
      "enter no.of.times that name should be printrd5\n",
      "Gayathri\n",
      "Gayathri\n",
      "Gayathri\n",
      "Gayathri\n",
      "Gayathri\n"
     ]
    }
   ],
   "source": [
    "'''Write a program that prompt the user for their name and how many times to print it. The program should print out the \n",
    "user’s name the specified number of times.'''\n",
    "name= 'Gayathri'\n",
    "no_of_times = int(input('enter no.of.times that name should be printrd'))\n",
    "for i in range(no_of_times):\n",
    "    print(name)\n"
   ]
  },
  {
   "cell_type": "code",
   "execution_count": 24,
   "id": "2246f94f",
   "metadata": {},
   "outputs": [
    {
     "name": "stdout",
     "output_type": "stream",
     "text": [
      "enter name : python\n",
      "p\n",
      "\n",
      "py\n",
      "\n",
      "pyt\n",
      "\n",
      "pyth\n",
      "\n",
      "pytho\n",
      "\n",
      "python\n",
      "\n"
     ]
    }
   ],
   "source": [
    "'''Write a program that prompt the user for their name and prints it in the funny pattern as given in the example below.\n",
    "# Sample Input\n",
    " Python\n",
    "# Expected Output\n",
    " P Py Pyt Pyth Pytho Python'''\n",
    "inp= input('enter name : ')\n",
    "for i in range (len(inp)):\n",
    "    for j in range(0,i+1):\n",
    "        print(inp[j],end='')\n",
    "    print('\\n')\n",
    "    \n",
    "    \n",
    "   \n"
   ]
  },
  {
   "cell_type": "code",
   "execution_count": null,
   "id": "7f412be9",
   "metadata": {},
   "outputs": [],
   "source": [
    "'''Write a program that prompt the user to enter a word and then capitalizes every other letter of that word.\n",
    "# Sample Input\n",
    " rhinoceros\n",
    "# Expected Output\n",
    " rHiNoCeRoS'''"
   ]
  },
  {
   "cell_type": "code",
   "execution_count": 3,
   "id": "c5eaded3",
   "metadata": {},
   "outputs": [
    {
     "name": "stdout",
     "output_type": "stream",
     "text": [
      "1 --- 1\n",
      "2 --- 4\n",
      "3 --- 9\n",
      "4 --- 16\n",
      "5 --- 25\n",
      "6 --- 36\n",
      "7 --- 49\n",
      "8 --- 64\n",
      "9 --- 81\n",
      "10 --- 100\n",
      "11 --- 121\n",
      "12 --- 144\n",
      "13 --- 169\n",
      "14 --- 196\n",
      "15 --- 225\n",
      "16 --- 256\n",
      "17 --- 289\n",
      "18 --- 324\n",
      "19 --- 361\n",
      "20 --- 400\n"
     ]
    }
   ],
   "source": [
    "'''Write a program that prints out all the integers from 1 to 20 and their squares.\n",
    "# Expected Output\n",
    " 1 --- 1\n",
    " 2 --- 4\n",
    " 3 --- 9\n",
    " ...\n",
    " ...\n",
    " 20 --- 400'''\n",
    "for i in range(1,21):\n",
    "    print(i,'---',i**2)"
   ]
  },
  {
   "cell_type": "code",
   "execution_count": 8,
   "id": "361e9de5",
   "metadata": {},
   "outputs": [
    {
     "name": "stdout",
     "output_type": "stream",
     "text": [
      "8,11,14,17,20,23,26,29,32,35,38,41,44,47,50,53,56,59,62,65,68,71,74,77,80,83,86,89,"
     ]
    }
   ],
   "source": [
    "'''Write a program that uses a 'for' loop to print the numbers 8, 11, 14, 17, 20, . . . , 83, 86, 89.'''\n",
    "for i in range(8,92,3):\n",
    "    print(i,end=',')"
   ]
  },
  {
   "cell_type": "code",
   "execution_count": 9,
   "id": "42a4e3e0",
   "metadata": {},
   "outputs": [
    {
     "name": "stdout",
     "output_type": "stream",
     "text": [
      "100,98,96,94,92,90,88,86,84,82,80,78,76,74,72,70,68,66,64,62,60,58,56,54,52,50,48,46,44,42,40,38,36,34,32,30,28,26,24,22,20,18,16,14,12,10,8,6,4,2,"
     ]
    }
   ],
   "source": [
    "'''Write a program that uses a 'for' loop to print the numbers 100, 98, 96, . . . , 4, 2.'''\n",
    "for i in range (100,0,-2):\n",
    "    print(i,end=',')"
   ]
  },
  {
   "cell_type": "code",
   "execution_count": 11,
   "id": "4ceed5dc",
   "metadata": {},
   "outputs": [
    {
     "name": "stdout",
     "output_type": "stream",
     "text": [
      "10\n",
      "9\n",
      "8\n",
      "7\n",
      "6\n",
      "5\n",
      "4\n",
      "3\n",
      "2\n",
      "1\n"
     ]
    }
   ],
   "source": [
    "'''Write a program that uses a 'for' loop to print numbers from 10 to 1 in descending order.'''\n",
    "for i in range (10,0,-1):\n",
    "    print(i)"
   ]
  },
  {
   "cell_type": "code",
   "execution_count": 25,
   "id": "ed768661",
   "metadata": {},
   "outputs": [
    {
     "name": "stdout",
     "output_type": "stream",
     "text": [
      "6\n",
      "[1, 4, 9, 16, 25, 36, 49, 64, 81, 100, 121, 144, 169, 196, 225, 256, 289, 324, 361, 400, 441, 484, 529, 576, 625, 676, 729, 784, 841]\n"
     ]
    },
    {
     "data": {
      "text/plain": [
       "[1, 9, 11, 19, 21, 29]"
      ]
     },
     "execution_count": 25,
     "metadata": {},
     "output_type": "execute_result"
    }
   ],
   "source": [
    "'''Write a program that counts how many of the squares of the numbers from 1 to 1000 end in a 1.'''\n",
    "count = []\n",
    "squares=[]\n",
    "for i in range(1,30):\n",
    "    sq=i**2\n",
    "    squares.append(sq)\n",
    "    \n",
    "    if sq % 10 ==1 :\n",
    "        count.append(i)\n",
    "print(len(count))\n",
    "print(squares)\n"
   ]
  },
  {
   "cell_type": "code",
   "execution_count": 28,
   "id": "4124a442",
   "metadata": {},
   "outputs": [
    {
     "name": "stdout",
     "output_type": "stream",
     "text": [
      "no.of numbers that end with 4 are - 10\n",
      "no.of numbers that end with 9 are - 10\n",
      "[1, 4, 9, 16, 25, 36, 49, 64, 81, 100, 121, 144, 169, 196, 225, 256, 289, 324, 361, 400, 441, 484, 529, 576, 625, 676, 729, 784, 841, 900, 961, 1024, 1089, 1156, 1225, 1296, 1369, 1444, 1521, 1600, 1681, 1764, 1849, 1936, 2025, 2116, 2209, 2304, 2401]\n"
     ]
    }
   ],
   "source": [
    "'''\n",
    "Write a program that counts how many of the squares of the numbers from 1 to 1000 end in a 4 and how many end in a 9.'''\n",
    "end4 = []\n",
    "end9 = []\n",
    "squares=[]\n",
    "for i in range(1,50):\n",
    "    sq=i**2\n",
    "    squares.append(sq)\n",
    "    \n",
    "    if sq % 10 == 4 :\n",
    "        end4.append(i)\n",
    "    if sq % 10 == 9 :\n",
    "        end9.append(i)\n",
    "print('no.of numbers that end with 4 are -',len(end4))\n",
    "print('no.of numbers that end with 9 are -',len(end9))\n",
    "print(squares)"
   ]
  },
  {
   "cell_type": "code",
   "execution_count": 32,
   "id": "5c83cf4d",
   "metadata": {},
   "outputs": [
    {
     "name": "stdout",
     "output_type": "stream",
     "text": [
      "[56, 126, 196, 266, 336, 406, 476, 546, 616, 686, 756, 826, 896, 966]\n"
     ]
    }
   ],
   "source": [
    "'''Write a program to find all numbers between 1 and 1000 that are divisible by 7 and end in a 6.'''\n",
    "count = []\n",
    "\n",
    "for i in range(1,1000):\n",
    "    if i%7 == 0 and i % 10 ==6 :\n",
    "        count.append(i)\n",
    "print(count)\n",
    "\n"
   ]
  },
  {
   "cell_type": "code",
   "execution_count": null,
   "id": "5bde5ec7",
   "metadata": {},
   "outputs": [],
   "source": [
    "'''Write a program to determine how many of the numbers between 1 and 10000 contain the digit 3.'''\n",
    "for i in range(1,10):\n",
    "    \n"
   ]
  },
  {
   "cell_type": "code",
   "execution_count": 9,
   "id": "259c739a",
   "metadata": {},
   "outputs": [
    {
     "name": "stdout",
     "output_type": "stream",
     "text": [
      "1\n",
      "\n",
      "11\n",
      "\n",
      "111\n",
      "\n",
      "1111\n",
      "\n",
      "11111\n",
      "\n",
      "111111\n",
      "\n",
      "1111111\n",
      "\n",
      "11111111\n",
      "\n",
      "111111111\n",
      "\n",
      "1111111111\n",
      "\n",
      "[1, 1, 1, 1, 1, 1, 1, 1, 1, 1, 1, 1, 1, 1, 1, 1, 1, 1, 1, 1, 1, 1, 1, 1, 1, 1, 1, 1, 1, 1, 1, 1, 1, 1, 1, 1, 1, 1, 1, 1, 1, 1, 1, 1, 1, 1, 1, 1, 1, 1, 1, 1, 1, 1, 1]\n"
     ]
    }
   ],
   "source": [
    "'''Write a program that creates the list [1,11,111,1111,...,111...1] , where the entries have an ever increasing number\n",
    "of ones, with the last entry having 100 ones.'''\n",
    "list1 = []\n",
    "for i in range(1,11):\n",
    "    for j in range (1,i+1):\n",
    "        list1.append(1)\n",
    "        print(\"1\",sep='#',end='')\n",
    "    print('\\n')\n",
    "print(list1)\n",
    "        "
   ]
  },
  {
   "cell_type": "code",
   "execution_count": 22,
   "id": "6d782902",
   "metadata": {},
   "outputs": [
    {
     "name": "stdout",
     "output_type": "stream",
     "text": [
      "177\n"
     ]
    }
   ],
   "source": [
    "'''\n",
    "A jar of Halloween candy contains an unknown amount of candy and if you can guess exactly how much candy is in the bowl,\n",
    "then you win all the candy. You ask the person in charge the following: If the candy is divided evenly among 5 people,\n",
    "how many pieces would be left over? The answer is 2 pieces. You then ask about dividing the candy evenly among 6 people,\n",
    "and the amount left over is 3 pieces. Finally, you ask about dividing the candy evenly among 7 people, and the amount left \n",
    "over is 2 pieces. By looking at the bowl, you can tell that there are less than 200 pieces. Write a program to determine \n",
    "how many pieces are in the bowl.\n",
    "'''\n",
    "for i in range(1,200):\n",
    "    if i % 5 == 2 and i%6==3 and i%7 ==2:\n",
    "        print(i)"
   ]
  },
  {
   "cell_type": "code",
   "execution_count": 23,
   "id": "dafb3b6a",
   "metadata": {},
   "outputs": [
    {
     "data": {
      "text/plain": [
       "'Write a program to display the stars in an equilateral triangular form using a single for loop.'"
      ]
     },
     "execution_count": 23,
     "metadata": {},
     "output_type": "execute_result"
    }
   ],
   "source": [
    "'''Write a program to display the stars in an equilateral triangular form using a single for loop.'''\n"
   ]
  },
  {
   "cell_type": "code",
   "execution_count": 68,
   "id": "333feb34",
   "metadata": {},
   "outputs": [
    {
     "name": "stdout",
     "output_type": "stream",
     "text": [
      "9\n"
     ]
    }
   ],
   "source": [
    "'''Write a program to read a line of text as input from the user and print the count of space characters(' ') in the text\n",
    "entered.\n",
    "# Sample Input\n",
    " Python is the most powerful language you can still read.\n",
    "# Expected Output\n",
    " 9'''\n",
    "count=[]\n",
    "string1 = 'Python is the most powerful language you can still read'\n",
    "for i in string1:\n",
    "    if i == ' ':\n",
    "        count.append(i)\n",
    "print(len(count))"
   ]
  },
  {
   "cell_type": "code",
   "execution_count": null,
   "id": "60748b02",
   "metadata": {},
   "outputs": [],
   "source": [
    "unicodes\n",
    "x range\n",
    "object pooling\n",
    "implementing switchcase\n",
    "wt other arguments can be passed to print fynction"
   ]
  },
  {
   "cell_type": "code",
   "execution_count": 30,
   "id": "ac8971e7",
   "metadata": {},
   "outputs": [
    {
     "name": "stdout",
     "output_type": "stream",
     "text": [
      "1#2#3#4,"
     ]
    }
   ],
   "source": [
    "\n",
    "name = \"i\\'m gayathri\"\n",
    "name\n",
    "\n",
    "print(1,2,3,4,sep='#',end=',')\n"
   ]
  },
  {
   "cell_type": "code",
   "execution_count": 10,
   "id": "c02e7761",
   "metadata": {},
   "outputs": [
    {
     "name": "stdout",
     "output_type": "stream",
     "text": [
      "2479713181264\n",
      "2479713181520\n"
     ]
    }
   ],
   "source": [
    "a = 257\n",
    "b = 257\n",
    "print(id(a))\n",
    "print(id(b))"
   ]
  },
  {
   "cell_type": "code",
   "execution_count": 23,
   "id": "aa22be1d",
   "metadata": {
    "scrolled": true
   },
   "outputs": [
    {
     "name": "stdout",
     "output_type": "stream",
     "text": [
      "0\n",
      "1\n",
      "2\n",
      "3\n",
      "4\n",
      "5\n",
      "6\n",
      "7\n",
      "8\n",
      "9\n",
      "10\n",
      "11\n",
      "12\n",
      "13\n",
      "14\n",
      "15\n"
     ]
    }
   ],
   "source": [
    "'''Using break statement, write a 'while' loop that prints integers from zero to 15.'''\n",
    "i=0\n",
    "while i>=0:\n",
    "    print(i)\n",
    "    i+=1\n",
    "    if i>15:\n",
    "        break"
   ]
  },
  {
   "cell_type": "code",
   "execution_count": 31,
   "id": "1409a3de",
   "metadata": {
    "scrolled": false
   },
   "outputs": [
    {
     "name": "stdout",
     "output_type": "stream",
     "text": [
      "2\n",
      "4\n",
      "6\n",
      "8\n",
      "10\n"
     ]
    }
   ],
   "source": [
    "'''Using continue statement, write a 'while' loop that processes only even integers from 0 to 10. '''\n",
    "i=0\n",
    "while i<=10:\n",
    "    i += 1\n",
    "    if i%2 != 0:\n",
    "        continue\n",
    "    else:\n",
    "        print(i)    "
   ]
  },
  {
   "cell_type": "code",
   "execution_count": 50,
   "id": "28444612",
   "metadata": {},
   "outputs": [
    {
     "name": "stdout",
     "output_type": "stream",
     "text": [
      "irhtayag\n"
     ]
    }
   ],
   "source": [
    "name='gayathri'\n",
    "string1=''\n",
    "for i in range(len(name)-1,-1,-1):\n",
    "    string1+=name[i]\n",
    "print(string1)\n",
    "    "
   ]
  },
  {
   "cell_type": "code",
   "execution_count": 53,
   "id": "c3e73117",
   "metadata": {},
   "outputs": [
    {
     "data": {
      "text/plain": [
       "'irhtayag'"
      ]
     },
     "execution_count": 53,
     "metadata": {},
     "output_type": "execute_result"
    }
   ],
   "source": [
    "name='gayathri'\n",
    "list1=[]\n",
    "for i in range(len(name)-1,-1,-1):\n",
    "    list1.append(name[i])\n",
    "name1=''.join(list1)\n",
    "name1\n"
   ]
  },
  {
   "cell_type": "code",
   "execution_count": 17,
   "id": "ae8534e0",
   "metadata": {},
   "outputs": [
    {
     "name": "stdout",
     "output_type": "stream",
     "text": [
      "10\n"
     ]
    }
   ],
   "source": [
    "'''Using break statement, write a 'for' loop that takes a list of integers and computes the sum of all the integers up \n",
    "until a zero is found in the list.'''\n",
    "listex=[1,2,3,4,10,5]\n",
    "sum = 0\n",
    "for i in listex:\n",
    "    if i%10 == 0:\n",
    "        break\n",
    "    else:\n",
    "        sum += i\n",
    "print(sum)\n"
   ]
  },
  {
   "cell_type": "code",
   "execution_count": 20,
   "id": "1d59ffdf",
   "metadata": {},
   "outputs": [
    {
     "name": "stdout",
     "output_type": "stream",
     "text": [
      "6,12,18,"
     ]
    }
   ],
   "source": [
    "'''Using continue statement, write a 'for' loop that takes a list of integers and triples each integer that is even.'''\n",
    "list_= [1,2,3,4,5,6]\n",
    "for i in list_:\n",
    "    if i % 2 == 0:\n",
    "        print(i*3,end =',')\n",
    "    else:\n",
    "        continue\n"
   ]
  },
  {
   "cell_type": "code",
   "execution_count": 41,
   "id": "a3b2eed7",
   "metadata": {},
   "outputs": [
    {
     "name": "stdout",
     "output_type": "stream",
     "text": [
      "1\n",
      "4\n",
      "9\n",
      "16\n"
     ]
    }
   ],
   "source": [
    "list1 = [1,2,3,4]\n",
    "\n",
    "out = lambda x : x**2\n",
    "\n",
    "for i in list1:\n",
    "    print(out(i))"
   ]
  },
  {
   "cell_type": "code",
   "execution_count": 42,
   "id": "e0c4a6e6",
   "metadata": {},
   "outputs": [],
   "source": [
    "def power(x):\n",
    "    return(x**2)"
   ]
  },
  {
   "cell_type": "code",
   "execution_count": 45,
   "id": "f62fcfdb",
   "metadata": {
    "scrolled": true
   },
   "outputs": [
    {
     "name": "stdout",
     "output_type": "stream",
     "text": [
      "1\n",
      "4\n",
      "9\n",
      "16\n"
     ]
    }
   ],
   "source": [
    "for i in list1:\n",
    "    print(power(i))"
   ]
  },
  {
   "cell_type": "code",
   "execution_count": 3,
   "id": "dbe62d9c",
   "metadata": {},
   "outputs": [
    {
     "name": "stdout",
     "output_type": "stream",
     "text": [
      "enter first name - Gayathri\n",
      "enter last name - Raparthi\n",
      "Greetings!!! Gayathri Raparthi\n"
     ]
    }
   ],
   "source": [
    "'''Write a program that prompts user to enter his first name and last name and print a message \"Greetings!!! First name \n",
    "Last name\" '''\n",
    "first_name = input('enter first name - ')\n",
    "last_name = input('enter last name - ')\n",
    "print(f'Greetings!!! {first_name} {last_name}')"
   ]
  },
  {
   "cell_type": "code",
   "execution_count": 1,
   "id": "ca5dc5b7",
   "metadata": {},
   "outputs": [
    {
     "name": "stdout",
     "output_type": "stream",
     "text": [
      "enter first name - I am Gayathri\n",
      "enter last name - Gayathri\n",
      "True\n"
     ]
    }
   ],
   "source": [
    "'''Write a program to take a line of text and a string and print \"True\" if the string exits in the line of text otherwise \n",
    "print \"False\".'''\n",
    "line = input('enter first name - ')\n",
    "string = input('enter last name - ')\n",
    "list1=list(line.split(' '))\n",
    "if string in list1:\n",
    "    print(True)\n",
    "else:\n",
    "    print(False)"
   ]
  },
  {
   "cell_type": "code",
   "execution_count": 1,
   "id": "923cf62f",
   "metadata": {},
   "outputs": [
    {
     "name": "stdout",
     "output_type": "stream",
     "text": [
      "Apple\n"
     ]
    }
   ],
   "source": [
    "s = 'Apple'\n",
    "s.replace('p', '$')\n",
    "#print(s1)\n",
    "print(s)"
   ]
  },
  {
   "cell_type": "code",
   "execution_count": 8,
   "id": "66d6c910",
   "metadata": {},
   "outputs": [
    {
     "name": "stdout",
     "output_type": "stream",
     "text": [
      "9\n"
     ]
    }
   ],
   "source": [
    "def power(x, y=2):\n",
    "    r = 1\n",
    "    for i in range(y):\n",
    "        r = r * x\n",
    "    return r\n",
    "\n",
    "print(power(3))"
   ]
  },
  {
   "cell_type": "code",
   "execution_count": 10,
   "id": "4303afbf",
   "metadata": {},
   "outputs": [
    {
     "data": {
      "text/plain": [
       "(30, 20)"
      ]
     },
     "execution_count": 10,
     "metadata": {},
     "output_type": "execute_result"
    }
   ],
   "source": [
    "def swap(a, b):\n",
    "    a, b = b, a\n",
    "    return(a,b)\n",
    "'''x = 20\n",
    "y = 30'''\n",
    "swap(20,30)\n",
    "\n"
   ]
  },
  {
   "cell_type": "code",
   "execution_count": 32,
   "id": "d55d7271",
   "metadata": {},
   "outputs": [],
   "source": [
    "x = 10\n",
    "def temp():\n",
    "    #global x\n",
    "    x = 20\n",
    "    return(x)"
   ]
  },
  {
   "cell_type": "code",
   "execution_count": 33,
   "id": "d9846e2c",
   "metadata": {},
   "outputs": [
    {
     "data": {
      "text/plain": [
       "20"
      ]
     },
     "execution_count": 33,
     "metadata": {},
     "output_type": "execute_result"
    }
   ],
   "source": [
    "temp()"
   ]
  },
  {
   "cell_type": "code",
   "execution_count": 26,
   "id": "63578c2f",
   "metadata": {
    "scrolled": true
   },
   "outputs": [
    {
     "data": {
      "text/plain": [
       "10"
      ]
     },
     "execution_count": 26,
     "metadata": {},
     "output_type": "execute_result"
    }
   ],
   "source": [
    "x"
   ]
  },
  {
   "cell_type": "code",
   "execution_count": 29,
   "id": "d08809fa",
   "metadata": {},
   "outputs": [],
   "source": [
    "def temp1():\n",
    "    x = 30\n",
    "    return(x)"
   ]
  },
  {
   "cell_type": "code",
   "execution_count": 30,
   "id": "9510610c",
   "metadata": {
    "scrolled": true
   },
   "outputs": [
    {
     "data": {
      "text/plain": [
       "30"
      ]
     },
     "execution_count": 30,
     "metadata": {},
     "output_type": "execute_result"
    }
   ],
   "source": [
    "temp1()"
   ]
  },
  {
   "cell_type": "code",
   "execution_count": 34,
   "id": "fabe94c9",
   "metadata": {},
   "outputs": [
    {
     "name": "stdout",
     "output_type": "stream",
     "text": [
      "x is  50\n"
     ]
    }
   ],
   "source": [
    "x = 50\n",
    "def func(x):\n",
    "    x = 2\n",
    "func(x)\n",
    "print('x is ', x)"
   ]
  },
  {
   "cell_type": "code",
   "execution_count": 35,
   "id": "affedb4a",
   "metadata": {},
   "outputs": [
    {
     "name": "stdout",
     "output_type": "stream",
     "text": [
      "x is 50\n",
      "Changed global x to 2\n",
      "Value of x is 2\n"
     ]
    }
   ],
   "source": [
    "x = 50\n",
    "def func():\n",
    "    global x\n",
    "    print('x is', x)\n",
    "    x = 2\n",
    "    print('Changed global x to', x)\n",
    "func()\n",
    "print('Value of x is', x)"
   ]
  },
  {
   "cell_type": "code",
   "execution_count": 43,
   "id": "9d13c8cd",
   "metadata": {
    "scrolled": false
   },
   "outputs": [
    {
     "ename": "SyntaxError",
     "evalue": "name 'x' is parameter and global (3366119049.py, line 2)",
     "output_type": "error",
     "traceback": [
      "\u001b[1;36m  File \u001b[1;32m\"C:\\Users\\rulga\\AppData\\Local\\Temp\\ipykernel_18528\\3366119049.py\"\u001b[1;36m, line \u001b[1;32m2\u001b[0m\n\u001b[1;33m    global x\u001b[0m\n\u001b[1;37m    ^\u001b[0m\n\u001b[1;31mSyntaxError\u001b[0m\u001b[1;31m:\u001b[0m name 'x' is parameter and global\n"
     ]
    }
   ],
   "source": [
    "def f1(x):\n",
    "    global x\n",
    "    x+=1\n",
    "    print(x)\n",
    "\n",
    "f1(15)\n",
    "print(\"hello\")"
   ]
  },
  {
   "cell_type": "code",
   "execution_count": 5,
   "id": "212579a1",
   "metadata": {},
   "outputs": [
    {
     "data": {
      "text/plain": [
       "[1, 2, 3, 4, 5]"
      ]
     },
     "execution_count": 5,
     "metadata": {},
     "output_type": "execute_result"
    }
   ],
   "source": [
    "l1 = [1,2,3,4,5]\n",
    "l2 = l1\n",
    "l2"
   ]
  },
  {
   "cell_type": "code",
   "execution_count": 6,
   "id": "9f78d230",
   "metadata": {},
   "outputs": [
    {
     "name": "stdout",
     "output_type": "stream",
     "text": [
      "[99, 2, 3, 4, 5] [99, 2, 3, 4, 5]\n"
     ]
    }
   ],
   "source": [
    "l1[0] = 99\n",
    "print(l1,l2)"
   ]
  },
  {
   "cell_type": "code",
   "execution_count": 7,
   "id": "08f85ad4",
   "metadata": {},
   "outputs": [
    {
     "name": "stdout",
     "output_type": "stream",
     "text": [
      "[99, 2, 3, 4, 5] [99, 2, 3, 4, 5]\n"
     ]
    }
   ],
   "source": [
    "l3 = l1.copy()\n",
    "print(l3,l1)"
   ]
  },
  {
   "cell_type": "code",
   "execution_count": 8,
   "id": "b1e37e23",
   "metadata": {},
   "outputs": [
    {
     "name": "stdout",
     "output_type": "stream",
     "text": [
      "[99, 2, 3, 4, 5] [99, 99, 3, 4, 5]\n"
     ]
    }
   ],
   "source": [
    "l1[1] =99\n",
    "print(l3,l1)"
   ]
  },
  {
   "cell_type": "code",
   "execution_count": 2,
   "id": "accc3cec",
   "metadata": {},
   "outputs": [
    {
     "name": "stdout",
     "output_type": "stream",
     "text": [
      "[[1, 2, 3], [0, 1, 2]] [[1, 2, 3], [0, 1, 2]]\n"
     ]
    }
   ],
   "source": [
    "x = [[1,2,3], [0,1,2]]\n",
    "x1 = x.copy()\n",
    "print(x1, x)"
   ]
  },
  {
   "cell_type": "code",
   "execution_count": 3,
   "id": "d52ea0a6",
   "metadata": {},
   "outputs": [
    {
     "name": "stdout",
     "output_type": "stream",
     "text": [
      "[[1, 2, 3], [0, 999, 2]] [[1, 2, 3], [0, 999, 2]]\n"
     ]
    }
   ],
   "source": [
    "x[1][1] = 999\n",
    "print(x1, x)"
   ]
  },
  {
   "cell_type": "code",
   "execution_count": 10,
   "id": "53bc1926",
   "metadata": {},
   "outputs": [],
   "source": []
  },
  {
   "cell_type": "code",
   "execution_count": 13,
   "id": "4da4be6e",
   "metadata": {},
   "outputs": [
    {
     "name": "stdout",
     "output_type": "stream",
     "text": [
      "[[1, 2, 3], [0, 1, 2]] [[1, 2, 3], [0, 1, 2]]\n"
     ]
    }
   ],
   "source": [
    "import copy\n",
    "\n",
    "x = [[1,2,3], [0,1,2]]\n",
    "x1 = copy.deepcopy(x)\n",
    "print(x1, x)"
   ]
  },
  {
   "cell_type": "code",
   "execution_count": 14,
   "id": "1c1639f8",
   "metadata": {},
   "outputs": [
    {
     "name": "stdout",
     "output_type": "stream",
     "text": [
      "[[1, 2, 3], [0, 1, 2]] [[1, 2, 3], [0, 999, 2]]\n"
     ]
    }
   ],
   "source": [
    "x[1][1] = 999\n",
    "print(x1, x)"
   ]
  },
  {
   "cell_type": "code",
   "execution_count": 17,
   "id": "810718f5",
   "metadata": {},
   "outputs": [
    {
     "name": "stdout",
     "output_type": "stream",
     "text": [
      "[[1, 2, 3], [0, 1, 2]] [[1, 2, 3], [0, 1, 2]]\n"
     ]
    }
   ],
   "source": [
    "import copy\n",
    "\n",
    "x = [[1,2,3], [0,1,2]]\n",
    "x1 = copy.copy(x)\n",
    "print(x1, x)"
   ]
  },
  {
   "cell_type": "code",
   "execution_count": 18,
   "id": "eab836c7",
   "metadata": {},
   "outputs": [
    {
     "name": "stdout",
     "output_type": "stream",
     "text": [
      "[[1, 2, 3], [0, 999, 2]] [[1, 2, 3], [0, 999, 2]]\n"
     ]
    }
   ],
   "source": [
    "x[1][1] = 999\n",
    "print(x1, x)"
   ]
  },
  {
   "cell_type": "code",
   "execution_count": 64,
   "id": "01d94b04",
   "metadata": {},
   "outputs": [
    {
     "name": "stdout",
     "output_type": "stream",
     "text": [
      "[10, 20, 30, [90]]\n",
      "[10, 20, 30, [40]]\n"
     ]
    }
   ],
   "source": [
    "import copy\n",
    "\n",
    "l1=[10, 20, 30, [40]]\n",
    "l2=copy.deepcopy(l1)\n",
    "l1[3][0]=90\n",
    "print(l1)\n",
    "print(l2)\n"
   ]
  },
  {
   "cell_type": "code",
   "execution_count": 1,
   "id": "f9947ce2",
   "metadata": {},
   "outputs": [],
   "source": [
    "def fun(n):\n",
    "    if (n > 100):\n",
    "        print(n - 5)\n",
    "    #print(fun(fun(n+11)))"
   ]
  },
  {
   "cell_type": "code",
   "execution_count": 2,
   "id": "69e80aaf",
   "metadata": {},
   "outputs": [],
   "source": [
    "fun(45)"
   ]
  },
  {
   "cell_type": "markdown",
   "id": "abb43a46",
   "metadata": {},
   "source": [
    "# list practice"
   ]
  },
  {
   "cell_type": "code",
   "execution_count": 3,
   "id": "c452bbbf",
   "metadata": {},
   "outputs": [
    {
     "data": {
      "text/plain": [
       "[3,\n",
       " 6,\n",
       " 9,\n",
       " 12,\n",
       " 15,\n",
       " 18,\n",
       " 21,\n",
       " 24,\n",
       " 27,\n",
       " 30,\n",
       " 33,\n",
       " 36,\n",
       " 39,\n",
       " 42,\n",
       " 45,\n",
       " 48,\n",
       " 51,\n",
       " 54,\n",
       " 57,\n",
       " 60,\n",
       " 63,\n",
       " 66,\n",
       " 69,\n",
       " 72,\n",
       " 75,\n",
       " 78,\n",
       " 81,\n",
       " 84,\n",
       " 87,\n",
       " 90,\n",
       " 93,\n",
       " 96,\n",
       " 99]"
      ]
     },
     "execution_count": 3,
     "metadata": {},
     "output_type": "execute_result"
    }
   ],
   "source": [
    "#Write a program that uses list and range to create the list [3,6, 9, . . . , 99] .\n",
    "list_table_3 = []\n",
    "i =1\n",
    "while i <= 100:\n",
    "    if i % 3 == 0:\n",
    "        list_table_3.append(i)\n",
    "    i+=1\n",
    "list_table_3"
   ]
  },
  {
   "cell_type": "code",
   "execution_count": 5,
   "id": "cef5dc87",
   "metadata": {},
   "outputs": [
    {
     "data": {
      "text/plain": [
       "'abcd'"
      ]
     },
     "execution_count": 5,
     "metadata": {},
     "output_type": "execute_result"
    }
   ],
   "source": [
    "'''Write a program to convert a list of characters into a single string.\n",
    "# Sample Input\n",
    " ['a', 'b', 'c', 'd']\n",
    "# Expected Output\n",
    " abcd\n",
    "'''\n",
    "list1 = ['a', 'b', 'c', 'd']\n",
    "lists = ''.join(list1)\n",
    "lists\n"
   ]
  },
  {
   "cell_type": "code",
   "execution_count": 10,
   "id": "52fe10f2",
   "metadata": {},
   "outputs": [
    {
     "data": {
      "text/plain": [
       "['a', 'b', 'c', 'd']"
      ]
     },
     "execution_count": 10,
     "metadata": {},
     "output_type": "execute_result"
    }
   ],
   "source": [
    "'''Write a program to read a string from the user and print the list of characters in the string.\n",
    "# Sample Input\n",
    " abcd\n",
    "# Expected Output\n",
    " ['a', 'b', 'c', 'd']\n",
    "'''\n",
    "string1 = 'abcd'\n",
    "string2 = []\n",
    "for i in string1:\n",
    "    string2.append(i)\n",
    "\n",
    "string2"
   ]
  },
  {
   "cell_type": "code",
   "execution_count": 12,
   "id": "44dbe5a6",
   "metadata": {},
   "outputs": [
    {
     "data": {
      "text/plain": [
       "['Green', 'White']"
      ]
     },
     "execution_count": 12,
     "metadata": {},
     "output_type": "execute_result"
    }
   ],
   "source": [
    "'''Write a Python program to find common items from two lists.\n",
    "# Sample Input\n",
    " color1 = [\"Red\", \"Green\", \"Orange\", \"White\"]\n",
    " color2 = [\"Black\", \"Green\", \"White\", \"Pink\"]\n",
    "# Expected Output\n",
    " ['Green', 'White']'''\n",
    "color1 = [\"Red\", \"Green\", \"Orange\", \"White\"]\n",
    "color2 = [\"Black\", \"Green\", \"White\", \"Pink\"]\n",
    "\n",
    "common = []\n",
    "for i in color1:\n",
    "    if i in color2:\n",
    "        common.append(i)\n",
    "        \n",
    "common      \n"
   ]
  },
  {
   "cell_type": "code",
   "execution_count": 13,
   "id": "6b4fe265",
   "metadata": {},
   "outputs": [
    {
     "data": {
      "text/plain": [
       "[3, 4]"
      ]
     },
     "execution_count": 13,
     "metadata": {},
     "output_type": "execute_result"
    }
   ],
   "source": [
    "'''Write a Python program to get the difference between the two lists.\n",
    "# Sample Input\n",
    " list1 = [1, 2, 3, 4]\n",
    " list2 = [1, 2]\n",
    "# Expected Output\n",
    " [3,4]\n",
    "'''\n",
    "list1 = [1, 2, 3, 4]\n",
    "list2 = [1, 2]\n",
    "unique = []\n",
    "for i in list1:\n",
    "    if i not in list2:\n",
    "        unique.append(i)\n",
    "unique\n"
   ]
  },
  {
   "cell_type": "code",
   "execution_count": 14,
   "id": "82eeeba4",
   "metadata": {},
   "outputs": [
    {
     "name": "stdout",
     "output_type": "stream",
     "text": [
      "2\n"
     ]
    }
   ],
   "source": [
    "'''Write a Python program to get the largest number from a list.\n",
    "# Sample Input\n",
    " list1 = [1, 2, -8, 0]\n",
    "# Expected Output\n",
    " 2\n",
    "'''\n",
    "list1 = [1, 2, -8, 0]\n",
    "print(max(list1))\n"
   ]
  },
  {
   "cell_type": "code",
   "execution_count": 27,
   "id": "86723648",
   "metadata": {},
   "outputs": [
    {
     "name": "stdout",
     "output_type": "stream",
     "text": [
      "-2\n"
     ]
    }
   ],
   "source": [
    "'''Write a Python program to find the second smallest number in a list.\n",
    "# Sample Input\n",
    " list1 = [1, 2, -8, -2, 0]\n",
    "# Expected Output\n",
    " -2'''\n",
    "list1 = [1, 2, -8,-2, 0]\n",
    "list1.sort()\n",
    "print(list1[1])"
   ]
  },
  {
   "cell_type": "code",
   "execution_count": 36,
   "id": "9cad2f59",
   "metadata": {},
   "outputs": [
    {
     "data": {
      "text/plain": [
       "[10, 20, 30, 50, 60, 40, 80]"
      ]
     },
     "execution_count": 36,
     "metadata": {},
     "output_type": "execute_result"
    }
   ],
   "source": [
    "'''Write a Python program to remove duplicates from a list.\n",
    "# Sample Input\n",
    " list1 = [10,20,30,20,10,50,60,40,80,50,40]\n",
    "# Expected Output\n",
    " [10, 20, 30, 50, 60, 40, 80]\n",
    "'''\n",
    "list1 = [10,20,30,20,10,50,60,40,80,50,40]\n",
    "list_new = []\n",
    "\n",
    "for i in list1:\n",
    "    if i not in list_new:\n",
    "        list_new.append(i)\n",
    "list_new"
   ]
  },
  {
   "cell_type": "code",
   "execution_count": 37,
   "id": "8bea63ac",
   "metadata": {},
   "outputs": [
    {
     "data": {
      "text/plain": [
       "-5"
      ]
     },
     "execution_count": 37,
     "metadata": {},
     "output_type": "execute_result"
    }
   ],
   "source": [
    "'''Write a Python program to sum all the items in a list.\n",
    "# Sample Input\n",
    " list1 = [1, 2, -8]\n",
    "# Expected Output\n",
    " -5'''\n",
    "list1 = [1, 2, -8]\n",
    "sum(list1)"
   ]
  },
  {
   "cell_type": "code",
   "execution_count": 39,
   "id": "da9f0dad",
   "metadata": {},
   "outputs": [
    {
     "data": {
      "text/plain": [
       "24"
      ]
     },
     "execution_count": 39,
     "metadata": {},
     "output_type": "execute_result"
    }
   ],
   "source": [
    "'''Write a Python program to multiply all the items in a list.\n",
    "# Sample Input\n",
    "\n",
    "# Expected Output\n",
    " 24'''\n",
    "list1 = [1, 2, 3, 4]\n",
    "product = 1\n",
    "\n",
    "for i in list1:\n",
    "    product*= i\n",
    "    \n",
    "product\n",
    "    "
   ]
  },
  {
   "cell_type": "code",
   "execution_count": 1,
   "id": "1b161bcf",
   "metadata": {
    "scrolled": true
   },
   "outputs": [
    {
     "data": {
      "text/plain": [
       "-10"
      ]
     },
     "execution_count": 1,
     "metadata": {},
     "output_type": "execute_result"
    }
   ],
   "source": [
    "'''Write a program to find difference between sum of even indexed and odd indexed numbers in a list of numbers.\n",
    "[Note:- Consider 0th index as even indexed]\n",
    "# Sample Input\n",
    " list1 = [2, 4, 3, 9, 13, 12, 7, 6, 1, 5]\n",
    "# Expected Output\n",
    " -10'''\n",
    "list1 = [2, 4, 3, 9, 13, 12, 7, 6, 1, 5]\n",
    "list_even = []\n",
    "list_odd = []\n",
    "for i in range (0,len(list1)):\n",
    "    if i%2 == 0:\n",
    "        list_even.append(list1[i])\n",
    "for i in range (0,len(list1)):\n",
    "    if i%2 != 0:\n",
    "        list_odd.append(list1[i])\n",
    "difference = sum(list_even) - sum(list_odd)\n",
    "difference      "
   ]
  },
  {
   "cell_type": "code",
   "execution_count": 3,
   "id": "2af88321",
   "metadata": {},
   "outputs": [
    {
     "data": {
      "text/plain": [
       "[9, 13, 12, 7]"
      ]
     },
     "execution_count": 3,
     "metadata": {},
     "output_type": "execute_result"
    }
   ],
   "source": [
    "'''Write a program to print the list of numbers which are greater than the average of numbers in the following list.\n",
    "# Sample Input\n",
    " list1 = [2, 4, 3, 9, 13, 12, 7, 6, 1, 5]\n",
    "# Expected Output\n",
    " [9, 13, 12, 7]'''\n",
    "list1 = [2, 4, 3, 9, 13, 12, 7, 6, 1, 5]\n",
    "output=[]\n",
    "avg = sum(list1)/len(list1)\n",
    "for i in list1:\n",
    "    if i > avg:\n",
    "        output.append(i)\n",
    "output\n",
    "\n"
   ]
  },
  {
   "cell_type": "code",
   "execution_count": 6,
   "id": "55bd0042",
   "metadata": {},
   "outputs": [
    {
     "data": {
      "text/plain": [
       "[9, 49, 121, 144, 289, 441]"
      ]
     },
     "execution_count": 6,
     "metadata": {},
     "output_type": "execute_result"
    }
   ],
   "source": [
    "'''Write a program to print a new list containing squares of each element in the following list.\n",
    "# Sample Input\n",
    " list1 = [3, 7, 11, 12, 17, 21]\n",
    "# Expected Output\n",
    " list2 = [9, 49, 121, 144, 289, 441]\n",
    "'''\n",
    "list1 = [3, 7, 11, 12, 17, 21]\n",
    "list2 = []\n",
    "for i in list1:\n",
    "    list2.append(i**2)\n",
    "list2"
   ]
  },
  {
   "cell_type": "code",
   "execution_count": 8,
   "id": "e75c18c1",
   "metadata": {},
   "outputs": [
    {
     "data": {
      "text/plain": [
       "2"
      ]
     },
     "execution_count": 8,
     "metadata": {},
     "output_type": "execute_result"
    }
   ],
   "source": [
    "'''Write a program to know how many times an element occurred in the list.\n",
    "# Sample Input\n",
    " list1 = [5, 10, 15, 20, 25, 50, 20]\n",
    " element = 20 # Expected Output\n",
    " 2\n",
    "'''\n",
    "list1 = [5, 10, 15, 20, 25, 50, 20]\n",
    "list1.count(20)"
   ]
  },
  {
   "cell_type": "code",
   "execution_count": 10,
   "id": "3db7fa7e",
   "metadata": {},
   "outputs": [
    {
     "data": {
      "text/plain": [
       "[5, 10, 15, 200, 20, 25, 50, 20]"
      ]
     },
     "execution_count": 10,
     "metadata": {},
     "output_type": "execute_result"
    }
   ],
   "source": [
    "'''Given a Python list, write a program to find the value 20 in the list, and if it is present, replace the first occurrence\n",
    "of a value with 200.\n",
    "# Sample Input\n",
    " list1 = [5, 10, 15, 20, 25, 50, 20]\n",
    "# Expected Output\n",
    " list1= [5, 10, 15, 200, 25, 50, 20]\n",
    "'''\n",
    "list1 = [5, 10, 15, 20, 25, 50, 20]\n",
    "j=list1.index(20)\n",
    "list1.insert(j,200)\n",
    "list1"
   ]
  },
  {
   "cell_type": "code",
   "execution_count": 14,
   "id": "1c9dc0f8",
   "metadata": {},
   "outputs": [
    {
     "data": {
      "text/plain": [
       "[91, 54, 44, 27, 79, 41, 91]"
      ]
     },
     "execution_count": 14,
     "metadata": {},
     "output_type": "execute_result"
    }
   ],
   "source": [
    "'''Given an input list, write a program to remove the element at index 4 and add it to the 2nd position and also, at the \n",
    "end of the list.\n",
    "# Sample Input\n",
    " list1= [54, 44, 27, 79, 91, 41]\n",
    "# Expected Output\n",
    " list1= [34, 54, 11, 67, 89, 43, 94, 11]\n",
    "'''\n",
    "list1= [54, 44, 27, 79, 91, 41]\n",
    "j = list1.pop(4)\n",
    "list1.insert(0,j)\n",
    "list1.append(j)\n",
    "list1"
   ]
  },
  {
   "cell_type": "code",
   "execution_count": 20,
   "id": "cb9f0331",
   "metadata": {},
   "outputs": [
    {
     "data": {
      "text/plain": [
       "[6, 12, 18, 4, 12, 20, 28]"
      ]
     },
     "execution_count": 20,
     "metadata": {},
     "output_type": "execute_result"
    }
   ],
   "source": [
    "'''Two lists are given below. Write a program to create a third list by picking an odd-index element from the first list\n",
    "and even index elements from second.\n",
    "# Sample Input\n",
    " list1 = [3, 6, 9, 12, 15, 18, 21]\n",
    " list2 = [4, 8, 12, 16, 20, 24, 28]\n",
    "# Expected Output\n",
    " list3 = [6, 12, 18, 4, 12, 20, 28]'''\n",
    "list1 = [3, 6, 9, 12, 15, 18, 21]\n",
    "list2 = [4, 8, 12, 16, 20, 24, 28]\n",
    "list3 = []\n",
    "for i in range(len(list1)):\n",
    "    if i%2 != 0:\n",
    "        list3.append(list1[i])\n",
    "for i in range(len(list2)):\n",
    "    if i%2 == 0:\n",
    "        list3.append(list2[i])\n",
    "list3"
   ]
  },
  {
   "cell_type": "code",
   "execution_count": 33,
   "id": "28e2cba2",
   "metadata": {},
   "outputs": [
    {
     "data": {
      "text/plain": [
       "[10, 20, [300, 400, [5000, 6000, 7000], 500], 30, 40]"
      ]
     },
     "execution_count": 33,
     "metadata": {},
     "output_type": "execute_result"
    }
   ],
   "source": [
    "'''Write a program to add 7000 after 6000 in the following list.\n",
    "# Sample Input\n",
    " list1 = [10, 20, [300, 400, [5000, 6000], 500], 30, 40]\n",
    "# Expected Output\n",
    " list1 = [10, 20, [300, 400, [5000, 6000, 7000], 500], 30, 40]\n",
    "'''\n",
    "i=7000\n",
    "list1 = [10, 20, [300, 400, [5000, 6000], 500], 30, 40]\n",
    "list1[2][2].insert(2,7000)\n",
    "list1\n"
   ]
  },
  {
   "cell_type": "code",
   "execution_count": 39,
   "id": "0336db8c",
   "metadata": {},
   "outputs": [
    {
     "data": {
      "text/plain": [
       "True"
      ]
     },
     "execution_count": 39,
     "metadata": {},
     "output_type": "execute_result"
    }
   ],
   "source": [
    "x = []\n",
    "all(x)"
   ]
  },
  {
   "cell_type": "code",
   "execution_count": 45,
   "id": "f9cde4f7",
   "metadata": {},
   "outputs": [
    {
     "data": {
      "text/plain": [
       "5.830951894845301"
      ]
     },
     "execution_count": 45,
     "metadata": {},
     "output_type": "execute_result"
    }
   ],
   "source": [
    "n=15\n",
    "\n",
    "abs(n)\n",
    "x=abs(3+5j)\n",
    "\n",
    "x"
   ]
  },
  {
   "cell_type": "code",
   "execution_count": 54,
   "id": "52d9d3c2",
   "metadata": {},
   "outputs": [
    {
     "name": "stdout",
     "output_type": "stream",
     "text": [
      "'my name is gayathri'\n"
     ]
    }
   ],
   "source": [
    "x = '''my name is gayathri'''\n",
    "print(ascii(x))\n"
   ]
  },
  {
   "cell_type": "code",
   "execution_count": 63,
   "id": "d1aa5595",
   "metadata": {},
   "outputs": [
    {
     "ename": "NameError",
     "evalue": "name 'upper' is not defined",
     "output_type": "error",
     "traceback": [
      "\u001b[1;31m---------------------------------------------------------------------------\u001b[0m",
      "\u001b[1;31mNameError\u001b[0m                                 Traceback (most recent call last)",
      "\u001b[1;32m~\\AppData\\Local\\Temp\\ipykernel_17840\\2824371262.py\u001b[0m in \u001b[0;36m<module>\u001b[1;34m\u001b[0m\n\u001b[1;32m----> 1\u001b[1;33m \u001b[0mx\u001b[0m \u001b[1;33m=\u001b[0m \u001b[0mformat\u001b[0m\u001b[1;33m(\u001b[0m\u001b[1;34m'g'\u001b[0m\u001b[1;33m,\u001b[0m\u001b[0mupper\u001b[0m\u001b[1;33m(\u001b[0m\u001b[1;33m)\u001b[0m\u001b[1;33m)\u001b[0m\u001b[1;33m\u001b[0m\u001b[1;33m\u001b[0m\u001b[0m\n\u001b[0m",
      "\u001b[1;31mNameError\u001b[0m: name 'upper' is not defined"
     ]
    }
   ],
   "source": [
    "x = format('g',upper())"
   ]
  },
  {
   "cell_type": "code",
   "execution_count": 55,
   "id": "44b0ed1e",
   "metadata": {},
   "outputs": [
    {
     "name": "stdout",
     "output_type": "stream",
     "text": [
      "ascii on Python set: {'\\u0160', 'T', 'E'}\n",
      "ascii on Python list: ['\\u0147', '\\u0115', '\\u0174']\n",
      "ascii on Python tuple: ('\\u0122', '\\xd5', '\\xd5', 'D')\n"
     ]
    }
   ],
   "source": [
    "# Python ascii() on Set\n",
    "test_set = {\"Š\", \"E\", \"T\"}\n",
    "print(\"ascii on Python set:\", ascii(test_set))\n",
    " \n",
    "# Python ascii() on List\n",
    "test_list = [\"Ň\", \"ĕ\", \"Ŵ\"]\n",
    "print(\"ascii on Python list:\", ascii(test_list))\n",
    " \n",
    "# Python ascii() on Tuple\n",
    "test_tuple = (\"Ģ\", \"Õ\", \"Õ\", \"D\")\n",
    "print(\"ascii on Python tuple:\", ascii(test_tuple))"
   ]
  },
  {
   "cell_type": "code",
   "execution_count": 6,
   "id": "ebeac01c",
   "metadata": {},
   "outputs": [
    {
     "name": "stdout",
     "output_type": "stream",
     "text": [
      "1\n",
      "3\n",
      "6\n",
      "10\n",
      "15\n",
      "21\n"
     ]
    },
    {
     "data": {
      "text/plain": [
       "21"
      ]
     },
     "execution_count": 6,
     "metadata": {},
     "output_type": "execute_result"
    }
   ],
   "source": [
    "def tri_recursion(k):\n",
    "    if k>0:\n",
    "        result = k + tri_recursion(k-1)\n",
    "        print(result)\n",
    "    else:\n",
    "        result=0\n",
    "    return(result)\n",
    "tri_recursion(6)"
   ]
  },
  {
   "cell_type": "code",
   "execution_count": 3,
   "id": "6fee72b6",
   "metadata": {},
   "outputs": [
    {
     "name": "stdout",
     "output_type": "stream",
     "text": [
      "100\n"
     ]
    }
   ],
   "source": [
    "def fun(n):\n",
    "    if (n > 100):\n",
    "        return n - 5\n",
    "    return fun(fun(n+11))\n",
    "\n",
    "print(fun(45))"
   ]
  },
  {
   "cell_type": "code",
   "execution_count": 10,
   "id": "d7ac2539",
   "metadata": {},
   "outputs": [
    {
     "name": "stdout",
     "output_type": "stream",
     "text": [
      "(1, 2, 3, 4, 5, 6, 7, 8, 11)\n"
     ]
    },
    {
     "data": {
      "text/plain": [
       "(1, 2, 3, 4, 10, 5, 6, 7, 8)"
      ]
     },
     "execution_count": 10,
     "metadata": {},
     "output_type": "execute_result"
    }
   ],
   "source": [
    "'''Write a program to insert a new element into tuple of elements at a specified position.'''\n",
    "tuple1 = (1,2,3,4,5,6,7,8)\n",
    "t = tuple1 + (11,) # to add at last you concatenate a tuple\n",
    "print(t)\n",
    "# to insert in betweeon at any specified position\n",
    "tuple1= list(tuple1)\n",
    "tuple1.insert(4,10)\n",
    "tuple1 = tuple(tuple1)\n",
    "tuple1\n",
    "\n"
   ]
  },
  {
   "cell_type": "code",
   "execution_count": 15,
   "id": "c8254acb",
   "metadata": {},
   "outputs": [
    {
     "name": "stdout",
     "output_type": "stream",
     "text": [
      "no.of odd number - 5\n",
      "no.of even number - 4\n"
     ]
    }
   ],
   "source": [
    "'''Write a program to count the number of even and odd numbers from a tuple of numbers.\n",
    "# Input\n",
    "tuple1 = (1, 2, 3, 4, 5, 6, 7, 8, 9)\n",
    "# Expected Output:\n",
    "Number of even numbers: 5\n",
    "Number of odd numbers: 4\n",
    "'''\n",
    "tuple1 = (1, 2, 3, 4, 5, 6, 7, 8, 9)\n",
    "count_even = 0\n",
    "count_odd = 0\n",
    "for i in tuple1:\n",
    "    if i %2 == 0:\n",
    "        count_even +=1\n",
    "\n",
    "    if i%2 != 0:\n",
    "        count_odd +=1\n",
    "print(f'no.of odd number - {count_odd}')\n",
    "print(f'no.of even number - {count_even}')        \n",
    "        "
   ]
  },
  {
   "cell_type": "code",
   "execution_count": 16,
   "id": "b8118db5",
   "metadata": {},
   "outputs": [
    {
     "data": {
      "text/plain": [
       "(1, 2, 9, 4, 5, 6)"
      ]
     },
     "execution_count": 16,
     "metadata": {},
     "output_type": "execute_result"
    }
   ],
   "source": [
    "'''Write a program to modify or replace an existing element of a tuple with a new element.\n",
    "'''\n",
    "t2 = (1,2,3,4,5,6)\n",
    "t2 = list(t2)\n",
    "t2[2] = 9\n",
    "t2 = tuple(t2)\n",
    "t2"
   ]
  },
  {
   "cell_type": "code",
   "execution_count": 21,
   "id": "a144e84c",
   "metadata": {},
   "outputs": [
    {
     "data": {
      "text/plain": [
       "{3, 6, 7, 10}"
      ]
     },
     "execution_count": 21,
     "metadata": {},
     "output_type": "execute_result"
    }
   ],
   "source": [
    "'''Write a program to find Dissimilar Elements in Tuples.\n",
    "# Input\n",
    "tuple 1 = (3, 4, 5, 6)\n",
    "tuple 2 = (5, 7, 4, 10)\n",
    "# Expected Output\n",
    "Dissimilar elements = (3, 6, 7, 10)\n",
    "'''\n",
    "tuple1 = (3, 4, 5, 6)\n",
    "tuple2 = (5, 7, 4, 10)\n",
    "tuple1 = set(tuple1)\n",
    "tuple2 = set(tuple2)\n",
    "difference = tuple1.symmetric_difference(tuple2)\n",
    "difference"
   ]
  },
  {
   "cell_type": "code",
   "execution_count": 32,
   "id": "9ecb9ffe",
   "metadata": {},
   "outputs": [
    {
     "data": {
      "text/plain": [
       "(12, 9, 23)"
      ]
     },
     "execution_count": 32,
     "metadata": {},
     "output_type": "execute_result"
    }
   ],
   "source": [
    "'''Write a program for addition of tuples.\n",
    "# Input\n",
    "tuple1 = (10, 4, 5)\n",
    "tuple2 = (2, 5, 18)\n",
    "# Expected Output\n",
    "new_tuple = (12, 9, 23)\n",
    "'''\n",
    "tuple1 = (10, 4, 5)\n",
    "tuple2 = (2, 5, 18)\n",
    "new_tuple = []\n",
    "for i in range(len(tuple1)):\n",
    "    k=tuple1[i]+tuple2[i]\n",
    "    new_tuple.append(k)\n",
    "new_tuple = tuple(new_tuple)\n",
    "new_tuple  "
   ]
  },
  {
   "cell_type": "code",
   "execution_count": 33,
   "id": "d0098e30",
   "metadata": {},
   "outputs": [
    {
     "data": {
      "text/plain": [
       "{2, 9, 12, 23, 25, 45}"
      ]
     },
     "execution_count": 33,
     "metadata": {},
     "output_type": "execute_result"
    }
   ],
   "source": [
    "'''Write a program to remove duplicates from tuple.'''\n",
    "tuple3 = (12, 9, 23,45,2,2,12,25,45)\n",
    "tuple3 = set(tuple3)\n",
    "tuple3\n",
    "#we can also convert into list and print only unique elements\n"
   ]
  },
  {
   "cell_type": "code",
   "execution_count": 51,
   "id": "845ac06a",
   "metadata": {},
   "outputs": [
    {
     "ename": "TypeError",
     "evalue": "sorted expected 1 argument, got 2",
     "output_type": "error",
     "traceback": [
      "\u001b[1;31m---------------------------------------------------------------------------\u001b[0m",
      "\u001b[1;31mTypeError\u001b[0m                                 Traceback (most recent call last)",
      "\u001b[1;32m~\\AppData\\Local\\Temp\\ipykernel_5996\\1890778176.py\u001b[0m in \u001b[0;36m<module>\u001b[1;34m\u001b[0m\n\u001b[0;32m      6\u001b[0m data = [(1234, 'Abishek' , 32, 35000), (4532, 'Barathi', 27, 29000), (3455, 'Charan', 31, 37000), (9863, 'Devi', 42, 52000),\n\u001b[0;32m      7\u001b[0m         (4852, 'Eswar', 37, 56000), (6481, 'Fathima', 40, 65000), (2793, 'Ganesh', 28, 45000)]\n\u001b[1;32m----> 8\u001b[1;33m \u001b[0msorted\u001b[0m\u001b[1;33m(\u001b[0m\u001b[0mdata\u001b[0m\u001b[1;33m,\u001b[0m\u001b[1;32mlambda\u001b[0m \u001b[0ma\u001b[0m \u001b[1;33m:\u001b[0m \u001b[0ma\u001b[0m\u001b[1;33m[\u001b[0m\u001b[1;36m2\u001b[0m\u001b[1;33m]\u001b[0m\u001b[1;33m,\u001b[0m\u001b[0mreverse\u001b[0m \u001b[1;33m=\u001b[0m \u001b[1;32mTrue\u001b[0m\u001b[1;33m)\u001b[0m\u001b[1;33m\u001b[0m\u001b[1;33m\u001b[0m\u001b[0m\n\u001b[0m\u001b[0;32m      9\u001b[0m \u001b[0mdata\u001b[0m\u001b[1;33m.\u001b[0m\u001b[0msort\u001b[0m\u001b[1;33m(\u001b[0m\u001b[0mkey\u001b[0m \u001b[1;33m=\u001b[0m \u001b[1;32mlambda\u001b[0m \u001b[0ma\u001b[0m \u001b[1;33m:\u001b[0m \u001b[0ma\u001b[0m\u001b[1;33m[\u001b[0m\u001b[1;36m2\u001b[0m\u001b[1;33m]\u001b[0m\u001b[1;33m)\u001b[0m\u001b[1;33m\u001b[0m\u001b[1;33m\u001b[0m\u001b[0m\n\u001b[0;32m     10\u001b[0m \u001b[0mdata\u001b[0m\u001b[1;33m\u001b[0m\u001b[1;33m\u001b[0m\u001b[0m\n",
      "\u001b[1;31mTypeError\u001b[0m: sorted expected 1 argument, got 2"
     ]
    }
   ],
   "source": [
    "'''Write a program to sort the following employ data (list of tuples) as per their salaries (each tuple represents employ ID,\n",
    "name, age and salary)?\n",
    "data = [(1234, 'Abishek' , 32, 35000), (4532, 'Barathi', 27, 29000), (3455, 'Charan', 31, 37000), (9863, 'Devi', 42, 52000),\n",
    "        (4852, 'Eswar', 37, 56000), (6481, 'Fathima', 40, 65000), (2793, 'Ganesh', 28, 45000)]\n",
    "'''\n",
    "data = [(1234, 'Abishek' , 32, 35000), (4532, 'Barathi', 27, 29000), (3455, 'Charan', 31, 37000), (9863, 'Devi', 42, 52000),\n",
    "        (4852, 'Eswar', 37, 56000), (6481, 'Fathima', 40, 65000), (2793, 'Ganesh', 28, 45000)]\n",
    "sorted(data,key = lambda a : a[2],reverse = True)\n",
    "data.sort(key = lambda a : a[2])\n",
    "data"
   ]
  },
  {
   "cell_type": "code",
   "execution_count": 56,
   "id": "974ed034",
   "metadata": {},
   "outputs": [
    {
     "name": "stdout",
     "output_type": "stream",
     "text": [
      "3\n"
     ]
    }
   ],
   "source": [
    "'''Write a program to count the number of students has computers a one subject from the data given below.'''\n",
    "students = [ (\"John\", [\"Computers\", \"Physics\", 'Maths']), \n",
    "            (\"Wasim\", [\"Maths\", \"Computers\", \"Statistics\"]), \n",
    "            (\"Naresh\", [\"Computers\", \"Accounting\", \"Economics\"]),\n",
    "            (\"SaiTeja\", [\"English\", \"Accounting\", \"Economics\", \"Law\"]), \n",
    "            (\"Sravani\", [\"Sociology\", \"Economics\", \"Law\", \"Stats\", \"Music\"])]\n",
    "count = 0\n",
    "for i in students:\n",
    "    if 'Computers' in i[1]:\n",
    "        count += 1\n",
    "print(count)\n",
    "        \n",
    "    "
   ]
  },
  {
   "cell_type": "markdown",
   "id": "26002ebf",
   "metadata": {},
   "source": [
    "# set practice"
   ]
  },
  {
   "cell_type": "code",
   "execution_count": 6,
   "id": "6a759e5e",
   "metadata": {},
   "outputs": [
    {
     "data": {
      "text/plain": [
       "{1, 2, 3, 'cat'}"
      ]
     },
     "execution_count": 6,
     "metadata": {},
     "output_type": "execute_result"
    }
   ],
   "source": [
    "# Write a program to create the set {'cat', 1, 2, 3}.\n",
    "\n",
    "a = {'cat',1,2,3}\n",
    "a"
   ]
  },
  {
   "cell_type": "code",
   "execution_count": 7,
   "id": "a4a38a1c",
   "metadata": {},
   "outputs": [
    {
     "data": {
      "text/plain": [
       "6"
      ]
     },
     "execution_count": 7,
     "metadata": {},
     "output_type": "execute_result"
    }
   ],
   "source": [
    "# Write a program to find the length of a set {'c', 'a', 't', '1', '2', '3'}.\n",
    "a = {'c', 'a', 't', '1', '2', '3'}\n",
    "len(a)"
   ]
  },
  {
   "cell_type": "code",
   "execution_count": 16,
   "id": "099e5714",
   "metadata": {},
   "outputs": [
    {
     "data": {
      "text/plain": [
       "{'Blue', 'Green', 'Yellow'}"
      ]
     },
     "execution_count": 16,
     "metadata": {},
     "output_type": "execute_result"
    }
   ],
   "source": [
    "'''Write a program to add member(s) in a set.\n",
    "# Input\n",
    "set1 = {'Blue'}\n",
    "set2 = {'Green', 'Yellow'}\n",
    "# Expected Output\n",
    "{'Blue', 'Green', 'Yellow'}\n",
    "'''\n",
    "set1 = {'Blue'}\n",
    "set2 = {'Green', 'Yellow'}\n",
    "set3 = set2.union(set1)\n",
    "set3"
   ]
  },
  {
   "cell_type": "code",
   "execution_count": 21,
   "id": "609c266f",
   "metadata": {},
   "outputs": [
    {
     "data": {
      "text/plain": [
       "{0, 1, 2, 3, 5}"
      ]
     },
     "execution_count": 21,
     "metadata": {},
     "output_type": "execute_result"
    }
   ],
   "source": [
    "'''Write a program to remove an item from a set if it is present in the set.\n",
    "# Input\n",
    "set1 = {0, 1, 2, 3, 4, 5}\n",
    "discard_value = 4\n",
    "# Expected Output\n",
    "{0, 1, 2, 3, 5}\n",
    "'''\n",
    "set1 = {0, 1, 2, 3, 4, 5}\n",
    "set1.remove(4)\n",
    "set1"
   ]
  },
  {
   "cell_type": "code",
   "execution_count": 24,
   "id": "1b918b21",
   "metadata": {},
   "outputs": [
    {
     "name": "stdout",
     "output_type": "stream",
     "text": [
      "20\n",
      "2\n"
     ]
    }
   ],
   "source": [
    "'''Write a program to find maximum and the minimum value in a set.\n",
    "# Input\n",
    "set1 = {5, 10, 3, 15, 2, 20}\n",
    "# Expected Output\n",
    "max = 20\n",
    "min = 2'''\n",
    "set1 = {5, 10, 3, 15, 2, 20}\n",
    "print(max(set1))\n",
    "print(min(set1))"
   ]
  },
  {
   "cell_type": "code",
   "execution_count": 25,
   "id": "ef9f7860",
   "metadata": {},
   "outputs": [
    {
     "data": {
      "text/plain": [
       "{1, 2, 3, 4, 7, 8, 9}"
      ]
     },
     "execution_count": 25,
     "metadata": {},
     "output_type": "execute_result"
    }
   ],
   "source": [
    "'''Write a program to remove all duplicates from a list using sets.\n",
    "# Input\n",
    "[2, 3, 4, 2, 7, 3, 4, 8, 9, 1, 2, 3]\n",
    "# Expected output\n",
    "{1, 2, 3, 4, 7, 8, 9}\n",
    "'''\n",
    "a = [2, 3, 4, 2, 7, 3, 4, 8, 9, 1, 2, 3]\n",
    "set(a)"
   ]
  },
  {
   "cell_type": "code",
   "execution_count": 8,
   "id": "1139f43f",
   "metadata": {},
   "outputs": [
    {
     "name": "stdout",
     "output_type": "stream",
     "text": [
      "[1, 2, 2, 2, 3, 3, 3, 4, 4, 7, 8, 9]\n",
      "[2, 3, 4, 2, 7, 3, 4, 8, 9, 1, 2, 3]\n"
     ]
    }
   ],
   "source": [
    "a = [2, 3, 4, 2, 7, 3, 4, 8, 9, 1, 2, 3]\n",
    "#a.sort()\n",
    "#print(a)\n",
    "print(sorted(a))\n",
    "print(a)"
   ]
  },
  {
   "cell_type": "code",
   "execution_count": 12,
   "id": "553838cc",
   "metadata": {},
   "outputs": [
    {
     "name": "stdout",
     "output_type": "stream",
     "text": [
      "None\n",
      "[1, 2, 2, 2, 3, 3, 3, 4, 4, 7, 8, 9]\n"
     ]
    }
   ],
   "source": [
    "b = [2, 3, 4, 2, 7, 3, 4, 8, 9, 1, 2, 3]\n",
    "b1 = b.sort()\n",
    "print(b1)\n",
    "print(b)"
   ]
  },
  {
   "cell_type": "code",
   "execution_count": 5,
   "id": "f61e7c71",
   "metadata": {},
   "outputs": [
    {
     "data": {
      "text/plain": [
       "{frozenset({1, 2, 3, 'cat'})}"
      ]
     },
     "execution_count": 5,
     "metadata": {},
     "output_type": "execute_result"
    }
   ],
   "source": [
    "'''Write a program to create a set containing the frozenset fs, it should look like {frozenset({'cat', 2, 3, 1})}.'''\n",
    "fs = frozenset(['cat',2,3,1])\n",
    "s = {fs}\n",
    "s"
   ]
  },
  {
   "cell_type": "markdown",
   "id": "f0313257",
   "metadata": {},
   "source": [
    "# dict practice python guru"
   ]
  },
  {
   "cell_type": "code",
   "execution_count": 5,
   "id": "fac8a972",
   "metadata": {},
   "outputs": [
    {
     "name": "stdout",
     "output_type": "stream",
     "text": [
      "[('aparna', 34), ('gayathri', 24), ('kokila', 44)]\n"
     ]
    }
   ],
   "source": [
    "'''Write a program to prompt the user to give name and marks of 5 different students, store them in dictionary and print it\n",
    "after sorting the dictionary with respect to their marks.\n",
    "'''\n",
    "d = {'gayathri': 24 , 'aparna' : 34 , 'kokila' : 44}\n",
    "print(sorted(d.items(), key=lambda x:x[0])) "
   ]
  },
  {
   "cell_type": "code",
   "execution_count": 18,
   "id": "252003ae",
   "metadata": {},
   "outputs": [
    {
     "name": "stdout",
     "output_type": "stream",
     "text": [
      "31\n",
      "[' April ', ' August ', ' December ', ' February ', ' January ', ' July ', ' June ', ' March ', ' May ', ' November ', ' October ', ' September ']\n",
      " January \n",
      " March \n",
      " May \n",
      " July \n",
      " August \n",
      " October \n",
      " December \n"
     ]
    }
   ],
   "source": [
    "'''Use the dictionary given below whose keys are month names and whose values are the number of days in the corresponding\n",
    "months.\n",
    "(a) Ask the user to enter a month name and use the dictionary to tell them how many days are in the month.\n",
    "(b) Print out all of the keys in alphabetical order.\n",
    "(c) Print out all of the months with 31 days.\n",
    "days = { ' January ' : 31, ' February ' : 28, ' March ' : 31, ' April ' : 30,\n",
    " ' May ' : 31, ' June ' : 30, ' July ' : 31, ' August ' : 31,\n",
    " ' September ' : 30, ' October ' : 31, ' November ' : 30, ' December ' : 31}'''\n",
    "\n",
    "days = { ' January ' : 31, ' February ' : 28, ' March ' : 31, ' April ' : 30,' May ' : 31, ' June ' : 30, ' July ' : 31, ' August ' : 31,' September ' : 30, ' October ' : 31, ' November ' : 30, ' December ' : 31}\n",
    "\n",
    "\n",
    "print(days[' January '])\n",
    "print(sorted(days.keys()))\n",
    "for month,day in days.items():\n",
    "    if day == 31:\n",
    "        print(month)\n"
   ]
  },
  {
   "cell_type": "code",
   "execution_count": 54,
   "id": "2d0da42f",
   "metadata": {},
   "outputs": [
    {
     "name": "stdout",
     "output_type": "stream",
     "text": [
      "Counter({'g': 2, 'o': 2, 'l': 1, 'e': 1})\n"
     ]
    }
   ],
   "source": [
    "'''Write a program to count the number of characters (character frequency) in a string.\n",
    "# Sample Input\n",
    " 'google'\n",
    "# Expected Output\n",
    " {'g': 2, 'o': 2, 'l': 1, 'e': 1}'''\n",
    "sample = 'google'\n",
    "from collections import Counter\n",
    "ds = Counter(sample)\n",
    "print(ds)\n"
   ]
  },
  {
   "cell_type": "code",
   "execution_count": 29,
   "id": "2d140f92",
   "metadata": {},
   "outputs": [
    {
     "name": "stdout",
     "output_type": "stream",
     "text": [
      "{'g': 2, 'o': 2, 'l': 1, 'e': 1}\n"
     ]
    }
   ],
   "source": [
    "sample = 'google'\n",
    "ds = {}\n",
    "#count = 0\n",
    "for i in sample:\n",
    "    if i not in ds:\n",
    "        ds[i] = 1\n",
    "    else:\n",
    "        ds[i]+=1  \n",
    "print(ds)\n",
    "        "
   ]
  },
  {
   "cell_type": "code",
   "execution_count": 27,
   "id": "e66c98e6",
   "metadata": {},
   "outputs": [
    {
     "data": {
      "text/plain": [
       "5"
      ]
     },
     "execution_count": 27,
     "metadata": {},
     "output_type": "execute_result"
    }
   ],
   "source": [
    "ds['g'] += 1\n",
    "ds['g']"
   ]
  },
  {
   "cell_type": "code",
   "execution_count": 3,
   "id": "55b9a5fa",
   "metadata": {},
   "outputs": [
    {
     "name": "stdout",
     "output_type": "stream",
     "text": [
      "{'a': 3, 'p': 1, 'r': 1, 'n': 1}\n"
     ]
    }
   ],
   "source": [
    "sample = 'aparna'\n",
    "ds = {}\n",
    "for i in sample:\n",
    "    if i not in ds:\n",
    "        ds[i] = sample.count(i)\n",
    "    else:\n",
    "        pass\n",
    "    \n",
    "print(ds)\n",
    "        "
   ]
  },
  {
   "cell_type": "code",
   "execution_count": 19,
   "id": "fa31de28",
   "metadata": {},
   "outputs": [
    {
     "data": {
      "text/plain": [
       "2"
      ]
     },
     "execution_count": 19,
     "metadata": {},
     "output_type": "execute_result"
    }
   ],
   "source": [
    "x = 'google'\n",
    "x.count('o')"
   ]
  },
  {
   "cell_type": "code",
   "execution_count": 66,
   "id": "c0d6c7ab",
   "metadata": {},
   "outputs": [
    {
     "name": "stdout",
     "output_type": "stream",
     "text": [
      "Counter({'I': 4, 'S': 4, 'P': 2, 'M': 1})\n"
     ]
    }
   ],
   "source": [
    "'''Write a program to count the number of occurrences of each letter in word \"MISSISSIPPI\". Store count of every letter \n",
    "with the letter in a dictionary and print the sorted dictionary according to the count of letters.\n",
    "'''\n",
    "sample = \"MISSISSIPPI\"\n",
    "from collections import Counter\n",
    "ds = Counter(sample)\n",
    "print(ds)"
   ]
  },
  {
   "cell_type": "code",
   "execution_count": 6,
   "id": "bf49bb20",
   "metadata": {},
   "outputs": [
    {
     "name": "stdout",
     "output_type": "stream",
     "text": [
      "Counter({'three': 4, 'these': 4, 'trees': 3, 'fleas': 3, 'made': 3, 'cheese': 2, 'free': 2, 'breeze': 2, 'Through': 1, 'flew.While': 1, 'flew,': 1, 'freezy': 1, 'blew.Freezy': 1, 'freeze.Freezy': 1, \"trees'\": 1, \"freeze.That's\": 1, 'what': 1, 'sneeze': 1})\n",
      "Counter({'e': 65, ' ': 32, 'r': 18, 'h': 15, 's': 15, 't': 14, 'f': 10, 'a': 8, 'z': 8, 'l': 7, 'w': 4, '.': 4, 'y': 3, 'b': 3, 'm': 3, 'd': 3, 'T': 2, 'c': 2, 'F': 2, \"'\": 2, 'o': 1, 'u': 1, 'g': 1, 'W': 1, 'i': 1, ',': 1, 'n': 1})\n"
     ]
    }
   ],
   "source": [
    "'''Write a program to count the occurrences of each word in the text given below.\n",
    " \"\"\"Through three cheese trees three free fleas flew.\n",
    " While these fleas flew, freezy breeze blew.\n",
    " Freezy breeze made these three trees freeze.\n",
    " Freezy trees made these trees' cheese freeze.\n",
    " That's what made these three free fleas sneeze.\"\"\"'''\n",
    "sample1 = \"Through three cheese trees three free fleas flew.While these fleas flew, freezy breeze blew.Freezy breeze made these three trees freeze.Freezy trees made these trees' cheese freeze.That's what made these three free fleas sneeze\"\n",
    " \n",
    "from collections import Counter\n",
    "ds = Counter(sample1.split(' '))\n",
    "ds1 = Counter(sample1)\n",
    "print(ds)\n",
    "print(ds1)\n"
   ]
  },
  {
   "cell_type": "code",
   "execution_count": 110,
   "id": "9f8af872",
   "metadata": {},
   "outputs": [
    {
     "name": "stdout",
     "output_type": "stream",
     "text": [
      "{10: 4, 20: 4, 40: 2, 50: 2, 30: 1}\n"
     ]
    }
   ],
   "source": [
    "'''Write a program to get the frequency of the elements in a list.\n",
    "# Sample Input\n",
    " [10, 10, 10, 10, 20, 20, 20, 20, 40, 40, 50, 50, 30]\n",
    "# Expected Output\n",
    " {10 : 4, 20 : 4, 40 : 2, 50 : 2, 30 : 1}\n",
    "'''\n",
    "list1 = [10, 10, 10, 10, 20, 20, 20, 20, 40, 40, 50, 50, 30]\n",
    "from collections import Counter\n",
    "ds = Counter(list1)\n",
    "print(dict(ds) ) \n",
    "\n"
   ]
  },
  {
   "cell_type": "code",
   "execution_count": 88,
   "id": "bccfb515",
   "metadata": {},
   "outputs": [
    {
     "data": {
      "text/plain": [
       "{1: 10, 2: 20, 3: 30, 4: 40, 5: 50, 6: 60}"
      ]
     },
     "execution_count": 88,
     "metadata": {},
     "output_type": "execute_result"
    }
   ],
   "source": [
    "'''Write a program to concatenate following dictionaries to create a new one.\n",
    "# Sample Input\n",
    " dic1 = {1 : 10, 2 : 20}\n",
    " dic2 = {3 : 30, 4 : 40}\n",
    " dic3 = {5 : 50, 6 : 60}\n",
    "# Expected Output\n",
    " {1 : 10, 2 : 20, 3 : 30, 4 : 40, 5 : 50, 6 : 60}\n",
    "'''\n",
    "d1 = {1 : 10, 2 : 20}\n",
    "d2 = {3 : 30, 4 : 40}\n",
    "d3 = {5 : 50, 6 : 60}\n",
    "dic_new = {**d1,**d2,**d3}\n",
    "dic_new"
   ]
  },
  {
   "cell_type": "code",
   "execution_count": 16,
   "id": "05e39da3",
   "metadata": {
    "scrolled": true
   },
   "outputs": [
    {
     "data": {
      "text/plain": [
       "{1: 1,\n",
       " 2: 4,\n",
       " 3: 9,\n",
       " 4: 16,\n",
       " 5: 25,\n",
       " 6: 36,\n",
       " 7: 49,\n",
       " 8: 64,\n",
       " 9: 81,\n",
       " 10: 100,\n",
       " 11: 121,\n",
       " 12: 144,\n",
       " 13: 169,\n",
       " 14: 196}"
      ]
     },
     "execution_count": 16,
     "metadata": {},
     "output_type": "execute_result"
    }
   ],
   "source": [
    "'''Write a program to print a dictionary where the keys are numbers between 1 and 15 (both included) and the values are\n",
    "square of keys.\n",
    "# Expected Output\n",
    " {1 : 1, 2 : 4, 3 : 9, 4 : 16, 5 : 25, 6: 36, 7: 49, 8: 64, 9: 81, 10: 100, 11: 121, 12: 144, 13: 169, 14: 196, 15: 225}\n",
    "'''\n",
    "ds = {}\n",
    "for i in range(1,15):\n",
    "     ds[i] = i*i      \n",
    "\n",
    "ds"
   ]
  },
  {
   "cell_type": "code",
   "execution_count": 9,
   "id": "6e09dd60",
   "metadata": {
    "scrolled": true
   },
   "outputs": [
    {
     "data": {
      "text/plain": [
       "{1: 1,\n",
       " 2: 4,\n",
       " 3: 9,\n",
       " 4: 16,\n",
       " 5: 25,\n",
       " 6: 36,\n",
       " 7: 49,\n",
       " 8: 64,\n",
       " 9: 81,\n",
       " 10: 100,\n",
       " 11: 121,\n",
       " 12: 144,\n",
       " 13: 169,\n",
       " 14: 196,\n",
       " 15: 225}"
      ]
     },
     "execution_count": 9,
     "metadata": {},
     "output_type": "execute_result"
    }
   ],
   "source": [
    "ds = dict(zip(list(range(1,16)), [i**2 for i in range(1,16)]))\n",
    "ds"
   ]
  },
  {
   "cell_type": "code",
   "execution_count": 17,
   "id": "3cb5bd4d",
   "metadata": {},
   "outputs": [
    {
     "data": {
      "text/plain": [
       "{1: 1,\n",
       " 2: 4,\n",
       " 3: 9,\n",
       " 4: 16,\n",
       " 5: 25,\n",
       " 6: 36,\n",
       " 7: 49,\n",
       " 8: 64,\n",
       " 9: 81,\n",
       " 10: 100,\n",
       " 11: 121,\n",
       " 12: 144,\n",
       " 13: 169,\n",
       " 14: 196,\n",
       " 15: 225}"
      ]
     },
     "execution_count": 17,
     "metadata": {},
     "output_type": "execute_result"
    }
   ],
   "source": [
    "ds = {}\n",
    "input1 = list(range(1,16))\n",
    "for i, j in enumerate(input1,1):\n",
    "    ds[i] = j**2\n",
    "    \n",
    "ds"
   ]
  },
  {
   "cell_type": "code",
   "execution_count": 24,
   "id": "9db4d02c",
   "metadata": {},
   "outputs": [
    {
     "data": {
      "text/plain": [
       "401"
      ]
     },
     "execution_count": 24,
     "metadata": {},
     "output_type": "execute_result"
    }
   ],
   "source": [
    "\"\"\"Write a Python program to print the sum all the values in a dictionary.\n",
    "Sample Input\n",
    " {'data1' : 100, 'data2' : 54,'data3' : 247}\n",
    "Expected Output\n",
    "401\"\"\"\n",
    "\n",
    "d1= {'data1' : 100, 'data2' : 54,'data3' : 247}\n",
    "d = sum(d1.values())\n",
    "d"
   ]
  },
  {
   "cell_type": "code",
   "execution_count": 25,
   "id": "a73c4fd4",
   "metadata": {},
   "outputs": [
    {
     "name": "stdout",
     "output_type": "stream",
     "text": [
      " Helga \n",
      " LJ \n",
      " Princess \n"
     ]
    }
   ],
   "source": [
    "'''Write a program that reads through any dictionary given below and prints the following:\n",
    "(a) All the users whose phone number ends in an 8\n",
    "(b) All the users that don’t have an email address listed'''\n",
    "d = [{ ' name ' : ' Todd ' , ' phone ' : '555-1414' , ' email ' : ' todd@mail.net ' }, \n",
    "     { ' name ' : ' Helga ' , ' phone ' : ' 555-1618' , ' email ' : ' helga@mail.net ' },\n",
    "     { ' name ' : ' Princess ' , ' phone ' : ' 555-3141' , ' email ' : '' },\n",
    "     { ' name ' : ' LJ ' , ' phone ' : ' 555-2718' , ' email ' : ' lj@mail.net ' }]\n",
    "for i in d:\n",
    "    if i[' phone '][-1] == '8':\n",
    "        print(i[' name '])\n",
    "for i in d:\n",
    "    if i[' email ']== '':\n",
    "        print(i[' name '])"
   ]
  },
  {
   "cell_type": "code",
   "execution_count": 76,
   "id": "f8a29eee",
   "metadata": {},
   "outputs": [
    {
     "name": "stdout",
     "output_type": "stream",
     "text": [
      "defaultdict(<class 'list'>, {'Apple': [30]})\n",
      "defaultdict(<class 'list'>, {'Apple': [30, 40]})\n"
     ]
    }
   ],
   "source": [
    "from collections import defaultdict\n",
    "d = defaultdict(list)\n",
    "\n",
    "d['Apple'].append(30)\n",
    "print(d)\n",
    "d['Apple'].append(40)\n",
    "print(d)"
   ]
  },
  {
   "cell_type": "code",
   "execution_count": 46,
   "id": "a7651b82",
   "metadata": {},
   "outputs": [
    {
     "name": "stdout",
     "output_type": "stream",
     "text": [
      "['0', '0', '0', 'anumapama']\n"
     ]
    }
   ],
   "source": [
    "\"\"\"convert list of lists into single list\"\"\" \n",
    "l = ['Aparna','gayathri','Kokila','anumapama']\n",
    "# def a(b):\n",
    "#     if i[0] == 'a' and i[-1] == 'a':\n",
    "#         return(i)\n",
    "    \n",
    "x =(map(lambda i : i if (i[0] == 'a' and i[-1] == 'a') else \"0\", l))\n",
    "print(list(x))\n",
    "        "
   ]
  },
  {
   "cell_type": "code",
   "execution_count": 26,
   "id": "67b12b6b",
   "metadata": {},
   "outputs": [
    {
     "data": {
      "text/plain": [
       "[None, None, None, 'anumapama']"
      ]
     },
     "execution_count": 26,
     "metadata": {},
     "output_type": "execute_result"
    }
   ],
   "source": [
    "\n",
    "l = ['Aparna','gayathri','Kokila','anumapama']\n",
    "def a(b):\n",
    "    if b[0] == 'a' and b[-1] == 'a':\n",
    "        return(b)\n",
    "x = map(a,l)\n",
    "list(x)"
   ]
  },
  {
   "cell_type": "code",
   "execution_count": 64,
   "id": "dfaa66c8",
   "metadata": {},
   "outputs": [
    {
     "name": "stdout",
     "output_type": "stream",
     "text": [
      "apaRna\n",
      "gayAthri\n",
      "kokIla\n",
      "anuMapama\n"
     ]
    }
   ],
   "source": [
    "\"\"\"print the list of word by changing 4th letter to captial letter\"\"\"l = ['Aparna','gayathri','Kokila','anumapama']\n",
    "def fourth(x):\n",
    "    for i in l:\n",
    "        i=i[0:3].lower() + i[3].upper() + i[4:].lower()\n",
    "        print(i)\n",
    "fourth(l)\n",
    "    "
   ]
  },
  {
   "cell_type": "code",
   "execution_count": null,
   "id": "f21cabf4",
   "metadata": {},
   "outputs": [],
   "source": [
    " NCR Program\n",
    "\n",
    "n = 5\n",
    "r = 2\n",
    "\n",
    "# n!\n",
    "nfact = 1\n",
    "for x in range(1, n+1):\n",
    "    nfact = nfact * x\n",
    "\n",
    "# n-r!\n",
    "nrfact = 1\n",
    "for x in range(1, n-r+1):\n",
    "    nrfact = nrfact * x\n",
    "    \n",
    "# r!    \n",
    "rfact = 1\n",
    "for x in range(1, r+1):\n",
    "    rfact = rfact * x\n",
    "    \n",
    "print ('nCr: ', nfact/(nrfact*rfact))"
   ]
  },
  {
   "cell_type": "markdown",
   "id": "5415e228",
   "metadata": {},
   "source": [
    "## function practice (python guru)"
   ]
  },
  {
   "cell_type": "markdown",
   "id": "bafce86e",
   "metadata": {},
   "source": [
    "**Write a function that takes a single argument, prints the value of the argument, and returns the argument as a string.**\n"
   ]
  },
  {
   "cell_type": "code",
   "execution_count": 10,
   "id": "7ee93a95",
   "metadata": {},
   "outputs": [
    {
     "data": {
      "text/plain": [
       "'2'"
      ]
     },
     "execution_count": 10,
     "metadata": {},
     "output_type": "execute_result"
    }
   ],
   "source": [
    "def fun(a):\n",
    "    b = str(a)\n",
    "    return b\n",
    "x = 2\n",
    "fun(x)"
   ]
  },
  {
   "cell_type": "markdown",
   "id": "99ddb461",
   "metadata": {},
   "source": [
    "**Write a function \"change_case\" that given a string, returns a string with each upper case letter replaced by a lower case letter and vice-versa.**\n"
   ]
  },
  {
   "cell_type": "code",
   "execution_count": 18,
   "id": "7376cfa1",
   "metadata": {},
   "outputs": [
    {
     "data": {
      "text/plain": [
       "'invalid input'"
      ]
     },
     "execution_count": 18,
     "metadata": {},
     "output_type": "execute_result"
    }
   ],
   "source": [
    "def change_case(x):\n",
    "    if x.islower() and x.isalpha() == True:\n",
    "        return(x.upper())\n",
    "    elif x.isupper() and x.isalpha() == True:\n",
    "        return(x.lower())\n",
    "    else:\n",
    "        return('invalid input')\n",
    "x = 'APPle'\n",
    "change_case(x)\n"
   ]
  },
  {
   "cell_type": "markdown",
   "id": "50166b5c",
   "metadata": {},
   "source": [
    "**Write a function \"remove_vowels\" that takes a single argument (string) to remove all the vowels and print it.**"
   ]
  },
  {
   "cell_type": "code",
   "execution_count": 24,
   "id": "db441ee1",
   "metadata": {},
   "outputs": [
    {
     "name": "stdout",
     "output_type": "stream",
     "text": [
      "ppl\n"
     ]
    }
   ],
   "source": [
    "def remove_vowels(x):\n",
    "    l = []\n",
    "    if x == str(x):\n",
    "        for i in x:\n",
    "            l.append(i)\n",
    "        for i in l:\n",
    "            if i in 'AEIOUaeiou':\n",
    "                l.remove(i)\n",
    "        l1 = ''.join(l)\n",
    "        print(l1)\n",
    "a = 'apple'\n",
    "remove_vowels(a)   "
   ]
  },
  {
   "cell_type": "code",
   "execution_count": 29,
   "id": "7fa7dee7",
   "metadata": {},
   "outputs": [
    {
     "name": "stdout",
     "output_type": "stream",
     "text": [
      "prn\n"
     ]
    }
   ],
   "source": [
    "def remove_vowels(x):\n",
    "    if x == str(x):\n",
    "        for i in x:\n",
    "            if i in 'AEIOUaeiou':\n",
    "                x1=x.replace(i,'')\n",
    "    print(x1)\n",
    "a= 'aparna'\n",
    "remove_vowels(a)               "
   ]
  },
  {
   "cell_type": "markdown",
   "id": "47cb186f",
   "metadata": {
    "scrolled": true
   },
   "source": [
    "**Write a function \"first_diff\" that is given two strings and returns the first location in which the strings differ. If the strings are identical, it should return -1.**"
   ]
  },
  {
   "cell_type": "code",
   "execution_count": 47,
   "id": "104f2014",
   "metadata": {},
   "outputs": [
    {
     "data": {
      "text/plain": [
       "-1"
      ]
     },
     "execution_count": 47,
     "metadata": {},
     "output_type": "execute_result"
    }
   ],
   "source": [
    "def first_diff(x,y):\n",
    "    if x == str(x) and y == str(y):\n",
    "        if x == y:\n",
    "            return(-1)\n",
    "        if x != y:\n",
    "            for i in x:\n",
    "                if i != y[x.index(i)]:\n",
    "                    return x.index(i)\n",
    "a = 'apple'; b = 'apple'                \n",
    "first_diff(a,b)                 "
   ]
  },
  {
   "cell_type": "markdown",
   "id": "2d364a21",
   "metadata": {},
   "source": [
    "**Write a function that takes a variable number of arguments and prints them all.**"
   ]
  },
  {
   "cell_type": "code",
   "execution_count": 61,
   "id": "47d85384",
   "metadata": {},
   "outputs": [
    {
     "data": {
      "text/plain": [
       "((1, 2, 3, 4, 5, 6), (1, 2, 3))"
      ]
     },
     "execution_count": 61,
     "metadata": {},
     "output_type": "execute_result"
    }
   ],
   "source": [
    "def varguments(*args):\n",
    "    return(args)\n",
    "\n",
    "varguments((1,2,3,4,5,6),(1,2,3))\n"
   ]
  },
  {
   "cell_type": "markdown",
   "id": "fca9dee8",
   "metadata": {},
   "source": [
    "**Write a function that prints the names and values of keyword arguments passed to it.**"
   ]
  },
  {
   "cell_type": "code",
   "execution_count": 57,
   "id": "418b9d79",
   "metadata": {},
   "outputs": [
    {
     "name": "stdout",
     "output_type": "stream",
     "text": [
      "{'x': 10, 'y': 20, 'z': 30}\n"
     ]
    }
   ],
   "source": [
    "def kwarguments(**kwargs):\n",
    "    return(kwargs)\n",
    "a = kwarguments(x = 10,y = 20, z = 30)\n",
    "print(a)"
   ]
  },
  {
   "cell_type": "markdown",
   "id": "52d59a22",
   "metadata": {},
   "source": [
    "**Write a function \"print_sum\" that can receive two integral numbers in string format as arguments and print their sum.**\n"
   ]
  },
  {
   "cell_type": "code",
   "execution_count": 6,
   "id": "e3c40bb8",
   "metadata": {},
   "outputs": [
    {
     "name": "stdout",
     "output_type": "stream",
     "text": [
      "enter first number - 5\n",
      "enter second number - 6\n",
      "11\n"
     ]
    }
   ],
   "source": [
    "def print_sum():\n",
    "    a = input('enter first number - ')\n",
    "    b = input('enter second number - ')\n",
    "    sum = int(a) + int (b)\n",
    "    print(sum)\n",
    "print_sum()   "
   ]
  },
  {
   "cell_type": "markdown",
   "id": "8091e4d0",
   "metadata": {},
   "source": [
    "**Write a function that takes two inputs, a start and stop for a range (inclusive). Find the product and the sum of all the numbers and return the average between those two numbers. Then make a call to the function where you print the result.**\n"
   ]
  },
  {
   "cell_type": "code",
   "execution_count": 4,
   "id": "e89243a7",
   "metadata": {},
   "outputs": [
    {
     "name": "stdout",
     "output_type": "stream",
     "text": [
      "enter the range starting - 1\n",
      "enter the range ending - 5\n",
      "67.5\n"
     ]
    }
   ],
   "source": [
    "def average():\n",
    "    a = int(input('enter the range starting - '))\n",
    "    b = int(input('enter the range ending - '))\n",
    "    product = 1\n",
    "    sum = 0\n",
    "    for i in range(start,end+1):\n",
    "        product *= i\n",
    "        sum += i\n",
    "        average = (product + sum)/2\n",
    "    print(average)\n",
    "average()"
   ]
  },
  {
   "cell_type": "markdown",
   "id": "2ccbee16",
   "metadata": {},
   "source": [
    "**Write a function \"sum_digits\" that can recieve an integer number as argument and returns the sum of the digits of number.**\n"
   ]
  },
  {
   "cell_type": "code",
   "execution_count": 22,
   "id": "53841da0",
   "metadata": {},
   "outputs": [
    {
     "name": "stdout",
     "output_type": "stream",
     "text": [
      "10\n"
     ]
    }
   ],
   "source": [
    "def sum_digits(*args):\n",
    "    return(sum(args))\n",
    "\n",
    "y = sum_digits(1,2,3,4)\n",
    "print(y)"
   ]
  },
  {
   "cell_type": "markdown",
   "id": "be41271b",
   "metadata": {},
   "source": [
    "**Write a function that takes 2 integers as arguments, total price, and amount in wallet. Print “You have enough money” if the difference between the wallet and price is 0 or greater; otherwise, print “Get more money”.**\n"
   ]
  },
  {
   "cell_type": "code",
   "execution_count": 24,
   "id": "869e0289",
   "metadata": {},
   "outputs": [
    {
     "name": "stdout",
     "output_type": "stream",
     "text": [
      "get more money\n"
     ]
    }
   ],
   "source": [
    "def mny(tp,aw):\n",
    "    if int(aw) - int(tp) >= 0:\n",
    "        return (' You have got enough money')\n",
    "    return('get more money')\n",
    "\n",
    "total_price = 10\n",
    "amnt_in_wallet = 9\n",
    "\n",
    "print(mny(total_price,amnt_in_wallet))"
   ]
  },
  {
   "cell_type": "markdown",
   "id": "6b7a3abf",
   "metadata": {},
   "source": [
    "**Write a function \"number_of_factors\" that takes an integer and returns how many factors the number has.**\n"
   ]
  },
  {
   "cell_type": "code",
   "execution_count": 5,
   "id": "7c459e6a",
   "metadata": {},
   "outputs": [
    {
     "name": "stdout",
     "output_type": "stream",
     "text": [
      "8\n"
     ]
    }
   ],
   "source": [
    "def number_of_factors(x):\n",
    "    l=[]\n",
    "    for i in range (1,x+1):\n",
    "        if x%i == 0:\n",
    "            l.append(i)\n",
    "    return len(l)\n",
    "    \n",
    "y = 30\n",
    "z = number_of_factors(y)\n",
    "print(z)"
   ]
  },
  {
   "cell_type": "markdown",
   "id": "50c068ff",
   "metadata": {},
   "source": [
    "**Write a function \"factors\" that takes an integer and returns a list of its factors.**\n"
   ]
  },
  {
   "cell_type": "code",
   "execution_count": 8,
   "id": "8e55b481",
   "metadata": {},
   "outputs": [
    {
     "name": "stdout",
     "output_type": "stream",
     "text": [
      "[1, 2, 4, 5, 10]\n"
     ]
    }
   ],
   "source": [
    "def factors(a):\n",
    "    l = []\n",
    "    for i in range (1,a):\n",
    "        if a % i == 0:\n",
    "            l.append(i)\n",
    "    return l\n",
    "b = 20\n",
    "x = factors(b)\n",
    "print(x)"
   ]
  },
  {
   "cell_type": "markdown",
   "id": "50fd01e8",
   "metadata": {},
   "source": [
    "**Write a function “perfect()” that determines if argument number is a perfect number. Use this function in a program that determines and prints all the perfect numbers between 1 and 10000. [An integer number is said to be “perfect number” if its factors, including 1(but not the number itself), sum to the number. E.g., 6 is a perfect number because 6=1+2+3].**\n"
   ]
  },
  {
   "cell_type": "code",
   "execution_count": 18,
   "id": "d1d3c6ef",
   "metadata": {},
   "outputs": [],
   "source": [
    "def perfect(x):\n",
    "    for i in range(1,100):\n",
    "        for j in range(1,j):\n",
    "            if i % j == 0:\n",
    "                sum = 0\n",
    "                sum += i\n",
    "                if sum == i:\n",
    "                    return(i)\n",
    "    "
   ]
  },
  {
   "cell_type": "code",
   "execution_count": 51,
   "id": "3556c482",
   "metadata": {},
   "outputs": [
    {
     "name": "stdout",
     "output_type": "stream",
     "text": [
      "[2]\n"
     ]
    }
   ],
   "source": [
    "l = []\n",
    "sum = 0\n",
    "\n",
    "for i in range(1,500):\n",
    "    for j in range(1,i):\n",
    "        if i % j == 0:\n",
    "            sum += i\n",
    "            if sum == i:\n",
    "                temp = 0\n",
    "                temp = sum\n",
    "                l.append(temp)\n",
    "        \n",
    "                print(l)                   \n",
    "          "
   ]
  },
  {
   "cell_type": "markdown",
   "id": "bcffac5e",
   "metadata": {},
   "source": [
    "**Write a function \"closest\" that takes a list of numbers L and a number n and returns the largest element in L that is not larger than n . For instance, if L=[1,6,3,9,11] and n=8 , then the function should return 6, because 6 is the closest thing in L to 8 that is not larger than 8. Don’t worry about if all of the things in L are smaller than n.**\n"
   ]
  },
  {
   "cell_type": "code",
   "execution_count": 15,
   "id": "496ad42f",
   "metadata": {},
   "outputs": [
    {
     "name": "stdout",
     "output_type": "stream",
     "text": [
      "6\n"
     ]
    }
   ],
   "source": [
    "def closest(L):\n",
    "    for i in L:\n",
    "        if i<n:\n",
    "            l1.append(i)\n",
    "    print (max(l1))\n",
    "L=[1,6,3,9,11]\n",
    "l1 = []\n",
    "n=8\n",
    "closest(L)\n",
    "    "
   ]
  },
  {
   "cell_type": "markdown",
   "id": "50278922",
   "metadata": {},
   "source": [
    "**Write a function \"is_sorted\" that is given a list and returns True if the list is sorted and False otherwise.**\n"
   ]
  },
  {
   "cell_type": "code",
   "execution_count": 10,
   "id": "7a0c558b",
   "metadata": {},
   "outputs": [
    {
     "name": "stdout",
     "output_type": "stream",
     "text": [
      "True\n"
     ]
    }
   ],
   "source": [
    "def is_sorted(l):\n",
    "    l1 = sorted(l)\n",
    "    if l == l1:\n",
    "        return ('True')\n",
    "    else: \n",
    "        return ('False')\n",
    "x = [1,2,3,4,5]\n",
    "print(is_sorted(x))"
   ]
  },
  {
   "cell_type": "markdown",
   "id": "2c685027",
   "metadata": {},
   "source": [
    "**Write a function “sum_evens(to_num)” to calculate the sum of the even numbers from 0 to the value of “to_num” passed to the function. Return the sum from the function. Call the function inside print to see the result.**\n"
   ]
  },
  {
   "cell_type": "code",
   "execution_count": null,
   "id": "1aafaef4",
   "metadata": {},
   "outputs": [],
   "source": []
  },
  {
   "cell_type": "markdown",
   "id": "e1b1f7e0",
   "metadata": {},
   "source": [
    "**Assume the days of the week are numbered 0,1,2,3,4,5,6 from Sunday to Saturday. Write a function which is given the day number, and it returns the day name (a string).**\n"
   ]
  },
  {
   "cell_type": "code",
   "execution_count": 12,
   "id": "993ddc3d",
   "metadata": {},
   "outputs": [
    {
     "name": "stdout",
     "output_type": "stream",
     "text": [
      "Tuesday\n"
     ]
    }
   ],
   "source": [
    "def day(x):\n",
    "    day_num = [0,1,2,3,4,5,6]\n",
    "    day_string = ['sunday','Monday','Tuesday', 'wednesday','Thursaday','Friday','saturady']\n",
    "    if x == day_num[x]:\n",
    "        return (day_string[x])\n",
    "        \n",
    "x = 2 \n",
    "y = day(x)\n",
    "print(y)\n",
    "\n",
    "        "
   ]
  },
  {
   "cell_type": "code",
   "execution_count": 26,
   "id": "1f4d4728",
   "metadata": {},
   "outputs": [
    {
     "data": {
      "text/plain": [
       "'Sunday'"
      ]
     },
     "execution_count": 26,
     "metadata": {},
     "output_type": "execute_result"
    }
   ],
   "source": [
    "def day(x):\n",
    "    get_day_name = lambda day_number: ['Sunday', 'Monday', 'Tuesday', 'Wednesday', 'Thursday', 'Friday', 'Saturday'][day_number]\n",
    "    return(get_day_name(x))\n",
    "\n",
    "day(0)\n",
    "    "
   ]
  },
  {
   "cell_type": "code",
   "execution_count": 31,
   "id": "59c1a23b",
   "metadata": {},
   "outputs": [
    {
     "data": {
      "text/plain": [
       "'sunday'"
      ]
     },
     "execution_count": 31,
     "metadata": {},
     "output_type": "execute_result"
    }
   ],
   "source": [
    "def week(x):\n",
    "    day_string = ['sunday','Monday','Tuesday', 'wednesday','Thursaday','Friday','saturady']\n",
    "    return(day_string[x])\n",
    "        \n",
    "week(0)"
   ]
  },
  {
   "cell_type": "code",
   "execution_count": 41,
   "id": "5b6481a9",
   "metadata": {},
   "outputs": [
    {
     "data": {
      "text/plain": [
       "'Tuesday'"
      ]
     },
     "execution_count": 41,
     "metadata": {},
     "output_type": "execute_result"
    }
   ],
   "source": [
    "day_string = ['sunday','Monday','Tuesday', 'wednesday','Thursaday','Friday','saturady']\n",
    "day_number = [1,2,3,4,5,6,7]\n",
    "#get_day_name = lambda day_number: day_string[day_number] if day_number%2 == 0 else 'None'\n",
    "dict1 = dict(zip(day_number, day_string))\n",
    "appu = lambda x : dict1[x] if x%2 != 0 else 'Even'\n",
    "appu(3)"
   ]
  },
  {
   "cell_type": "code",
   "execution_count": 35,
   "id": "0da6bd65",
   "metadata": {},
   "outputs": [
    {
     "data": {
      "text/plain": [
       "'None'"
      ]
     },
     "execution_count": 35,
     "metadata": {},
     "output_type": "execute_result"
    }
   ],
   "source": [
    "get_day_name(3)"
   ]
  },
  {
   "cell_type": "code",
   "execution_count": 23,
   "id": "b9dc43f3",
   "metadata": {},
   "outputs": [
    {
     "name": "stdout",
     "output_type": "stream",
     "text": [
      "['Sunday']\n"
     ]
    }
   ],
   "source": [
    "def get_day_name(day_number):\n",
    "    \n",
    "    days = ['Sunday', 'Monday', 'Tuesday', 'Wednesday', 'Thursday', 'Friday', 'Saturday']\n",
    "    return list(map(lambda x: days[x], day_number))\n",
    "\n",
    "\n",
    "print(get_day_name([0]))  # Output: ['Sunday', 'Wednesday', 'Saturday']\n"
   ]
  },
  {
   "cell_type": "markdown",
   "id": "82a63f5a",
   "metadata": {},
   "source": [
    "**Write a function to find whether there is any odd number in the list passed to the function as an argument.**\n"
   ]
  },
  {
   "cell_type": "code",
   "execution_count": 22,
   "id": "fb5b1456",
   "metadata": {},
   "outputs": [
    {
     "name": "stdout",
     "output_type": "stream",
     "text": [
      "there is an odd number in list\n"
     ]
    }
   ],
   "source": [
    "def find_odd(l):\n",
    "    \n",
    "    for i in l:\n",
    "        if i%2 == 1:\n",
    "            return('there is an odd number in list')\n",
    "l = [2,4,6,5]\n",
    "x = find_odd(l)\n",
    "print(x)"
   ]
  },
  {
   "cell_type": "markdown",
   "id": "14f1adbb",
   "metadata": {},
   "source": [
    "**Write a function that takes a list of words and returns the word(s) with longest length.\n",
    " Sample Input\n",
    " [\"Python\", \"Exercises\", \"Backend\"]\n",
    " Expected Output\n",
    " Exercises**\n"
   ]
  },
  {
   "cell_type": "code",
   "execution_count": 21,
   "id": "b4a30a73",
   "metadata": {},
   "outputs": [
    {
     "data": {
      "text/plain": [
       "'Exercises'"
      ]
     },
     "execution_count": 21,
     "metadata": {},
     "output_type": "execute_result"
    }
   ],
   "source": [
    "def longest_length(l):\n",
    "    temp = 0\n",
    "    final = ''\n",
    "    for i in l:\n",
    "        if len(i) > temp:\n",
    "            temp = len(i)\n",
    "            final = i\n",
    "    return (final)\n",
    "    \n",
    "            \n",
    "l = [\"Python\", \"Exercises\", \"Backend\"]\n",
    "longest_length(l)\n"
   ]
  },
  {
   "cell_type": "markdown",
   "id": "ff4bbafe",
   "metadata": {},
   "source": [
    "**Write a function that takes two arguments, a list and an item, and that appends the item to the list.**\n"
   ]
  },
  {
   "cell_type": "code",
   "execution_count": 45,
   "id": "1b04182b",
   "metadata": {},
   "outputs": [
    {
     "name": "stdout",
     "output_type": "stream",
     "text": [
      "[1, 2, 3, 4, 5, 6]\n"
     ]
    }
   ],
   "source": [
    "def append_list(l,a):\n",
    "    l.append(a)\n",
    "    return(l)\n",
    "l = [1,2,3,4,5]\n",
    "a = 6\n",
    "print(append_list(l,a))"
   ]
  },
  {
   "cell_type": "markdown",
   "id": "8920c456",
   "metadata": {},
   "source": [
    "**Write a function to create a list of the factorials of each of the numbers in the list.\n",
    " Sample Input\n",
    "[2, 3, 4, 5]\n",
    " Expected Output\n",
    "[2, 6, 24, 120]**"
   ]
  },
  {
   "cell_type": "code",
   "execution_count": 20,
   "id": "ddc11038",
   "metadata": {},
   "outputs": [
    {
     "name": "stdout",
     "output_type": "stream",
     "text": [
      "[2, 6, 24, 120, 720, 5040, 40320, 362880, 3628800]\n"
     ]
    }
   ],
   "source": [
    "def list_fact(l):\n",
    "    \n",
    "    l1 =[]\n",
    "    \n",
    "    for i in l:\n",
    "        fac =1\n",
    "        for j in range (1,i+1):\n",
    "            fac *= j\n",
    "        l1.append(fac)\n",
    "        \n",
    "    return l1\n",
    "\n",
    "l = [2,3,4,5,6,7,8,9,10]\n",
    "x = list_fact(l)\n",
    "print(x)\n",
    "        "
   ]
  },
  {
   "cell_type": "markdown",
   "id": "8532050e",
   "metadata": {},
   "source": [
    "**Write a function to find factorial of numbers from 1 to 10 and store the number as key and its calculated factorial as value in a dictionary.**\n"
   ]
  },
  {
   "cell_type": "code",
   "execution_count": 7,
   "id": "2d89e2e6",
   "metadata": {},
   "outputs": [
    {
     "name": "stdout",
     "output_type": "stream",
     "text": [
      "{1: 1, 2: 2, 3: 6, 4: 24, 5: 120, 6: 720, 7: 5040, 8: 40320, 9: 362880, 10: 3628800}\n"
     ]
    }
   ],
   "source": [
    "def fact(a):\n",
    "    fac =1\n",
    "    fac_dict = {}\n",
    "    \n",
    "    for i in range(1,a+1):\n",
    "        fac *= i\n",
    "        fac_dict.update({i:fac})\n",
    "    return(fac_dict)\n",
    "    \n",
    "b = 10\n",
    "x = fact(b)\n",
    "print(x)"
   ]
  },
  {
   "cell_type": "markdown",
   "id": "f9b846f7",
   "metadata": {},
   "source": [
    "**Write a function that takes an int argument and uses a while loop to create a right-triangle like shape out of *. The first row should have 1 star and the last should have n stars where n is the argument passed**."
   ]
  },
  {
   "cell_type": "code",
   "execution_count": 8,
   "id": "9e82bc76",
   "metadata": {},
   "outputs": [
    {
     "name": "stdout",
     "output_type": "stream",
     "text": [
      "*\n",
      "**\n",
      "***\n",
      "****\n",
      "*****\n"
     ]
    }
   ],
   "source": [
    "def print_right_triangle(n):\n",
    "    row = 1  # Initialize the starting row\n",
    "    while row <= n:\n",
    "        print('*' * row)  # Print the current row with the corresponding number of stars\n",
    "        row += 1  # Move to the next row\n",
    "\n",
    "# Test the function\n",
    "print_right_triangle(5)\n"
   ]
  },
  {
   "cell_type": "code",
   "execution_count": 9,
   "id": "0c96bee2",
   "metadata": {},
   "outputs": [
    {
     "name": "stdout",
     "output_type": "stream",
     "text": [
      "*\n",
      "**\n",
      "***\n",
      "****\n",
      "*****\n"
     ]
    }
   ],
   "source": [
    "i = 1\n",
    "while i <= 5:\n",
    "    print('*' * i)\n",
    "    i+=1"
   ]
  },
  {
   "cell_type": "code",
   "execution_count": 10,
   "id": "6e178d4b",
   "metadata": {},
   "outputs": [
    {
     "name": "stdout",
     "output_type": "stream",
     "text": [
      "*\n",
      "**\n",
      "***\n",
      "****\n",
      "*****\n",
      "******\n",
      "*******\n",
      "********\n",
      "*********\n"
     ]
    }
   ],
   "source": [
    "for i in range(1,10):\n",
    "    print('*' * i)"
   ]
  },
  {
   "cell_type": "code",
   "execution_count": 11,
   "id": "9492dfb2",
   "metadata": {},
   "outputs": [],
   "source": [
    "def x(l):\n",
    "    sorted(l)"
   ]
  },
  {
   "cell_type": "code",
   "execution_count": 12,
   "id": "37ac30c0",
   "metadata": {},
   "outputs": [
    {
     "name": "stdout",
     "output_type": "stream",
     "text": [
      "[(1, 5, 3), (3, 4, 5), (5, 3, 6)]\n"
     ]
    }
   ],
   "source": [
    "l =[(1,5,3),(5,3,6),(3,4,5)]\n",
    "#l1 = sorted(l[1])\n",
    "l.sort()\n",
    "print(l)"
   ]
  },
  {
   "cell_type": "code",
   "execution_count": 13,
   "id": "4e857509",
   "metadata": {},
   "outputs": [
    {
     "name": "stdout",
     "output_type": "stream",
     "text": [
      "[4, 5]\n"
     ]
    }
   ],
   "source": [
    "def common_numb(a,b):\n",
    "    '''\n",
    "    '''\n",
    "    return(list(set(a)&set(b)))\n",
    "x = [1,2,3,4,5]\n",
    "y = [4,5,6,7,8]\n",
    "common = common_numb(x,y)\n",
    "print(common)\n"
   ]
  },
  {
   "cell_type": "code",
   "execution_count": 14,
   "id": "b06fc867",
   "metadata": {},
   "outputs": [
    {
     "name": "stdout",
     "output_type": "stream",
     "text": [
      "3\n"
     ]
    }
   ],
   "source": [
    "def sec_highest(l):\n",
    "    l.sort()\n",
    "    return(l[1])\n",
    "a = [1,6,3,4,5] \n",
    "x = sec_highest(a)\n",
    "print(x)\n"
   ]
  },
  {
   "cell_type": "code",
   "execution_count": 15,
   "id": "755986c0",
   "metadata": {},
   "outputs": [
    {
     "name": "stdout",
     "output_type": "stream",
     "text": [
      "p\n"
     ]
    }
   ],
   "source": [
    "def non_repeat_char(x):\n",
    "    x1 =[]\n",
    "    for char in x:\n",
    "        if char not in x1:\n",
    "            x1.append(char)\n",
    "        return (x1[0])\n",
    "word = 'pupa'\n",
    "x = non_repeat_char(word)\n",
    "print(x)\n"
   ]
  },
  {
   "cell_type": "code",
   "execution_count": 1,
   "id": "cbcf7929",
   "metadata": {},
   "outputs": [
    {
     "name": "stdout",
     "output_type": "stream",
     "text": [
      "yes appu,uppa are anagrams\n"
     ]
    }
   ],
   "source": [
    "def check_anagram(a,b):\n",
    "    if sorted(a) == sorted(b):\n",
    "        return (f'yes {a},{b} are anagrams')\n",
    "    else:\n",
    "        return(f'No, {a},{b} are not anagrams')\n",
    "x = 'appu'\n",
    "y =  'uppa'\n",
    "anagram_check = check_anagram(x,y)\n",
    "print(anagram_check)"
   ]
  },
  {
   "cell_type": "code",
   "execution_count": 18,
   "id": "a07db706",
   "metadata": {},
   "outputs": [
    {
     "name": "stdout",
     "output_type": "stream",
     "text": [
      "3.0\n"
     ]
    }
   ],
   "source": [
    "a = 4\n",
    "b = 6\n",
    "c = 4\n",
    "\n",
    "s = (a + b + c) / 2\n",
    "\n",
    "area = ((s - a) * (s - b) * (s - c)) ** 0.5\n",
    "\n",
    "print(area)"
   ]
  },
  {
   "cell_type": "code",
   "execution_count": 49,
   "id": "85ff5165",
   "metadata": {},
   "outputs": [
    {
     "name": "stdout",
     "output_type": "stream",
     "text": [
      " * \n",
      " *  * \n",
      " *  *  * \n",
      " *  *  *  * \n",
      " *  *  *  *  * \n",
      "\n",
      "\n",
      " *  \n",
      " *   *  \n",
      " *   *   *  \n",
      " *   *   *   *  \n",
      " *   *   *   *   *  \n"
     ]
    }
   ],
   "source": [
    "# Write a program to print the below trianlge using 'for' loop.\n",
    "#*\n",
    "#* *\n",
    "#* * *\n",
    "#* * * *\n",
    "#* * * * *\n",
    "\n",
    "for i in range (1,6):\n",
    "    print(' * ' * i)\n",
    "    \n",
    "print(\"\\n\")\n",
    "\n",
    "for i in range (1,6):\n",
    "    for j in range(0,i):\n",
    "         print(' * ',end = ' ')\n",
    "    print()\n",
    "\n"
   ]
  },
  {
   "cell_type": "code",
   "execution_count": 26,
   "id": "b4320b64",
   "metadata": {},
   "outputs": [
    {
     "name": "stdout",
     "output_type": "stream",
     "text": [
      "1 \n",
      "\n",
      "1 2 \n",
      "\n",
      "1 2 3 \n",
      "\n",
      "1 2 3 4 \n",
      "\n",
      "1 2 3 4 5 \n",
      "\n",
      " another sequence\n",
      "5 4 3 2 1 \n",
      "\n",
      "5 4 3 2 \n",
      "\n",
      "5 4 3 \n",
      "\n",
      "5 4 \n",
      "\n",
      "5 \n",
      "\n"
     ]
    }
   ],
   "source": [
    "'''Write a program to print the below trianlge using 'for' loop.\n",
    " 5 4 3 2 1\n",
    " 5 4 3 2\n",
    " 5 4 3\n",
    " 5 4\n",
    " 5'''\n",
    "\n",
    "for i in range (1,6):\n",
    "    for j in range (1,i+1):\n",
    "        print(j,end = ' ')\n",
    "    print('\\n')\n",
    "    \n",
    "print(' another sequence')\n",
    "    \n",
    "for i in range (0,5):\n",
    "    for j in range (5,i,-1):\n",
    "        print(j,end=' ')\n",
    "    print('\\n')"
   ]
  },
  {
   "cell_type": "code",
   "execution_count": 34,
   "id": "c1231742",
   "metadata": {},
   "outputs": [
    {
     "name": "stdout",
     "output_type": "stream",
     "text": [
      "5 5 5 5 5 \n",
      "\n",
      "4 4 4 4 \n",
      "\n",
      "3 3 3 \n",
      "\n",
      "2 2 \n",
      "\n",
      "1 \n",
      "\n"
     ]
    }
   ],
   "source": [
    "'''Write a program to print the below trianlge using 'for' loop.\n",
    " 5 5 5 5 5\n",
    " 4 4 4 4\n",
    " 3 3 3\n",
    " 2 2\n",
    " 1'''\n",
    "\n",
    "for i in range (5,0,-1):\n",
    "    for j in range (0,i):\n",
    "        print(i,end = ' ')\n",
    "    print('\\n')"
   ]
  },
  {
   "cell_type": "code",
   "execution_count": 55,
   "id": "f2c28c14",
   "metadata": {},
   "outputs": [
    {
     "name": "stdout",
     "output_type": "stream",
     "text": [
      "1 \n",
      "\n",
      "2 2 \n",
      "\n",
      "3 3 3 \n",
      "\n",
      "4 4 4 4 \n",
      "\n",
      "5 5 5 5 5 \n",
      "\n"
     ]
    }
   ],
   "source": [
    "'''Write a program to print the below trianlge using 'for' loop.\n",
    " 1\n",
    " 2 2\n",
    " 3 3 3\n",
    " 4 4 4 4\n",
    " 5 5 5 5 5'''\n",
    "\n",
    "for i in range (1,6):\n",
    "    for j in range(0,i):\n",
    "        print(i,end =' ')\n",
    "    print('\\n')"
   ]
  },
  {
   "cell_type": "code",
   "execution_count": 40,
   "id": "f06d6a10",
   "metadata": {},
   "outputs": [
    {
     "name": "stdout",
     "output_type": "stream",
     "text": [
      "1 \n",
      "\n",
      "1 2 \n",
      "\n",
      "1 2 3 \n",
      "\n",
      "1 2 3 4 \n",
      "\n",
      "1 2 3 4 5 \n",
      "\n"
     ]
    }
   ],
   "source": [
    "'''Write a program to print the below trianlge using 'for' loop.\n",
    " 1\n",
    " 1 2\n",
    " 1 2 3\n",
    " 1 2 3 4\n",
    " 1 2 3 4 5'''\n",
    "\n",
    "for i in range (1,6):\n",
    "    for j in range(1,i+1):\n",
    "        print(j , end = ' ')\n",
    "    print('\\n')"
   ]
  },
  {
   "cell_type": "code",
   "execution_count": 65,
   "id": "1eac5fdb",
   "metadata": {},
   "outputs": [
    {
     "name": "stdout",
     "output_type": "stream",
     "text": [
      "5 \n",
      "\n",
      "4 4 \n",
      "\n",
      "3 3 3 \n",
      "\n",
      "2 2 2 2 \n",
      "\n",
      "1 1 1 1 1 \n",
      "\n"
     ]
    }
   ],
   "source": [
    "''' Write a program to print the below trianlge using 'for' loop.\n",
    " 5\n",
    " 4 4\n",
    " 3 3 3\n",
    " 2 2 2 2\n",
    " 1 1 1 1 1'''\n",
    "for i in range (5,0,-1):\n",
    "    for j in range(5,i-1,-1):\n",
    "        print(i , end = ' ')\n",
    "    print('\\n')"
   ]
  },
  {
   "cell_type": "code",
   "execution_count": 66,
   "id": "b3e07a00",
   "metadata": {},
   "outputs": [
    {
     "name": "stdout",
     "output_type": "stream",
     "text": [
      "5 \n",
      "\n",
      "5 4 \n",
      "\n",
      "5 4 3 \n",
      "\n",
      "5 4 3 2 \n",
      "\n",
      "5 4 3 2 1 \n",
      "\n"
     ]
    }
   ],
   "source": [
    "'''Write a program to print the below trianlge using 'for' loop.\n",
    " 5\n",
    " 5 4\n",
    " 5 4 3\n",
    " 5 4 3 2\n",
    " 5 4 3 2 1'''\n",
    "\n",
    "for i in range (5,0,-1):\n",
    "    for j in range(5,i-1,-1):\n",
    "        print(j,end = ' ')\n",
    "    print('\\n')"
   ]
  },
  {
   "cell_type": "code",
   "execution_count": 77,
   "id": "d55ccb89",
   "metadata": {},
   "outputs": [
    {
     "name": "stdout",
     "output_type": "stream",
     "text": [
      "1 \n",
      "\n",
      "2 3 \n",
      "\n",
      "4 5 6 \n",
      "\n",
      "7 8 9 10 \n",
      "\n",
      "11 12 13 14 15 \n",
      "\n"
     ]
    }
   ],
   "source": [
    "'''Write a program to print the below trianlge using 'for' loop.\n",
    " 1\n",
    " 2 3\n",
    " 4 5 6\n",
    " 7 8 9 10\n",
    " 11 12 13 14 15'''\n",
    "c = 0\n",
    "for i in range(1,6):\n",
    "    for j in range(0,i):\n",
    "        c += 1\n",
    "        print(c,end = ' ')\n",
    "    print('\\n')"
   ]
  },
  {
   "cell_type": "code",
   "execution_count": 80,
   "id": "76ff6049",
   "metadata": {},
   "outputs": [
    {
     "name": "stdout",
     "output_type": "stream",
     "text": [
      "15 45 75 "
     ]
    }
   ],
   "source": [
    "# Write a program to print all the numbers which are multiples of 3 and ends with 5 below 100.\n",
    "\n",
    "for i in range (1,100):\n",
    "    if i % 3 == 0 and i % 10 == 5:\n",
    "        print(i,end = ' ')"
   ]
  },
  {
   "cell_type": "code",
   "execution_count": 86,
   "id": "2c6601b0",
   "metadata": {},
   "outputs": [
    {
     "name": "stdout",
     "output_type": "stream",
     "text": [
      "54321"
     ]
    }
   ],
   "source": [
    "#Write a program to print the reverse of a given number.\n",
    "\n",
    "x = '12345'\n",
    "for i in range(len(x)-1,-1,-1):\n",
    "    print (x[i],end = '')"
   ]
  },
  {
   "cell_type": "code",
   "execution_count": 1,
   "id": "3b6a5440",
   "metadata": {},
   "outputs": [
    {
     "name": "stdout",
     "output_type": "stream",
     "text": [
      "sum of given number :  1\n"
     ]
    }
   ],
   "source": [
    "''' Write a program to print the digit sum of a given number.\n",
    "[Hint: The digit sum of a number is the single digit number obtained by repeatedly computing the sum of the digits of the \n",
    "number.]'''\n",
    "x = '10'\n",
    "sum = 0\n",
    "\n",
    "if len(x) > 1:\n",
    "    for i in x:\n",
    "        sum += int(i)\n",
    "        x = str(sum)\n",
    "        #print(x)\n",
    "    else:\n",
    "        print('sum of given number : ',x)\n",
    "else:\n",
    "    print('sum of given number : ',x)\n",
    "  "
   ]
  },
  {
   "cell_type": "code",
   "execution_count": 160,
   "id": "61e025ab",
   "metadata": {},
   "outputs": [
    {
     "name": "stdout",
     "output_type": "stream",
     "text": [
      "7 is not a magic number\n"
     ]
    }
   ],
   "source": [
    "'''Write a program to check whether the number is a Magic number or not.\n",
    "[Hint: A number is a magic number, if the recursive sum of all the digits of a number(digit sum) is 1]'''\n",
    "x = '25'\n",
    "add = 0\n",
    "\n",
    "if len(x) > 1:\n",
    "    for i in x:\n",
    "        add += int(i)\n",
    "        x = str(add)\n",
    "        #print(x)\n",
    "    else:\n",
    "        if add == 1:\n",
    "            print(f'{x} is a magic number')\n",
    "        else:\n",
    "            print(f'{x} is not a magic number')\n"
   ]
  },
  {
   "cell_type": "code",
   "execution_count": 164,
   "id": "6de5c434",
   "metadata": {},
   "outputs": [
    {
     "name": "stdout",
     "output_type": "stream",
     "text": [
      "36 is not a perfct number\n"
     ]
    }
   ],
   "source": [
    "''' Write a program to check whether the given number is perfect number or not.\n",
    "[Hint: A perfect number is a number whose sum of the factors (excluding itself) is equal to itself]'''\n",
    "x = 36\n",
    "add = 0\n",
    "\n",
    "for i in range(1,x):\n",
    "    if x % i == 0:\n",
    "        add += i\n",
    "if add == x:\n",
    "    print(f'{x} is a perfct number')\n",
    "else:\n",
    "    print(f'{x} is not a perfct number')\n",
    "    \n",
    "    "
   ]
  },
  {
   "cell_type": "code",
   "execution_count": 168,
   "id": "2c39e88b",
   "metadata": {},
   "outputs": [
    {
     "name": "stdout",
     "output_type": "stream",
     "text": [
      "enter marks :85\n",
      "Grade A\n"
     ]
    }
   ],
   "source": [
    "'''A school has following rules for grading system\n",
    " a. marks below 45 - Grade E\n",
    " b. marks >= 40 - Grade D\n",
    " c. marks >= 55 - Grade C\n",
    " d. marks >= 70 - Grade B\n",
    " e. marks>= 85 - Grade A\n",
    "Write a program to prompt the user to enter marks and print the corresponding grade.'''\n",
    "\n",
    "marks = int(input('enter marks :'))\n",
    "\n",
    "if marks < 40:\n",
    "    print('Grade E')\n",
    "elif marks >= 40 and marks <= 54:\n",
    "    print('Grade D')\n",
    "elif marks >= 55 and marks <= 69:\n",
    "    print('Grade C')\n",
    "elif marks >= 70 and marks <= 84:\n",
    "    print('Grade B')\n",
    "else:\n",
    "    print('Grade A')\n",
    "    "
   ]
  },
  {
   "cell_type": "code",
   "execution_count": 7,
   "id": "ab55b1aa",
   "metadata": {},
   "outputs": [
    {
     "name": "stdout",
     "output_type": "stream",
     "text": [
      "enter married or unmarried :unmarried\n",
      "enter male or female:female\n",
      "enter age in number :24\n",
      "you are not eligible for insurance\n"
     ]
    }
   ],
   "source": [
    "'''A company insures its drivers in the following cases\n",
    " a. If the driver is married.\n",
    " b. If the driver is unmarried, male and above 30 years of age.\n",
    " c. If the driver is unmarried, female and above 25 years of age.\n",
    " d. In all other cases, the driver is not insured.\n",
    "If the marital status, gender, age of the drivers are the inputs, write a program to determine whether the driver is \n",
    "insured or not.(Use 'nested - if').'''\n",
    "\n",
    "marital_status = input('enter married or unmarried :')\n",
    "sex = input('enter male or female:')\n",
    "age = int(input('enter age in number :'))\n",
    "\n",
    "if marital_status == 'married':\n",
    "    print('you are eligible for insurance')\n",
    "else:\n",
    "    if sex == 'male' and age > 30:\n",
    "        print('you are eligible for insurance')\n",
    "    elif sex == 'female' and age > 25:\n",
    "        print('you are eligible for insurance')\n",
    "    else:\n",
    "        print('you are not eligible for insurance')\n",
    "\n"
   ]
  },
  {
   "cell_type": "code",
   "execution_count": 9,
   "id": "b228383f",
   "metadata": {},
   "outputs": [
    {
     "name": "stdout",
     "output_type": "stream",
     "text": [
      "enter salary :500000\n",
      "0\n"
     ]
    }
   ],
   "source": [
    "'''Calculate income tax based on the below given information.\n",
    " a. 0% tax - Upto 5 Lakhs\n",
    " b. 20% tax - Upto 10 Lakhs\n",
    " c. 30% tax - Above 10 Lakhs.'''\n",
    "\n",
    "salary = int(input('enter salary :'))\n",
    "\n",
    "if salary <= 500000 and salary > 1:\n",
    "    income_tax = salary * 0\n",
    "    print(income_tax)\n",
    "elif salary <= 1000000 and salary > 500000:\n",
    "    income_tax = salary * 0.2\n",
    "    print(income_tax)\n",
    "elif salary > 1000000 :\n",
    "    income_tax = salary * 0.3\n",
    "    print(income_tax)\n",
    "else:\n",
    "    print('entered salary amount is invalid')\n",
    "    \n",
    "    "
   ]
  },
  {
   "cell_type": "code",
   "execution_count": null,
   "id": "fd33165c",
   "metadata": {},
   "outputs": [],
   "source": [
    "'''Write a program to read a character and print out whether it is digit or uppercase or lowercase or special character.'''\n",
    "data =input('enter same data :')\n",
    "\n",
    "if data.isdigit() == True:\n",
    "    print('it is in number')\n",
    "elif data.islower() == True:\n",
    "    print('it is in lower case')\n",
    "elif data.isupper() == True:\n",
    "    print('it is in upper case')\n",
    "elif data in '!@#$%^&*':\n",
    "    print('data is special characters')\n",
    "else:\n",
    "    print('input is invalid')\n"
   ]
  },
  {
   "cell_type": "code",
   "execution_count": 8,
   "id": "28e15b30",
   "metadata": {},
   "outputs": [
    {
     "name": "stdout",
     "output_type": "stream",
     "text": [
      "enter temperature in celsius:169.52777777777777\n",
      "Given temparature in farenheit 337.15\n",
      "temp is above boiling point\n"
     ]
    }
   ],
   "source": [
    "'''Write a program to prompt the user to enter a temperature in Celsius. The program should print a message based on the \n",
    "temperature:\n",
    " a. If the temperature is less than -273.15, print \"INVALID\" because it is below absolute zero.\n",
    " b. If it is exactly -273.15, print that the temperature is absolute 0.\n",
    " c. If the temperature is between -273.15 and 0, print that the temperature is below freezing.\n",
    " d. If it is 0, print that the temperature is at the freezing point.\n",
    " e. If it is between 0 and 100, print that the temperature is in the normal range.\n",
    " f. If it is 100, print that the temperature is at the boiling point.\n",
    " g. If it is above 100, print that the temperature is above the boiling point.'''\n",
    "\n",
    "temp_in_celsius = float(input('enter temperature in celsius:'))\n",
    "temp_in_farenheit = (((temp_in_celsius) * 9/5) + 32)\n",
    "print('Given temparature in farenheit', temp_in_farenheit)\n",
    "\n",
    "if temp_in_farenheit < -273.15:\n",
    "    print('invalid')\n",
    "elif temp_in_farenheit == -273.15:\n",
    "    print('temperature is absolute 0')\n",
    "elif temp_in_farenheit > -273.15 and  temp_in_farenheit < 0:\n",
    "    print('temparatue is below freeszing point')\n",
    "elif temp_in_farenheit == 0:\n",
    "    print('temp is at freezing point')\n",
    "elif temp_in_farenheit > 0 and temp_in_farenheit < 100:\n",
    "    print('temp is in normal range')\n",
    "elif temp_in_farenheit == 100:\n",
    "    print('temp is at the boiling point')\n",
    "else :\n",
    "    print('temp is above boiling point')\n",
    "    "
   ]
  },
  {
   "cell_type": "code",
   "execution_count": 1,
   "id": "eda0ce77",
   "metadata": {},
   "outputs": [
    {
     "data": {
      "text/plain": [
       "-169.52777777777777"
      ]
     },
     "execution_count": 1,
     "metadata": {},
     "output_type": "execute_result"
    }
   ],
   "source": [
    "((-273.15 -32) *5)/9\n"
   ]
  },
  {
   "cell_type": "code",
   "execution_count": 25,
   "id": "96dee1cb",
   "metadata": {},
   "outputs": [
    {
     "name": "stdout",
     "output_type": "stream",
     "text": [
      "enter M or F:M\n",
      "enter Y or N:Y\n",
      "enter age :19\n",
      "error\n"
     ]
    }
   ],
   "source": [
    "'''Ask user to enter age, sex ( M or F ), marital status ( Y or N ) and then using following rules print their place of\n",
    "service.\n",
    " a. if employee is female, then she will work only in urban areas.\n",
    " b. if employee is a male and age is in between 20 to 40 then he may work in anywhere\n",
    " c. if employee is male and age is in between 40 t0 60 then he will work in urban areas only.\n",
    " d. And any other input of age should print \"ERROR\".'''\n",
    "\n",
    "sex = input('enter M or F:')\n",
    "marital_status = input('enter Y or N:')\n",
    "age = int(input('enter age :'))\n",
    "\n",
    "if sex == 'F':\n",
    "    print('allot urban areas')\n",
    "else:\n",
    "    if sex == 'M' and age > 20 and age <= 40:\n",
    "        print(' allot any place')\n",
    "    elif sex == 'M' and age > 40 and age <= 60:\n",
    "        print('allot urban areas')\n",
    "    else:\n",
    "        print('error')"
   ]
  },
  {
   "cell_type": "code",
   "execution_count": 22,
   "id": "a2574360",
   "metadata": {},
   "outputs": [
    {
     "name": "stdout",
     "output_type": "stream",
     "text": [
      "enter hours:0\n",
      "enter minutes:0\n",
      "0\n",
      "Good morning!\n"
     ]
    }
   ],
   "source": [
    "time_hr = int(input('enter hours:'))\n",
    "time_mins =int(input('enter minutes:'))\n",
    "\n",
    "if 0 <= time_hr < 23 and 0 <= time_mins <=59:\n",
    "    _time = ((time_hr * 100) + time_mins)\n",
    "    print(_time)\n",
    "\n",
    "    if _time >= 0 and _time <= 1159 :\n",
    "        print('Good morning!')\n",
    "    elif _time >= 1200  and _time <= 1759:\n",
    "        print('Good afternoon!')\n",
    "    elif _time >= 1800  and _time <= 2159:\n",
    "        print('Good evening!')\n",
    "    else:\n",
    "        print('Good night!')\n",
    "else:\n",
    "    print('invalid inputs')\n"
   ]
  },
  {
   "cell_type": "code",
   "execution_count": 16,
   "id": "fb4ad647",
   "metadata": {},
   "outputs": [
    {
     "name": "stdout",
     "output_type": "stream",
     "text": [
      "(1, 'Gayathri', 'rulgayathri@gmail.com', 26)\n",
      "(2, 'Aparna', 'aparna@gmail.com', 25)\n",
      "(3, 'Kokila', 'kokila@gmail.com', 22)\n",
      "(4, 'manasa', 'manasa@gmail.com', 22)\n",
      "(1, 'Gayathri', 'rulgayathri@gmail.com', 26)\n"
     ]
    }
   ],
   "source": [
    "l = [(1,'Gayathri','rulgayathri@gmail.com',26),\n",
    "    (2,'Aparna','aparna@gmail.com',25),\n",
    "    (3,'Kokila','kokila@gmail.com',22),\n",
    "    (4,'manasa','manasa@gmail.com',22),]\n",
    "\n",
    "for rec in l:\n",
    "    print(rec)\n",
    "    \n",
    "a = max(l,key = lambda rec:rec[3])\n",
    "print(a)"
   ]
  },
  {
   "cell_type": "code",
   "execution_count": 12,
   "id": "500823c4",
   "metadata": {},
   "outputs": [
    {
     "name": "stdout",
     "output_type": "stream",
     "text": [
      "[2, 4, 6]\n"
     ]
    }
   ],
   "source": [
    "l = [1,2,3,4,5,7,5,6,9]\n",
    "a= filter(lambda x:x % 2 == 0,l)\n",
    "print(list(a))"
   ]
  },
  {
   "cell_type": "code",
   "execution_count": 6,
   "id": "e8110b2c",
   "metadata": {},
   "outputs": [
    {
     "name": "stdout",
     "output_type": "stream",
     "text": [
      "[2, 4, 6, 8, 10]\n"
     ]
    }
   ],
   "source": [
    "numbers = [1, 2, 3, 4, 5]\n",
    "doubled = list(map(lambda x: x * 2, numbers))\n",
    "print(doubled)  # Output: [2, 4, 6, 8, 10]\n"
   ]
  },
  {
   "cell_type": "code",
   "execution_count": 18,
   "id": "7dea1e23",
   "metadata": {},
   "outputs": [
    {
     "data": {
      "text/plain": [
       "15"
      ]
     },
     "execution_count": 18,
     "metadata": {},
     "output_type": "execute_result"
    }
   ],
   "source": [
    "from functools import reduce\n",
    "l = [1,2,3,4,5]\n",
    "def add(x,y):\n",
    "    return x + y\n",
    "mylist =(reduce(add,l))\n",
    "mylist\n",
    "    "
   ]
  },
  {
   "cell_type": "code",
   "execution_count": 21,
   "id": "78332df6",
   "metadata": {},
   "outputs": [
    {
     "data": {
      "text/plain": [
       "-15"
      ]
     },
     "execution_count": 21,
     "metadata": {},
     "output_type": "execute_result"
    }
   ],
   "source": [
    "def fun(n):\n",
    "    if n<= 2:\n",
    "        return 1\n",
    "    return fun(n-1)-2\n",
    "fun(10)"
   ]
  },
  {
   "cell_type": "code",
   "execution_count": 53,
   "id": "2853a09e",
   "metadata": {},
   "outputs": [
    {
     "name": "stdout",
     "output_type": "stream",
     "text": [
      "enter 10 number:2\n",
      "87665555555\n",
      "7777777777\n",
      "+91 87665555555\n",
      "+91 7777777777\n"
     ]
    }
   ],
   "source": [
    "l = []\n",
    "n = int(input(\"enter 10 number:\"))\n",
    "for i in range(0,n):\n",
    "    ele= int(input())\n",
    "    l.append(ele)\n",
    "for i in range(0,n):\n",
    "    print(\"+91\",l[i])"
   ]
  },
  {
   "cell_type": "code",
   "execution_count": 4,
   "id": "1cde6b10",
   "metadata": {},
   "outputs": [
    {
     "name": "stdout",
     "output_type": "stream",
     "text": [
      "10 8 6 4 2 \n",
      "10 8 6 4 \n",
      "10 8 6 \n",
      "10 8 \n",
      "10 \n"
     ]
    }
   ],
   "source": [
    "\"\"\"10 8 6 4 2\n",
    "   10 8 6 4\n",
    "   10 8 6\n",
    "   10 8\n",
    "   10\"\"\"\n",
    "for i in range(1,11,2):\n",
    "    for j in range(10,i,-2):\n",
    "        print(j,end=\" \")\n",
    "    print()"
   ]
  },
  {
   "cell_type": "code",
   "execution_count": 5,
   "id": "c1529c5f",
   "metadata": {},
   "outputs": [
    {
     "name": "stdout",
     "output_type": "stream",
     "text": [
      "1 2 3 4 5 \n",
      "  2 3 4 5 \n",
      "    3 4 5 \n",
      "      4 5 \n",
      "        5 \n"
     ]
    }
   ],
   "source": [
    "\"\"\"1 2 3 4 5\n",
    "     2 3 4 5\n",
    "       3 4 5\n",
    "         4 5\n",
    "           5\"\"\"\n",
    "for i in range(1,6):\n",
    "    for j in range(1,6):\n",
    "        if i > j:\n",
    "            print(\" \",end = \" \")\n",
    "        else:\n",
    "            print(j,end = \" \")\n",
    "    print()\n",
    "        "
   ]
  },
  {
   "cell_type": "code",
   "execution_count": 7,
   "id": "9a91b6bf",
   "metadata": {
    "scrolled": true
   },
   "outputs": [
    {
     "name": "stdout",
     "output_type": "stream",
     "text": [
      "2 4 6 8 10 \n",
      "  4 6 8 10 \n",
      "    6 8 10 \n",
      "      8 10 \n",
      "        10 \n"
     ]
    }
   ],
   "source": [
    "\"\"\"2 4 6 8 10\n",
    "     4 6 8 10\n",
    "       6 8 10\n",
    "         8 10\n",
    "           10\"\"\"\n",
    "for i in range(2,11,2):\n",
    "    for j in range(2,11,2):\n",
    "        if i > j:\n",
    "            print(' ',end = ' ')\n",
    "        else:\n",
    "            print(j,end = \" \")\n",
    "    print()"
   ]
  },
  {
   "cell_type": "code",
   "execution_count": 8,
   "id": "9994f84f",
   "metadata": {},
   "outputs": [
    {
     "name": "stdout",
     "output_type": "stream",
     "text": [
      "10 12 14 16 18 \n",
      "10 12 14 16 \n",
      "10 12 14 \n",
      "10 12 \n",
      "10 \n"
     ]
    }
   ],
   "source": [
    "\"\"\"10 12 14 16 18 \n",
    "   12 14 16 18\n",
    "   14 16 18\n",
    "   16 18\n",
    "   18\"\"\"\n",
    "for i in range(19,10,-2):\n",
    "    for j in range(10,i,2):\n",
    "        print(j,end = \" \")\n",
    "    print()"
   ]
  },
  {
   "cell_type": "code",
   "execution_count": 19,
   "id": "0252c62e",
   "metadata": {},
   "outputs": [
    {
     "name": "stdout",
     "output_type": "stream",
     "text": [
      "False\n"
     ]
    }
   ],
   "source": [
    "#s = \"A man, a plan, a canal: Panama\"\n",
    "#s = \" \"\n",
    "s = \" race a car\"\n",
    "s1 = \"\"\n",
    "for i in s:\n",
    "    if i.isalnum() == True:\n",
    "        i = i.lower()\n",
    "        s1 += i\n",
    "print(s1 == s1[::-1])\n",
    "\n",
    "###\n",
    "s_list = [ i.lower() for i in s]\n",
    "s_list1 = []\n",
    "for i in s_list:\n",
    "    if i.isalnum() == True:\n",
    "        s_list1.append(i)\n",
    "s1 = \"\".join(s_list1)\n",
    "\n",
    "print(s1 == s1[::-1])\n",
    "\n",
    "\n",
    "###\n",
    "s1 = [i.lower() for i in s if i.isalnum() == True]\n",
    "print(s1 == s1[::-1])"
   ]
  },
  {
   "cell_type": "code",
   "execution_count": 35,
   "id": "3beaa319",
   "metadata": {},
   "outputs": [
    {
     "name": "stdout",
     "output_type": "stream",
     "text": [
      "missing number is 5\n"
     ]
    }
   ],
   "source": [
    "l = [2,3,4,1,6,7,8,10,9]\n",
    "n = 10\n",
    "# which number is missing?\n",
    "for i in range(1,n+1):\n",
    "    if i not in l:\n",
    "        print(f\"missing number is {i}\") # order of n square"
   ]
  },
  {
   "cell_type": "code",
   "execution_count": 60,
   "id": "632aa4e5",
   "metadata": {},
   "outputs": [
    {
     "name": "stdout",
     "output_type": "stream",
     "text": [
      "Non Repeated numbers are 7\n"
     ]
    },
    {
     "data": {
      "text/plain": [
       "7.0"
      ]
     },
     "execution_count": 60,
     "metadata": {},
     "output_type": "execute_result"
    }
   ],
   "source": [
    "l = [2, 9, 3, 5, 2, 4, 5, 1, 10, 6, 8, 1, 7, 8, 9, 10, 6, 3, 4] \n",
    "# Which number is not repeated\n",
    "for i in set(l):\n",
    "    if l.count(i) == 1:\n",
    "        print(f\"Non Repeated numbers are {i}\")\n",
    "\n",
    "sum_ = 2 *(n *(n +1)/2)\n",
    "num = sum_ - sum(l)\n",
    "num"
   ]
  },
  {
   "cell_type": "code",
   "execution_count": 13,
   "id": "e812d161",
   "metadata": {},
   "outputs": [
    {
     "name": "stdout",
     "output_type": "stream",
     "text": [
      "Duplicate number in l is 4\n",
      "Missing number is 5\n"
     ]
    }
   ],
   "source": [
    "l = [2, 3, 4, 1, 6, 7, 8, 10, 9, 4] \n",
    "# Which number is missing ?\n",
    "for i in range(1,11):\n",
    "    if i not in l:\n",
    "        print(f\"Missing number is {i}\")\n",
    "    if l.count(i) == 2:\n",
    "        print(f\"Duplicate number in l is {i}\")"
   ]
  },
  {
   "cell_type": "code",
   "execution_count": 76,
   "id": "4ccb7715",
   "metadata": {},
   "outputs": [
    {
     "name": "stdout",
     "output_type": "stream",
     "text": [
      "[1, 2, 3, 4, 4, 6, 7, 8, 9, 10]\n",
      "missing number : 5\n",
      "duplicate number : 4\n"
     ]
    }
   ],
   "source": [
    "l = [2, 3, 4, 1, 6, 7, 8, 10, 9, 4] \n",
    "l.sort()\n",
    "print(l)\n",
    "for i in range(len(l)-1):\n",
    "    if l[i + 1] - l[i] == 0:\n",
    "        print(\"missing number :\",l[i] +1)  \n",
    "        print(\"duplicate number :\",l[i])"
   ]
  },
  {
   "cell_type": "code",
   "execution_count": 43,
   "id": "d6577731",
   "metadata": {},
   "outputs": [],
   "source": [
    "emps = [\n",
    "    (1, \"a\",670),\n",
    "    (2, \"b\",657),\n",
    "    (3, \"c\",659),\n",
    "    (4, \"d\",658)\n",
    "]"
   ]
  },
  {
   "cell_type": "code",
   "execution_count": 58,
   "id": "b651ca40",
   "metadata": {},
   "outputs": [
    {
     "data": {
      "text/plain": [
       "[(2, 'b', 657), (4, 'd', 658), (3, 'c', 659), (1, 'a', 670)]"
      ]
     },
     "execution_count": 58,
     "metadata": {},
     "output_type": "execute_result"
    }
   ],
   "source": [
    "sorted_ = sorted(emps,key = lambda x: x[2])\n",
    "sorted_"
   ]
  },
  {
   "cell_type": "code",
   "execution_count": 57,
   "id": "12c822e3",
   "metadata": {},
   "outputs": [
    {
     "name": "stdout",
     "output_type": "stream",
     "text": [
      "1 is repeated 2 times\n"
     ]
    }
   ],
   "source": [
    "arr, occur = [1,2,3,4,5,6,7,8,0,1], [0,0,0,0,0,0,0,0,0,0];\n",
    "#n = int(input(\"please enter the size of array: \"))\n",
    "# for x in range(n):\n",
    "#     occur.append(0)\n",
    "# occur\n",
    "for x in range(len(arr)):\n",
    "    /#element = int(input(f\"please enter the element of array element between 0 to {n-1} :\"))\n",
    "    #arr.append(element)\n",
    "    occur[arr[x]]=occur[arr[x]]+1\n",
    "    \n",
    "for x in range(n):\n",
    "    if occur[x]>1:\n",
    "        print(f\"{x} is repeated {occur[x]} times\")"
   ]
  },
  {
   "cell_type": "code",
   "execution_count": 71,
   "id": "f4a4a868",
   "metadata": {},
   "outputs": [],
   "source": [
    "emp = [['eid', 'name', 'dept', 'salary', 'age'],\n",
    "        [1238, 'Vicky', 'Maths', 10000, 34],\n",
    "        [1236, 'Samantha', 'Maths',40000,29],\n",
    "        [1234, 'John', 'Physics', 23000, 23],\n",
    "        [1235, 'Christen', 'Maths', 13000, 37],\n",
    "        [1237, 'Amanda', 'Chemistry', 25000, 42]]"
   ]
  },
  {
   "cell_type": "code",
   "execution_count": 72,
   "id": "e0c0e6ad",
   "metadata": {},
   "outputs": [],
   "source": [
    "with open (\"data.csv\",\"w\") as f:\n",
    "    for row in emp:\n",
    "        for i in range(len(row)):\n",
    "            if type(row[i]) != str:\n",
    "                row[i] = str(row[i])\n",
    "        line = \",\".join(row) + \"\\n\" \n",
    "        f.write(line)"
   ]
  },
  {
   "cell_type": "code",
   "execution_count": 73,
   "id": "b6edb5ac",
   "metadata": {},
   "outputs": [
    {
     "name": "stdout",
     "output_type": "stream",
     "text": [
      "['eid', 'name', 'dept', 'salary', 'age']\n",
      "[1236, 'Samantha', 'Maths', 40000, 29]\n"
     ]
    }
   ],
   "source": [
    "with open (\"data.csv\",\"r\") as f:\n",
    "    \n",
    "    cols = f.readline().rstrip('\\n').split(',')\n",
    "    emps = []\n",
    "    print(cols)\n",
    "\n",
    "    for line in f:\n",
    "        emp = line.rstrip('\\n').split(',')\n",
    "        emp[0] = int(emp[0])\n",
    "        emp[3] = int(emp[3])\n",
    "        emp[4] = int(emp[4])\n",
    "        emps.append(emp)\n",
    "\n",
    "print(max(emps, key=lambda x:x[3]))"
   ]
  },
  {
   "cell_type": "code",
   "execution_count": 33,
   "id": "4a944b93",
   "metadata": {},
   "outputs": [],
   "source": [
    "#import csv"
   ]
  },
  {
   "cell_type": "code",
   "execution_count": 74,
   "id": "f6bb19ad",
   "metadata": {},
   "outputs": [],
   "source": [
    "# with open (\"data.csv\") as f:\n",
    "#     data = csv.reader(f)\n",
    "#     next(data)\n",
    "#     emps = []\n",
    "#     for row in data:\n",
    "#         row [0] = int(row[0])\n",
    "#         row [3] = int(row[3])\n",
    "#         row [4] = int(row[4])\n",
    "#         emps.append(row)\n",
    "# print(emps)\n",
    "# print(max(emps, key=lambda x:x[3]))"
   ]
  },
  {
   "cell_type": "code",
   "execution_count": 68,
   "id": "befc6e0a",
   "metadata": {},
   "outputs": [],
   "source": [
    "# emps = [(1238, 'Vicky', 'Maths', 10000, 34),\n",
    "#         (1236, 'Samantha', 'Maths',40000,29),\n",
    "#         (1234, 'John', 'Physics', 23000, 23),\n",
    "#         (1235, 'Christen', 'Maths', 13000, 37),\n",
    "#         (1237, 'Amanda', 'Chemistry', 25000, 42)]\n",
    "# fields = ('eid', 'name', 'dept', 'salary', 'age')\n",
    "\n",
    "# with open (\"data.csv\",\"w\") as f:\n",
    "#     emp_data = csv.writer(f)\n",
    "#     emp_data.writerow(fields)\n",
    "#     for row in emps:\n",
    "#         emp_data.writerow(row)"
   ]
  },
  {
   "cell_type": "code",
   "execution_count": 1,
   "id": "93caacdf",
   "metadata": {},
   "outputs": [],
   "source": [
    "# with open (\"data.csv\") as f:\n",
    "#     data = csv.reader(f)\n",
    "#     #next(data)\n",
    "#     for row in data:\n",
    "#         print(row)"
   ]
  },
  {
   "cell_type": "code",
   "execution_count": 42,
   "id": "55254772",
   "metadata": {},
   "outputs": [
    {
     "data": {
      "text/plain": [
       "dict_values([['eat', 'tea', 'ate'], ['tan', 'nat'], ['bat']])"
      ]
     },
     "execution_count": 42,
     "metadata": {},
     "output_type": "execute_result"
    }
   ],
   "source": [
    "strs = [\"eat\",\"tea\",\"tan\",\"ate\",\"nat\",\"bat\"]\n",
    "anagram = {}\n",
    "for word in strs:\n",
    "    sorted_word = \"\".join(sorted(word))\n",
    "    if sorted_word not in anagram:\n",
    "        anagram[sorted_word] = []\n",
    "    if sorted_word in anagram:\n",
    "        anagram[sorted_word].append(word)\n",
    "anagram.values()"
   ]
  },
  {
   "cell_type": "code",
   "execution_count": 31,
   "id": "8c15b070",
   "metadata": {},
   "outputs": [
    {
     "name": "stdout",
     "output_type": "stream",
     "text": [
      "{'aet': [], 'ant': [], 'abt': []}\n"
     ]
    },
    {
     "data": {
      "text/plain": [
       "dict_values([['eat', 'tea', 'ate'], ['tan', 'nat'], ['bat']])"
      ]
     },
     "execution_count": 31,
     "metadata": {},
     "output_type": "execute_result"
    }
   ],
   "source": [
    "strs = ['eat', 'ate', 'done', 'tea', 'soup', 'node']\n",
    "anagram = {}\n",
    "for word in strs:\n",
    "    sorted_word = \"\".join(sorted(word))\n",
    "    if sorted_word not in anagram:\n",
    "        anagram[sorted_word]= []\n",
    "print(anagram)\n",
    "\n",
    "for i in anagram:\n",
    "    for j in strs:\n",
    "        if sorted(i) == sorted(j):\n",
    "            anagram[i].append(j)\n",
    "anagram.values()        "
   ]
  },
  {
   "cell_type": "code",
   "execution_count": 34,
   "id": "dda4ba38",
   "metadata": {
    "scrolled": true
   },
   "outputs": [
    {
     "name": "stdout",
     "output_type": "stream",
     "text": [
      "{'aet': ['eat', 'tea', 'ate'], 'ant': ['tan', 'nat'], 'abt': ['bat']}\n"
     ]
    },
    {
     "data": {
      "text/plain": [
       "dict_values([['eat', 'tea', 'ate'], ['tan', 'nat'], ['bat']])"
      ]
     },
     "execution_count": 34,
     "metadata": {},
     "output_type": "execute_result"
    }
   ],
   "source": [
    "strs = [\"eat\",\"tea\",\"tan\",\"ate\",\"nat\",\"bat\"]\n",
    "anagram = {}\n",
    "for word in strs:\n",
    "    sorted_word = \"\".join(sorted(word))\n",
    "    if sorted_word not in anagram:\n",
    "        anagram[sorted_word]= []\n",
    "\n",
    "    for i in anagram:\n",
    "        if sorted(i) == sorted(word):\n",
    "            anagram[i].append(word)\n",
    "print(anagram)\n",
    "anagram.values()        "
   ]
  },
  {
   "cell_type": "code",
   "execution_count": null,
   "id": "d7693e52",
   "metadata": {},
   "outputs": [],
   "source": []
  },
  {
   "cell_type": "code",
   "execution_count": 41,
   "id": "583f49fe",
   "metadata": {},
   "outputs": [
    {
     "name": "stdout",
     "output_type": "stream",
     "text": [
      "{'aet': ['eat', 'ate', 'tea'], 'deno': ['done', 'node'], 'opsu': ['soup']}\n",
      "[['eat', 'ate', 'tea'], ['done', 'node'], ['soup']]\n"
     ]
    }
   ],
   "source": [
    "word_list = ['eat', 'ate', 'done', 'tea', 'soup', 'node']\n",
    "    \n",
    "anagram = {}\n",
    "for word in word_list:\n",
    "    sorted_word = \"\".join(sorted(word))\n",
    "    if sorted_word in anagram:\n",
    "        anagram[sorted_word].append(word)\n",
    "    else:\n",
    "        anagram[sorted_word] = [word]\n",
    "        \n",
    "print(list(anagram.values())) "
   ]
  },
  {
   "cell_type": "code",
   "execution_count": 19,
   "id": "2687918e",
   "metadata": {},
   "outputs": [
    {
     "data": {
      "text/plain": [
       "[{'a': {1, 2}}, {'b': {8, 9}}]"
      ]
     },
     "execution_count": 19,
     "metadata": {},
     "output_type": "execute_result"
    }
   ],
   "source": [
    "s = [{1,2},[2,1],[3,1]]\n",
    "s1 = [{\"a\": {1,2}},{\"b\":{9,8}}]\n",
    "s1"
   ]
  },
  {
   "cell_type": "code",
   "execution_count": 2,
   "id": "5132c55a",
   "metadata": {},
   "outputs": [
    {
     "name": "stdout",
     "output_type": "stream",
     "text": [
      "4\n"
     ]
    }
   ],
   "source": [
    "l = [\"salient\",\"silent\",\"listen\",\"kitten\",\"cat\"]\n",
    "\n",
    "anagram = {}\n",
    "\n",
    "for word in l:\n",
    "    word_sorted = \"\".join(sorted(word))\n",
    "    if word_sorted in anagram:\n",
    "        anagram[word_sorted].append(word)\n",
    "    else:\n",
    "        anagram[word_sorted] = [word]\n",
    "        \n",
    "print(len(list(anagram.values())))"
   ]
  },
  {
   "cell_type": "code",
   "execution_count": 23,
   "id": "72bf9d6d",
   "metadata": {},
   "outputs": [],
   "source": [
    "def Group_Anagrams(l):\n",
    "    \n",
    "    anagram = {}\n",
    "\n",
    "    for word in l:\n",
    "        word_sorted = \"\".join(sorted(word))\n",
    "        if word_sorted in anagram:\n",
    "            anagram[word_sorted].append(word)\n",
    "        else:\n",
    "            anagram[word_sorted] = [word]\n",
    "            \n",
    "\n",
    "    return(len(anagram))\n",
    "    "
   ]
  },
  {
   "cell_type": "code",
   "execution_count": 24,
   "id": "3ef9acff",
   "metadata": {},
   "outputs": [],
   "source": [
    "list1 = [\"salient\",\"silent\",\"listen\",\"kitten\",\"cat\"]\n",
    "list2 = [\"bank\",\"arc\",\"car\"]\n",
    "list3 = [\"act\",\"thing\",\"below\",\"elbow\",\"night\",\"cat\"]"
   ]
  },
  {
   "cell_type": "code",
   "execution_count": 25,
   "id": "166a3d9f",
   "metadata": {},
   "outputs": [
    {
     "name": "stdout",
     "output_type": "stream",
     "text": [
      "4\n",
      "2\n",
      "3\n"
     ]
    }
   ],
   "source": [
    "print(Group_Anagrams(list1))\n",
    "print(Group_Anagrams(list2))\n",
    "print(Group_Anagrams(list3))"
   ]
  },
  {
   "cell_type": "code",
   "execution_count": 54,
   "id": "5ea136e5",
   "metadata": {},
   "outputs": [],
   "source": [
    "def Group_Anagrams1():\n",
    "    \n",
    "    n = int(input(\"enter no of words:\"))\n",
    "    l = (input(\"word\").split(\",\"))[:n]\n",
    "        \n",
    "    anagram = {}\n",
    "\n",
    "    for word in l:\n",
    "        word_sorted = \"\".join(sorted(word))\n",
    "        if word_sorted in anagram:\n",
    "            anagram[word_sorted].append(word)\n",
    "        else:\n",
    "            anagram[word_sorted] = [word]\n",
    "            \n",
    "\n",
    "    return(len(anagram),anagram)\n",
    "   "
   ]
  },
  {
   "cell_type": "code",
   "execution_count": 57,
   "id": "94db3d5d",
   "metadata": {},
   "outputs": [
    {
     "name": "stdout",
     "output_type": "stream",
     "text": [
      "enter no of words:3\n",
      "wordact,act,bank\n"
     ]
    },
    {
     "data": {
      "text/plain": [
       "(2, {'act': ['act', 'act'], 'abkn': ['bank']})"
      ]
     },
     "execution_count": 57,
     "metadata": {},
     "output_type": "execute_result"
    }
   ],
   "source": [
    "Group_Anagrams1()"
   ]
  },
  {
   "cell_type": "code",
   "execution_count": 53,
   "id": "2ff2ea4b",
   "metadata": {},
   "outputs": [
    {
     "name": "stdout",
     "output_type": "stream",
     "text": [
      "[5, 5, 13, 13, 13, 13, 9, 9, 8, 8]\n"
     ]
    }
   ],
   "source": [
    "l =[2,1,5,4,3,13,6,9,7,8]\n",
    "#output : 5,5,13,13,13,13,9,9,8,8\n",
    "\n",
    "for i in range(len(l)):\n",
    "    max = l[0]\n",
    "    for j in range(i,len(l)):\n",
    "        if l[j] > l[i]:\n",
    "            max = l[j]\n",
    "            l[i] = l[j]\n",
    "            break\n",
    "print(l)"
   ]
  },
  {
   "cell_type": "code",
   "execution_count": null,
   "id": "432e1076",
   "metadata": {},
   "outputs": [],
   "source": []
  },
  {
   "cell_type": "code",
   "execution_count": 81,
   "id": "69af5321",
   "metadata": {},
   "outputs": [
    {
     "name": "stdout",
     "output_type": "stream",
     "text": [
      "[2, 5, 5, 4, 3, 13, 6, 9, 7, 8]\n"
     ]
    }
   ],
   "source": [
    "lst =[2,1,5,4,3,13,6,9,7,8]\n",
    "for i in range(len(lst)-1):\n",
    "    if lst[i+1] > lst[i]:\n",
    "        lst[i] = lst[i+1]\n",
    "        break\n",
    "                   \n",
    "print(lst)\n",
    "            \n",
    "        "
   ]
  }
 ],
 "metadata": {
  "kernelspec": {
   "display_name": "Python 3 (ipykernel)",
   "language": "python",
   "name": "python3"
  },
  "language_info": {
   "codemirror_mode": {
    "name": "ipython",
    "version": 3
   },
   "file_extension": ".py",
   "mimetype": "text/x-python",
   "name": "python",
   "nbconvert_exporter": "python",
   "pygments_lexer": "ipython3",
   "version": "3.9.13"
  }
 },
 "nbformat": 4,
 "nbformat_minor": 5
}

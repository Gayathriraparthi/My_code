{
 "cells": [
  {
   "cell_type": "markdown",
   "id": "675e6db7",
   "metadata": {},
   "source": [
    "### Define what a function is in Python.\n",
    "\n"
   ]
  },
  {
   "cell_type": "markdown",
   "id": "24d90da7",
   "metadata": {},
   "source": [
    "1. Definition of a Function in Python:\n",
    "In Python, a function is a reusable block of code that performs a specific task or set of tasks. Functions are designed to encapsulate a particular piece of functionality, allowing you to execute that functionality by calling the function's name. Functions are a fundamental concept in programming and are used to organize and modularize code, making it more manageable and easier to understand."
   ]
  },
  {
   "cell_type": "markdown",
   "id": "da1d7e2d",
   "metadata": {},
   "source": [
    "### •\tExplain the purpose of using functions in programming."
   ]
  },
  {
   "cell_type": "markdown",
   "id": "000a56e2",
   "metadata": {},
   "source": [
    "2. Purpose of Using Functions in Programming:\n",
    "The primary purposes of using functions in programming are:\n",
    "\n",
    "a. Reusability: Functions allow you to define a block of code once and reuse it multiple times throughout your program. This reduces code duplication and makes maintenance easier.\n",
    "\n",
    "b. Modularity: Functions help break down complex programs into smaller, more manageable parts. Each function can focus on a specific task, making the code more organized and easier to maintain.\n",
    "\n",
    "c. Abstraction: Functions abstract away the implementation details of a particular task. This means you can use a function without needing to understand how it works internally, as long as you know what input it requires and what output it provides.\n",
    "\n",
    "d. Readability: Using functions makes your code more readable and self-explanatory. Function names should be descriptive, indicating their purpose, which makes it easier for others (and yourself) to understand the code.\n",
    "\n",
    "e. Testing and Debugging: Functions allow you to test and debug individual parts of your program independently. This makes it easier to identify and fix issues.\n",
    "\n"
   ]
  },
  {
   "cell_type": "markdown",
   "id": "c3fd9146",
   "metadata": {},
   "source": [
    "### •\tHow do you define a function in Python?"
   ]
  },
  {
   "cell_type": "markdown",
   "id": "56995dd6",
   "metadata": {},
   "source": [
    "Function Definition in Python:\n",
    "To define a function in Python, you use the def keyword followed by the function name, parentheses, and a colon. Here's the basic syntax:\n",
    "\n",
    "\"\"\"def function_name(parameters):\n",
    "    # Function body\n",
    "    # Code to perform a specific task\n",
    "    # ...\"\"\"\n"
   ]
  },
  {
   "cell_type": "markdown",
   "id": "df54a762",
   "metadata": {},
   "source": [
    "### •\tWhat are the components of a function definition?"
   ]
  },
  {
   "cell_type": "markdown",
   "id": "3a769b0a",
   "metadata": {},
   "source": [
    "Components of a Function Definition:\n",
    "\n",
    "Function Name: This is the identifier for your function. It should follow Python's variable naming conventions and be descriptive of the function's purpose.\n",
    "\n",
    "Parameters (Optional): Inside the parentheses, you can specify zero or more parameters (also called arguments) that the function can accept. Parameters are placeholders for the values that the function will work with.\n",
    "\n",
    "Colon (:): A colon is used to indicate the beginning of the function body.\n",
    "\n",
    "Docstring: This is an optional multi-line string enclosed in triple double-quotes (\"\"\"). It serves as documentation for the function, explaining what the function does, what parameters it expects, and what it returns. It is good practice to include a descriptive docstring to make your code more understandable.\n",
    "\n",
    "Function body: The function body consists of one or more statements that define the behavior of the function. These statements are indented and execute when the function is called.\n",
    "\n",
    "return: This is an optional keyword that specifies the value(s) that the function should return as its result. A function can return one or more values, and you can use the return statement to pass these values back to the caller.\n"
   ]
  },
  {
   "cell_type": "code",
   "execution_count": 2,
   "id": "3506c70c",
   "metadata": {},
   "outputs": [
    {
     "data": {
      "text/plain": [
       "'Hello, Alice!'"
      ]
     },
     "execution_count": 2,
     "metadata": {},
     "output_type": "execute_result"
    }
   ],
   "source": [
    "def greet(name):\n",
    "    # Function body\n",
    "    return(f\"Hello, {name}!\")\n",
    "\n",
    "# Calling the function\n",
    "greet(\"Alice\")  \n",
    "\n",
    "#In this example, greet is the function name, name is the parameter, and print(f\"Hello, {name}!\") is the function body.\n",
    "#When you call greet(\"Alice\"), it executes the code in the function body with \"Alice\" as the value of the name parameter.\n"
   ]
  },
  {
   "cell_type": "markdown",
   "id": "2e4aa7e7",
   "metadata": {},
   "source": [
    "### 1. How to Call (Invoke) a Function in Python:\n",
    "To call or invoke a function in Python, you simply use the function's name followed by parentheses, and you can pass any required arguments within the parentheses. Here's the syntax:\n",
    "\n",
    "python\n",
    "Copy code\n",
    "function_name(arguments)\n",
    "For example, if you have a function called greet that takes a name parameter, you can call it like this:\n",
    "\n",
    "python\n",
    "Copy code\n",
    "greet(\"Alice\")\n"
   ]
  },
  {
   "cell_type": "markdown",
   "id": "f360960b",
   "metadata": {},
   "source": [
    "#### What Happens When a Function is Invoked:\n",
    "When a function is invoked, the program's control jumps to the function definition. The code inside the function executes, and any return statements return values or exit the function. Control returns to the caller."
   ]
  },
  {
   "cell_type": "markdown",
   "id": "17187e61",
   "metadata": {},
   "source": [
    "### 2. What Happens When a Function is Invoked:\n",
    "When a function is invoked:\n",
    "\n",
    "The program's control flow jumps to the function definition.\n",
    "If the function has parameters, the arguments you provide during the function call are bound to those parameters.\n",
    "The code inside the function body is executed.\n",
    "Any return statements encountered within the function will return a value to the caller or exit the function.\n",
    "Control returns to the caller, continuing execution after the function call.\n"
   ]
  },
  {
   "cell_type": "markdown",
   "id": "2bcb22b5",
   "metadata": {},
   "source": [
    "### 4. Purpose of the Return Statement in a Function:\n",
    "The return statement is used in a function to specify the value that the function should return to the caller. It serves the following purposes:\n",
    "\n",
    "It allows a function to produce a result that can be used elsewhere in the program.\n",
    "It terminates the execution of the function, exiting early if needed.\n",
    "Functions can have multiple return statements, but only one of them will be executed based on the condition or path taken within the function.\n"
   ]
  },
  {
   "cell_type": "markdown",
   "id": "6d93d001",
   "metadata": {},
   "source": [
    "### Can a Function Have Multiple Return Statements?\n",
    "Yes, a function can have multiple return statements. The first executed return statement exits the function and returns its value. Subsequent return statements won't be executed."
   ]
  },
  {
   "cell_type": "markdown",
   "id": "cb4d5b90",
   "metadata": {},
   "source": [
    "### 5. Difference Between Function Parameters and Function Arguments:\n",
    "\n",
    "Function Parameters: \n",
    "Parameters are placeholders or variables defined within the function's definition. They specify what kind of data the function expects to receive when it is called.\n",
    "Parameters are essentially names for values that the function will use as input. They act as variables that store the values passed to the function.\n",
    "Parameters are defined when you create the function and are listed inside the function's parentheses. \n",
    "\n",
    "Function Arguments: Arguments are the actual values or expressions that are passed to a function when it is called. These values are substituted into the corresponding parameters defined in the function.\n",
    "Arguments are provided when you invoke or call the function. They are the data that you want the function to operate on.\n",
    "\n"
   ]
  },
  {
   "cell_type": "code",
   "execution_count": 1,
   "id": "605ae411",
   "metadata": {},
   "outputs": [],
   "source": [
    "def add_numbers(x, y):  # x and y are parameters\n",
    "    result = x + y\n",
    "    return result\n",
    "\n",
    "result = add_numbers(3, 5)  # 3 and 5 are arguments\n",
    "#Here, 3 and 5 are the arguments that are passed to the add_numbers function, and they are substituted for the parameters x and y within the function."
   ]
  },
  {
   "cell_type": "markdown",
   "id": "873bec2c",
   "metadata": {},
   "source": [
    "### 6. Passing Arguments to a Function:\n",
    "Arguments are passed to a function by placing them inside the parentheses when calling the function. For example:\n",
    "\n",
    "python\n",
    "Copy code\n",
    "def add(x, y):\n",
    "    result = x + y\n",
    "    return result\n",
    "\n",
    "sum = add(3, 5)\n",
    "In this example, 3 and 5 are the arguments passed to the add function.\n",
    "\n"
   ]
  },
  {
   "cell_type": "markdown",
   "id": "f854c10d",
   "metadata": {},
   "source": [
    "### 7. Function Naming Conventions:\n",
    "\n",
    "Function names should be lowercase with words separated by underscores (snake_case).\n",
    "They should be descriptive and indicate the function's purpose.\n",
    "Use verbs or verb phrases to name functions (e.g., calculate_total, print_report).\n"
   ]
  },
  {
   "cell_type": "markdown",
   "id": "7154ade4",
   "metadata": {},
   "source": [
    "### How to Pass Arguments to a Function:\n",
    "Pass arguments by placing them inside the parentheses when calling the function."
   ]
  },
  {
   "cell_type": "markdown",
   "id": "8082f6ca",
   "metadata": {},
   "source": [
    "### Naming Conventions for Functions in Python:\n",
    "Use lowercase with underscores (snake_case). Names should be descriptive and indicate the function's purpose, using verbs or verb phrases.\n",
    "\n"
   ]
  },
  {
   "cell_type": "markdown",
   "id": "cea08dc6",
   "metadata": {},
   "source": [
    "### How to Choose Appropriate Names for Functions:\n",
    "Choose names that describe what the function does. Names should be clear, concise, and follow naming conventions."
   ]
  },
  {
   "cell_type": "markdown",
   "id": "4812d101",
   "metadata": {},
   "source": [
    "### What is a Docstring in Python, and Why is it Important:\n",
    "\n",
    "A docstring in Python is a multi-line string that provides documentation and describes a function's purpose, parameters, return values, and usage.\n",
    "It is enclosed within triple quotes (single or double) immediately below the function definition.\n",
    "Proper docstrings are important for code readability and documentation generation tools.\n"
   ]
  },
  {
   "cell_type": "markdown",
   "id": "d8108d8c",
   "metadata": {},
   "source": [
    "### How to Write a Proper Docstring for a Function:\n",
    "Place a multi-line string immediately below the function definition using triple quotes. Describe the function's purpose, parameters, and return values."
   ]
  },
  {
   "cell_type": "markdown",
   "id": "2505ff7f",
   "metadata": {},
   "source": [
    "### 9. Function Scope:\n",
    "\n",
    "Variables defined inside a function have local scope, meaning they are only accessible within that function.\n",
    "Functions can access variables defined in outer scopes (e.g., global variables), but you need to use the global keyword to modify global variables within a function.\n"
   ]
  },
  {
   "cell_type": "markdown",
   "id": "259ca4c1",
   "metadata": {},
   "source": [
    "### Can a Function Access Variables Defined Outside of It:\n",
    "Yes, a function can access variables defined in outer scopes (e.g., global variables)."
   ]
  },
  {
   "cell_type": "markdown",
   "id": "2ccbe36e",
   "metadata": {},
   "source": [
    "### 10. Nested Functions:\n",
    "\n",
    "A nested function is a function defined inside another function. It has access to its parent function's variables.\n",
    "You can call a nested function from the outer function by using its name as if it were any other function.\n"
   ]
  },
  {
   "cell_type": "markdown",
   "id": "df8b00bd",
   "metadata": {},
   "source": [
    "### Calling a Nested Function from the Outer Function:\n",
    "Call a nested function as you would any other function, using its name within the outer function."
   ]
  },
  {
   "cell_type": "markdown",
   "id": "6db63756",
   "metadata": {},
   "source": [
    "### 11. Function Overloading:\n",
    "\n",
    "Python does not support traditional function overloading, as seen in languages like C++. In Python, you can't have multiple functions with the same name but different parameter types or counts.\n",
    "To achieve similar functionality, you can use default arguments and variable-length argument lists (e.g., *args, **kwargs) to make functions more flexible.\n"
   ]
  },
  {
   "cell_type": "markdown",
   "id": "ce7d4ba5",
   "metadata": {},
   "source": [
    "### Python's Support for Function Overloading:\n",
    "Python doesn't support traditional function overloading like C++. Functions are determined by name and parameter types, not by return types."
   ]
  },
  {
   "cell_type": "markdown",
   "id": "d3d58869",
   "metadata": {},
   "source": [
    "### Achieving Function Overloading in Python: \n",
    "Use default arguments or variable-length argument lists (e.g., args, *kwargs) to create flexible functions.\n"
   ]
  },
  {
   "cell_type": "markdown",
   "id": "6500f367",
   "metadata": {},
   "source": [
    "### 12. Default Values for Function Parameters:\n",
    "\n",
    "Yes, you can define default values for function parameters in Python. These default values are used when the caller does not provide a value for that parameter during the function call.\n",
    "Default values allow you to make certain parameters optional.\n"
   ]
  },
  {
   "cell_type": "markdown",
   "id": "e1ab63c6",
   "metadata": {},
   "source": [
    "### Effect of Default Values on Function Behavior:\n",
    "Default values are used if the caller doesn't provide a value for that parameter during the function call."
   ]
  },
  {
   "cell_type": "markdown",
   "id": "f479fda2",
   "metadata": {},
   "source": [
    "### 13. Pass by Value or Reference:\n",
    "\n",
    "Python uses a mechanism that is often called \"pass by object reference\" or \"call by object reference.\" When you pass arguments to a function, you are passing references to objects, not the objects themselves.\n",
    "Immutable objects (e.g., integers, strings) behave like \"pass by value\" because changes to their values inside a function do not affect the original object. Mutable objects (e.g., lists, dictionaries) can be modified inside a function, affecting the original object.\n"
   ]
  },
  {
   "cell_type": "markdown",
   "id": "ba86e622",
   "metadata": {},
   "source": [
    "### Python's Argument Passing Mechanism:\n",
    "Python uses \"pass by object reference.\" Arguments passed to functions are references to objects."
   ]
  },
  {
   "cell_type": "markdown",
   "id": "16f2af64",
   "metadata": {},
   "source": [
    "### Mutable and Immutable Objects:\n",
    "\n",
    "Immutable objects (e.g., integers, strings) can't be modified in place.\n",
    "Mutable objects (e.g., lists, dictionaries) can be modified in place."
   ]
  },
  {
   "cell_type": "markdown",
   "id": "9b30272c",
   "metadata": {},
   "source": [
    "### 14. Anonymous Functions (Lambda):\n",
    "\n",
    "A lambda function is a small, anonymous function defined using the lambda keyword.\n",
    "Lambda functions can take any number of arguments but can only have one expression.\n",
    "They are typically used for short, simple operations where a full function definition is not necessary.\n"
   ]
  },
  {
   "cell_type": "markdown",
   "id": "15495964",
   "metadata": {},
   "source": [
    "### Defining and Using Lambda Functions:\n",
    "Use the lambda keyword followed by parameters and an expression. Use them in places where you need a small, one-time-use function."
   ]
  },
  {
   "cell_type": "markdown",
   "id": "c6ceba13",
   "metadata": {},
   "source": [
    "### Typical Use Cases for Lambda Functions:\n",
    "Commonly used for sorting, filtering, mapping, and quick, disposable functions"
   ]
  },
  {
   "cell_type": "markdown",
   "id": "c83f6e84",
   "metadata": {},
   "source": [
    "### Recursion in Python:\n",
    "Recursion is a technique where a function calls itself to solve a problem. It involves a base case and a recursive case.\n",
    "\n"
   ]
  },
  {
   "cell_type": "code",
   "execution_count": 11,
   "id": "1c01420f",
   "metadata": {},
   "outputs": [
    {
     "data": {
      "text/plain": [
       "120"
      ]
     },
     "execution_count": 11,
     "metadata": {},
     "output_type": "execute_result"
    }
   ],
   "source": [
    "def factorial(n):\n",
    "    if n == 0:\n",
    "        return 1\n",
    "    else:\n",
    "        return n * factorial(n - 1)\n",
    "    \n",
    "factorial(5)"
   ]
  },
  {
   "cell_type": "markdown",
   "id": "18609160",
   "metadata": {},
   "source": [
    "### 15. Function Signatures:\n",
    "\n",
    "A function signature refers to the unique combination of a function's name and the number and type of its parameters. It does not include the return type.\n",
    "Python determines function overloading and method resolution based on the function name and parameter types, not the return type.\n",
    "Two functions can have the same name and different signatures, as long as their parameter types or counts differ. This is known as function overloading in Python, although it's not the same as in languages like C++.\n",
    "\n",
    "\n",
    "\n"
   ]
  },
  {
   "cell_type": "markdown",
   "id": "fc70fdc2",
   "metadata": {},
   "source": [
    "### Function Signature in Python:\n",
    "A function signature is a combination of a function's name and the number and types of its parameters. It doesn't include the return type.\n"
   ]
  },
  {
   "cell_type": "markdown",
   "id": "a10e058c",
   "metadata": {},
   "source": [
    "### Functions with the Same Name but Different Signatures:\n",
    "In Python, you can't have two functions with the same name and different parameter types or counts. The name and parameter types determine a function's identity."
   ]
  },
  {
   "cell_type": "markdown",
   "id": "3713b117",
   "metadata": {},
   "source": [
    "### Positional Arguments:"
   ]
  },
  {
   "cell_type": "markdown",
   "id": "0e9c160f",
   "metadata": {},
   "source": [
    "#### What are positional arguments in a Python function?\n",
    "Positional arguments are the most common type of function arguments in Python. They are passed to a function based on their position or order in the function's parameter list.\n",
    "\n"
   ]
  },
  {
   "cell_type": "markdown",
   "id": "85f675d3",
   "metadata": {},
   "source": [
    "#### How are positional arguments passed to a function, and how do you access them within the function?\n",
    "Positional arguments are passed by simply placing them in the same order as the function parameters when calling the function. Within the function, you access them by referring to the corresponding parameter names."
   ]
  },
  {
   "cell_type": "markdown",
   "id": "6a808dab",
   "metadata": {},
   "source": [
    "### 2. Default Arguments:\n",
    "\n"
   ]
  },
  {
   "cell_type": "markdown",
   "id": "b96cf403",
   "metadata": {},
   "source": [
    "#### What are default arguments in Python functions?\n",
    "Default arguments are function parameters that have preset values. If a caller doesn't provide a value for these parameters, the default value is used.\n"
   ]
  },
  {
   "cell_type": "markdown",
   "id": "a0910563",
   "metadata": {},
   "source": [
    "#### How do you define a function with default arguments?\n",
    "You define a function with default arguments by assigning values to the parameters in the function's header.\n",
    "\n"
   ]
  },
  {
   "cell_type": "markdown",
   "id": "727285b3",
   "metadata": {},
   "source": [
    "#### When would you use default arguments in a function?\n",
    "Default arguments are useful when you want to make certain parameters optional, providing a default value when the caller doesn't specify one. This makes functions more flexible."
   ]
  },
  {
   "cell_type": "markdown",
   "id": "9970deeb",
   "metadata": {},
   "source": [
    "### 3. Keyword Arguments:\n",
    "\n"
   ]
  },
  {
   "cell_type": "markdown",
   "id": "601f5846",
   "metadata": {},
   "source": [
    "#### What are keyword arguments in Python?\n",
    "Keyword arguments are arguments passed to a function using the parameter names (keywords) in the function call. This allows you to specify arguments out of order.\n",
    "\n"
   ]
  },
  {
   "cell_type": "markdown",
   "id": "7409a0cc",
   "metadata": {},
   "source": [
    "#### How do you pass keyword arguments to a function, and how are they accessed within the function?\n",
    "Keyword arguments are passed by specifying the parameter name followed by the value in the function call. Within the function, you access them by using the parameter names."
   ]
  },
  {
   "cell_type": "markdown",
   "id": "a6c20b9c",
   "metadata": {},
   "source": [
    "### 4. Variable-Length Argument Lists:"
   ]
  },
  {
   "cell_type": "markdown",
   "id": "f60d9172",
   "metadata": {},
   "source": [
    "#### What is the purpose of variable-length argument lists in Python?\n",
    "Variable-length argument lists allow functions to accept a variable number of arguments. This makes functions more flexible when you don't know in advance how many arguments will be passed."
   ]
  },
  {
   "cell_type": "markdown",
   "id": "38379725",
   "metadata": {},
   "source": [
    "### **Explain the use of *args and kwargs in function definitions.\n",
    "\n",
    "*args allows a function to accept a variable number of positional arguments as a tuple.\n",
    "**kwargs allows a function to accept a variable number of keyword arguments as a dictionary."
   ]
  },
  {
   "cell_type": "code",
   "execution_count": 12,
   "id": "f328ab24",
   "metadata": {},
   "outputs": [
    {
     "name": "stdout",
     "output_type": "stream",
     "text": [
      "Positional argument: 1\n",
      "Positional argument: 2\n",
      "Positional argument: 3\n",
      "Keyword argument name: Alice\n",
      "Keyword argument age: 30\n"
     ]
    }
   ],
   "source": [
    "#Provide an example of a function that uses *args and kwargs.\n",
    "\n",
    "def print_arguments(*args, **kwargs):\n",
    "    for arg in args:\n",
    "        print(f\"Positional argument: {arg}\")\n",
    "    for key, value in kwargs.items():\n",
    "        print(f\"Keyword argument {key}: {value}\")\n",
    "\n",
    "print_arguments(1, 2, 3, name=\"Alice\", age=30)"
   ]
  },
  {
   "cell_type": "markdown",
   "id": "faf5f13d",
   "metadata": {},
   "source": [
    "### 5. Order of Arguments:"
   ]
  },
  {
   "cell_type": "markdown",
   "id": "1faefd13",
   "metadata": {},
   "source": [
    "#### When defining a function, what is the order of arguments for positional, default, and keyword arguments?\n",
    "The order of arguments should be:\n",
    "\n",
    "Positional arguments\n",
    "Default arguments\n",
    "Keyword arguments"
   ]
  },
  {
   "cell_type": "markdown",
   "id": "f418b083",
   "metadata": {},
   "source": [
    "#### Can you have keyword arguments before positional arguments in a function definition?\n",
    "No, keyword arguments must follow positional arguments in a function definition."
   ]
  },
  {
   "cell_type": "markdown",
   "id": "1e08377b",
   "metadata": {},
   "source": [
    "### 6. Argument Unpacking:"
   ]
  },
  {
   "cell_type": "markdown",
   "id": "95e2a235",
   "metadata": {},
   "source": [
    "#### How do you unpack elements from a list or tuple and pass them as arguments to a function?\n",
    "You can use the * operator to unpack elements from a list or tuple and pass them as positional arguments to a function. Similarly, you can use ** to unpack a dictionary and pass its key-value pairs as keyword arguments.\n"
   ]
  },
  {
   "cell_type": "code",
   "execution_count": 13,
   "id": "506a1406",
   "metadata": {},
   "outputs": [],
   "source": [
    "#Provide an example of using argument unpacking.\n",
    "\n",
    "def add(a, b):\n",
    "    return a + b\n",
    "\n",
    "numbers = (2, 3)\n",
    "result = add(*numbers)"
   ]
  },
  {
   "cell_type": "markdown",
   "id": "f64a7d02",
   "metadata": {},
   "source": [
    "### 7. Function Overloading:"
   ]
  },
  {
   "cell_type": "markdown",
   "id": "7b6daf0c",
   "metadata": {},
   "source": [
    "#### Does Python support function overloading like some other languages (e.g., C++)?\n",
    "No, Python does not support traditional function overloading as seen in languages like C++. Function names alone determine their identity."
   ]
  },
  {
   "cell_type": "markdown",
   "id": "47538de9",
   "metadata": {},
   "source": [
    "#### How can you achieve function overloading in Python?\n",
    "You can achieve similar functionality by using default arguments and variable-length argument lists like *args and **kwargs to make functions more flexible."
   ]
  },
  {
   "cell_type": "markdown",
   "id": "6a1003f3",
   "metadata": {},
   "source": [
    "### 8.Mutable Default Arguments:"
   ]
  },
  {
   "cell_type": "markdown",
   "id": "06054bec",
   "metadata": {},
   "source": [
    "#### What are mutable default arguments, and why should you be cautious when using them?\n",
    "Mutable default arguments are objects like lists or dictionaries that are created only once and shared across function calls. You should be cautious because modifications to mutable default arguments persist between calls."
   ]
  },
  {
   "cell_type": "code",
   "execution_count": 14,
   "id": "e0af0330",
   "metadata": {},
   "outputs": [],
   "source": [
    "#Provide an example demonstrating the issue with mutable default arguments.\n",
    "\n",
    "def append_to_list(item, my_list=[]):\n",
    "    my_list.append(item)\n",
    "    return my_list\n",
    "\n",
    "list1 = append_to_list(1)  # [1]\n",
    "list2 = append_to_list(2)  # [1, 2] (unexpected behavior)"
   ]
  },
  {
   "cell_type": "markdown",
   "id": "290fbcf0",
   "metadata": {},
   "source": [
    "### 9. Argument Annotation (Type Hinting):"
   ]
  },
  {
   "cell_type": "markdown",
   "id": "217881c5",
   "metadata": {},
   "source": [
    "#### What is argument annotation or type hinting in Python?\n",
    "Argument annotation or type hinting is a way to provide hints about the expected types of function parameters and return values in function definitions."
   ]
  },
  {
   "cell_type": "markdown",
   "id": "71a34332",
   "metadata": {},
   "source": [
    "#### How does type hinting improve code readability and maintainability?\n",
    "Type hinting improves code readability by making it clear what types are expected, and it can help catch type-related errors early.\n",
    "\n"
   ]
  },
  {
   "cell_type": "markdown",
   "id": "f474503f",
   "metadata": {},
   "source": [
    "### 10. Arbitrary Keyword Arguments:"
   ]
  },
  {
   "cell_type": "markdown",
   "id": "bf5bf115",
   "metadata": {},
   "source": [
    "#### **What is the purpose of the kwargs syntax in a function definition?\n",
    "The **kwargs syntax in a function definition allows a function to accept a variable number of keyword arguments as a dictionary."
   ]
  },
  {
   "cell_type": "markdown",
   "id": "ed5b815c",
   "metadata": {},
   "source": [
    "#### How can you use arbitrary keyword arguments to create flexible functions?\n",
    "By accepting **kwargs, you can handle additional keyword arguments without needing to modify the function's parameter list.\n",
    "\n"
   ]
  },
  {
   "cell_type": "markdown",
   "id": "365474c8",
   "metadata": {},
   "source": [
    "### 11. Function Signature and Argument Count:"
   ]
  },
  {
   "cell_type": "markdown",
   "id": "627618a1",
   "metadata": {},
   "source": [
    "#### Is it possible to determine the number and names of arguments a function accepts programmatically in Python?\n",
    "Yes, you can inspect a function's signature and argument names programmatically using built-in modules like inspect."
   ]
  },
  {
   "cell_type": "markdown",
   "id": "20e89a53",
   "metadata": {},
   "source": [
    "### 12. Function Arguments and Polymorphism:\n",
    "\n"
   ]
  },
  {
   "cell_type": "markdown",
   "id": "f60b90b3",
   "metadata": {},
   "source": [
    "#### How do function arguments contribute to achieving polymorphism in Python?\n",
    "In Python, functions can accept arguments of different types, allowing for polymorphism. Polymorphism enables different objects to respond to the same method or function call in a way that is appropriate for their type."
   ]
  },
  {
   "cell_type": "code",
   "execution_count": 15,
   "id": "dfd0f936",
   "metadata": {},
   "outputs": [
    {
     "name": "stdout",
     "output_type": "stream",
     "text": [
      "78.5\n",
      "16\n"
     ]
    }
   ],
   "source": [
    "#Provide an example of polymorphism using function arguments.\n",
    "\n",
    "def area(shape):\n",
    "    return shape.area()\n",
    "\n",
    "class Circle:\n",
    "    def __init__(self, radius):\n",
    "        self.radius = radius\n",
    "    def area(self):\n",
    "        return 3.14 * self.radius ** 2\n",
    "\n",
    "class Square:\n",
    "    def __init__(self, side_length):\n",
    "        self.side_length = side_length\n",
    "    def area(self):\n",
    "        return self.side_length ** 2\n",
    "\n",
    "circle = Circle(5)\n",
    "square = Square(4)\n",
    "\n",
    "print(area(circle))  # Calls Circle's area method\n",
    "print(area(square))  # Calls Square's area method\n"
   ]
  },
  {
   "cell_type": "markdown",
   "id": "0efd1994",
   "metadata": {},
   "source": [
    "# Decorators"
   ]
  },
  {
   "cell_type": "markdown",
   "id": "f4c365bd",
   "metadata": {},
   "source": [
    "#### 1. What is a Decorator in Python:\n",
    "\n",
    "Explain the concept of decorators in Python:\n",
    "A decorator in Python is a design pattern that allows you to enhance or modify the behavior of functions or methods without changing their source code. Decorators are functions themselves and are typically used to wrap other functions, adding functionality before or after the wrapped function's execution.\n"
   ]
  },
  {
   "cell_type": "markdown",
   "id": "62d26d8c",
   "metadata": {},
   "source": [
    "#### How do decorators enhance the functionality of functions?\n",
    "Decorators enhance functionality by allowing you to:\n",
    "\n",
    "Add pre-processing or post-processing logic to functions.\n",
    "Modify function arguments or return values.\n",
    "Control access to functions (e.g., authentication, authorization).\n",
    "Measure execution time or perform logging."
   ]
  },
  {
   "cell_type": "markdown",
   "id": "86107bb1",
   "metadata": {},
   "source": [
    "### 2. How do you define a decorator function:\n",
    "\n",
    "Provide an example of a simple decorator function:"
   ]
  },
  {
   "cell_type": "code",
   "execution_count": 5,
   "id": "e3558e54",
   "metadata": {},
   "outputs": [
    {
     "name": "stdout",
     "output_type": "stream",
     "text": [
      "Something is happening before the function is called.\n",
      "Hello!\n",
      "Something is happening after the function is called.\n"
     ]
    }
   ],
   "source": [
    "def my_decorator(func):\n",
    "    def wrapper():\n",
    "        print(\"Something is happening before the function is called.\")\n",
    "        func()\n",
    "        print(\"Something is happening after the function is called.\")\n",
    "    return wrapper\n",
    "\n",
    "@my_decorator\n",
    "def say_hello():\n",
    "    print(\"Hello!\")\n",
    "\n",
    "say_hello()"
   ]
  },
  {
   "cell_type": "markdown",
   "id": "b6d6c960",
   "metadata": {},
   "source": [
    "#### What are the key components of a decorator?\n",
    "\n",
    "The decorator function itself (e.g., my_decorator).\n",
    "The wrapper function inside the decorator (e.g., wrapper).\n",
    "The function to be decorated (e.g., say_hello).\n",
    "The @ symbol used to apply the decorator to a function (e.g., @my_decorator)."
   ]
  },
  {
   "cell_type": "markdown",
   "id": "748a03e1",
   "metadata": {},
   "source": [
    "### 3. Usage of \"@\" Symbol:"
   ]
  },
  {
   "cell_type": "markdown",
   "id": "8cb52965",
   "metadata": {},
   "source": [
    "#### How do you apply a decorator to a function using the \"@\" symbol?\n",
    "To apply a decorator using the @ symbol, place the decorator's name above the function definition you want to decorate, like this: @decorator_name."
   ]
  },
  {
   "cell_type": "markdown",
   "id": "d09283f5",
   "metadata": {},
   "source": [
    "#### Can you apply multiple decorators to a single function? If so, how?\n",
    "Yes, you can apply multiple decorators to a single function by stacking them on top of each other, with the innermost decorator closest to the function definition. For example:"
   ]
  },
  {
   "cell_type": "code",
   "execution_count": null,
   "id": "cae30e4a",
   "metadata": {},
   "outputs": [],
   "source": [
    "@decorator1\n",
    "@decorator2\n",
    "@decorator3\n",
    "def my_function():\n",
    "    #code...."
   ]
  },
  {
   "cell_type": "markdown",
   "id": "e4d7972c",
   "metadata": {},
   "source": [
    "#### 4. Built-in Decorators:\n",
    "\n",
    "Explain the purpose of built-in decorators like @staticmethod, @classmethod, and @property.\n",
    "\n",
    "@staticmethod: Used to define static methods that don't depend on instance-specific data.\n",
    "@classmethod: Used to define class methods that can access or modify class-level attributes.\n",
    "@property: Used to define getter methods to access object attributes as if they were properties."
   ]
  },
  {
   "cell_type": "code",
   "execution_count": 23,
   "id": "f8427a4f",
   "metadata": {},
   "outputs": [
    {
     "name": "stdout",
     "output_type": "stream",
     "text": [
      "This is a static method\n",
      "This is a class method. Class variable: 10\n",
      "42\n"
     ]
    }
   ],
   "source": [
    "#Provide examples of when and how to use each of these built-in decorators.\n",
    "\n",
    "class MyClass:\n",
    "    class_variable = 10\n",
    "\n",
    "    def __init__(self, value):\n",
    "        self.value = value\n",
    "\n",
    "    @staticmethod\n",
    "    def static_method():\n",
    "        print(\"This is a static method\")\n",
    "\n",
    "    @classmethod\n",
    "    def class_method(cls):\n",
    "        print(f\"This is a class method. Class variable: {cls.class_variable}\")\n",
    "\n",
    "    @property\n",
    "    def get_value(self):\n",
    "        return self.value\n",
    "\n",
    "obj = MyClass(42)\n",
    "obj.static_method()\n",
    "obj.class_method()\n",
    "print(obj.get_value)\n"
   ]
  },
  {
   "cell_type": "markdown",
   "id": "25360cd9",
   "metadata": {},
   "source": [
    "### 5. Creating Custom Decorators:\n",
    "\n"
   ]
  },
  {
   "cell_type": "markdown",
   "id": "6c4aa9f0",
   "metadata": {},
   "source": [
    "#### How can you create a custom decorator in Python?\n",
    "To create a custom decorator, define a function that takes another function as an argument, wraps it with additional functionality, and returns the wrapper function."
   ]
  },
  {
   "cell_type": "markdown",
   "id": "a45eeba3",
   "metadata": {},
   "source": [
    "#### Provide a scenario where creating a custom decorator would be useful.\n",
    "A custom decorator can be useful for implementing access control to certain routes in a web application. For example, you can create an @authenticated decorator to ensure that only authenticated users can access specific views"
   ]
  },
  {
   "cell_type": "markdown",
   "id": "dc05eca4",
   "metadata": {},
   "source": [
    "###  6. Passing Arguments to Decorators:"
   ]
  },
  {
   "cell_type": "markdown",
   "id": "4e4ad928",
   "metadata": {},
   "source": [
    "#### Is it possible to pass arguments to a decorator function? If so, how?\n",
    "Yes, you can pass arguments to a decorator by creating a decorator function that takes additional arguments. The decorator function then returns the actual decorator that wraps the target function."
   ]
  },
  {
   "cell_type": "code",
   "execution_count": 20,
   "id": "ad30be05",
   "metadata": {},
   "outputs": [
    {
     "name": "stdout",
     "output_type": "stream",
     "text": [
      "Hello, Alice!\n",
      "Hello, Alice!\n",
      "Hello, Alice!\n"
     ]
    }
   ],
   "source": [
    "#Give an example of a decorator that takes arguments and explain its use case.\n",
    "\n",
    "def repeat(n):\n",
    "    def decorator(func):\n",
    "        def wrapper(*args, **kwargs):\n",
    "            for _ in range(n):\n",
    "                func(*args, **kwargs)\n",
    "        return wrapper\n",
    "    return decorator\n",
    "\n",
    "@repeat(3)\n",
    "def say_hello(name):\n",
    "    print(f\"Hello, {name}!\")\n",
    "\n",
    "say_hello(\"Alice\")"
   ]
  },
  {
   "cell_type": "markdown",
   "id": "5a5299d8",
   "metadata": {},
   "source": [
    "### 7. Order of Execution:"
   ]
  },
  {
   "cell_type": "markdown",
   "id": "831d9262",
   "metadata": {},
   "source": [
    "#### Explain the order of execution when multiple decorators are applied to a function.\n",
    "When multiple decorators are applied to a function, they are executed from the innermost to the outermost decorator, following a nesting order."
   ]
  },
  {
   "cell_type": "markdown",
   "id": "e109939d",
   "metadata": {},
   "source": [
    "#### How does the order of decorator application affect the function's behavior?\n",
    "The order of decorator application can affect the behavior of the function. Decorators closer to the function definition are executed first, and their effects are applied before the effects of decorators higher up in the stack."
   ]
  },
  {
   "cell_type": "markdown",
   "id": "1ed2a071",
   "metadata": {},
   "source": [
    "### 8.Decorators and Function Signatures:"
   ]
  },
  {
   "cell_type": "markdown",
   "id": "57151159",
   "metadata": {},
   "source": [
    "#### How do decorators affect the function signature and docstring of the decorated function?\n",
    "By default, decorators replace the original function's name, docstring, and signature with those of the wrapper function. This can lead to issues when inspecting the decorated function."
   ]
  },
  {
   "cell_type": "markdown",
   "id": "227dac7c",
   "metadata": {},
   "source": [
    "#### Is there a way to preserve the original function's signature and docstring when using decorators?\n",
    "Yes, you can use tools like functools.wraps to preserve the original function's signature and docstring when creating decorators."
   ]
  },
  {
   "cell_type": "markdown",
   "id": "b7d25578",
   "metadata": {},
   "source": [
    "### 9.Error Handling in Decorators:\n",
    "\n"
   ]
  },
  {
   "cell_type": "markdown",
   "id": "2304d425",
   "metadata": {},
   "source": [
    "#### How can you handle exceptions within a decorator function?\n",
    "You can use a try-except block within the decorator function to handle exceptions raised during the execution of the wrapped function."
   ]
  },
  {
   "cell_type": "code",
   "execution_count": 18,
   "id": "0b84b6d9",
   "metadata": {},
   "outputs": [
    {
     "name": "stdout",
     "output_type": "stream",
     "text": [
      "An error occurred: division by zero\n"
     ]
    }
   ],
   "source": [
    "#Provide an example of a decorator that handles exceptions.\n",
    "\n",
    "def handle_exception(func):\n",
    "    def wrapper(*args, **kwargs):\n",
    "        try:\n",
    "            return func(*args, **kwargs)\n",
    "        except Exception as e:\n",
    "            print(f\"An error occurred: {e}\")\n",
    "    return wrapper\n",
    "\n",
    "@handle_exception\n",
    "def divide(a, b):\n",
    "    return a / b\n",
    "\n",
    "result = divide(10, 0)"
   ]
  },
  {
   "cell_type": "markdown",
   "id": "140d7826",
   "metadata": {},
   "source": [
    "### 10. Caching with Decorators:\n",
    "\n"
   ]
  },
  {
   "cell_type": "markdown",
   "id": "fa1feafb",
   "metadata": {},
   "source": [
    "#### What is memoization, and how can decorators be used to implement it?\n",
    "Memoization is a technique of storing and reusing the results of expensive function calls to optimize performance. Decorators can be used to implement memoization by caching the results of function calls.\n",
    "\n"
   ]
  },
  {
   "cell_type": "code",
   "execution_count": 17,
   "id": "f9228161",
   "metadata": {},
   "outputs": [
    {
     "name": "stdout",
     "output_type": "stream",
     "text": [
      "55\n"
     ]
    }
   ],
   "source": [
    "#Give an example of a decorator that caches function results.\n",
    "\n",
    "import functools\n",
    "\n",
    "def memoize(func):\n",
    "    cache = {}\n",
    "    @functools.wraps(func)\n",
    "    def wrapper(*args):\n",
    "        if args not in cache:\n",
    "            cache[args] = func(*args)\n",
    "        return cache[args]\n",
    "    return wrapper\n",
    "\n",
    "@memoize\n",
    "def fib(n):\n",
    "    if n < 2:\n",
    "        return n\n",
    "    else:\n",
    "        return fib(n - 1) + fib(n - 2)\n",
    "\n",
    "print(fib(10))"
   ]
  },
  {
   "cell_type": "code",
   "execution_count": null,
   "id": "6cba0645",
   "metadata": {},
   "outputs": [],
   "source": []
  }
 ],
 "metadata": {
  "kernelspec": {
   "display_name": "Python 3 (ipykernel)",
   "language": "python",
   "name": "python3"
  },
  "language_info": {
   "codemirror_mode": {
    "name": "ipython",
    "version": 3
   },
   "file_extension": ".py",
   "mimetype": "text/x-python",
   "name": "python",
   "nbconvert_exporter": "python",
   "pygments_lexer": "ipython3",
   "version": "3.11.4"
  }
 },
 "nbformat": 4,
 "nbformat_minor": 5
}

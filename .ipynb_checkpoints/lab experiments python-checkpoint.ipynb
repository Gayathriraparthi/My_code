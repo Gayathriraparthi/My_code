{
 "cells": [
  {
   "cell_type": "code",
   "execution_count": 3,
   "id": "a322249a",
   "metadata": {},
   "outputs": [
    {
     "name": "stdout",
     "output_type": "stream",
     "text": [
      "30\n",
      "10\n"
     ]
    }
   ],
   "source": [
    "#Write a program to add and subtract two numbers\n",
    "a = 20\n",
    "b = 10\n",
    "add = a + b\n",
    "if a > b:\n",
    "    substract = a - b\n",
    "    \n",
    "else:\n",
    "    substract = b - a\n",
    "    \n",
    "print(add)\n",
    "print(substract)\n",
    "    \n"
   ]
  },
  {
   "cell_type": "code",
   "execution_count": 4,
   "id": "34b6c128",
   "metadata": {},
   "outputs": [
    {
     "name": "stdout",
     "output_type": "stream",
     "text": [
      "200\n",
      "2.0\n"
     ]
    }
   ],
   "source": [
    "#Write a program to multiply and divide two numbers.\n",
    "multiplication = a * b\n",
    "division = a/b\n",
    "print(multiplication)\n",
    "print(division)"
   ]
  },
  {
   "cell_type": "code",
   "execution_count": 5,
   "id": "d0fbe29c",
   "metadata": {},
   "outputs": [
    {
     "name": "stdout",
     "output_type": "stream",
     "text": [
      "400\n",
      "1000\n"
     ]
    }
   ],
   "source": [
    "'''Write a program to find the square and cube of a given number'''\n",
    "square = a ** 2\n",
    "cube = b ** 3\n",
    "print(square)\n",
    "print(cube)"
   ]
  },
  {
   "cell_type": "code",
   "execution_count": 6,
   "id": "eaa9213e",
   "metadata": {},
   "outputs": [
    {
     "name": "stdout",
     "output_type": "stream",
     "text": [
      "4.47213595499958\n"
     ]
    }
   ],
   "source": [
    "#Write a program to find the square root of a given number.\n",
    "sqrt = a ** .5\n",
    "print(sqrt)"
   ]
  },
  {
   "cell_type": "code",
   "execution_count": 8,
   "id": "5f313c83",
   "metadata": {},
   "outputs": [
    {
     "name": "stdout",
     "output_type": "stream",
     "text": [
      "enter side of square :5\n",
      "25.0\n",
      "20.0\n"
     ]
    }
   ],
   "source": [
    "#Write a program to find the area and perimeter of a square.\n",
    "side = float(input('enter side of square :'))\n",
    "area_square = side * side\n",
    "perimeter_square = side *4\n",
    "print(area_square)\n",
    "print(perimeter_square)"
   ]
  },
  {
   "cell_type": "code",
   "execution_count": 9,
   "id": "303e28fc",
   "metadata": {},
   "outputs": [
    {
     "name": "stdout",
     "output_type": "stream",
     "text": [
      "enter radius :5\n",
      "78.53981633974483\n",
      "31.41592653589793\n"
     ]
    }
   ],
   "source": [
    "#Write a program to find the area and circumference of a circle.\n",
    "radius = float(input('enter radius :'))\n",
    "from math import pi\n",
    "area_circle = pi * (radius ** 2)\n",
    "circumference = 2 * pi * radius\n",
    "print(area_circle)\n",
    "print(circumference)"
   ]
  },
  {
   "cell_type": "code",
   "execution_count": 16,
   "id": "346e9576",
   "metadata": {},
   "outputs": [
    {
     "name": "stdout",
     "output_type": "stream",
     "text": [
      "enter radius :2\n",
      "50.26548245743669\n"
     ]
    }
   ],
   "source": [
    "#Write a program to find the area of a sphere.\n",
    "radius = float(input('enter radius :'))\n",
    "area_sphere = 4 * pi * (radius ** 2)\n",
    "print(area_sphere)"
   ]
  },
  {
   "cell_type": "code",
   "execution_count": 18,
   "id": "fa2151db",
   "metadata": {},
   "outputs": [
    {
     "name": "stdout",
     "output_type": "stream",
     "text": [
      "enter radius :2\n",
      "enter height :3\n",
      "37.69911184307752\n"
     ]
    }
   ],
   "source": [
    "# Write a program to find the volume of a cylinder.\n",
    "radius = float(input('enter radius :'))\n",
    "height = float(input('enter height :'))\n",
    "volume_cylinder = pi * (radius ** 2) * height\n",
    "print(volume_cylinder)\n"
   ]
  },
  {
   "cell_type": "code",
   "execution_count": 19,
   "id": "07e8d10f",
   "metadata": {},
   "outputs": [
    {
     "name": "stdout",
     "output_type": "stream",
     "text": [
      "enter age in yrs :27\n",
      "9855.0\n"
     ]
    }
   ],
   "source": [
    "#Write a program to find your age in days.\n",
    "age = float(input('enter age in yrs :'))\n",
    "age_in_days = age * 365\n",
    "print(age_in_days)"
   ]
  },
  {
   "cell_type": "code",
   "execution_count": 22,
   "id": "8e7165e8",
   "metadata": {},
   "outputs": [
    {
     "name": "stdout",
     "output_type": "stream",
     "text": [
      "enter in rupees :1000\n",
      "enter in yrs :2\n",
      "enter in decimal :2\n",
      "4000.0\n",
      "8000.0\n"
     ]
    }
   ],
   "source": [
    "#Write a program to find the simple interest and compound interest.\n",
    "principle = float(input('enter in rupees :'))\n",
    "tenure = float(input('enter in yrs :'))\n",
    "intrst = float(input('enter in decimal :'))\n",
    "simple_interest = principle * tenure * intrst\n",
    "compound_interest = (principle *(1 + intrst )  ** tenure ) - principle\n",
    "print(simple_interest)\n",
    "print(compound_interest)"
   ]
  },
  {
   "cell_type": "code",
   "execution_count": 3,
   "id": "e2238c11",
   "metadata": {},
   "outputs": [
    {
     "name": "stdout",
     "output_type": "stream",
     "text": [
      "enter speed in km/hr :5\n"
     ]
    },
    {
     "data": {
      "text/plain": [
       "3.1068499999999997"
      ]
     },
     "execution_count": 3,
     "metadata": {},
     "output_type": "execute_result"
    }
   ],
   "source": [
    "#Write a program to convert speed of a vehicle given in km/hour to miles/hour.\n",
    "speed_kmperhr = float(input('enter speed in km/hr :'))\n",
    "speed_milesperhr = speed_kmperhr * 0.62137\n",
    "speed_milesperhr\n"
   ]
  },
  {
   "cell_type": "code",
   "execution_count": 30,
   "id": "51b18777",
   "metadata": {},
   "outputs": [
    {
     "name": "stdout",
     "output_type": "stream",
     "text": [
      "enter time in sec :123456789\n",
      "34293 hours- 33 minutes - 9 seconds\n"
     ]
    }
   ],
   "source": [
    "'''Write a program to convert the given seconds into hours – minutes – seconds.'''\n",
    "time_in_sec = int(input('enter time in sec :'))\n",
    "hour = int(time_in_sec /3600)\n",
    "minutes = int((time_in_sec % 3600) / 60)\n",
    "sec = int((time_in_sec % 3600) % 60)\n",
    "time_on_format = f'{hour} hours- {minutes} minutes - {sec} seconds'\n",
    "print(time_on_format)\n"
   ]
  },
  {
   "cell_type": "code",
   "execution_count": 34,
   "id": "5ae63486",
   "metadata": {},
   "outputs": [
    {
     "name": "stdout",
     "output_type": "stream",
     "text": [
      "enter bought milk in ltrs:4\n",
      "enter bought milk price per liter:3.25\n",
      "enter sell milk price per ltrs:4.15\n",
      "7.75\n"
     ]
    }
   ],
   "source": [
    "''' A milk vendor buys milk at the rate of 3.25/lt then adds a litre of water for every\n",
    "4 litres of milk and sells the water milk at the rate of 4.15/lt. Calculate the gain\n",
    "for milk vendor.'''\n",
    "intial_milk = float(input('enter bought milk in ltrs:'))\n",
    "final_milk = (buy_milk * 0.25) + buy_milk\n",
    "buy_price = float(input('enter bought milk price per liter:')) \n",
    "sell_price = float(input('enter sell milk price per ltrs:'))\n",
    "profit = (final_milk * sell_price) - (intial_milk * buy_price)\n",
    "print(profit)\n"
   ]
  },
  {
   "cell_type": "code",
   "execution_count": 36,
   "id": "fcb0dd5c",
   "metadata": {},
   "outputs": [
    {
     "name": "stdout",
     "output_type": "stream",
     "text": [
      "enter temp in farenheit :98.6\n",
      "37.0\n"
     ]
    }
   ],
   "source": [
    "'''The temperature of the city is input through the keyboard in Fahrenheit. Write\n",
    "a program to convert into Celsius.'''\n",
    "temp_farenheit = float(input('enter temp in farenheit :'))\n",
    "temp_celsius = (temp_farenheit - 32) *(5/9)\n",
    "print(temp_celsius)"
   ]
  },
  {
   "cell_type": "code",
   "execution_count": 37,
   "id": "6c984baa",
   "metadata": {},
   "outputs": [
    {
     "name": "stdout",
     "output_type": "stream",
     "text": [
      "10 20\n"
     ]
    }
   ],
   "source": [
    "'''Two numbers are input into two locations ‘a’ and ‘b’. Write a program to\n",
    "interchange the contents of ‘a’ and ‘b’ without using temporary variables.'''\n",
    "a = 20\n",
    "b = 10\n",
    "a , b = b , a\n",
    "print(a,b)\n"
   ]
  },
  {
   "cell_type": "code",
   "execution_count": 41,
   "id": "8ecf9371",
   "metadata": {},
   "outputs": [
    {
     "name": "stdout",
     "output_type": "stream",
     "text": [
      "5.0\n"
     ]
    }
   ],
   "source": [
    "'''Given the coordinates of two points (x1, y1) and (x2, y2). Write a program to find\n",
    "the distance between these two points.'''\n",
    "x1 , y1 = 4,3\n",
    "x2 , y2 = 0,0\n",
    "distance = (((x2 - x1) ** 2) + ((y2 - y1) ** 2))**.5\n",
    "print(distance)\n"
   ]
  },
  {
   "cell_type": "code",
   "execution_count": 4,
   "id": "881b9dda",
   "metadata": {},
   "outputs": [
    {
     "name": "stdout",
     "output_type": "stream",
     "text": [
      "enter basic salary in numbers:40000\n"
     ]
    },
    {
     "data": {
      "text/plain": [
       "64000.0"
      ]
     },
     "execution_count": 4,
     "metadata": {},
     "output_type": "execute_result"
    }
   ],
   "source": [
    "'''Rajesh’s basic salary is input through the keyboard. His D.A. is 40% of basic\n",
    "salary, and H.R.A. is 20% of basic salary. Write a program to calculate his\n",
    "gross salary.'''\n",
    "basic_salary = float(input('enter basic salary in numbers:'))\n",
    "da = basic_salary * .4\n",
    "hra = basic_salary * .2\n",
    "gross_salary = basic_salary + da + hra\n",
    "gross_salary"
   ]
  },
  {
   "cell_type": "code",
   "execution_count": 3,
   "id": "11c4faaa",
   "metadata": {},
   "outputs": [
    {
     "name": "stdout",
     "output_type": "stream",
     "text": [
      "enter the distance in kms :1\n",
      "distance in meters 1000.0,distance in cms 100000.0\n"
     ]
    }
   ],
   "source": [
    "'''The distance between two cities in Km. is input through the keyboard. Write a\n",
    "program to convert and print the result in meters and centimetres.'''\n",
    "distance = float(input('enter the distance in kms :'))\n",
    "distance_mts = distance * 1000\n",
    "distance_cm = distance * 100000\n",
    "print(f'distance in meters {distance_mts},distance in cms {distance_cm}')"
   ]
  },
  {
   "cell_type": "code",
   "execution_count": 4,
   "id": "e021f2d7",
   "metadata": {},
   "outputs": [
    {
     "name": "stdout",
     "output_type": "stream",
     "text": [
      "enter the money in dollars:50\n",
      "4125.5\n"
     ]
    }
   ],
   "source": [
    "''' Write a program which accepts the amount in dollars and convert into rupees.'''\n",
    "amount_in_dollars = float(input('enter the money in dollars:'))\n",
    "\n",
    "amount_in_rupees = amount_in_dollars * 82.51\n",
    "print(amount_in_rupees)\n"
   ]
  },
  {
   "cell_type": "code",
   "execution_count": 6,
   "id": "cfa1cb9d",
   "metadata": {},
   "outputs": [
    {
     "name": "stdout",
     "output_type": "stream",
     "text": [
      "Enter the address: gollaprolu,ap\n",
      "Address is:  gollaprolu,ap\n"
     ]
    }
   ],
   "source": [
    "'''Write a program to read your address and print it.'''\n",
    "address = input ( \"Enter the address: \" )\n",
    "print(\"Address is: \",address)\n"
   ]
  },
  {
   "cell_type": "code",
   "execution_count": 7,
   "id": "c272fc67",
   "metadata": {},
   "outputs": [
    {
     "name": "stdout",
     "output_type": "stream",
     "text": [
      "enter the base in cms:5\n",
      "enter the height in cms:5\n",
      "12.5\n"
     ]
    }
   ],
   "source": [
    "''' Write a program to print the area of a triangle if b and h values are given.'''\n",
    "base = float(input('enter the base in cms:'))\n",
    "height = float(input('enter the height in cms:'))\n",
    "area_triangle = base * height * .5\n",
    "print(area_triangle)"
   ]
  },
  {
   "cell_type": "code",
   "execution_count": 8,
   "id": "5b31bd67",
   "metadata": {},
   "outputs": [
    {
     "name": "stdout",
     "output_type": "stream",
     "text": [
      "enter the side 1 in cms:2\n",
      "enter the side 2 in cms:2\n",
      "enter the side 3 in cms:2\n",
      "1.7320508075688772\n"
     ]
    }
   ],
   "source": [
    "''' Write a program to print the area of a triangle if three sides are given.'''\n",
    "a = float(input('enter the side 1 in cms:'))\n",
    "b = float(input('enter the side 2 in cms:'))\n",
    "c = float(input('enter the side 3 in cms:'))\n",
    "s = ( a + b + c)/2\n",
    "area_triangle = (s * (s - a) * (s - b) * (s - c)) ** 0.5\n",
    "print(area_triangle)"
   ]
  },
  {
   "cell_type": "code",
   "execution_count": 7,
   "id": "894349c2",
   "metadata": {},
   "outputs": [
    {
     "name": "stdout",
     "output_type": "stream",
     "text": [
      "enter the telugu marks:101\n",
      "enter the english marks:101\n",
      "enter the hindi marks:101\n",
      "invalid input\n"
     ]
    }
   ],
   "source": [
    "# Write a program to read the marks of 3 subjects and display the total, average,class.\n",
    "telugu = float(input('enter the telugu marks:'))\n",
    "english = float(input('enter the english marks:'))\n",
    "hindi = float(input('enter the hindi marks:'))\n",
    "total = telugu + english + hindi\n",
    "average = (total)/ 3\n",
    "\n",
    "if average < 40 and average >= 0 :\n",
    "    class_ = 'fail'\n",
    "elif average >= 40 and average < 65:\n",
    "    class_ = 'third'\n",
    "elif average >= 65 and average < 80:\n",
    "    class_ = 'second'\n",
    "elif average >= 80 and average < 101:\n",
    "    class_ = 'first'\n",
    "else:\n",
    "    class_ = 'invalid input'\n",
    "    \n",
    "print(class_)   \n",
    "    \n",
    "\n",
    "\n"
   ]
  },
  {
   "cell_type": "code",
   "execution_count": 13,
   "id": "da8e79e6",
   "metadata": {},
   "outputs": [
    {
     "name": "stdout",
     "output_type": "stream",
     "text": [
      "enter any number: -2\n",
      " -2.0 is negative\n"
     ]
    }
   ],
   "source": [
    "# Write a program to check whether the given number is positive or negative.\n",
    "num = float(input('enter any number: '))\n",
    "if num > 0:\n",
    "    print(f' {num} is positive')\n",
    "elif num < 0:\n",
    "    print(f' {num} is negative')\n",
    "else:\n",
    "    print(f'{num} is neither positive nor negative ')\n"
   ]
  },
  {
   "cell_type": "code",
   "execution_count": 20,
   "id": "b3d95627",
   "metadata": {},
   "outputs": [
    {
     "name": "stdout",
     "output_type": "stream",
     "text": [
      "enter any number: 3\n",
      " 3 is odd\n"
     ]
    }
   ],
   "source": [
    "# Write a program to find out the given number is odd or even.\n",
    "num = int(input('enter any number: '))\n",
    "if num % 2 == 0:\n",
    "    print(f' {num} is even')\n",
    "else:\n",
    "    print(f' {num} is odd')\n",
    "\n"
   ]
  },
  {
   "cell_type": "code",
   "execution_count": 21,
   "id": "282a248b",
   "metadata": {},
   "outputs": [
    {
     "name": "stdout",
     "output_type": "stream",
     "text": [
      "enter number:5\n",
      "enter number:4\n",
      "4 is smaller than 5\n"
     ]
    }
   ],
   "source": [
    "# Write a program to find smallest of given two numbers.\n",
    "a = int(input('enter number:'))\n",
    "b = int(input('enter number:'))\n",
    "if a < b :\n",
    "    print(f'{a} is smaller than {b}')\n",
    "elif b < a:\n",
    "    print(f'{b} is smaller than {a}')\n",
    "    "
   ]
  },
  {
   "cell_type": "code",
   "execution_count": 2,
   "id": "f11f3abf",
   "metadata": {},
   "outputs": [
    {
     "name": "stdout",
     "output_type": "stream",
     "text": [
      "enter x number:4\n",
      "enter y number:5\n",
      "enter z number:3\n",
      "5 is greater than 4,3\n"
     ]
    }
   ],
   "source": [
    "# Write a program to find biggest of given three numbers.\n",
    "x = int(input('enter x number:'))\n",
    "y = int(input('enter y number:'))\n",
    "z = int(input('enter z number:'))\n",
    "if x > y and x > z:\n",
    "    print(f'{x} is greater than {y},{z}')\n",
    "elif y > x and y > z:\n",
    "    print(f'{y} is greater than {x},{z}')\n",
    "else:\n",
    "    print(f'{z} is greater than {y},{x}')\n"
   ]
  },
  {
   "cell_type": "code",
   "execution_count": 4,
   "id": "0147f10b",
   "metadata": {},
   "outputs": [
    {
     "name": "stdout",
     "output_type": "stream",
     "text": [
      "enter year:2100\n",
      "2100 is leap year\n"
     ]
    }
   ],
   "source": [
    "# Write a program to check whether the given year is leap year or not.\n",
    "year = int(input('enter year:'))\n",
    "if year % 4 == 0:\n",
    "    print(f'{year} is leap year')\n",
    "else:\n",
    "    print(f'{year} is not leap year')\n",
    "        "
   ]
  },
  {
   "cell_type": "code",
   "execution_count": 9,
   "id": "ae620259",
   "metadata": {},
   "outputs": [
    {
     "name": "stdout",
     "output_type": "stream",
     "text": [
      "-2.0 -3.0\n",
      "real and distinct\n"
     ]
    }
   ],
   "source": [
    "# Write a program to find the roots of a given quadratic equation and print the nature of roots.\n",
    "\n",
    "b = 5 ; c = 6 ; a = 1\n",
    "\n",
    "d = (b**2) - (4 * a * c)\n",
    "\n",
    "x1 = (-b + (b**2 - (4*a*c))) / 2 * a\n",
    "x2 = (-b - (b**2 - (4*a*c))) / 2 * a\n",
    "\n",
    "print(x1,x2)\n",
    "\n",
    "if d > 0:\n",
    "    print('real and distinct')\n",
    "elif d == 0:\n",
    "    print('real and equal')\n",
    "elif d < 0:\n",
    "    print('complex and distinct')\n",
    "\n",
    "\n",
    "\n"
   ]
  },
  {
   "cell_type": "code",
   "execution_count": 3,
   "id": "f1e746e6",
   "metadata": {},
   "outputs": [
    {
     "name": "stdout",
     "output_type": "stream",
     "text": [
      "enter num:0\n",
      "enter num:1\n",
      "enter num:324\n",
      "enter num:-234\n"
     ]
    }
   ],
   "source": [
    "#Write a program to read positive numbers continuously until negative number is given by using ‘if’.\n",
    "num = int(input('enter num:'))\n",
    "flag = True\n",
    "\n",
    "while flag:\n",
    "    num = int(input('enter num:'))\n",
    "    if num >= 0:\n",
    "        pass\n",
    "    else:\n",
    "        flag = False   "
   ]
  },
  {
   "cell_type": "code",
   "execution_count": null,
   "id": "737beedc",
   "metadata": {},
   "outputs": [],
   "source": [
    "# Write a program to read ten numbers and print their sum by using ‘if’ statement.\n",
    "flag = True; _sum = 0; n = 1\n",
    "while flag:\n",
    "    _sum += int(input('Enter a num :'))\n",
    "    n += 1\n",
    "    if n <=10:\n",
    "        pass\n",
    "    else:\n",
    "        \n",
    "        flag = False\n",
    "    print(f'Total sum is {_sum}')"
   ]
  },
  {
   "cell_type": "code",
   "execution_count": 12,
   "id": "34477477",
   "metadata": {},
   "outputs": [
    {
     "name": "stdout",
     "output_type": "stream",
     "text": [
      "Enter a num :1\n",
      "Enter a num :1\n",
      "Enter a num :1\n",
      "Enter a num :1\n",
      "Enter a num :1\n",
      "Enter a num :1\n",
      "Enter a num :1\n",
      "Enter a num :1\n",
      "Enter a num :1\n",
      "Enter a num :1\n",
      "Total sum is 10\n"
     ]
    }
   ],
   "source": [
    "# Write a program to read ten numbers and print their sum by using ‘if’ statement.\n",
    "_sum = 0; n = 1\n",
    "while n <= 10:\n",
    "    _sum += int(input('Enter a num :'))\n",
    "    n += 1\n",
    "    \n",
    "print(f'Total sum is {_sum}')"
   ]
  },
  {
   "cell_type": "code",
   "execution_count": 13,
   "id": "28d6714b",
   "metadata": {},
   "outputs": [
    {
     "name": "stdout",
     "output_type": "stream",
     "text": [
      "Enter number 1: 1\n",
      "Enter number 2: 2\n",
      "Enter number 3: 3\n",
      "Enter number 4: 4\n",
      "Enter number 5: 5\n",
      "Enter number 6: 6\n",
      "Enter number 7: 7\n",
      "Enter number 8: 8\n",
      "Enter number 9: 9\n",
      "Enter number 10: 10\n",
      "The sum of positive numbers is: 55\n"
     ]
    }
   ],
   "source": [
    "sum = 0\n",
    "\n",
    "# Read ten numbers\n",
    "for i in range(1, 11):\n",
    "    number = int(input(\"Enter number {}: \".format(i)))\n",
    "    \n",
    "    # Check if the number is positive\n",
    "    if number > 0:\n",
    "        sum += number\n",
    "\n",
    "print(\"The sum of positive numbers is:\", sum)\n"
   ]
  },
  {
   "cell_type": "code",
   "execution_count": 15,
   "id": "08e7276d",
   "metadata": {},
   "outputs": [
    {
     "name": "stdout",
     "output_type": "stream",
     "text": [
      "Enter side a 4\n",
      "Enter side b 5\n",
      "Enter side c 5\n",
      "isosceles\n"
     ]
    }
   ],
   "source": [
    "# Write a program to read three sides a, b, c of a triangle and print the type of the triangle.\n",
    "a = int(input(\"Enter side a \"))\n",
    "b = int(input(\"Enter side b \"))\n",
    "c = int(input(\"Enter side c \"))\n",
    "\n",
    "if a == b == c:\n",
    "    print('equilateral')\n",
    "elif a == b or b == c or a == c:\n",
    "    print('isosceles')\n",
    "elif a != b != c:\n",
    "     print('sacalene')\n",
    "    \n"
   ]
  },
  {
   "cell_type": "code",
   "execution_count": 20,
   "id": "1dc0e1c5",
   "metadata": {},
   "outputs": [
    {
     "name": "stdout",
     "output_type": "stream",
     "text": [
      "enter monthly sales income:5000\n",
      "6150.0\n"
     ]
    }
   ],
   "source": [
    "'''Write a program to calculate the monthly income of a person using the\n",
    "following commission schedule:\n",
    "Monthly sales income\n",
    ">= Rs.50,000 Rs.375 + 16% sales.\n",
    ">= Rs.50,000 but >=Rs.40,000 Rs. 350+14% sales.\n",
    "<= Rs.40,000 but >=Rs.30,000 Rs. 325+12% sales.\n",
    "<= Rs.30,000 but >=Rs.20,000 Rs. 300+9% sales.\n",
    "<= Rs.20,000 but >=Rs.10,000 Rs. 250+5% sales.\n",
    "<= Rs.10,000 Rs. 200+3% sales.'''\n",
    "\n",
    "Monthly_sales_income = float(input('enter monthly sales income:'))\n",
    "\n",
    "\n",
    "if Monthly_sales_income >= 50000:\n",
    "    income = (375 * 30) + (Monthly_sales_income * 0.16)\n",
    "elif Monthly_sales_income < 50000 and Monthly_sales_income >= 40000:\n",
    "    income = (350 * 30) + (Monthly_sales_income * 0.14)\n",
    "elif Monthly_sales_income < 40000 and Monthly_sales_income >= 30000:\n",
    "    income = (325 * 30) + (Monthly_sales_income * 0.12)\n",
    "elif Monthly_sales_income < 30000 and Monthly_sales_income >= 20000:\n",
    "    income = (300 * 30) + (Monthly_sales_income * 0.09)\n",
    "elif Monthly_sales_income < 20000 and Monthly_sales_income >= 10000:\n",
    "    income = (250 * 30) + (Monthly_sales_income * 0.05)\n",
    "elif Monthly_sales_income <= 20000 and Monthly_sales_income > 0 :\n",
    "    income = (200 * 30) + (Monthly_sales_income * 0.03)\n",
    "else:\n",
    "    income = 'enter valid data'\n",
    "print(income)\n",
    "    \n"
   ]
  },
  {
   "cell_type": "code",
   "execution_count": 23,
   "id": "22b95b90",
   "metadata": {},
   "outputs": [
    {
     "name": "stdout",
     "output_type": "stream",
     "text": [
      "enter 3 digit number:123\n",
      "no\n"
     ]
    }
   ],
   "source": [
    "'''Write a program to read a 3-digit number and find whether the middle digit is\n",
    "numerically equal to the sum of the other two digits and prints an appropriate\n",
    "response.'''\n",
    "num = input('enter 3 digit number:')\n",
    "\n",
    "if int(num[1]) == int(num[0]) + int(num[2]):\n",
    "    print('yes')\n",
    "else:\n",
    "    print('no')\n",
    "    \n"
   ]
  },
  {
   "cell_type": "code",
   "execution_count": 24,
   "id": "33065b37",
   "metadata": {},
   "outputs": [
    {
     "name": "stdout",
     "output_type": "stream",
     "text": [
      "enter married or unmarried :married\n",
      "enter male or female:male\n",
      "enter age in number :30\n",
      "you are eligible for insurance\n"
     ]
    }
   ],
   "source": [
    "''' A Company insures its drivers in the following cases.\n",
    "1. If the driver is married.\n",
    "2. If the driver is unmarried, male and above 30 years of age.\n",
    "3. if the driver is unmarried, female and above 25 years of age.\n",
    "In all other cases, the driver is not insured. If the marital status, sex, age of the\n",
    "driver are the inputs, write a program to determine whether the driver is insured\n",
    "or not.'''\n",
    "\n",
    "marital_status = input('enter married or unmarried :')\n",
    "sex = input('enter male or female:')\n",
    "age = int(input('enter age in number :'))\n",
    "\n",
    "if marital_status == 'married':\n",
    "    print('you are eligible for insurance')\n",
    "else:\n",
    "    if sex == 'male' and age > 30:\n",
    "        print('you are eligible for insurance')\n",
    "    elif sex == 'female' and age > 25:\n",
    "        print('you are eligible for insurance')\n",
    "    else:\n",
    "        print('you are not eligible for insurance')\n"
   ]
  },
  {
   "cell_type": "code",
   "execution_count": 35,
   "id": "6fa5fac7",
   "metadata": {},
   "outputs": [
    {
     "name": "stdout",
     "output_type": "stream",
     "text": [
      "enter letter:u\n",
      "enter letter:d\n",
      "enter letter:s\n",
      "enter letter:$\n",
      "['u', 'd', 's']\n"
     ]
    }
   ],
   "source": [
    "'''Write a program to read the characters continuously until ‘$’ is given and display the number of characters entered.'''\n",
    "\n",
    "l = []\n",
    "while True:\n",
    "    letter = input('enter letter:')\n",
    "    if len(letter) == 1 and letter != '$':\n",
    "        l.append(letter)\n",
    "    else:\n",
    "        break\n",
    "print(l)"
   ]
  },
  {
   "cell_type": "code",
   "execution_count": 31,
   "id": "a7f8fb40",
   "metadata": {},
   "outputs": [
    {
     "name": "stdout",
     "output_type": "stream",
     "text": [
      "enter letter:HHUGIUGI\n",
      "it is uppercase\n"
     ]
    }
   ],
   "source": [
    "''' Write a program to read a character and find out whether it is uppercase or lowercase.'''\n",
    "\n",
    "letter = input('enter letter:')\n",
    "\n",
    "if letter.islower() == True:\n",
    "    print('it is lowercase')\n",
    "else:\n",
    "    print('it is uppercase')"
   ]
  },
  {
   "cell_type": "code",
   "execution_count": 30,
   "id": "82fbeda2",
   "metadata": {},
   "outputs": [
    {
     "name": "stdout",
     "output_type": "stream",
     "text": [
      "enter letter:JOIJOIJ\n",
      "joijoij\n"
     ]
    }
   ],
   "source": [
    "''' Write a program to print the uppercase letter of a given lowercase.'''\n",
    "\n",
    "letter = input('enter letter:')\n",
    "\n",
    "if letter.islower() == True:\n",
    "    print(letter.upper())\n",
    "else:\n",
    "    print(letter.lower())"
   ]
  },
  {
   "cell_type": "code",
   "execution_count": 36,
   "id": "8f0e630a",
   "metadata": {},
   "outputs": [
    {
     "name": "stdout",
     "output_type": "stream",
     "text": [
      "enter same data :hihi\n",
      "it is in lower case\n"
     ]
    }
   ],
   "source": [
    "''' Write a program to check whether the given input is digit or lowercase character or uppercase character or a special\n",
    "character.'''\n",
    "\n",
    "data =input('enter same data :')\n",
    "\n",
    "if data.isdigit() == True:\n",
    "    print('it is in number')\n",
    "elif data.islower() == True:\n",
    "    print('it is in lower case')\n",
    "elif data.isupper() == True:\n",
    "    print('it is in upper case')\n",
    "elif data in '!@#$%^&*':\n",
    "    print('data is special characters')\n",
    "else:\n",
    "    print('input is invalid')\n"
   ]
  },
  {
   "cell_type": "code",
   "execution_count": 39,
   "id": "7a5f8487",
   "metadata": {},
   "outputs": [
    {
     "name": "stdout",
     "output_type": "stream",
     "text": [
      "enter any one alphabet :F\n",
      "F is not vowel\n"
     ]
    }
   ],
   "source": [
    "'''Write a program to check whether the given alphabet is a vowel or consonant'''\n",
    "letter = input('enter any one alphabet :')\n",
    "\n",
    "if letter.isalpha() == True:\n",
    "    if letter in 'aeiouAEIOU':\n",
    "        print(f'{letter} is vowel')\n",
    "    else:\n",
    "        print(f'{letter} is not vowel')\n",
    "else:\n",
    "    print('please enter only alphabets')"
   ]
  },
  {
   "cell_type": "code",
   "execution_count": 3,
   "id": "9937c579",
   "metadata": {},
   "outputs": [
    {
     "name": "stdout",
     "output_type": "stream",
     "text": [
      "35,70,"
     ]
    }
   ],
   "source": [
    "'''Write a program to numbers divisible by 7 and multiple of 5, between 1 and 100.'''\n",
    "\n",
    "for i in range (1,101):\n",
    "    if i%5==0 and i%7==0:\n",
    "        print(i,end =',')\n"
   ]
  },
  {
   "cell_type": "code",
   "execution_count": 7,
   "id": "f3ba0e20",
   "metadata": {},
   "outputs": [
    {
     "name": "stdout",
     "output_type": "stream",
     "text": [
      "enter person1 age in number:4\n",
      "enter person2 age in number:2\n",
      "enter person3 age in number:5\n",
      "person3\n"
     ]
    }
   ],
   "source": [
    "'''Write a program to find the oldest and youngest among 3 people.'''\n",
    "person1 = int(input('enter person1 age in number:'))\n",
    "person2 = int(input('enter person2 age in number:'))\n",
    "person3 = int(input('enter person3 age in number:'))\n",
    "\n",
    "if person1 > person2 and person1 >person3:\n",
    "    print('person1')\n",
    "elif person2 > person1 and person2 >person3:\n",
    "    print('person2')\n",
    "elif person3 > person2 and person3 >person1:\n",
    "    print('person3')\n",
    "   "
   ]
  },
  {
   "cell_type": "code",
   "execution_count": 9,
   "id": "cec3a681",
   "metadata": {},
   "outputs": [
    {
     "name": "stdout",
     "output_type": "stream",
     "text": [
      "enter number a:5\n",
      "enter number b:2\n",
      "sum : 7\n",
      "difference: 3\n",
      "product: 10\n",
      "division: 2.5\n"
     ]
    }
   ],
   "source": [
    "''' Write a program to emulate a four-function calculator which can perform addition, subtraction, multiplication and \n",
    "division. Program should read two real numbers and an operator which tells the operation to be performed.'''\n",
    "a = int(input('enter number a:'))\n",
    "b = int(input('enter number b:'))\n",
    "\n",
    "addition = a + b\n",
    "substraction = a - b\n",
    "multiplication = a * b\n",
    "division = a / b\n",
    "\n",
    "print('sum :', addition)\n",
    "print('difference:',substraction)\n",
    "print('product:',multiplication)\n",
    "print('division:',division)"
   ]
  },
  {
   "cell_type": "code",
   "execution_count": 13,
   "id": "05f456d0",
   "metadata": {},
   "outputs": [
    {
     "name": "stdout",
     "output_type": "stream",
     "text": [
      "enter amount in numbers:504878\n",
      "no_of_500_notes: 1009\n",
      "no_of_100_notes: 3\n",
      "no_of_20_notes: 3\n",
      "no_of_10_notes: 1\n",
      "no_of_5_coins: 1\n",
      "no_of_2_coins: 1\n",
      "no_of_1_coins: 1\n"
     ]
    }
   ],
   "source": [
    "''' Write a program to read a number and print how many numbers of 500, 100, 20, 10, 5, 2,1 notes are available in the \n",
    "given amount.'''\n",
    "\n",
    "amount = int(input('enter amount in numbers:'))\n",
    "\n",
    "no_of_500_notes = amount // 500\n",
    "print('no_of_500_notes:',no_of_500_notes)\n",
    "no_of_100_notes = (amount % 500) // 100\n",
    "print('no_of_100_notes:',no_of_100_notes)\n",
    "no_of_20_notes = ((amount % 500) % 100) // 20\n",
    "print('no_of_20_notes:',no_of_20_notes)\n",
    "no_of_10_notes = (((amount % 500) % 100)% 20) // 10\n",
    "print('no_of_10_notes:',no_of_10_notes)\n",
    "no_of_5_coins = ((((amount % 500) % 100)% 20)%10) // 5\n",
    "print('no_of_5_coins:',no_of_5_coins)\n",
    "no_of_2_coins = ((((amount % 500) % 100)% 20)%10)% 5 // 2\n",
    "print('no_of_2_coins:',no_of_2_coins)\n",
    "no_of_1_coins = (((((amount % 500) % 100)% 20)%10)% 5)% 2 // 1\n",
    "print('no_of_1_coins:',no_of_1_coins)\n"
   ]
  },
  {
   "cell_type": "code",
   "execution_count": 49,
   "id": "b2ece94b",
   "metadata": {},
   "outputs": [
    {
     "name": "stdout",
     "output_type": "stream",
     "text": [
      "2023-06-14 11:09:22.938744\n"
     ]
    }
   ],
   "source": [
    "''' Write a program to accept a date and print it in words'''\n",
    "import datetime\n",
    "a = datetime.datetime(2018,2,15,22,15,14)\n",
    "a = datetime.datetime.now()\n",
    "print(a)"
   ]
  },
  {
   "cell_type": "code",
   "execution_count": 50,
   "id": "969e7be4",
   "metadata": {},
   "outputs": [
    {
     "data": {
      "text/plain": [
       "'Wednesday 14 June 2023 11:09:22:938744'"
      ]
     },
     "execution_count": 50,
     "metadata": {},
     "output_type": "execute_result"
    }
   ],
   "source": [
    "a.strftime('%A %d %B %Y %H:%M:%S:%f')"
   ]
  },
  {
   "cell_type": "code",
   "execution_count": 41,
   "id": "952aeff6",
   "metadata": {},
   "outputs": [
    {
     "name": "stdout",
     "output_type": "stream",
     "text": [
      "2019-05-05 00:00:00\n"
     ]
    }
   ],
   "source": [
    "from datetime import datetime\n",
    " \n",
    "print(datetime.strptime('5/5/2019',\n",
    "                        '%d/%m/%Y'))"
   ]
  },
  {
   "cell_type": "code",
   "execution_count": 51,
   "id": "d2a3865b",
   "metadata": {},
   "outputs": [
    {
     "name": "stdout",
     "output_type": "stream",
     "text": [
      "Enter the date (in the format DD/MM/YYYY): 12/05/2020\n",
      "12th May 2020\n"
     ]
    }
   ],
   "source": [
    "# Function to convert month number to word\n",
    "def get_month_name(month):\n",
    "    months = [\n",
    "        'January', 'February', 'March', 'April', 'May', 'June',\n",
    "        'July', 'August', 'September', 'October', 'November', 'December'\n",
    "    ]\n",
    "    return months[month - 1] if 1 <= month <= 12 else ''\n",
    "\n",
    "# Function to convert day number to word\n",
    "def get_day_suffix(day):\n",
    "    if 4 <= day <= 20 or 24 <= day <= 30:\n",
    "        suffix = 'th'\n",
    "    else:\n",
    "        suffixes = ['st', 'nd', 'rd']\n",
    "        suffix = suffixes[day % 10 - 1] if 1 <= day <= 3 else 'th'\n",
    "    return suffix\n",
    "\n",
    "# Function to convert date to words\n",
    "def convert_date_to_words(date):\n",
    "    day, month, year = map(int, date.split('/'))\n",
    "\n",
    "    # Convert day to words\n",
    "    day_suffix = get_day_suffix(day)\n",
    "    day_word = str(day) + day_suffix\n",
    "\n",
    "    # Convert month to words\n",
    "    month_word = get_month_name(month)\n",
    "\n",
    "    # Convert year to words\n",
    "    year_word = str(year)\n",
    "\n",
    "    # Print the date in words\n",
    "    print(f'{day_word} {month_word} {year_word}')\n",
    "\n",
    "# Accept date from user\n",
    "date = input('Enter the date (in the format DD/MM/YYYY): ')\n",
    "\n",
    "# Convert and print the date in words\n",
    "convert_date_to_words(date)\n"
   ]
  },
  {
   "cell_type": "code",
   "execution_count": 54,
   "id": "347e6d06",
   "metadata": {},
   "outputs": [
    {
     "name": "stdout",
     "output_type": "stream",
     "text": [
      "enter name: appu \n"
     ]
    },
    {
     "data": {
      "text/plain": [
       "'appu appu appu appu appu '"
      ]
     },
     "execution_count": 54,
     "metadata": {},
     "output_type": "execute_result"
    }
   ],
   "source": [
    "'''Write a program to read your name and print it ‘n’ times.'''\n",
    "\n",
    "nme = input('enter name: ')\n",
    "\n",
    "name_ = nme * 5\n",
    "name_"
   ]
  },
  {
   "cell_type": "code",
   "execution_count": 55,
   "id": "c16e2b27",
   "metadata": {},
   "outputs": [
    {
     "name": "stdout",
     "output_type": "stream",
     "text": [
      "1 yes\n",
      "4 yes\n",
      "5 yes\n",
      "6 yes\n"
     ]
    }
   ],
   "source": [
    "''' Write a program to find whether the given numbers existing in an array or not.'''\n",
    "\n",
    "l = [1,2,3,4,5,6,7,8,9,10]\n",
    "sample = [1,4,5,6]\n",
    "for i in sample:\n",
    "    if i in l:\n",
    "        print(i,'yes')\n"
   ]
  },
  {
   "cell_type": "code",
   "execution_count": 66,
   "id": "d39d19c6",
   "metadata": {},
   "outputs": [
    {
     "name": "stdout",
     "output_type": "stream",
     "text": [
      "55\n"
     ]
    }
   ],
   "source": [
    "''' Write a program to find the sum of ‘n’ natural numbers.'''\n",
    "'''n = 5\n",
    "add = 0\n",
    "for i in range(1,n+1):\n",
    "    add += i\n",
    "print(add)\n",
    "'''\n",
    "i = 1\n",
    "add = 0\n",
    "while i<=10:\n",
    "    add += i\n",
    "    i +=1\n",
    "print(add)\n",
    "    "
   ]
  },
  {
   "cell_type": "code",
   "execution_count": null,
   "id": "085505e7",
   "metadata": {},
   "outputs": [],
   "source": [
    "''' Write a program to find the sum of ’n’ distinct numbers.'''\n",
    "number = [1,2,3,4,3,5,5,6,2]\n",
    "for i in range(set(number)):\n",
    "      \n"
   ]
  },
  {
   "cell_type": "code",
   "execution_count": 67,
   "id": "79a3c634",
   "metadata": {},
   "outputs": [
    {
     "name": "stdout",
     "output_type": "stream",
     "text": [
      "30\n"
     ]
    }
   ],
   "source": [
    "''' Write a program to find the sum of even ‘n’ natural numbers.'''\n",
    "n = 10\n",
    "sum = 0\n",
    "\n",
    "for i in range(1,n+1):\n",
    "    if i % 2 == 0:\n",
    "        sum += i\n",
    "print(sum)\n",
    "        "
   ]
  },
  {
   "cell_type": "code",
   "execution_count": 11,
   "id": "cedafb7a",
   "metadata": {},
   "outputs": [
    {
     "name": "stdout",
     "output_type": "stream",
     "text": [
      "1 2 3 4 5 \n",
      "\n",
      "6 7 8 9 10 \n",
      "\n",
      "11 12 13 14 15 \n",
      "\n",
      "16 17 18 19 20 \n",
      "\n",
      "21 22 23 24 25 \n",
      "\n",
      "26 27 28 29 30 \n",
      "\n",
      "31 32 33 34 35 \n",
      "\n",
      "36 37 38 39 40 \n",
      "\n",
      "41 42 43 44 45 \n",
      "\n",
      "46 47 48 49 50 \n",
      "\n",
      "51 52 53 54 55 \n",
      "\n",
      "56 57 58 59 60 \n",
      "\n",
      "61 62 63 64 65 \n",
      "\n",
      "66 67 68 69 70 \n",
      "\n",
      "71 72 73 74 75 \n",
      "\n",
      "76 77 78 79 80 \n",
      "\n",
      "81 82 83 84 85 \n",
      "\n",
      "86 87 88 89 90 \n",
      "\n",
      "91 92 93 94 95 \n",
      "\n",
      "96 97 98 99 100 \n",
      "\n"
     ]
    }
   ],
   "source": [
    "'''Write a program to display the numbers sequentially from 1 to 99 with 5 numbers on each line.'''\n",
    "n = 0\n",
    "for i in range(1,21):\n",
    "    for j in range(1,6):\n",
    "        if n <= 99:\n",
    "            n+=1\n",
    "            print(n,end=' ')\n",
    "        else:\n",
    "            break\n",
    "    print('\\n')"
   ]
  },
  {
   "cell_type": "code",
   "execution_count": 18,
   "id": "d2627cba",
   "metadata": {},
   "outputs": [
    {
     "name": "stdout",
     "output_type": "stream",
     "text": [
      "1 2 3 4 5 6 7 8 9 10 11 12 13 14 15 16 17 18 19 20 \n",
      "\n",
      "21 22 23 24 25 26 27 28 29 30 31 32 33 34 35 36 37 38 39 40 \n",
      "\n",
      "41 42 43 44 45 46 47 48 49 50 51 52 53 54 55 56 57 58 59 60 \n",
      "\n",
      "61 62 63 64 65 66 67 68 69 70 71 72 73 74 75 76 77 78 79 80 \n",
      "\n",
      "81 82 83 84 85 86 87 88 89 90 91 92 93 94 95 96 97 98 99 100 \n",
      "\n"
     ]
    }
   ],
   "source": [
    "''' Write a program to display the numbers sequentially from 1 to 99 with 5 numbers on each column.'''\n",
    "n = 0\n",
    "for i in range(1,6):\n",
    "    for j in range(1,21):\n",
    "        n += 1\n",
    "        print(n,end =' ')\n",
    "    print('\\n')\n"
   ]
  },
  {
   "cell_type": "code",
   "execution_count": 1,
   "id": "08cd939a",
   "metadata": {},
   "outputs": [
    {
     "name": "stdout",
     "output_type": "stream",
     "text": [
      "1\n",
      "1\n",
      "3\n",
      "4\n",
      "5\n",
      "8\n",
      "7\n",
      "6\n",
      "4\n"
     ]
    },
    {
     "data": {
      "text/plain": [
       "[[1, 1, 3], [4, 5, 8], [7, 6, 4]]"
      ]
     },
     "execution_count": 1,
     "metadata": {},
     "output_type": "execute_result"
    }
   ],
   "source": [
    "''' Write a program to read 9 elements and print the array elements in 3 x 3 matrix format.'''\n",
    "final_list = []\n",
    "for i in range(3):\n",
    "    sub_list = []\n",
    "    for j in range(3):\n",
    "        sub_list.append(int(input()))\n",
    "    final_list.append(sub_list)\n",
    "final_list"
   ]
  },
  {
   "cell_type": "code",
   "execution_count": 10,
   "id": "06b72231",
   "metadata": {},
   "outputs": [
    {
     "name": "stdout",
     "output_type": "stream",
     "text": [
      " 2 X 1 = 2\n",
      " 2 X 2 = 4\n",
      " 2 X 3 = 6\n",
      " 2 X 4 = 8\n",
      " 2 X 5 = 10\n",
      " 2 X 6 = 12\n",
      " 2 X 7 = 14\n",
      " 2 X 8 = 16\n",
      " 2 X 9 = 18\n",
      " 2 X 10 = 20\n",
      " 2 X 11 = 22\n",
      " 2 X 12 = 24\n",
      " 2 X 13 = 26\n",
      " 2 X 14 = 28\n",
      " 2 X 15 = 30\n",
      " 2 X 16 = 32\n",
      " 2 X 17 = 34\n",
      " 2 X 18 = 36\n",
      " 2 X 19 = 38\n",
      " 2 X 20 = 40\n"
     ]
    }
   ],
   "source": [
    "''' Write a program to display the multiplication table for a given number'''\n",
    "n = 2\n",
    "for i in range(1,21):\n",
    "    product = n * i\n",
    "    print(f' 2 X {i} = {product}')\n",
    "    \n",
    "\n"
   ]
  },
  {
   "cell_type": "code",
   "execution_count": 3,
   "id": "6a35ff70",
   "metadata": {},
   "outputs": [
    {
     "name": "stdout",
     "output_type": "stream",
     "text": [
      "9\n",
      "9\n"
     ]
    }
   ],
   "source": [
    "'''Write a program to find the biggest of the given numbers.'''\n",
    "l = [2,3,5,7,9,8,6,5,4,2,1]\n",
    "biggest = 0\n",
    "for i in l:\n",
    "    if i > biggest:\n",
    "        biggest = i\n",
    "    \n",
    "print(biggest)\n",
    "\n",
    "#or\n",
    "print(max(l))\n"
   ]
  },
  {
   "cell_type": "code",
   "execution_count": 6,
   "id": "93b4a37b",
   "metadata": {},
   "outputs": [
    {
     "name": "stdout",
     "output_type": "stream",
     "text": [
      "8\n"
     ]
    }
   ],
   "source": [
    "'''Write a program to find the second smallest number and its position among the given ‘n’ numbers.'''\n",
    "l = [3,5,7,9,8,6,5,4,2,1]\n",
    "l1 = sorted(l)\n",
    "second_smallest = l1[1]\n",
    "position_of_element = l.index(second_smallest)\n",
    "    \n",
    "print(position_of_element)"
   ]
  },
  {
   "cell_type": "code",
   "execution_count": 2,
   "id": "5eaedd7e",
   "metadata": {},
   "outputs": [
    {
     "name": "stdout",
     "output_type": "stream",
     "text": [
      "zero_count 3\n",
      "positive_count 6\n",
      "negative_count 4\n"
     ]
    }
   ],
   "source": [
    "''' Write a program to find the total number of positive numbers, negative numbers and zeros out of a given 10 real\n",
    "numbers.'''\n",
    "positive_count = 0\n",
    "negative_count = 0\n",
    "zero_count = 0\n",
    "l = [3,5,0,-7,-9,0,8,-6,0,5,4,-2,1]\n",
    "for i in l:\n",
    "    if i > 0:\n",
    "        positive_count += 1\n",
    "    elif i < 0:\n",
    "        negative_count += 1\n",
    "    else:\n",
    "        zero_count += 1\n",
    "print('zero_count',zero_count)\n",
    "print('positive_count',positive_count)\n",
    "print('negative_count',negative_count)"
   ]
  },
  {
   "cell_type": "code",
   "execution_count": 8,
   "id": "6ef687e4",
   "metadata": {},
   "outputs": [
    {
     "name": "stdout",
     "output_type": "stream",
     "text": [
      "21\n",
      "42\n",
      "63\n",
      "84\n"
     ]
    }
   ],
   "source": [
    "''' Write a program to print the numbers which are divisible by both 3 and 7 from 1 to 100.'''\n",
    "for i in range(1,101):\n",
    "    if i % 3 == 0 and i % 7 == 0:\n",
    "        print(i)"
   ]
  },
  {
   "cell_type": "code",
   "execution_count": 10,
   "id": "e3e237ed",
   "metadata": {},
   "outputs": [
    {
     "name": "stdout",
     "output_type": "stream",
     "text": [
      "13 is prime\n"
     ]
    }
   ],
   "source": [
    "'''Write a program to find the given number is prime or not.'''\n",
    "\n",
    "num = 13\n",
    "root = num **.5\n",
    "#print(root)\n",
    "\n",
    "if num == 1:\n",
    "    print(f'{num} is not a prime number')\n",
    "    \n",
    "else:\n",
    "\n",
    "    for i in range(2,int(root)+1):\n",
    "        if num % i == 0:\n",
    "            print(f'{num} is not a prime number')\n",
    "            break\n",
    "    else:\n",
    "        print(f'{num} is prime')\n"
   ]
  },
  {
   "cell_type": "code",
   "execution_count": 9,
   "id": "d433351c",
   "metadata": {
    "scrolled": true
   },
   "outputs": [
    {
     "name": "stdout",
     "output_type": "stream",
     "text": [
      "28 is a perfect number\n"
     ]
    }
   ],
   "source": [
    "'''Write a program to find the given number is perfect or not.'''\n",
    "num = 28\n",
    "add = 0\n",
    "\n",
    "for i in range(1,int(num/2)+1):\n",
    "    if num % i == 0:\n",
    "        add += i\n",
    "        \n",
    "if num == add:\n",
    "    print('{} is a perfect number'.format(num))\n",
    "else:\n",
    "    print('{} is not a perfect number'.format(num))\n",
    "        "
   ]
  },
  {
   "cell_type": "code",
   "execution_count": 5,
   "id": "51b7c5d2",
   "metadata": {},
   "outputs": [
    {
     "name": "stdout",
     "output_type": "stream",
     "text": [
      "enter number:6\n",
      "36\n",
      "yes ,6 is automorphic\n"
     ]
    }
   ],
   "source": [
    "'''Write a program to find the given number is automorphic or not.'''\n",
    "\n",
    "num = int(input('enter number:'))\n",
    "square_num = str( num ** 2)\n",
    "print(square_num)\n",
    "n = []\n",
    "\n",
    "for i in range(len(str(num)),0,-1):\n",
    "    n.append(square_num[-i])\n",
    "    last = ''.join(n) \n",
    "if num == int(last):\n",
    "    print(f'yes ,{num} is automorphic')\n",
    "else:\n",
    "    print(f'yes ,{num} is not automorphic')\n"
   ]
  },
  {
   "cell_type": "code",
   "execution_count": 2,
   "id": "2b12a3e8",
   "metadata": {},
   "outputs": [
    {
     "name": "stdout",
     "output_type": "stream",
     "text": [
      "Enter a number: 45\n",
      "45 is not an automorphic number.\n"
     ]
    }
   ],
   "source": [
    "number= int(input(\"Enter a number: \"))\n",
    "square = number ** 2\n",
    "number_str = str(number)\n",
    "square_str = str(square)\n",
    "\n",
    "# Test the program\n",
    "\n",
    "if square_str.endswith(number_str):\n",
    "    print(f\"{number} is an automorphic number.\")\n",
    "else:\n",
    "    print(f\"{number} is not an automorphic number.\")\n"
   ]
  },
  {
   "cell_type": "code",
   "execution_count": 50,
   "id": "93d467d2",
   "metadata": {},
   "outputs": [
    {
     "name": "stdout",
     "output_type": "stream",
     "text": [
      "370 is an Armstrong number\n"
     ]
    }
   ],
   "source": [
    "'''Write a program to find the given number is Armstrong or not.'''\n",
    "num = 370\n",
    "add = 0\n",
    "\n",
    "for i in str(num):\n",
    "    add += (int(i) ** 3)\n",
    "if num == add :\n",
    "    print(f'{num} is an Armstrong number')\n",
    "else:\n",
    "    print(f'{num} is not an Armstrong number')\n"
   ]
  },
  {
   "cell_type": "code",
   "execution_count": 12,
   "id": "f635cea5",
   "metadata": {},
   "outputs": [
    {
     "name": "stdout",
     "output_type": "stream",
     "text": [
      "not palindrome\n"
     ]
    }
   ],
   "source": [
    "'''Write a program to find the given number is palindrome or not.'''\n",
    "\n",
    "num = 12322\n",
    "#print(num[::-1])\n",
    "\n",
    "if str(num) == str(num)[::-1]:\n",
    "      print('yes palindrome')\n",
    "else:\n",
    "    print('not palindrome')"
   ]
  },
  {
   "cell_type": "code",
   "execution_count": 15,
   "id": "0c89652c",
   "metadata": {},
   "outputs": [
    {
     "name": "stdout",
     "output_type": "stream",
     "text": [
      "12321\n",
      "yes palindrome\n"
     ]
    }
   ],
   "source": [
    "num = 12321\n",
    "l = []\n",
    "for i in range(len(str(num)),0,-1):\n",
    "    l.append(str(num)[i-1])\n",
    "num1 = \"\".join(l)\n",
    "\n",
    "print(num1)\n",
    "if str(num) == num1:\n",
    "      print('yes palindrome')\n",
    "else:\n",
    "    print('not palindrome')\n",
    "    "
   ]
  },
  {
   "cell_type": "code",
   "execution_count": 12,
   "id": "05a58ac0",
   "metadata": {},
   "outputs": [
    {
     "name": "stdout",
     "output_type": "stream",
     "text": [
      "15 120\n"
     ]
    }
   ],
   "source": [
    "'''Write a program to find the sum and product of the individual digits of a given number.'''\n",
    "\n",
    "num = 12345\n",
    "sum = 0\n",
    "product = 1\n",
    "\n",
    "for i in str(num):\n",
    "    sum += int(i)\n",
    "    product *= int(i)\n",
    "    \n",
    "print(sum,product)\n"
   ]
  },
  {
   "cell_type": "code",
   "execution_count": 3,
   "id": "03c81038",
   "metadata": {},
   "outputs": [
    {
     "name": "stdout",
     "output_type": "stream",
     "text": [
      "enter any number:4\n",
      "enter any number:5\n",
      "enter any number:6\n",
      "enter any number:7\n",
      "enter any number:8\n",
      "enter any number:9\n",
      "sum of even numbers in 456789 is 18\n",
      "product of odd numbers in 456789 is 315\n"
     ]
    }
   ],
   "source": [
    "''' Write a program to accept maximum of 6 digits number and find out the sum\n",
    "of even digits of that number and multiplication of odd digits of that number.'''\n",
    "l = []\n",
    "for i in range(1,7):\n",
    "    num = input('enter any number:')\n",
    "    l.append(num)\n",
    "n = ''.join(l)\n",
    "\n",
    "sum_of_even = 0\n",
    "product_of_odd = 1\n",
    "\n",
    "for i in n:\n",
    "    if int(i) % 2 == 0:\n",
    "        sum_of_even += int(i)\n",
    "    elif int(i) % 2 == 1:\n",
    "        product_of_odd *= int(i)\n",
    "        \n",
    "print('sum of even numbers in {} is {}'.format(n,sum_of_even))\n",
    "print('product of odd numbers in {} is {}'.format(n,product_of_odd))         \n",
    "        "
   ]
  },
  {
   "cell_type": "code",
   "execution_count": 15,
   "id": "49eb25b4",
   "metadata": {},
   "outputs": [
    {
     "name": "stdout",
     "output_type": "stream",
     "text": [
      "7\n"
     ]
    }
   ],
   "source": [
    "''' Write a program to find the number of digits of a given number.'''\n",
    "\n",
    "num = 1234567\n",
    "count = 0\n",
    "for i in str(num):\n",
    "    count += 1\n",
    "print(count)\n",
    "    "
   ]
  },
  {
   "cell_type": "code",
   "execution_count": 24,
   "id": "b91d7b21",
   "metadata": {},
   "outputs": [
    {
     "name": "stdout",
     "output_type": "stream",
     "text": [
      "4321\n",
      "4321"
     ]
    }
   ],
   "source": [
    "''' Write a program to print the reverse of a given number.'''\n",
    "\n",
    "num = 1234\n",
    "print(str(num)[::-1])\n",
    "\n",
    "#\n",
    "\n",
    "# for i in range(len(str(num)),0,-1):\n",
    "#     print(str(num)[i-1],end='')\n",
    "\n",
    "for i in range(len(str(num))-1,-1,-1):\n",
    "    print(str(num)[i],end='')    "
   ]
  },
  {
   "cell_type": "code",
   "execution_count": 24,
   "id": "16fdd1d4",
   "metadata": {},
   "outputs": [
    {
     "name": "stdout",
     "output_type": "stream",
     "text": [
      "120\n"
     ]
    }
   ],
   "source": [
    "'''Write a program to find the factorial of the given number.'''\n",
    "num = 5\n",
    "fact = 1\n",
    "for i in range(1,num+1):\n",
    "    fact *= i\n",
    "print(fact)"
   ]
  },
  {
   "cell_type": "code",
   "execution_count": 25,
   "id": "6f153162",
   "metadata": {
    "scrolled": true
   },
   "outputs": [
    {
     "name": "stdout",
     "output_type": "stream",
     "text": [
      "1 is a prime number\n",
      "2 is prime\n",
      "3 is prime\n",
      "4 is not a prime number\n",
      "5 is prime\n",
      "6 is not a prime number\n",
      "7 is prime\n",
      "8 is not a prime number\n",
      "9 is not a prime number\n",
      "10 is not a prime number\n",
      "11 is prime\n",
      "12 is not a prime number\n",
      "13 is prime\n",
      "14 is not a prime number\n",
      "15 is not a prime number\n",
      "16 is not a prime number\n",
      "17 is prime\n",
      "18 is not a prime number\n",
      "19 is prime\n",
      "20 is not a prime number\n",
      "21 is not a prime number\n",
      "22 is not a prime number\n",
      "23 is prime\n",
      "24 is not a prime number\n",
      "25 is not a prime number\n",
      "26 is not a prime number\n",
      "27 is not a prime number\n",
      "28 is not a prime number\n",
      "29 is prime\n",
      "30 is not a prime number\n",
      "31 is prime\n",
      "32 is not a prime number\n",
      "33 is not a prime number\n",
      "34 is not a prime number\n",
      "35 is not a prime number\n",
      "36 is not a prime number\n",
      "37 is prime\n",
      "38 is not a prime number\n",
      "39 is not a prime number\n",
      "40 is not a prime number\n",
      "41 is prime\n",
      "42 is not a prime number\n",
      "43 is prime\n",
      "44 is not a prime number\n",
      "45 is not a prime number\n",
      "46 is not a prime number\n",
      "47 is prime\n",
      "48 is not a prime number\n",
      "49 is not a prime number\n",
      "50 is not a prime number\n",
      "51 is not a prime number\n",
      "52 is not a prime number\n",
      "53 is prime\n",
      "54 is not a prime number\n",
      "55 is not a prime number\n",
      "56 is not a prime number\n",
      "57 is not a prime number\n",
      "58 is not a prime number\n",
      "59 is prime\n",
      "60 is not a prime number\n",
      "61 is prime\n",
      "62 is not a prime number\n",
      "63 is not a prime number\n",
      "64 is not a prime number\n",
      "65 is not a prime number\n",
      "66 is not a prime number\n",
      "67 is prime\n",
      "68 is not a prime number\n",
      "69 is not a prime number\n",
      "70 is not a prime number\n",
      "71 is prime\n",
      "72 is not a prime number\n",
      "73 is prime\n",
      "74 is not a prime number\n",
      "75 is not a prime number\n",
      "76 is not a prime number\n",
      "77 is not a prime number\n",
      "78 is not a prime number\n",
      "79 is prime\n",
      "80 is not a prime number\n",
      "81 is not a prime number\n",
      "82 is not a prime number\n",
      "83 is prime\n",
      "84 is not a prime number\n",
      "85 is not a prime number\n",
      "86 is not a prime number\n",
      "87 is not a prime number\n",
      "88 is not a prime number\n",
      "89 is prime\n",
      "90 is not a prime number\n",
      "91 is not a prime number\n",
      "92 is not a prime number\n",
      "93 is not a prime number\n",
      "94 is not a prime number\n",
      "95 is not a prime number\n",
      "96 is not a prime number\n",
      "97 is prime\n",
      "98 is not a prime number\n",
      "99 is not a prime number\n"
     ]
    }
   ],
   "source": [
    "''' Write a program to print all prime numbers from 1 to 99.'''\n",
    "\n",
    "n = 100\n",
    "for num in range(1,n):\n",
    "    root = num **.5\n",
    "\n",
    "    if num == 1:\n",
    "        print(f'{num} is a prime number')\n",
    "\n",
    "    else:\n",
    "        #print(num,'Yes')\n",
    "        for i in range(2,int(root)+1):\n",
    "            if num % i == 0:\n",
    "                print(f'{num} is not a prime number')\n",
    "                break\n",
    "        else:\n",
    "            print(f'{num} is prime')"
   ]
  },
  {
   "cell_type": "code",
   "execution_count": 28,
   "id": "64d70e87",
   "metadata": {},
   "outputs": [
    {
     "name": "stdout",
     "output_type": "stream",
     "text": [
      "Factorial of 1 is 1\n",
      "Factorial of 2 is 2\n",
      "Factorial of 3 is 6\n",
      "Factorial of 4 is 24\n",
      "Factorial of 5 is 120\n",
      "Factorial of 6 is 720\n",
      "Factorial of 7 is 5040\n",
      "Factorial of 8 is 40320\n",
      "Factorial of 9 is 362880\n"
     ]
    }
   ],
   "source": [
    "fact = 1\n",
    "for i in range(1,10):\n",
    "    fact *= i\n",
    "    print(f'Factorial of {i} is {fact}')"
   ]
  },
  {
   "cell_type": "code",
   "execution_count": 34,
   "id": "01669489",
   "metadata": {},
   "outputs": [
    {
     "name": "stdout",
     "output_type": "stream",
     "text": [
      "factorial of 1 is 1\n",
      "factorial of 2 is 2\n",
      "factorial of 3 is 6\n",
      "factorial of 4 is 24\n",
      "factorial of 5 is 120\n",
      "factorial of 6 is 720\n",
      "factorial of 7 is 5040\n",
      "factorial of 8 is 40320\n",
      "factorial of 9 is 362880\n",
      "factorial of 10 is 3628800\n",
      "factorial of 11 is 39916800\n",
      "factorial of 12 is 479001600\n",
      "factorial of 13 is 6227020800\n",
      "factorial of 14 is 87178291200\n",
      "factorial of 15 is 1307674368000\n",
      "factorial of 16 is 20922789888000\n",
      "factorial of 17 is 355687428096000\n",
      "factorial of 18 is 6402373705728000\n",
      "factorial of 19 is 121645100408832000\n",
      "factorial of 20 is 2432902008176640000\n",
      "factorial of 21 is 51090942171709440000\n",
      "factorial of 22 is 1124000727777607680000\n",
      "factorial of 23 is 25852016738884976640000\n",
      "factorial of 24 is 620448401733239439360000\n",
      "factorial of 25 is 15511210043330985984000000\n",
      "factorial of 26 is 403291461126605635584000000\n",
      "factorial of 27 is 10888869450418352160768000000\n",
      "factorial of 28 is 304888344611713860501504000000\n",
      "factorial of 29 is 8841761993739701954543616000000\n",
      "factorial of 30 is 265252859812191058636308480000000\n",
      "factorial of 31 is 8222838654177922817725562880000000\n",
      "factorial of 32 is 263130836933693530167218012160000000\n",
      "factorial of 33 is 8683317618811886495518194401280000000\n",
      "factorial of 34 is 295232799039604140847618609643520000000\n",
      "factorial of 35 is 10333147966386144929666651337523200000000\n",
      "factorial of 36 is 371993326789901217467999448150835200000000\n",
      "factorial of 37 is 13763753091226345046315979581580902400000000\n",
      "factorial of 38 is 523022617466601111760007224100074291200000000\n",
      "factorial of 39 is 20397882081197443358640281739902897356800000000\n",
      "factorial of 40 is 815915283247897734345611269596115894272000000000\n",
      "factorial of 41 is 33452526613163807108170062053440751665152000000000\n",
      "factorial of 42 is 1405006117752879898543142606244511569936384000000000\n",
      "factorial of 43 is 60415263063373835637355132068513997507264512000000000\n",
      "factorial of 44 is 2658271574788448768043625811014615890319638528000000000\n",
      "factorial of 45 is 119622220865480194561963161495657715064383733760000000000\n",
      "factorial of 46 is 5502622159812088949850305428800254892961651752960000000000\n",
      "factorial of 47 is 258623241511168180642964355153611979969197632389120000000000\n",
      "factorial of 48 is 12413915592536072670862289047373375038521486354677760000000000\n",
      "factorial of 49 is 608281864034267560872252163321295376887552831379210240000000000\n",
      "factorial of 50 is 30414093201713378043612608166064768844377641568960512000000000000\n",
      "factorial of 51 is 1551118753287382280224243016469303211063259720016986112000000000000\n",
      "factorial of 52 is 80658175170943878571660636856403766975289505440883277824000000000000\n",
      "factorial of 53 is 4274883284060025564298013753389399649690343788366813724672000000000000\n",
      "factorial of 54 is 230843697339241380472092742683027581083278564571807941132288000000000000\n",
      "factorial of 55 is 12696403353658275925965100847566516959580321051449436762275840000000000000\n",
      "factorial of 56 is 710998587804863451854045647463724949736497978881168458687447040000000000000\n",
      "factorial of 57 is 40526919504877216755680601905432322134980384796226602145184481280000000000000\n",
      "factorial of 58 is 2350561331282878571829474910515074683828862318181142924420699914240000000000000\n",
      "factorial of 59 is 138683118545689835737939019720389406345902876772687432540821294940160000000000000\n",
      "factorial of 60 is 8320987112741390144276341183223364380754172606361245952449277696409600000000000000\n",
      "factorial of 61 is 507580213877224798800856812176625227226004528988036003099405939480985600000000000000\n",
      "factorial of 62 is 31469973260387937525653122354950764088012280797258232192163168247821107200000000000000\n",
      "factorial of 63 is 1982608315404440064116146708361898137544773690227268628106279599612729753600000000000000\n",
      "factorial of 64 is 126886932185884164103433389335161480802865516174545192198801894375214704230400000000000000\n",
      "factorial of 65 is 8247650592082470666723170306785496252186258551345437492922123134388955774976000000000000000\n",
      "factorial of 66 is 544344939077443064003729240247842752644293064388798874532860126869671081148416000000000000000\n",
      "factorial of 67 is 36471110918188685288249859096605464427167635314049524593701628500267962436943872000000000000000\n",
      "factorial of 68 is 2480035542436830599600990418569171581047399201355367672371710738018221445712183296000000000000000\n",
      "factorial of 69 is 171122452428141311372468338881272839092270544893520369393648040923257279754140647424000000000000000\n",
      "factorial of 70 is 11978571669969891796072783721689098736458938142546425857555362864628009582789845319680000000000000000\n",
      "factorial of 71 is 850478588567862317521167644239926010288584608120796235886430763388588680378079017697280000000000000000\n",
      "factorial of 72 is 61234458376886086861524070385274672740778091784697328983823014963978384987221689274204160000000000000000\n",
      "factorial of 73 is 4470115461512684340891257138125051110076800700282905015819080092370422104067183317016903680000000000000000\n",
      "factorial of 74 is 330788544151938641225953028221253782145683251820934971170611926835411235700971565459250872320000000000000000\n",
      "factorial of 75 is 24809140811395398091946477116594033660926243886570122837795894512655842677572867409443815424000000000000000000\n",
      "factorial of 76 is 1885494701666050254987932260861146558230394535379329335672487982961844043495537923117729972224000000000000000000\n",
      "factorial of 77 is 145183092028285869634070784086308284983740379224208358846781574688061991349156420080065207861248000000000000000000\n",
      "factorial of 78 is 11324281178206297831457521158732046228731749579488251990048962825668835325234200766245086213177344000000000000000000\n",
      "factorial of 79 is 894618213078297528685144171539831652069808216779571907213868063227837990693501860533361810841010176000000000000000000\n",
      "factorial of 80 is 71569457046263802294811533723186532165584657342365752577109445058227039255480148842668944867280814080000000000000000000\n",
      "factorial of 81 is 5797126020747367985879734231578109105412357244731625958745865049716390179693892056256184534249745940480000000000000000000\n",
      "factorial of 82 is 475364333701284174842138206989404946643813294067993328617160934076743994734899148613007131808479167119360000000000000000000\n",
      "factorial of 83 is 39455239697206586511897471180120610571436503407643446275224357528369751562996629334879591940103770870906880000000000000000000\n",
      "factorial of 84 is 3314240134565353266999387579130131288000666286242049487118846032383059131291716864129885722968716753156177920000000000000000000\n",
      "factorial of 85 is 281710411438055027694947944226061159480056634330574206405101912752560026159795933451040286452340924018275123200000000000000000000\n",
      "factorial of 86 is 24227095383672732381765523203441259715284870552429381750838764496720162249742450276789464634901319465571660595200000000000000000000\n",
      "factorial of 87 is 2107757298379527717213600518699389595229783738061356212322972511214654115727593174080683423236414793504734471782400000000000000000000\n",
      "factorial of 88 is 185482642257398439114796845645546284380220968949399346684421580986889562184028199319100141244804501828416633516851200000000000000000000\n",
      "factorial of 89 is 16507955160908461081216919262453619309839666236496541854913520707833171034378509739399912570787600662729080382999756800000000000000000000\n",
      "factorial of 90 is 1485715964481761497309522733620825737885569961284688766942216863704985393094065876545992131370884059645617234469978112000000000000000000000\n",
      "factorial of 91 is 135200152767840296255166568759495142147586866476906677791741734597153670771559994765685283954750449427751168336768008192000000000000000000000\n",
      "factorial of 92 is 12438414054641307255475324325873553077577991715875414356840239582938137710983519518443046123837041347353107486982656753664000000000000000000000\n",
      "factorial of 93 is 1156772507081641574759205162306240436214753229576413535186142281213246807121467315215203289516844845303838996289387078090752000000000000000000000\n",
      "factorial of 94 is 108736615665674308027365285256786601004186803580182872307497374434045199869417927630229109214583415458560865651202385340530688000000000000000000000\n",
      "factorial of 95 is 10329978488239059262599702099394727095397746340117372869212250571234293987594703124871765375385424468563282236864226607350415360000000000000000000000\n",
      "factorial of 96 is 991677934870949689209571401541893801158183648651267795444376054838492222809091499987689476037000748982075094738965754305639874560000000000000000000000\n",
      "factorial of 97 is 96192759682482119853328425949563698712343813919172976158104477319333745612481875498805879175589072651261284189679678167647067832320000000000000000000000\n",
      "factorial of 98 is 9426890448883247745626185743057242473809693764078951663494238777294707070023223798882976159207729119823605850588608460429412647567360000000000000000000000\n",
      "factorial of 99 is 933262154439441526816992388562667004907159682643816214685929638952175999932299156089414639761565182862536979208272237582511852109168640000000000000000000000\n"
     ]
    }
   ],
   "source": [
    "'''Write a program to print the factorial prime from 1 to 99.'''\n",
    "l = 100   \n",
    "fact = 1\n",
    "for i in range(1,l):\n",
    "    fact *= i\n",
    "    print(f'factorial of {i} is {fact}')\n",
    "    "
   ]
  },
  {
   "cell_type": "code",
   "execution_count": 52,
   "id": "96f424a6",
   "metadata": {},
   "outputs": [
    {
     "name": "stdout",
     "output_type": "stream",
     "text": [
      "[0, 1, 1, 2, 3, 5, 8, 13, 21, 34]\n"
     ]
    }
   ],
   "source": [
    "''' Write a program to print Fibonacci series for a given number.'''\n",
    "n = 10\n",
    "l =[0,1]\n",
    "first = 0\n",
    "second = 1\n",
    "next = first + second\n",
    "\n",
    "for i in range(0,n-2):\n",
    "    first = l[i]\n",
    "    second = l[i + 1]\n",
    "    next = first + second\n",
    "    l.append(next)\n",
    "print(l)\n"
   ]
  },
  {
   "cell_type": "code",
   "execution_count": 51,
   "id": "f975a607",
   "metadata": {},
   "outputs": [
    {
     "name": "stdout",
     "output_type": "stream",
     "text": [
      "[0, 1, 1, 2, 3, 5, 8]\n"
     ]
    }
   ],
   "source": [
    "n = 10\n",
    "l =[0,1]\n",
    "for i in range(0,n-2):\n",
    "    first = l[i]\n",
    "    second = l[i + 1]\n",
    "    next = first + second\n",
    "    if next < 10:\n",
    "        l.append(next)\n",
    "    else:\n",
    "        break\n",
    "print(l)"
   ]
  },
  {
   "cell_type": "code",
   "execution_count": 25,
   "id": "7345264e",
   "metadata": {},
   "outputs": [
    {
     "name": "stdout",
     "output_type": "stream",
     "text": [
      "10000000000\n"
     ]
    }
   ],
   "source": [
    "'''Write a program to find ‘n’ power ‘n’'''\n",
    "n = 10\n",
    "power = n ** n\n",
    "print(power)\n"
   ]
  },
  {
   "cell_type": "code",
   "execution_count": 5,
   "id": "b11e8821",
   "metadata": {},
   "outputs": [
    {
     "name": "stdout",
     "output_type": "stream",
     "text": [
      "100\n"
     ]
    }
   ],
   "source": [
    "''' Write a program to find ‘m’ power ’n’'''\n",
    "m = 10\n",
    "n = 2\n",
    "power = m ** n\n",
    "print(power)"
   ]
  },
  {
   "cell_type": "code",
   "execution_count": 10,
   "id": "5c9b02ea",
   "metadata": {},
   "outputs": [
    {
     "name": "stdout",
     "output_type": "stream",
     "text": [
      "16\n"
     ]
    }
   ],
   "source": [
    "m = 4\n",
    "n = 2\n",
    "product = 1\n",
    "for i in range(n):\n",
    "    product *= m\n",
    "print(product)\n",
    "       "
   ]
  },
  {
   "cell_type": "code",
   "execution_count": 11,
   "id": "3af7bdb4",
   "metadata": {},
   "outputs": [
    {
     "name": "stdout",
     "output_type": "stream",
     "text": [
      "8.0\n"
     ]
    }
   ],
   "source": [
    "''' Write a program to find ‘m’ power ‘n’ value without using (*).'''\n",
    "\n",
    "import math \n",
    "m = 2\n",
    "n = 3\n",
    "x = math.pow(m,n)\n",
    "print(x)\n"
   ]
  },
  {
   "cell_type": "code",
   "execution_count": 15,
   "id": "b6324f6d",
   "metadata": {},
   "outputs": [
    {
     "data": {
      "text/plain": [
       "5"
      ]
     },
     "execution_count": 15,
     "metadata": {},
     "output_type": "execute_result"
    }
   ],
   "source": [
    "''' Write a program to find the G.C.D. of ‘n’ numbers.'''\n",
    "l = [20,10,15]\n",
    "divisors =[]\n",
    "for i in range(1,min(l)+1):\n",
    "    if l[0] % i == 0 and l[1] % i == 0 and l[2] % i == 0:\n",
    "        divisors.append(i)\n",
    "        \n",
    "max(divisors)"
   ]
  },
  {
   "cell_type": "code",
   "execution_count": 16,
   "id": "32dfb192",
   "metadata": {},
   "outputs": [
    {
     "name": "stdout",
     "output_type": "stream",
     "text": [
      "The GCD of [24, 36, 48, 60] is: 12\n"
     ]
    }
   ],
   "source": [
    "def gcd(a, b):\n",
    "    while b != 0:\n",
    "        a, b = b, a % b\n",
    "    return a\n",
    "\n",
    "def find_gcd(numbers):\n",
    "    result = numbers[0]\n",
    "    for i in range(1, len(numbers)):\n",
    "        result = gcd(result, numbers[i])\n",
    "    return result\n",
    "\n",
    "# Example usage\n",
    "numbers = [24, 36, 48, 60]\n",
    "result = find_gcd(numbers)\n",
    "print(\"The GCD of\", numbers, \"is:\", result)\n"
   ]
  },
  {
   "cell_type": "code",
   "execution_count": null,
   "id": "8585b4e5",
   "metadata": {},
   "outputs": [],
   "source": [
    "''' Write a program to find the L.C.M. of ‘n’ numbers.'''"
   ]
  },
  {
   "cell_type": "code",
   "execution_count": 1,
   "id": "be041910",
   "metadata": {},
   "outputs": [
    {
     "data": {
      "text/plain": [
       "'0b1111011'"
      ]
     },
     "execution_count": 1,
     "metadata": {},
     "output_type": "execute_result"
    }
   ],
   "source": [
    "'''Write a program to convert the given integer into binary and vice versa.'''\n",
    "n = 123\n",
    "bin(n)"
   ]
  },
  {
   "cell_type": "code",
   "execution_count": 3,
   "id": "124befe9",
   "metadata": {},
   "outputs": [
    {
     "data": {
      "text/plain": [
       "'0o173'"
      ]
     },
     "execution_count": 3,
     "metadata": {},
     "output_type": "execute_result"
    }
   ],
   "source": [
    "''' Write a program to convert the given integer into octal.'''\n",
    "oct(n)"
   ]
  },
  {
   "cell_type": "code",
   "execution_count": 4,
   "id": "ec328375",
   "metadata": {},
   "outputs": [
    {
     "data": {
      "text/plain": [
       "'0x7b'"
      ]
     },
     "execution_count": 4,
     "metadata": {},
     "output_type": "execute_result"
    }
   ],
   "source": [
    "''' Write a program to convert the given integer into hexadecimal.'''\n",
    "hex(n)"
   ]
  },
  {
   "cell_type": "code",
   "execution_count": 12,
   "id": "ea73b01c",
   "metadata": {},
   "outputs": [
    {
     "name": "stdout",
     "output_type": "stream",
     "text": [
      "[1, 3, 5]\n"
     ]
    }
   ],
   "source": [
    "'''Write a program to find the positional value of the given digit in a number. If\n",
    "the given digit is occurred in various positions, then print all positional values.'''\n",
    "\n",
    "n = 123212\n",
    "n_str = str(n)\n",
    "indices = []\n",
    "\n",
    "if n_str.count('2') > 1:\n",
    "    for i in range(len(n_str)):\n",
    "        if n_str[i] == '2':\n",
    "            indices.append(i)\n",
    "print(indices)\n",
    "        "
   ]
  },
  {
   "cell_type": "code",
   "execution_count": 149,
   "id": "4c26acb6",
   "metadata": {},
   "outputs": [
    {
     "data": {
      "text/plain": [
       "' Write a program to print the given number in words.'"
      ]
     },
     "execution_count": 149,
     "metadata": {},
     "output_type": "execute_result"
    }
   ],
   "source": [
    "''' Write a program to print the given number in words.'''\n"
   ]
  },
  {
   "cell_type": "code",
   "execution_count": 150,
   "id": "aba2fe76",
   "metadata": {},
   "outputs": [
    {
     "data": {
      "text/plain": [
       "'Write a program to print the ASCII values of numbers from 0 to 255, page by page.'"
      ]
     },
     "execution_count": 150,
     "metadata": {},
     "output_type": "execute_result"
    }
   ],
   "source": [
    "'''Write a program to print the ASCII values of numbers from 0 to 255, page by page.'''\n"
   ]
  },
  {
   "cell_type": "code",
   "execution_count": 125,
   "id": "b6dd46ca",
   "metadata": {},
   "outputs": [
    {
     "name": "stdout",
     "output_type": "stream",
     "text": [
      "Factors of 1 are: 1\n",
      "Factors of 2 are: [1]\n",
      "Factors of 3 are: [1]\n",
      "Factors of 4 are: [1, 2]\n",
      "Factors of 5 are: [1]\n",
      "Factors of 6 are: [1, 2, 3]\n",
      "Factors of 7 are: [1]\n",
      "Factors of 8 are: [1, 2, 4]\n",
      "Factors of 9 are: [1, 3]\n",
      "Factors of 10 are: [1, 2, 5]\n",
      "Factors of 11 are: [1]\n",
      "Factors of 12 are: [1, 2, 3, 4, 6]\n",
      "Factors of 13 are: [1]\n",
      "Factors of 14 are: [1, 2, 7]\n",
      "Factors of 15 are: [1, 3, 5]\n",
      "Factors of 16 are: [1, 2, 4, 8]\n",
      "Factors of 17 are: [1]\n",
      "Factors of 18 are: [1, 2, 3, 6, 9]\n",
      "Factors of 19 are: [1]\n"
     ]
    }
   ],
   "source": [
    "'''Write a program to print the multiples of a given number up to 200.'''\n",
    "\n",
    "for num in range(1,20):\n",
    "    factors = []\n",
    "    if num == 1:\n",
    "        print(f'Factors of 1 are: 1')\n",
    "    else:\n",
    "        for i in range(1,int(num/2)+1):\n",
    "            if num % i == 0:\n",
    "                factors.append(i)\n",
    "        print(f'Factors of {num} are: {factors}')\n"
   ]
  },
  {
   "cell_type": "code",
   "execution_count": 148,
   "id": "45b74602",
   "metadata": {},
   "outputs": [
    {
     "name": "stdout",
     "output_type": "stream",
     "text": [
      "Mean : 4.625\n",
      "Standard Deviation: 2.8252686345094435\n",
      "Variance: 7.982142857142856\n"
     ]
    }
   ],
   "source": [
    "''' Write a program to find the mean, variance and standard deviation of the given ‘n’ numbers.'''\n",
    "\n",
    "n = [6,2,3,1,4,4,8,9]\n",
    "\n",
    "mean = sum(n)/len(n)\n",
    "print('Mean :',mean)\n",
    "\n",
    "_sum = 0\n",
    "for i in n:\n",
    "    _sum += (i - mean)**2\n",
    "    \n",
    "standard_deviation = (_sum/(len(n)-1))**.5\n",
    "       \n",
    "print('Standard Deviation:',standard_deviation)\n",
    "\n",
    "variance =  standard_deviation ** 2\n",
    "print('Variance:',variance)\n"
   ]
  },
  {
   "cell_type": "code",
   "execution_count": 1,
   "id": "55ff8feb",
   "metadata": {},
   "outputs": [
    {
     "name": "stdout",
     "output_type": "stream",
     "text": [
      "1 \n",
      "\n",
      "2 3 \n",
      "\n",
      "4 5 6 \n",
      "\n",
      "7 8 9 10 \n",
      "\n"
     ]
    }
   ],
   "source": [
    "'''Write a program to print the Floyd’s triangle.\n",
    "1\n",
    "2 3\n",
    "4 5 6\n",
    "7 8 9 10'''\n",
    "x = 0\n",
    "for i in range(1,5):\n",
    "    for j in range(0,i):\n",
    "        x += 1\n",
    "        print(x,end = ' ')\n",
    "    print('\\n')\n",
    "        "
   ]
  },
  {
   "cell_type": "code",
   "execution_count": 147,
   "id": "123862e7",
   "metadata": {},
   "outputs": [
    {
     "name": "stdout",
     "output_type": "stream",
     "text": [
      "1 \n",
      "\n",
      "1 2 \n",
      "\n",
      "1 2 3 \n",
      "\n",
      "1 2 3 4 \n",
      "\n",
      "1 2 3 4 5 \n",
      "\n"
     ]
    }
   ],
   "source": [
    "'''86. Write a program to print the following triangle.\n",
    "1\n",
    "1 2\n",
    "1 2 3\n",
    "1 2 3 4\n",
    "1 2 3 4 5'''\n",
    "\n",
    "for i in range(1,6):\n",
    "    for j in range(1,i+1):\n",
    "        print(j,end = ' ')\n",
    "    print('\\n')\n",
    "    "
   ]
  },
  {
   "cell_type": "code",
   "execution_count": 5,
   "id": "5cef31ba",
   "metadata": {},
   "outputs": [
    {
     "name": "stdout",
     "output_type": "stream",
     "text": [
      "1 \n",
      "\n",
      "2 2 \n",
      "\n",
      "3 3 3 \n",
      "\n",
      "4 4 4 4 \n",
      "\n",
      "5 5 5 5 5 \n",
      "\n"
     ]
    }
   ],
   "source": [
    "'''87. Write a program to print the following triangle.\n",
    "1\n",
    "2 2\n",
    "3 3 3\n",
    "4 4 4 4\n",
    "5 5 5 5 5 '''\n",
    "\n",
    "for i in range(1,6):\n",
    "    for j in range(i):\n",
    "        print(i,end = ' ')\n",
    "    print('\\n')\n",
    "        "
   ]
  },
  {
   "cell_type": "code",
   "execution_count": 7,
   "id": "72b5500c",
   "metadata": {},
   "outputs": [
    {
     "name": "stdout",
     "output_type": "stream",
     "text": [
      "1\n",
      "\n",
      "1 1\n",
      "\n",
      "1 2 1\n",
      "\n",
      "1 2 3 1\n",
      "\n",
      "1 2 3 4 1\n",
      "\n",
      "1 2 3 4 5 1\n",
      "\n"
     ]
    }
   ],
   "source": [
    "'''Write a program to print the following triangle.\n",
    "1\n",
    "1 1\n",
    "1 2 1\n",
    "1 2 3 1\n",
    "1 2 3 4 1\n",
    "1 2 3 4 5 1'''\n",
    "\n",
    "for i in range(1,7):\n",
    "    for j in range(1,i):\n",
    "        print(j,end=\" \")\n",
    "    print('1')\n",
    "    print()\n",
    "               "
   ]
  },
  {
   "cell_type": "code",
   "execution_count": 20,
   "id": "cec05683",
   "metadata": {},
   "outputs": [
    {
     "name": "stdout",
     "output_type": "stream",
     "text": [
      "1 2 3 4 5 \n",
      "\n",
      "1 2 3 4 \n",
      "\n",
      "1 2 3 \n",
      "\n",
      "1 2 \n",
      "\n",
      "1 \n",
      "\n"
     ]
    }
   ],
   "source": [
    "'''Write a program to print the following triangle.\n",
    "1 2 3 4 5\n",
    "1 2 3 4\n",
    "1 2 3\n",
    "1 2\n",
    "1'''\n",
    "\n",
    "for i in range(5,0,-1):\n",
    "    for j in range(1,i+1):\n",
    "        print(j, end = ' ')\n",
    "    print('\\n')"
   ]
  },
  {
   "cell_type": "code",
   "execution_count": 12,
   "id": "f1c4f350",
   "metadata": {},
   "outputs": [
    {
     "name": "stdout",
     "output_type": "stream",
     "text": [
      "1 1 1 1 1 \n",
      "\n",
      "2 2 2 2 \n",
      "\n",
      "3 3 3 \n",
      "\n",
      "4 4 \n",
      "\n",
      "5 \n",
      "\n"
     ]
    }
   ],
   "source": [
    "'''Write a program to print the following triangle.\n",
    "1 1 1 1 1\n",
    "2 2 2 2\n",
    "3 3 3\n",
    "4 4\n",
    "5'''\n",
    "\n",
    "for i in range(1,6):\n",
    "    for j in range(5,i-1,-1):\n",
    "        print(i,end = ' ')\n",
    "    print('\\n')\n",
    "    "
   ]
  },
  {
   "cell_type": "code",
   "execution_count": 14,
   "id": "699a41f6",
   "metadata": {},
   "outputs": [
    {
     "name": "stdout",
     "output_type": "stream",
     "text": [
      "5 5 5 5 5 \n",
      "\n",
      "4 4 4 4 \n",
      "\n",
      "3 3 3 \n",
      "\n",
      "2 2 \n",
      "\n",
      "1 \n",
      "\n"
     ]
    }
   ],
   "source": [
    "'''Write a program to print the following triangle.\n",
    "5 5 5 5 5\n",
    "4 4 4 4\n",
    "3 3 3\n",
    "2 2\n",
    "1\n",
    "'''\n",
    "for i in range(5,0,-1):\n",
    "    for j in range(0,i):\n",
    "        print(i,end = ' ')\n",
    "    print('\\n')"
   ]
  },
  {
   "cell_type": "code",
   "execution_count": 145,
   "id": "d65eb29f",
   "metadata": {},
   "outputs": [
    {
     "name": "stdout",
     "output_type": "stream",
     "text": [
      "5 4 3 2 1 \n",
      "\n",
      "5 4 3 2 \n",
      "\n",
      "5 4 3 \n",
      "\n",
      "5 4 \n",
      "\n",
      "5 \n",
      "\n"
     ]
    }
   ],
   "source": [
    "'''Write a program to print the following triangle\n",
    "5 4 3 2 1\n",
    "5 4 3 2\n",
    "5 4 3\n",
    "5 4\n",
    "5'''\n",
    "\n",
    "for i in range(0,5):\n",
    "    for j in range(5,i,-1):\n",
    "        print(j, end = ' ')\n",
    "    print('\\n')\n",
    "    "
   ]
  },
  {
   "cell_type": "code",
   "execution_count": 74,
   "id": "3a781254",
   "metadata": {
    "scrolled": true
   },
   "outputs": [
    {
     "name": "stdout",
     "output_type": "stream",
     "text": [
      "5 \n",
      "\n",
      "5 4 \n",
      "\n",
      "5 4 3 \n",
      "\n",
      "5 4 3 2 \n",
      "\n",
      "5 4 3 2 1 \n",
      "\n"
     ]
    }
   ],
   "source": [
    "'''93. Write a program to print the following triangle\n",
    "5\n",
    "5 4\n",
    "5 4 3\n",
    "5 4 3 2\n",
    "5 4 3 2 1'''\n",
    "\n",
    "for i in range (5,0,-1):\n",
    "    for j in range(5,i-1,-1):\n",
    "        print(j,end = ' ')\n",
    "    print('\\n')"
   ]
  },
  {
   "cell_type": "code",
   "execution_count": 131,
   "id": "a0a7c312",
   "metadata": {},
   "outputs": [
    {
     "name": "stdout",
     "output_type": "stream",
     "text": [
      "1 1 1 1 1 \n",
      "\n",
      "  2 2 2 2 \n",
      "\n",
      "    3 3 3 \n",
      "\n",
      "      4 4 \n",
      "\n",
      "        5 \n",
      "\n"
     ]
    }
   ],
   "source": [
    "'''Write a program to print the following triangle.\n",
    "1 1 1 1 1\n",
    "  2 2 2 2\n",
    "    3 3 3\n",
    "      4 4\n",
    "        5'''\n",
    "\n",
    "for row in range(1,6):\n",
    "    for  column in range(1,6):\n",
    "        if row > column:\n",
    "            print(' ',end = ' ')\n",
    "        else:\n",
    "            print(row,end = ' ')\n",
    "    print('\\n')"
   ]
  },
  {
   "cell_type": "code",
   "execution_count": 1,
   "id": "b2ef6d3d",
   "metadata": {},
   "outputs": [
    {
     "name": "stdout",
     "output_type": "stream",
     "text": [
      "1 2 3 4 5 \n",
      "\n",
      "  6 7 8 9 \n",
      "\n",
      "    10 11 12 \n",
      "\n",
      "      13 14 \n",
      "\n",
      "        15 \n",
      "\n"
     ]
    }
   ],
   "source": [
    "''' Write a program to print the following triangle.\n",
    "1 2 3 4 5\n",
    "  1 2 3 4\n",
    "    1 2 3\n",
    "      1 2\n",
    "        1'''\n",
    "\n",
    "for row in range(1,6):\n",
    "    i = 0\n",
    "    for column in range(1,6):\n",
    "        if row > column:\n",
    "            print(' ',end = ' ')\n",
    "        else:\n",
    "            i += 1\n",
    "            print(i,end = ' ')\n",
    "    print('\\n')\n",
    "        \n",
    "            "
   ]
  },
  {
   "cell_type": "code",
   "execution_count": 133,
   "id": "3b62d4f4",
   "metadata": {},
   "outputs": [
    {
     "name": "stdout",
     "output_type": "stream",
     "text": [
      "1 2 3 4 5 \n",
      "\n",
      "  2 3 4 5 \n",
      "\n",
      "    3 4 5 \n",
      "\n",
      "      4 5 \n",
      "\n",
      "        5 \n",
      "\n"
     ]
    }
   ],
   "source": [
    "'''96. Write a program to print the following triangle.\n",
    "1 2 3 4 5\n",
    "  2 3 4 5\n",
    "    3 4 5\n",
    "      4 5\n",
    "        5'''\n",
    "\n",
    "for  row in range(1,6):\n",
    "    for column  in range(1,6):\n",
    "        if row > column:\n",
    "            print(' ',end = ' ')\n",
    "        else:\n",
    "            print(column,end = ' ')\n",
    "    print('\\n')"
   ]
  },
  {
   "cell_type": "code",
   "execution_count": 135,
   "id": "b8b5bd21",
   "metadata": {},
   "outputs": [
    {
     "name": "stdout",
     "output_type": "stream",
     "text": [
      "        1 \n",
      "\n",
      "      1 2 \n",
      "\n",
      "    1 2 3 \n",
      "\n",
      "  1 2 3 4 \n",
      "\n",
      "1 2 3 4 5 \n",
      "\n"
     ]
    }
   ],
   "source": [
    "'''Write a program to print the following triangle.\n",
    "         1\n",
    "       1 2\n",
    "     1 2 3\n",
    "   1 2 3 4\n",
    " 1 2 3 4 5\n",
    "'''\n",
    "\n",
    "for row in range(5,0,-1):\n",
    "    i = 0\n",
    "    for column in range(1,6):\n",
    "        if row > column:\n",
    "            print(' ',end = ' ')\n",
    "        else:\n",
    "            i += 1\n",
    "            print(i,end = ' ')\n",
    "    print('\\n')"
   ]
  },
  {
   "cell_type": "code",
   "execution_count": 144,
   "id": "635299e7",
   "metadata": {},
   "outputs": [
    {
     "name": "stdout",
     "output_type": "stream",
     "text": [
      "1 2 3 4 5 \n",
      "\n",
      "  2 3 4 5 \n",
      "\n",
      "    3 4 5 \n",
      "\n",
      "      4 5 \n",
      "\n",
      "        5 \n",
      "\n"
     ]
    }
   ],
   "source": [
    "'''98. Write a program to print the following triangle.\n",
    "1 2 3 4 5\n",
    "  2 3 4 5\n",
    "    3 4 5\n",
    "      4 5\n",
    "        5'''\n",
    "\n",
    "for row in range(1,6):\n",
    "    for  column in range(1,6):\n",
    "        if row > column:\n",
    "            print(' ',end = ' ')\n",
    "        else:\n",
    "            print(column,end= ' ')\n",
    "    print('\\n')"
   ]
  },
  {
   "cell_type": "code",
   "execution_count": 138,
   "id": "d7a887c9",
   "metadata": {},
   "outputs": [
    {
     "name": "stdout",
     "output_type": "stream",
     "text": [
      "5 4 3 2 1 \n",
      "\n",
      "  5 4 3 2 \n",
      "\n",
      "    5 4 3 \n",
      "\n",
      "      5 4 \n",
      "\n",
      "        5 \n",
      "\n"
     ]
    }
   ],
   "source": [
    "'''9. Write a program to print the following triangle.\n",
    "5 4 3 2 1\n",
    "  5 4 3 2\n",
    "    5 4 3\n",
    "      5 4\n",
    "        5'''\n",
    "\n",
    "for row in range(5,0,-1):\n",
    "    i = 6\n",
    "    for column in range(5,0,-1):\n",
    "        if row < column:\n",
    "            print(' ',end = ' ')\n",
    "        else:\n",
    "            i -= 1\n",
    "            print(i,end = ' ')\n",
    "    print('\\n')"
   ]
  },
  {
   "cell_type": "code",
   "execution_count": 139,
   "id": "2883403d",
   "metadata": {},
   "outputs": [
    {
     "name": "stdout",
     "output_type": "stream",
     "text": [
      "        5 \n",
      "\n",
      "      5 4 \n",
      "\n",
      "    5 4 3 \n",
      "\n",
      "  5 4 3 2 \n",
      "\n",
      "5 4 3 2 1 \n",
      "\n"
     ]
    }
   ],
   "source": [
    "'''100. Write a program to print the following triangle.\n",
    "        5\n",
    "      5 4\n",
    "    5 4 3\n",
    "  5 4 3 2\n",
    "5 4 3 2 1'''\n",
    "\n",
    "for row in range(5,0,-1):\n",
    "    i = 6\n",
    "    for column in range(1,6):\n",
    "        if row > column:\n",
    "            print(' ' ,end = ' ')\n",
    "        else:\n",
    "            i -= 1\n",
    "            print(i, end = ' ')\n",
    "    print('\\n')"
   ]
  },
  {
   "cell_type": "code",
   "execution_count": 141,
   "id": "06b723a0",
   "metadata": {},
   "outputs": [
    {
     "name": "stdout",
     "output_type": "stream",
     "text": [
      "        1 \n",
      "\n",
      "      2 1 \n",
      "\n",
      "    3 2 1 \n",
      "\n",
      "  4 3 2 1 \n",
      "\n",
      "5 4 3 2 1 \n",
      "\n"
     ]
    }
   ],
   "source": [
    "'''Write a program to print the following triangle.\n",
    "        1\n",
    "      2 1\n",
    "    3 2 1\n",
    "  4 3 2 1\n",
    "5 4 3 2 1\n",
    "'''\n",
    "\n",
    "for row in range(1,6):\n",
    "    for  column in range(5,0,-1):\n",
    "        if column <= row :\n",
    "            print(column,end = ' ')\n",
    "        else:\n",
    "            print(' ', end = ' ')\n",
    "    print('\\n')"
   ]
  },
  {
   "cell_type": "code",
   "execution_count": 71,
   "id": "c3d7ad2f",
   "metadata": {},
   "outputs": [
    {
     "name": "stdout",
     "output_type": "stream",
     "text": [
      "        5 \n",
      "\n",
      "      4 5 \n",
      "\n",
      "    3 4 5 \n",
      "\n",
      "  2 3 4 5 \n",
      "\n",
      "1 2 3 4 5 \n",
      "\n"
     ]
    }
   ],
   "source": [
    "'''102. Write a program to print the following triangle.\n",
    "        5\n",
    "      4 5\n",
    "    3 4 5\n",
    "  2 3 4 5\n",
    "1 2 3 4 5'''\n",
    "\n",
    "for column in range(5,0,-1):\n",
    "    for row in range(1,6):\n",
    "        if row >= column:\n",
    "            print(row,end = ' ')\n",
    "        else:\n",
    "            print(' ',end = ' ')\n",
    "    print('\\n')\n",
    "    "
   ]
  },
  {
   "cell_type": "code",
   "execution_count": 142,
   "id": "0cd952f3",
   "metadata": {},
   "outputs": [
    {
     "name": "stdout",
     "output_type": "stream",
     "text": [
      "        1 \n",
      "\n",
      "      2 2 \n",
      "\n",
      "    3 3 3 \n",
      "\n",
      "  4 4 4 4 \n",
      "\n",
      "5 5 5 5 5 \n",
      "\n"
     ]
    }
   ],
   "source": [
    "'''103. Write a program to print the following triangle.\n",
    "        1\n",
    "      2 2\n",
    "    3 3 3\n",
    "  4 4 4 4\n",
    "5 5 5 5 5'''\n",
    "\n",
    "for row in range(1,6):\n",
    "    for  column in range(5,0,-1):\n",
    "        if row >= column:\n",
    "            print(row,end =' ')\n",
    "        else:\n",
    "            print(' ',end =' ')\n",
    "    print('\\n')\n",
    "            "
   ]
  },
  {
   "cell_type": "code",
   "execution_count": 55,
   "id": "fa310d19",
   "metadata": {},
   "outputs": [
    {
     "name": "stdout",
     "output_type": "stream",
     "text": [
      "5 \n",
      "\n",
      "4 4 \n",
      "\n",
      "3 3 3 \n",
      "\n",
      "2 2 2 2 \n",
      "\n",
      "1 1 1 1 1 \n",
      "\n"
     ]
    }
   ],
   "source": [
    "'''104. Write a program to print the following triangle.\n",
    "5\n",
    "4 4\n",
    "3 3 3\n",
    "2 2 2 2\n",
    "1 1 1 1 1'''\n",
    "for i in range(5,0,-1):\n",
    "    for j in range(5,i-1,-1):\n",
    "        print(i,end = ' ')\n",
    "    print('\\n')\n",
    "        "
   ]
  },
  {
   "cell_type": "code",
   "execution_count": 143,
   "id": "14da76c0",
   "metadata": {},
   "outputs": [
    {
     "name": "stdout",
     "output_type": "stream",
     "text": [
      "        5 \n",
      "\n",
      "      4 4 \n",
      "\n",
      "    3 3 3 \n",
      "\n",
      "  2 2 2 2 \n",
      "\n",
      "1 1 1 1 1 \n",
      "\n"
     ]
    }
   ],
   "source": [
    "'''Write a program to print the following triangle.\n",
    "        5\n",
    "      4 4\n",
    "    3 3 3\n",
    "  2 2 2 2\n",
    "1 1 1 1 1\n",
    "'''\n",
    "for row in range(5,0,-1):\n",
    "    for column in range(1,6):\n",
    "        if column >= row:\n",
    "            print(row,end = ' ')\n",
    "        else:\n",
    "            print(' ',end = ' ')\n",
    "    print('\\n')"
   ]
  },
  {
   "cell_type": "code",
   "execution_count": 11,
   "id": "ec0bed5d",
   "metadata": {},
   "outputs": [
    {
     "name": "stdout",
     "output_type": "stream",
     "text": [
      "5 5 5 5 5 \n",
      "\n",
      "  4 4 4 4 \n",
      "\n",
      "    3 3 3 \n",
      "\n",
      "      2 2 \n",
      "\n",
      "        1 \n",
      "\n"
     ]
    }
   ],
   "source": [
    "''' Write a program to print the following triangle.\n",
    "5 5 5 5 5\n",
    "  4 4 4 4\n",
    "    3 3 3\n",
    "      2 2\n",
    "        1'''\n",
    "for row in range(5,0,-1):\n",
    "    for column in range(5,0,-1):\n",
    "        if row < column:\n",
    "            print(' ',end = ' ')\n",
    "        else:\n",
    "            print(row ,end = ' ')\n",
    "    print('\\n')\n",
    "        "
   ]
  },
  {
   "cell_type": "code",
   "execution_count": 3,
   "id": "82fcc799",
   "metadata": {},
   "outputs": [
    {
     "name": "stdout",
     "output_type": "stream",
     "text": [
      "    1 \n",
      "\n",
      "   1 2 \n",
      "\n",
      "  1 2 3 \n",
      "\n",
      " 1 2 3 4 \n",
      "\n",
      "1 2 3 4 5 \n",
      "\n"
     ]
    }
   ],
   "source": [
    "'''Write a program to print the following triangle.\n",
    "    1\n",
    "   1 2\n",
    "  1 2 3\n",
    " 1 2 3 4\n",
    "1 2 3 4 5'''\n",
    "'''\n",
    "****1\n",
    "***1*2\n",
    "**1*2*3\n",
    "*1*2*3*4\n",
    "1*2*3*4*5'''\n",
    "\n",
    "for row in range(5,0,-1):\n",
    "    i = 0\n",
    "    for column in range(1,6):\n",
    "        if row > column:\n",
    "            print(' ',end = '')\n",
    "        else:\n",
    "            i += 1\n",
    "            print(str(i) + \" \",end = '')\n",
    "    print('\\n')\n",
    "    \n"
   ]
  },
  {
   "cell_type": "code",
   "execution_count": 75,
   "id": "2822acdf",
   "metadata": {},
   "outputs": [
    {
     "name": "stdout",
     "output_type": "stream",
     "text": [
      "5 5 5 5 5 \n",
      " 4 4 4 4 \n",
      "  3 3 3 \n",
      "   2 2 \n",
      "    1 \n"
     ]
    }
   ],
   "source": [
    "'''Write a program to print the following triangle.\n",
    "5 5 5 5 5\n",
    " 4 4 4 4\n",
    "  3 3 3\n",
    "   2 2\n",
    "    1'''\n",
    "n = 5\n",
    "for row in range(n,0,-1):\n",
    "    for col in range(n,0,-1):\n",
    "        if col <= row:\n",
    "            print(str(row) + \" \",end=\"\")\n",
    "        else:\n",
    "            print(\" \",end=\"\")           \n",
    "    print()"
   ]
  },
  {
   "cell_type": "code",
   "execution_count": 10,
   "id": "e583ab04",
   "metadata": {},
   "outputs": [
    {
     "name": "stdout",
     "output_type": "stream",
     "text": [
      "\n",
      "1 \n",
      "2 3 \n",
      "4 5 6 \n",
      "7 8 9 10 \n"
     ]
    }
   ],
   "source": [
    "'''109. Write a program to print the following triangle.\n",
    "        1\n",
    "      2 3 2\n",
    "    3 4 5 4 3\n",
    "  4 5 6 7 6 5 4\n",
    "5 6 7 8 9 8 7 6 5'''\n",
    "i = 2\n",
    "for x in range(1,6):\n",
    "    for j in range(1,x):\n",
    "    \n",
    "        "
   ]
  },
  {
   "cell_type": "code",
   "execution_count": 27,
   "id": "b51c497b",
   "metadata": {},
   "outputs": [
    {
     "name": "stdout",
     "output_type": "stream",
     "text": [
      "\n",
      "1 \n",
      "1 2 1 \n",
      "1 2 3 2 1 \n",
      "1 2 3 4 3 2 1 \n",
      "1 2 3 4 5 4 3 2 1 \n"
     ]
    }
   ],
   "source": [
    "rows = 6\n",
    "for i in range(1, rows + 1):\n",
    "    for j in range(1, i - 1):\n",
    "        print(j, end=\" \")\n",
    "    for j in range(i - 1, 0, -1):\n",
    "        print(j, end=\" \")\n",
    "    print()"
   ]
  },
  {
   "cell_type": "code",
   "execution_count": 26,
   "id": "556b9b9e",
   "metadata": {
    "scrolled": true
   },
   "outputs": [
    {
     "name": "stdout",
     "output_type": "stream",
     "text": [
      "          \n",
      "        1 \n",
      "      1 2 1 \n",
      "    1 2 3 2 1 \n",
      "  1 2 3 4 3 2 1 \n",
      "1 2 3 4 5 4 3 2 1 \n"
     ]
    }
   ],
   "source": [
    "\"\"\"    1 \n",
    "      1 2 1 \n",
    "    1 2 3 2 1 \n",
    "  1 2 3 4 3 2 1 \n",
    "1 2 3 4 5 4 3 2 1 \"\"\"\n",
    "\n",
    "rows = 6\n",
    "for i in range(1, rows + 1):\n",
    "    for j in range(rows-1,i-1,-1):\n",
    "        print(' ',end =\" \")\n",
    "    for j in range(1, i - 1):\n",
    "        print(j, end=\" \")\n",
    "    for j in range(i - 1, 0, -1):\n",
    "        print(j, end=\" \")\n",
    "    print()\n"
   ]
  },
  {
   "cell_type": "code",
   "execution_count": 29,
   "id": "17f47674",
   "metadata": {},
   "outputs": [
    {
     "name": "stdout",
     "output_type": "stream",
     "text": [
      " 5 5 5 5 5 \n",
      "  4 4 4 4 \n",
      "   3 3 3 \n",
      "    2 2 \n",
      "     1 \n",
      "   2 2 \n",
      "  3 3 3 \n",
      " 4 4 4 4 \n",
      "5 5 5 5 5 \n"
     ]
    }
   ],
   "source": [
    "'''110. Write a program to print the following.\n",
    "5 5 5 5 5\n",
    " 4 4 4 4\n",
    "  3 3 3\n",
    "   2 2\n",
    "    1\n",
    "   2 2\n",
    "  3 3 3\n",
    " 4 4 4 4\n",
    "5 5 5 5 5'''\n",
    "for i in range(5,0,-1):\n",
    "    for j in range(5,-1,-1):\n",
    "        if i <= j:\n",
    "            print(\" \",end =\"\")\n",
    "        else:\n",
    "            print(str(i) + \" \",end =\"\")\n",
    "    print()\n",
    "for i in range(2,6):\n",
    "    for j in range(5,0,-1):\n",
    "        if i >= j:\n",
    "            print(str(i) + \" \",end =\"\")\n",
    "        else:\n",
    "            print(\" \",end =\"\")\n",
    "    print()"
   ]
  },
  {
   "cell_type": "code",
   "execution_count": null,
   "id": "73ba7034",
   "metadata": {},
   "outputs": [],
   "source": [
    "'''111. Write a program to print the following.\n",
    "      4\n",
    "    4 3 4\n",
    "  4 3 2 3 4\n",
    "4 3 2 1 2 3 4\n",
    "  4 3 2 3 4\n",
    "    4 3 4\n",
    "      4'''"
   ]
  },
  {
   "cell_type": "code",
   "execution_count": 17,
   "id": "366664fa",
   "metadata": {},
   "outputs": [
    {
     "name": "stdout",
     "output_type": "stream",
     "text": [
      "      1 \n",
      "     1 1 \n",
      "    1 2 1 \n",
      "   1 3 3 1 \n",
      "  1 4 6 4 1 \n",
      " 1 5 10 10 5 1 \n"
     ]
    }
   ],
   "source": [
    "'''Write a program to print the following.\n",
    "      1\n",
    "     1 1\n",
    "    1 2 1\n",
    "   1 3 3 1\n",
    "  1 4 6 4 1\n",
    "1 5 10 10 5 1'''\n",
    "rows = 6\n",
    "for i in range(rows):\n",
    "    num = 1\n",
    "    for s in range(rows-1,i-1,-1):\n",
    "        print(' ',end =\"\")\n",
    "    for j in range(i+1):\n",
    "        print(str(num) + \" \",end = \"\")\n",
    "        num = num * (i - j)//(j +1)\n",
    "    print()"
   ]
  },
  {
   "cell_type": "code",
   "execution_count": 11,
   "id": "5e961f5d",
   "metadata": {},
   "outputs": [
    {
     "name": "stdout",
     "output_type": "stream",
     "text": [
      "625\n",
      "[1, 3, 5, 7, 9, 11, 13, 15, 17, 19, 21, 23, 25, 27, 29, 31, 33, 35, 37, 39, 41, 43, 45, 47, 49]\n"
     ]
    }
   ],
   "source": [
    "'''Write a program to compute the series.\n",
    "1 + 3 + 5 + 7 + 9 +........................ +n'''\n",
    "\n",
    "n = 50\n",
    "_sum = 0\n",
    "series = []\n",
    "for i in range(1,n+1,2):\n",
    "    _sum += i\n",
    "    series.append(i)\n",
    "    \n",
    "print(_sum)\n",
    "print(series)\n",
    "    "
   ]
  },
  {
   "cell_type": "code",
   "execution_count": 13,
   "id": "62e90bfe",
   "metadata": {},
   "outputs": [
    {
     "name": "stdout",
     "output_type": "stream",
     "text": [
      "enter number:50\n",
      "[1, 4, 9, 16, 25]\n",
      "55\n"
     ]
    }
   ],
   "source": [
    "'''14. Write a program to compute the series.\n",
    "1 + 4 + 9 + 16 +.…………………… + n'''\n",
    "\n",
    "n = int(input('enter number:'))\n",
    "\n",
    "i = 1\n",
    "diff = 1\n",
    "_sum = 1\n",
    "series = [1]\n",
    "\n",
    "while i <= 16:\n",
    "    diff += 2\n",
    "    i += diff\n",
    "    _sum += i\n",
    "    series.append(i)\n",
    "    \n",
    "print(series)\n",
    "print(_sum)\n",
    "    "
   ]
  },
  {
   "cell_type": "code",
   "execution_count": 44,
   "id": "b57692c3",
   "metadata": {},
   "outputs": [
    {
     "name": "stdout",
     "output_type": "stream",
     "text": [
      "1 \n",
      "1 3 \n",
      "1 3 5 \n",
      "1 3 5 7 \n",
      "1 3 5 7 9 \n"
     ]
    }
   ],
   "source": [
    "for i in range(1,10,2):\n",
    "    for j in range(1,i+1,2):\n",
    "        print(j,end =\" \")\n",
    "    print()\n",
    "       "
   ]
  },
  {
   "cell_type": "code",
   "execution_count": 41,
   "id": "5706c6cd",
   "metadata": {},
   "outputs": [
    {
     "name": "stdout",
     "output_type": "stream",
     "text": [
      "1 3 5 7 9 \n",
      "1 3 5 7 \n",
      "1 3 5 \n",
      "1 3 \n",
      "1 \n"
     ]
    }
   ],
   "source": [
    "for i in range(9,-1,-2):\n",
    "    for j in range(1,i+1,2):\n",
    "        print(j,end =\" \")\n",
    "    print()"
   ]
  },
  {
   "cell_type": "code",
   "execution_count": 37,
   "id": "797d975c",
   "metadata": {},
   "outputs": [
    {
     "name": "stdout",
     "output_type": "stream",
     "text": [
      "[1, 8, 27]\n",
      "36\n"
     ]
    }
   ],
   "source": [
    "'''Write a program to compute the series.\n",
    "1 + 8 + 27 + 64 +.……………………+ n'''\n",
    "\n",
    "n = 3\n",
    "series =  []\n",
    "\n",
    "for i in range (1,n+1):\n",
    "    series.append(i ** 3)\n",
    "\n",
    "print(series)\n",
    "print(sum(series))\n",
    "    \n",
    "    "
   ]
  },
  {
   "cell_type": "code",
   "execution_count": 38,
   "id": "1160acee",
   "metadata": {},
   "outputs": [
    {
     "name": "stdout",
     "output_type": "stream",
     "text": [
      "enter number:50\n"
     ]
    },
    {
     "data": {
      "text/plain": [
       "[1, 3, 6, 10, 15, 21, 28, 36, 45]"
      ]
     },
     "execution_count": 38,
     "metadata": {},
     "output_type": "execute_result"
    }
   ],
   "source": [
    "'''Write a program to compute the series.\n",
    "1 + 3 + 6 + 10 +.……………………+ n'''\n",
    "\n",
    "n = int(input('enter number:'))\n",
    "out = []\n",
    "diff = 2\n",
    "_sum = 1\n",
    "out.append(_sum)\n",
    "flag = True\n",
    "\n",
    "while flag:\n",
    "    _sum += diff\n",
    "    if _sum <= n:\n",
    "        out.append(_sum)\n",
    "        diff += 1\n",
    "        #print(diff, _sum)\n",
    "    else:\n",
    "        flag = False\n",
    "\n",
    "out"
   ]
  },
  {
   "cell_type": "code",
   "execution_count": 33,
   "id": "d3146d3f",
   "metadata": {},
   "outputs": [
    {
     "name": "stdout",
     "output_type": "stream",
     "text": [
      "20.0\n"
     ]
    }
   ],
   "source": [
    "# Python3 program to find sum\n",
    "# series 1, 3, 6, 10, 15, 21...\n",
    "# and then find its sum.\n",
    "\n",
    "# Function to find the sum of series\n",
    "def seriessum(n):\n",
    "\t\n",
    "\tsum = 0\n",
    "\tfor i in range(1, n + 1):\n",
    "\t\tsum += i * (i + 1) / 2\n",
    "\treturn sum\n",
    "\t\n",
    "# Driver code\n",
    "n = 4\n",
    "print(seriessum(n))\n"
   ]
  },
  {
   "cell_type": "code",
   "execution_count": 8,
   "id": "4acc7392",
   "metadata": {},
   "outputs": [
    {
     "name": "stdout",
     "output_type": "stream",
     "text": [
      "[1, 3, 6, 10, 15, 21, 28, 36, 45]\n",
      "sum of series: 165\n"
     ]
    }
   ],
   "source": [
    "n = 50\n",
    "series = [1]\n",
    "i = 1\n",
    "diff = 1\n",
    "#_sum = 1\n",
    "\n",
    "while i < n:\n",
    "    diff += 1\n",
    "    i += diff\n",
    "    if i < n:\n",
    "        series.append(i)\n",
    "       # _sum += i\n",
    "    else: \n",
    "        break\n",
    "    \n",
    "print(series)\n",
    "#print('sum of series:',_sum)\n",
    "print('sum of series:',sum(series))"
   ]
  },
  {
   "cell_type": "code",
   "execution_count": 10,
   "id": "e573428a",
   "metadata": {},
   "outputs": [
    {
     "name": "stdout",
     "output_type": "stream",
     "text": [
      "[1, 4, 8, 13, 19, 26, 34, 43]\n",
      "sum of series: 148\n"
     ]
    }
   ],
   "source": [
    "'''Write a program to compute the series.\n",
    "1 + 4 + 8 + 11 +.…………………...+ n'''\n",
    "\n",
    "n = 50\n",
    "series = [1]\n",
    "i = 1\n",
    "diff = 2\n",
    "#_sum = 1\n",
    "\n",
    "while i < n:\n",
    "    diff += 1\n",
    "    i += diff\n",
    "    if i < n:\n",
    "        series.append(i)\n",
    "       # _sum += i\n",
    "    else: \n",
    "        break\n",
    "    \n",
    "print(series)\n",
    "#print('sum of series:',_sum)\n",
    "print('sum of series:',sum(series))"
   ]
  },
  {
   "cell_type": "code",
   "execution_count": 10,
   "id": "6a19528d",
   "metadata": {},
   "outputs": [
    {
     "name": "stdout",
     "output_type": "stream",
     "text": [
      "153\n"
     ]
    }
   ],
   "source": [
    "'''118. Write a program to compute the series.\n",
    "1! + 2! + 3! + 4! +.………….……...+ n\n",
    "'''\n",
    "n = 5\n",
    "sum_all = 0\n",
    "for i in range(1,n+1):\n",
    "    fact = 1\n",
    "    for j in range(1,(i+1)):\n",
    "        fact *= j\n",
    "    sum_all += fact\n",
    "print(sum_all)\n",
    "      "
   ]
  },
  {
   "cell_type": "code",
   "execution_count": 39,
   "id": "c00e577d",
   "metadata": {},
   "outputs": [
    {
     "name": "stdout",
     "output_type": "stream",
     "text": [
      "34.0\n"
     ]
    }
   ],
   "source": [
    "'''119. Write a program to compute the series.\n",
    "1!/1 + 2!/2 + 3!/3 + 4!/4 +.……………+ n!/n'''\n",
    "\n",
    "n = 5\n",
    "sum_all = 0\n",
    "for i in range(1,n+1):\n",
    "    fact = 1\n",
    "    for j in range(1,(i+1)):\n",
    "        fact *= j\n",
    "    sum_all += (fact/i)\n",
    "print(sum_all)\n"
   ]
  },
  {
   "cell_type": "code",
   "execution_count": null,
   "id": "4e2d237c",
   "metadata": {},
   "outputs": [],
   "source": [
    "'''Write a program to compute cosine series.\n",
    "1 - x2/2! + x4/4! - x6/6! +…………….+ xn/n!'''\n"
   ]
  },
  {
   "cell_type": "code",
   "execution_count": null,
   "id": "05efbd24",
   "metadata": {},
   "outputs": [],
   "source": [
    "'''121. Write a program to compute sine series.\n",
    "1 - x3/3! + x5/5! - x7/7! +………………+ xn/n!'''"
   ]
  },
  {
   "cell_type": "code",
   "execution_count": 45,
   "id": "aea210ad",
   "metadata": {},
   "outputs": [
    {
     "name": "stdout",
     "output_type": "stream",
     "text": [
      "6.333333333333333\n"
     ]
    }
   ],
   "source": [
    "'''122. Write a program to compute exponential series.\n",
    "1 + x + x2/2! + x3/3! + x4/4! +………….+ xn/n!'''\n",
    "\n",
    "x = 2\n",
    "n = 4\n",
    "_sum = 1\n",
    "for i in range(1,n):\n",
    "    fact = 1\n",
    "    for j in range(1,i+1):\n",
    "        fact *= j\n",
    "    _sum += (x ** i)/fact\n",
    "print(_sum)\n"
   ]
  },
  {
   "cell_type": "code",
   "execution_count": 63,
   "id": "72b73449",
   "metadata": {},
   "outputs": [
    {
     "name": "stdout",
     "output_type": "stream",
     "text": [
      "28.000000000000007\n"
     ]
    }
   ],
   "source": [
    "'''123. Write a program to compute the following series.\n",
    "1.0 + 1.1 + 1.2 +1.3 +………..……….+ 2.5'''\n",
    "\n",
    "res = 1\n",
    "i = 1\n",
    "_sum = 1\n",
    "while i < 2.5:\n",
    "    res += 0.1\n",
    "    _sum += res\n",
    "    i += 0.1\n",
    "print(_sum)\n",
    "    "
   ]
  },
  {
   "cell_type": "code",
   "execution_count": 46,
   "id": "cf8d163c",
   "metadata": {},
   "outputs": [
    {
     "name": "stdout",
     "output_type": "stream",
     "text": [
      "2.5040634542669737\n"
     ]
    }
   ],
   "source": [
    "'''Write a program to compute the following series.\n",
    "1/1 + 1/3 + 1/5 + 1/7 +....................+ 1/41'''\n",
    "\n",
    "_sum = 0 \n",
    "for i in range (1,42,2):\n",
    "    _sum += (1/i)\n",
    "print(_sum)\n",
    "    "
   ]
  },
  {
   "cell_type": "code",
   "execution_count": 36,
   "id": "12131277",
   "metadata": {},
   "outputs": [
    {
     "name": "stdout",
     "output_type": "stream",
     "text": [
      "-171 -256\n"
     ]
    }
   ],
   "source": [
    "'''125. Write a program to compute the following series.\n",
    "-1 + 2 – 4 + 8 - 16………..…….+ 1024'''\n",
    "\n",
    "res = -1\n",
    "i = 1\n",
    "_sum = -1\n",
    "while i < 256:\n",
    "    res *= -2\n",
    "    _sum += res\n",
    "    i *= 2\n",
    "print(_sum,res)\n",
    "\n"
   ]
  },
  {
   "cell_type": "code",
   "execution_count": 18,
   "id": "6adbb713",
   "metadata": {},
   "outputs": [
    {
     "name": "stdout",
     "output_type": "stream",
     "text": [
      "511 256\n"
     ]
    },
    {
     "data": {
      "text/plain": [
       "1941218027920"
      ]
     },
     "execution_count": 18,
     "metadata": {},
     "output_type": "execute_result"
    }
   ],
   "source": [
    "'''1 + 2 + 4 + 8 + 16………..…….+ 1024'''\n",
    "\n",
    "res = 1\n",
    "i = 1\n",
    "_sum = 1\n",
    "while i < 256:\n",
    "    res *= 2\n",
    "    _sum += res\n",
    "    i *= 2\n",
    "print(_sum,res)\n",
    "id(res)"
   ]
  },
  {
   "cell_type": "code",
   "execution_count": 5,
   "id": "17108660",
   "metadata": {},
   "outputs": [
    {
     "name": "stdout",
     "output_type": "stream",
     "text": [
      "47.7503973308353\n"
     ]
    }
   ],
   "source": [
    "'''126. Write a program to compute the following series.\n",
    "1/2 + 3/4 + 5/6 +………..………..+ 99/100'''\n",
    "\n",
    "_sum = 0 \n",
    "for i in range (1,100,2):\n",
    "    _sum += i/(i+1)\n",
    "print(_sum)\n",
    "    "
   ]
  },
  {
   "cell_type": "code",
   "execution_count": 48,
   "id": "82a2e895",
   "metadata": {},
   "outputs": [
    {
     "name": "stdout",
     "output_type": "stream",
     "text": [
      "enter number of rows:5\n",
      "    *\n",
      "\n",
      "   ***\n",
      "\n",
      "  *****\n",
      "\n",
      " *******\n",
      "\n",
      "*********\n",
      "\n"
     ]
    }
   ],
   "source": [
    "# triangle pyramid \n",
    "rows = int(input(\"enter number of rows:\"))\n",
    "for columns in range(0,rows):\n",
    "    spaces = (rows - (columns+1))\n",
    "    print(\" \" * spaces + \"*\" * (2*columns + 1) )\n",
    "    #print(\" \" * spaces + \"*\" *columns) #for half pyramid\n",
    "    print()\n",
    "    "
   ]
  },
  {
   "cell_type": "code",
   "execution_count": 50,
   "id": "71f77ee8",
   "metadata": {},
   "outputs": [
    {
     "name": "stdout",
     "output_type": "stream",
     "text": [
      "enter number of rows:6\n",
      "***********\n",
      "\n",
      " *********\n",
      "\n",
      "  *******\n",
      "\n",
      "   *****\n",
      "\n",
      "    ***\n",
      "\n",
      "     *\n",
      "\n"
     ]
    }
   ],
   "source": [
    "# triangle inverted pyramid\n",
    "rows = int(input(\"enter number of rows:\"))\n",
    "for columns in range(rows,0,-1):\n",
    "    spaces = rows - columns\n",
    "    print(\" \" * spaces + \"*\" * (2*columns - 1))\n",
    "    #print(\" \" * spaces + \"*\" * columns)\n",
    "    \n",
    "    print()"
   ]
  }
 ],
 "metadata": {
  "kernelspec": {
   "display_name": "Python 3 (ipykernel)",
   "language": "python",
   "name": "python3"
  },
  "language_info": {
   "codemirror_mode": {
    "name": "ipython",
    "version": 3
   },
   "file_extension": ".py",
   "mimetype": "text/x-python",
   "name": "python",
   "nbconvert_exporter": "python",
   "pygments_lexer": "ipython3",
   "version": "3.9.13"
  }
 },
 "nbformat": 4,
 "nbformat_minor": 5
}

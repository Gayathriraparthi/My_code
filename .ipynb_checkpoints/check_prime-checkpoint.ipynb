{
 "cells": [
  {
   "cell_type": "markdown",
   "id": "c4124665",
   "metadata": {},
   "source": [
    "# Prime number using While loop"
   ]
  },
  {
   "cell_type": "code",
   "execution_count": 11,
   "id": "67a384e7",
   "metadata": {},
   "outputs": [
    {
     "name": "stdout",
     "output_type": "stream",
     "text": [
      "enter number:100\n",
      "Not Prime\n",
      "no.of iterations 100\n"
     ]
    }
   ],
   "source": [
    "num = int(input('enter number:'))\n",
    "i = 1 # start\n",
    "c = 0   # to count no.of factors\n",
    "iterations = 0 # to count iteration \n",
    "while i <= num: # end\n",
    "    if num % i == 0:\n",
    "        c += 1\n",
    "    i += 1 # step count\n",
    "    iterations += 1\n",
    "\n",
    "if c <= 2:\n",
    "    print('Prime')\n",
    "else:\n",
    "    print('Not Prime')\n",
    "print('no.of iterations',iterations)  # here Order of complexity is O(n)"
   ]
  },
  {
   "cell_type": "code",
   "execution_count": 9,
   "id": "8f579ec0",
   "metadata": {},
   "outputs": [
    {
     "name": "stdout",
     "output_type": "stream",
     "text": [
      "enter number:100\n",
      "Not Prime\n",
      "no.of iterations 50\n"
     ]
    }
   ],
   "source": [
    "num = int(input('enter number:'))\n",
    "i = 1 # start\n",
    "c = 0  # to count no.of factor\n",
    "iterations = 0  # to count iteration\n",
    "while i <= int(num/2): # end and checking num/2 as factor are only upto num/2 ,dec no.of iterations to half\n",
    "    if num % i == 0:\n",
    "        c += 1\n",
    "    i += 1\n",
    "    iterations += 1\n",
    "\n",
    "if c <= 2:\n",
    "    print('Prime')\n",
    "else:\n",
    "    print('Not Prime')\n",
    "    \n",
    "print('no.of iterations',iterations) #here Order of complexity is num|2\n",
    "        "
   ]
  },
  {
   "cell_type": "code",
   "execution_count": 8,
   "id": "e4d7e4c3",
   "metadata": {},
   "outputs": [
    {
     "name": "stdout",
     "output_type": "stream",
     "text": [
      "enter number:17\n",
      "Prime\n",
      "no.of iterations 4\n"
     ]
    }
   ],
   "source": [
    "num = int(input('enter number:'))\n",
    "root = int(num ** .5) # root of num\n",
    "i = 1\n",
    "c = 0\n",
    "iterations = 0\n",
    "\n",
    "while i <= root: # checking upto root bcz acc to a theorem, a num is prime if theres are only 2 factors within range of root\n",
    "    \n",
    "    if num % i == 0:\n",
    "        c += 1                    \n",
    "    i += 1 \n",
    "    iterations += 1\n",
    "    \n",
    "if c <= 2:\n",
    "    print('Prime')\n",
    "else:\n",
    "    print('Not Prime')\n",
    "    \n",
    "print('no.of iterations',iterations) # here Order of complexity is square root of n        "
   ]
  },
  {
   "cell_type": "code",
   "execution_count": 6,
   "id": "fe4f8a09",
   "metadata": {},
   "outputs": [
    {
     "name": "stdout",
     "output_type": "stream",
     "text": [
      "enter number:17\n",
      "Prime\n",
      "no.of iterations 3\n"
     ]
    }
   ],
   "source": [
    "num = int(input('enter number:'))\n",
    "root = int(num ** .5)\n",
    "i = 2 # taking 2 as intial ,bcz 1 is factor for any number\n",
    "c = 0\n",
    "iterations = 0\n",
    "if num == 1 or num == 2:\n",
    "    print(num,' is a prime number')\n",
    "else:\n",
    "    while i <= root:\n",
    "        if num % i == 0:\n",
    "            c += 1\n",
    "            break\n",
    "        i += 1\n",
    "        iterations += 1\n",
    "    \n",
    "    if c == 0:\n",
    "        print('Prime')\n",
    "    else:\n",
    "        print('Not Prime')\n",
    "\n",
    "print('no.of iterations',iterations) #here Order of complexity is O(sqroor of n) for prime numbers and O(1) for non prime numbers\n",
    "\n",
    "        "
   ]
  },
  {
   "cell_type": "code",
   "execution_count": 7,
   "id": "02416c1b",
   "metadata": {},
   "outputs": [
    {
     "name": "stdout",
     "output_type": "stream",
     "text": [
      "enter number:17\n",
      "Prime\n",
      "no.of iterations 3\n"
     ]
    }
   ],
   "source": [
    "num = int(input('enter number:'))\n",
    "root = int(num ** .5)\n",
    "i = 2\n",
    "c = 0\n",
    "iterations = 0\n",
    "if num == 1 or num == 2:\n",
    "    print(num,' is a prime number')\n",
    "else:\n",
    "    while i <= root:\n",
    "        if num % i == 0:\n",
    "            c += 1\n",
    "            print('Not prime')\n",
    "            break\n",
    "        i += 1\n",
    "        iterations += 1\n",
    "        \n",
    "    else:\n",
    "        print('Prime')\n",
    "\n",
    "        \n",
    "print('no.of iterations',iterations)"
   ]
  },
  {
   "cell_type": "markdown",
   "id": "a7c862f3",
   "metadata": {},
   "source": [
    "# Prime number using For loop"
   ]
  },
  {
   "cell_type": "code",
   "execution_count": 9,
   "id": "4346b040",
   "metadata": {},
   "outputs": [
    {
     "name": "stdout",
     "output_type": "stream",
     "text": [
      "enter number: 17\n",
      "17 Prime\n"
     ]
    }
   ],
   "source": [
    "n = int(input(\"enter number: \"))\n",
    "count = 0\n",
    "iterations = 0\n",
    "for i in range(1,n+1):\n",
    "    if n % i == 0:\n",
    "        count += 1\n",
    "    iterations += 1\n",
    "if count == 2:\n",
    "    print(iterations,\"Prime\")\n",
    "else:\n",
    "    print(iterations,\"Not Prime\")\n",
    "    "
   ]
  },
  {
   "cell_type": "code",
   "execution_count": 2,
   "id": "6dce6091",
   "metadata": {},
   "outputs": [
    {
     "name": "stdout",
     "output_type": "stream",
     "text": [
      "enter number: 12\n",
      "5 Not Prime\n"
     ]
    }
   ],
   "source": [
    "n = int(input(\"enter number: \"))\n",
    "count = 0\n",
    "iterations = 0\n",
    "for i in range(2,(n//2)+1):\n",
    "    if n % i == 0:\n",
    "        count += 1\n",
    "    iterations += 1\n",
    "if count == 2:\n",
    "    print(iterations,\"Prime\")\n",
    "else:\n",
    "    print(iterations,\"Not Prime\")\n"
   ]
  },
  {
   "cell_type": "code",
   "execution_count": 15,
   "id": "98d68213",
   "metadata": {},
   "outputs": [
    {
     "name": "stdout",
     "output_type": "stream",
     "text": [
      "enter number: 14\n",
      "2 Not Prime\n"
     ]
    }
   ],
   "source": [
    "n = int(input(\"enter number: \"))\n",
    "count = 0\n",
    "rt = int(n ** .5)\n",
    "iterations = 0\n",
    "for i in range(2,rt+1):\n",
    "    iterations += 1\n",
    "    if n % i == 0:\n",
    "        count += 1\n",
    "    \n",
    "if count == 2:\n",
    "    print(iterations,\"Prime\")\n",
    "else:\n",
    "    print(iterations,\"Not Prime\")"
   ]
  },
  {
   "cell_type": "code",
   "execution_count": 16,
   "id": "a7b5b6c6",
   "metadata": {},
   "outputs": [
    {
     "name": "stdout",
     "output_type": "stream",
     "text": [
      "enter number: 14\n",
      "1 Not Prime\n"
     ]
    }
   ],
   "source": [
    "n = int(input(\"enter number: \"))\n",
    "count = 0\n",
    "rt = int(n ** .5)\n",
    "iterations = 0\n",
    "for i in range(2,rt+1):\n",
    "    iterations += 1\n",
    "    if n % i == 0:\n",
    "        count += 1\n",
    "        break\n",
    "if count == 0:\n",
    "    print(iterations,\"Prime\")\n",
    "else:\n",
    "    print(iterations,\"Not Prime\")"
   ]
  },
  {
   "cell_type": "code",
   "execution_count": 19,
   "id": "149a7498",
   "metadata": {},
   "outputs": [
    {
     "name": "stdout",
     "output_type": "stream",
     "text": [
      "enter number: 14\n",
      "1 Not Prime\n"
     ]
    }
   ],
   "source": [
    "n = int(input(\"enter number: \"))\n",
    "rt = int(n ** .5)\n",
    "iterations = 0\n",
    "for i in range(2,rt+1):\n",
    "    iterations += 1\n",
    "    if n % i == 0:\n",
    "        print(iterations,\"Not Prime\")\n",
    "        break\n",
    "    \n",
    "else:\n",
    "    print(iterations,\"Prime\")\n",
    "  "
   ]
  },
  {
   "cell_type": "code",
   "execution_count": null,
   "id": "8fac9e6e",
   "metadata": {},
   "outputs": [],
   "source": []
  }
 ],
 "metadata": {
  "kernelspec": {
   "display_name": "Python 3 (ipykernel)",
   "language": "python",
   "name": "python3"
  },
  "language_info": {
   "codemirror_mode": {
    "name": "ipython",
    "version": 3
   },
   "file_extension": ".py",
   "mimetype": "text/x-python",
   "name": "python",
   "nbconvert_exporter": "python",
   "pygments_lexer": "ipython3",
   "version": "3.11.4"
  }
 },
 "nbformat": 4,
 "nbformat_minor": 5
}

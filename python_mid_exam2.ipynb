{
 "cells": [
  {
   "cell_type": "markdown",
   "metadata": {
    "id": "tk6x8fIQwOMz"
   },
   "source": [
    "# INTRODUCTION TO PYTHON MID EXAM"
   ]
  },
  {
   "cell_type": "markdown",
   "metadata": {},
   "source": [
    "# Total -  50 Marks"
   ]
  },
  {
   "cell_type": "markdown",
   "metadata": {
    "id": "pC_8dpw3wOM9"
   },
   "source": [
    "# SECTION A: 8 MARKS"
   ]
  },
  {
   "cell_type": "markdown",
   "metadata": {
    "id": "2o-XCvgMwOM9"
   },
   "source": [
    " _________________"
   ]
  },
  {
   "cell_type": "markdown",
   "metadata": {
    "id": "IhKMetxqwOM-"
   },
   "source": [
    "### 1.What are the Immutable and Mutable built-in datatypes of Python Explain the feature immutable with suitable code(8 Marks)"
   ]
  },
  {
   "cell_type": "markdown",
   "metadata": {},
   "source": [
    "#### Immutable data types: any data type once after creating on which create,delete,update operations are not possible examples: str,int,float,tuple,frozen set"
   ]
  },
  {
   "cell_type": "code",
   "execution_count": 1,
   "metadata": {
    "scrolled": true
   },
   "outputs": [
    {
     "ename": "TypeError",
     "evalue": "'tuple' object does not support item assignment",
     "output_type": "error",
     "traceback": [
      "\u001b[1;31m---------------------------------------------------------------------------\u001b[0m",
      "\u001b[1;31mTypeError\u001b[0m                                 Traceback (most recent call last)",
      "\u001b[1;32m~\\AppData\\Local\\Temp\\ipykernel_15612\\1992882100.py\u001b[0m in \u001b[0;36m<module>\u001b[1;34m\u001b[0m\n\u001b[0;32m      1\u001b[0m \u001b[0mt\u001b[0m \u001b[1;33m=\u001b[0m \u001b[1;33m(\u001b[0m\u001b[1;36m1\u001b[0m\u001b[1;33m,\u001b[0m\u001b[1;36m2\u001b[0m\u001b[1;33m,\u001b[0m\u001b[1;36m3\u001b[0m\u001b[1;33m,\u001b[0m\u001b[1;36m4\u001b[0m\u001b[1;33m)\u001b[0m\u001b[1;33m\u001b[0m\u001b[1;33m\u001b[0m\u001b[0m\n\u001b[1;32m----> 2\u001b[1;33m \u001b[0mt\u001b[0m\u001b[1;33m[\u001b[0m\u001b[1;36m0\u001b[0m\u001b[1;33m]\u001b[0m \u001b[1;33m=\u001b[0m\u001b[1;36m1\u001b[0m\u001b[1;33m\u001b[0m\u001b[1;33m\u001b[0m\u001b[0m\n\u001b[0m\u001b[0;32m      3\u001b[0m \u001b[0mt\u001b[0m\u001b[1;33m\u001b[0m\u001b[1;33m\u001b[0m\u001b[0m\n",
      "\u001b[1;31mTypeError\u001b[0m: 'tuple' object does not support item assignment"
     ]
    }
   ],
   "source": [
    "t = (1,2,3,4)\n",
    "t[0] =1\n",
    "t"
   ]
  },
  {
   "cell_type": "code",
   "execution_count": 2,
   "metadata": {},
   "outputs": [
    {
     "ename": "TypeError",
     "evalue": "'str' object does not support item assignment",
     "output_type": "error",
     "traceback": [
      "\u001b[1;31m---------------------------------------------------------------------------\u001b[0m",
      "\u001b[1;31mTypeError\u001b[0m                                 Traceback (most recent call last)",
      "\u001b[1;32m~\\AppData\\Local\\Temp\\ipykernel_15612\\2753062120.py\u001b[0m in \u001b[0;36m<module>\u001b[1;34m\u001b[0m\n\u001b[0;32m      1\u001b[0m \u001b[0ms\u001b[0m \u001b[1;33m=\u001b[0m \u001b[1;34m\"string\"\u001b[0m\u001b[1;33m\u001b[0m\u001b[1;33m\u001b[0m\u001b[0m\n\u001b[1;32m----> 2\u001b[1;33m \u001b[0ms\u001b[0m\u001b[1;33m[\u001b[0m\u001b[1;36m0\u001b[0m\u001b[1;33m]\u001b[0m \u001b[1;33m=\u001b[0m \u001b[1;34m\"o\"\u001b[0m\u001b[1;33m\u001b[0m\u001b[1;33m\u001b[0m\u001b[0m\n\u001b[0m\u001b[0;32m      3\u001b[0m \u001b[0ms\u001b[0m\u001b[1;33m\u001b[0m\u001b[1;33m\u001b[0m\u001b[0m\n",
      "\u001b[1;31mTypeError\u001b[0m: 'str' object does not support item assignment"
     ]
    }
   ],
   "source": [
    "s = \"string\"\n",
    "s[0] = \"o\"\n",
    "s"
   ]
  },
  {
   "cell_type": "markdown",
   "metadata": {},
   "source": [
    "#### Mutable data types: any data type once after creating on which create,delete,update operations are possible examples: list,dict,set"
   ]
  },
  {
   "cell_type": "code",
   "execution_count": 4,
   "metadata": {},
   "outputs": [
    {
     "data": {
      "text/plain": [
       "[1, 2, 5, 4]"
      ]
     },
     "execution_count": 4,
     "metadata": {},
     "output_type": "execute_result"
    }
   ],
   "source": [
    "l = [1,2,3,4]\n",
    "l[2] = 5 # update of element at 2 index\n",
    "l"
   ]
  },
  {
   "cell_type": "markdown",
   "metadata": {
    "id": "lzZpLpypwOM-"
   },
   "source": [
    "# SECTION B: 17 MARKS"
   ]
  },
  {
   "cell_type": "markdown",
   "metadata": {
    "id": "tJjwpEFhwOM_"
   },
   "source": [
    "---------------------"
   ]
  },
  {
   "cell_type": "markdown",
   "metadata": {
    "id": "AY1UV4uswOM_"
   },
   "source": [
    "### 2. Write a program for binary algebra. Accept two numbers. Convert them to binary and display addition and substraction? ( 7 Marks)\n",
    "    \n"
   ]
  },
  {
   "cell_type": "code",
   "execution_count": 10,
   "metadata": {},
   "outputs": [
    {
     "name": "stdout",
     "output_type": "stream",
     "text": [
      "0b1010\n",
      "0b101\n",
      "0b1111\n",
      "0b101\n"
     ]
    }
   ],
   "source": [
    "x = 10\n",
    "y = 5\n",
    "#add = bin(x) + bin(y)\n",
    "add = bin(x + y)\n",
    "substract = bin(x - y)\n",
    "print(bin(x))\n",
    "print(bin(y))\n",
    "print(add)\n",
    "print(substract)"
   ]
  },
  {
   "cell_type": "markdown",
   "metadata": {
    "id": "iVv_AndAwONA"
   },
   "source": [
    "### 3.Write a code to accept full name as a combination of first name and last name seperated by space. Accept gender from user. Add appropriate salutation (Mr./Ms.) to the name. Display the output as given below? (5 Marks)"
   ]
  },
  {
   "cell_type": "code",
   "execution_count": 14,
   "metadata": {},
   "outputs": [
    {
     "name": "stdout",
     "output_type": "stream",
     "text": [
      "enter first name :Gayathri\n",
      "enter second name :Raparthi\n",
      "Male or Female:Female\n",
      "Ms.  Gayathri Raparthi\n"
     ]
    }
   ],
   "source": [
    "full_name = input(\"enter first name :\") + \" \" + input(\"enter second name :\")\n",
    "gender = input(\"Male or Female:\")\n",
    "if gender == \"Male\":\n",
    "    print(\"Mr. \",full_name)\n",
    "elif gender == \"Female\":\n",
    "    print(\"Ms. \",full_name)\n",
    "else:\n",
    "    print(\"inavalid input\")\n",
    "    "
   ]
  },
  {
   "cell_type": "markdown",
   "metadata": {
    "id": "y8clA5NewONB"
   },
   "source": [
    "### 4.  Write a code to add “alpha”:26 to the existing dictionary. (5 Marks)\n",
    "dic={'Eddy':13,'Maria':44,'Jas':21}"
   ]
  },
  {
   "cell_type": "code",
   "execution_count": 18,
   "metadata": {},
   "outputs": [
    {
     "data": {
      "text/plain": [
       "{'Eddy': 13, 'Maria': 44, 'Jas': 21, 'alpha': 26}"
      ]
     },
     "execution_count": 18,
     "metadata": {},
     "output_type": "execute_result"
    }
   ],
   "source": [
    "d ={'Eddy':13,'Maria':44,'Jas':21}\n",
    "#d[\"alpha\"] = 26\n",
    "d.update({\"alpha\":26})\n",
    "d"
   ]
  },
  {
   "cell_type": "markdown",
   "metadata": {
    "id": "IhDPiRcMwONB"
   },
   "source": [
    "# SECTION C: 25 MARKS"
   ]
  },
  {
   "cell_type": "markdown",
   "metadata": {
    "id": "UFb7os5OwONC"
   },
   "source": [
    "### 5. Write a python program. Suppose the input=6 Then, the output should be:\n",
    "### {1: 1, 2: 4, 3: 9, 4: 16, 5: 25, 6: 36} (5 Marks)"
   ]
  },
  {
   "cell_type": "code",
   "execution_count": 26,
   "metadata": {},
   "outputs": [
    {
     "name": "stdout",
     "output_type": "stream",
     "text": [
      "enter number:7\n"
     ]
    },
    {
     "data": {
      "text/plain": [
       "{1: 1, 2: 4, 3: 9, 4: 16, 5: 25, 6: 36}"
      ]
     },
     "execution_count": 26,
     "metadata": {},
     "output_type": "execute_result"
    }
   ],
   "source": [
    "n = int(input(\"enter number:\"))\n",
    "integer = [i for i in range(1,n)]\n",
    "square = [i**2 for i in range(1,n)]\n",
    "\n",
    "dictionary = dict(zip(integer,square))\n",
    "dictionary\n",
    "                  "
   ]
  },
  {
   "cell_type": "markdown",
   "metadata": {
    "id": "QVKkv-5ywONC"
   },
   "source": [
    "### 6. Write a code to find the factors of  a given number? Write Recursive and non-recursive codes (10 Marks)"
   ]
  },
  {
   "cell_type": "code",
   "execution_count": 28,
   "metadata": {},
   "outputs": [
    {
     "name": "stdout",
     "output_type": "stream",
     "text": [
      "enter a number:25\n",
      "1 5 25 "
     ]
    }
   ],
   "source": [
    "n = int(input(\"enter a number:\"))\n",
    "for i in range(1,n+1):\n",
    "    if n % i == 0:\n",
    "        print(i,end = \" \")"
   ]
  },
  {
   "cell_type": "code",
   "execution_count": null,
   "metadata": {},
   "outputs": [],
   "source": [
    "def fact(n):\n",
    "    i = 1\n",
    "    l = []\n",
    "    if i < n and n % i  == 0:\n",
    "        l.append(i)\n",
    "        i += 1\n",
    "        #return fact()\n",
    "    else:\n",
    "        return l\n",
    "        \n",
    "fact(10)       "
   ]
  },
  {
   "cell_type": "code",
   "execution_count": null,
   "metadata": {},
   "outputs": [],
   "source": [
    "def fact(n):\n",
    "    l =[]\n",
    "    div = n // 2\n",
    "    l.append(div)\n",
    "    "
   ]
  },
  {
   "cell_type": "markdown",
   "metadata": {
    "id": "QVKkv-5ywONC"
   },
   "source": [
    "### 7. For a given nested list find out the maximum element and calculate average of all elements. Use the given list?         list1 = [[20,25,30],[10,15,18],[12,45,20],35,20,23,28] (10 Marks)"
   ]
  },
  {
   "cell_type": "code",
   "execution_count": 39,
   "metadata": {},
   "outputs": [
    {
     "name": "stdout",
     "output_type": "stream",
     "text": [
      "45\n",
      "23.153846153846153\n"
     ]
    }
   ],
   "source": [
    "l = [[20,25,30],[10,15,18],[12,45,20],35,20,23,28] \n",
    "l1 =[]\n",
    "for i in l:\n",
    "    if type(i) == list:\n",
    "        l1.extend(i)\n",
    "    else:\n",
    "        l1.append(i)\n",
    "        \n",
    "print(max(l1))\n",
    "print(sum(l1)/len(l1))"
   ]
  },
  {
   "cell_type": "code",
   "execution_count": null,
   "metadata": {},
   "outputs": [],
   "source": []
  }
 ],
 "metadata": {
  "colab": {
   "name": "ITP_MID_EXAM_SET_5_WITH_SOLUTION.ipynb",
   "provenance": []
  },
  "kernelspec": {
   "display_name": "Python 3 (ipykernel)",
   "language": "python",
   "name": "python3"
  },
  "language_info": {
   "codemirror_mode": {
    "name": "ipython",
    "version": 3
   },
   "file_extension": ".py",
   "mimetype": "text/x-python",
   "name": "python",
   "nbconvert_exporter": "python",
   "pygments_lexer": "ipython3",
   "version": "3.9.13"
  }
 },
 "nbformat": 4,
 "nbformat_minor": 1
}

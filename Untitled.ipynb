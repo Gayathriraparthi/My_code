{
 "cells": [
  {
   "cell_type": "code",
   "execution_count": null,
   "id": "2b7f4e28",
   "metadata": {},
   "outputs": [],
   "source": [
    "1. Print all Pairs which make sum N for the given list.\n",
    "e,g: l = [4, 3, 6, 8, 2, 9, 7,  5]\n",
    "N = 10,\n",
    "It should print (4, 6), (8, 2), (3, 7)"
   ]
  },
  {
   "cell_type": "code",
   "execution_count": 8,
   "id": "a8735c88",
   "metadata": {},
   "outputs": [
    {
     "name": "stdout",
     "output_type": "stream",
     "text": [
      "(4, 6)\n",
      "(3, 7)\n",
      "(8, 2)\n"
     ]
    }
   ],
   "source": [
    "l = [4, 3, 6, 8, 2, 9, 7,  5]\n",
    "N = 10\n",
    "\n",
    "for i in range(len(l)-1):\n",
    "    for j in range(i+1,len(l)-1):\n",
    "        if l[i] + l[j] == N:\n",
    "            print((l[i],l[j]))\n"
   ]
  },
  {
   "cell_type": "code",
   "execution_count": null,
   "id": "b5272cd4",
   "metadata": {},
   "outputs": [],
   "source": [
    "2. \n",
    "10\n",
    "10 9\n",
    "10 9 8\n",
    "10 9 8 7\n",
    "10 9 8 7 6"
   ]
  },
  {
   "cell_type": "code",
   "execution_count": 2,
   "id": "5750d577",
   "metadata": {},
   "outputs": [
    {
     "name": "stdout",
     "output_type": "stream",
     "text": [
      "10 \n",
      "10 9 \n",
      "10 9 8 \n",
      "10 9 8 7 \n",
      "10 9 8 7 6 \n"
     ]
    }
   ],
   "source": [
    "for i in range(10,5,-1):\n",
    "    for j in range(10,i-1,-1):\n",
    "        print(j,end = \" \")\n",
    "    print()"
   ]
  },
  {
   "cell_type": "code",
   "execution_count": null,
   "id": "f359c432",
   "metadata": {},
   "outputs": [],
   "source": [
    "3. Merge the following lists\n",
    "given \n",
    "l1 = [1, 4, 7, 9]\n",
    "l2 = [3, 8, 10]\n",
    "output = [1, 3, 4, 7, 8, 9, 10]\n"
   ]
  },
  {
   "cell_type": "code",
   "execution_count": 9,
   "id": "f9d57280",
   "metadata": {},
   "outputs": [
    {
     "data": {
      "text/plain": [
       "[1, 3, 4, 7, 8, 9, 10]"
      ]
     },
     "execution_count": 9,
     "metadata": {},
     "output_type": "execute_result"
    }
   ],
   "source": [
    "l1 = [1, 4, 7, 9]\n",
    "l2 = [3, 8, 10]\n",
    "output = sorted(l1 + l2)\n",
    "output"
   ]
  },
  {
   "cell_type": "code",
   "execution_count": 54,
   "id": "b4f44ebf",
   "metadata": {},
   "outputs": [
    {
     "name": "stdout",
     "output_type": "stream",
     "text": [
      "[1, 3, 4, 7, 8, 9, 10]\n"
     ]
    }
   ],
   "source": [
    "l1 = [1, 4, 7, 9]\n",
    "l2 = [3, 8, 10]\n",
    "\n",
    "output = l1.copy()\n",
    "\n",
    "for i in l2:\n",
    "    output.append(i)\n",
    "    \n",
    "output = sorted(output)    \n",
    "print(output)\n"
   ]
  },
  {
   "cell_type": "code",
   "execution_count": 6,
   "id": "564c80bc",
   "metadata": {},
   "outputs": [
    {
     "name": "stdout",
     "output_type": "stream",
     "text": [
      "[1, 3, 4, 7, 8, 9, 10]\n"
     ]
    }
   ],
   "source": [
    "l1 = [1, 4, 7, 9]\n",
    "l2 = [3, 8, 10]\n",
    "l = (l1 + l2)\n",
    "\n",
    "for i in range(len(l)-1):\n",
    "    for j in range(i+1,len(l)):\n",
    "        if l[i] > l[j]:\n",
    "            l[i],l[j] = l[j],l[i]\n",
    "    \n",
    "print(l)   "
   ]
  },
  {
   "cell_type": "code",
   "execution_count": 2,
   "id": "d97805ba",
   "metadata": {},
   "outputs": [],
   "source": [
    "#4: sort the following list without using sort() function in increasing order\n",
    "#l = [1, 1, 0, 1, 0, 0, 0, 1, 1, 0, 1, 0]\n",
    "\n",
    "l = [3,1,6,0,9]"
   ]
  },
  {
   "cell_type": "code",
   "execution_count": 3,
   "id": "3919c9b2",
   "metadata": {
    "scrolled": true
   },
   "outputs": [
    {
     "name": "stdout",
     "output_type": "stream",
     "text": [
      "[0, 1, 3, 6, 9]\n"
     ]
    }
   ],
   "source": [
    "\n",
    "for i in range(len(l)-1):\n",
    "    for j in range(i+1,len(l)):\n",
    "        if l[i] > l[j]:\n",
    "            l[i],l[j] = l[j],l[i]\n",
    "    \n",
    "print(l)    "
   ]
  }
 ],
 "metadata": {
  "kernelspec": {
   "display_name": "Python 3 (ipykernel)",
   "language": "python",
   "name": "python3"
  },
  "language_info": {
   "codemirror_mode": {
    "name": "ipython",
    "version": 3
   },
   "file_extension": ".py",
   "mimetype": "text/x-python",
   "name": "python",
   "nbconvert_exporter": "python",
   "pygments_lexer": "ipython3",
   "version": "3.9.13"
  }
 },
 "nbformat": 4,
 "nbformat_minor": 5
}

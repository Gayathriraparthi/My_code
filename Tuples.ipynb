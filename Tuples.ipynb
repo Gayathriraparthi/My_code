{
 "cells": [
  {
   "cell_type": "markdown",
   "id": "6bffe0ee",
   "metadata": {},
   "source": [
    "### Tuple Basics:\n",
    "\n",
    "A tuple in Python is an ordered collection of elements, similar to a list. However, tuples are immutable, meaning their elements cannot be modified after creation.\n",
    "Differences from lists:\n",
    "Lists are mutable, while tuples are immutable.\n",
    "Tuples are defined using parentheses (), while lists use square brackets [].\n",
    "Creating Tuples:\n",
    "\n"
   ]
  },
  {
   "cell_type": "markdown",
   "id": "edab531a",
   "metadata": {},
   "source": [
    "### Creating Tuples:\n",
    "\n",
    "Creating an empty tuple:\n",
    "python\n",
    "Copy code\n",
    "empty_tuple = ()\n",
    "Creating tuples with elements:\n",
    "python\n",
    "Copy code\n",
    "tuple_with_elements = (1, 2, 3)\n",
    "another_tuple = (\"apple\", \"banana\", \"cherry\")\n",
    "mixed_tuple = (1, \"hello\", 3.14)"
   ]
  },
  {
   "cell_type": "markdown",
   "id": "b1535782",
   "metadata": {},
   "source": [
    "### Accessing Tuple Elements:\n",
    "\n",
    "Accessing elements in a tuple is done using indexing, starting from 0.\n",
    "\n",
    "Example:\n",
    "\n",
    "python\n",
    "Copy code\n",
    "my_tuple = (1, 2, 3, 4, 5)\n",
    "element = my_tuple[2]  # Accesses the third element (index 2), which is 3\n",
    "You cannot modify the elements of a tuple because they are immutable."
   ]
  },
  {
   "cell_type": "markdown",
   "id": "b0931e59",
   "metadata": {},
   "source": [
    "### Tuple Packing and Unpacking:\n",
    "\n",
    "Tuple packing: Packing multiple values into a single tuple.\n",
    "\n",
    "python\n",
    "Copy code\n",
    "packed_tuple = 1, \"apple\", 3.14\n",
    "Tuple unpacking: Assigning the values of a tuple to variables.\n",
    "\n",
    "python\n",
    "Copy code\n",
    "a, b, c = packed_tuple"
   ]
  },
  {
   "cell_type": "markdown",
   "id": "80e64c88",
   "metadata": {},
   "source": [
    "### Immutable Nature of Tuples:\n",
    "\n",
    "Tuples are immutable, meaning you cannot change, add, or remove elements once they are defined.\n",
    "This immutability ensures data integrity and makes tuples suitable for use as keys in dictionaries."
   ]
  },
  {
   "cell_type": "markdown",
   "id": "3a37ae41",
   "metadata": {},
   "source": [
    "### Slicing Tuples:\n",
    "\n",
    "Tuple slicing allows you to extract a portion of a tuple.\n",
    "Syntax: tuple[start:stop:step]"
   ]
  },
  {
   "cell_type": "code",
   "execution_count": 8,
   "id": "64efeb7b",
   "metadata": {},
   "outputs": [],
   "source": [
    "my_tuple = (1, 2, 3, 4, 5)\n",
    "sliced_tuple = my_tuple[1:4]  # (2, 3, 4)\n"
   ]
  },
  {
   "cell_type": "markdown",
   "id": "c040812e",
   "metadata": {},
   "source": [
    "### Concatenating Tuples:"
   ]
  },
  {
   "cell_type": "code",
   "execution_count": 12,
   "id": "41d001db",
   "metadata": {},
   "outputs": [],
   "source": [
    "#To concatenate two or more tuples, you can use the + operator.\n",
    "tuple1 = (1, 2, 3)\n",
    "tuple2 = (4, 5, 6)\n",
    "concatenated_tuple = tuple1 + tuple2  # (1, 2, 3, 4, 5, 6)\n"
   ]
  },
  {
   "cell_type": "code",
   "execution_count": 11,
   "id": "dcb596e2",
   "metadata": {},
   "outputs": [],
   "source": [
    "#The * operator repeats a tuple a specified number of times.\n",
    "repeated_tuple = tuple1 * 3  # (1, 2, 3, 1, 2, 3, 1, 2, 3)\n"
   ]
  },
  {
   "cell_type": "markdown",
   "id": "bbb61e09",
   "metadata": {},
   "source": [
    "### Converting Tuples:\n",
    "\n",
    "To convert a list to a tuple and vice versa, you can use tuple() and list() functions.\n",
    "\n"
   ]
  },
  {
   "cell_type": "code",
   "execution_count": null,
   "id": "383b8d8c",
   "metadata": {},
   "outputs": [],
   "source": [
    "my_list = [1, 2, 3]\n",
    "my_tuple = tuple(my_list)"
   ]
  },
  {
   "cell_type": "markdown",
   "id": "94c4f50a",
   "metadata": {},
   "source": [
    "### Tuple Methods:\n",
    "\n",
    "count(): Returns the number of occurrences of a specified element in the tuple."
   ]
  },
  {
   "cell_type": "markdown",
   "id": "5499b402",
   "metadata": {},
   "source": [
    "my_tuple = (1, 2, 2, 3, 4, 2)\n",
    "count = my_tuple.count(2)  # count is 3\n"
   ]
  },
  {
   "cell_type": "code",
   "execution_count": null,
   "id": "e3a7b9ce",
   "metadata": {},
   "outputs": [],
   "source": [
    "### index(): Returns the index of the first occurrence of a specified element.\n",
    "    \n",
    "index = my_tuple.index(3)  # index is 3\n"
   ]
  },
  {
   "cell_type": "markdown",
   "id": "239c45c4",
   "metadata": {},
   "source": [
    "### Named Tuples:\n",
    "\n",
    "Named tuples are a subclass of tuples with named fields, which make code more readable.\n",
    "Creating a named tuple using the collections module:"
   ]
  },
  {
   "cell_type": "code",
   "execution_count": null,
   "id": "538f5365",
   "metadata": {},
   "outputs": [],
   "source": [
    "from collections import namedtuple\n",
    "\n",
    "Point = namedtuple('Point', ['x', 'y'])\n",
    "p = Point(1, 2)\n",
    "print(p.x)  # Accessing fields by name\n"
   ]
  },
  {
   "cell_type": "markdown",
   "id": "3baaf89a",
   "metadata": {},
   "source": [
    "### Tuples vs. Lists in Performance:\n",
    "\n",
    "Tuples are preferred when data should not change (e.g., configuration settings) because they are faster and use less memory than lists.\n",
    "Tuples offer performance advantages in scenarios where data integrity and immutability are crucial."
   ]
  },
  {
   "cell_type": "markdown",
   "id": "749b4c8a",
   "metadata": {},
   "source": [
    "### Tuple Immutability:\n",
    "\n",
    "\n"
   ]
  },
  {
   "cell_type": "markdown",
   "id": "73e05a3d",
   "metadata": {},
   "source": [
    "#### Can you modify a tuple after it has been created?\n",
    "You cannot modify a tuple after it has been created. Any attempt to modify it will result in an error.\n"
   ]
  },
  {
   "cell_type": "markdown",
   "id": "43ee4496",
   "metadata": {},
   "source": [
    "#### Explain why tuple immutability is important in certain situations.\n",
    "Immutability is important for data consistency and security in certain situations."
   ]
  },
  {
   "cell_type": "markdown",
   "id": "733aaa79",
   "metadata": {},
   "source": [
    "### Tuple Comparison:\n",
    "\n",
    "Tuples are compared for equality by comparing their corresponding elements.\n",
    "Lexicographical comparison compares elements element-wise until a difference is found.\n",
    "\n"
   ]
  },
  {
   "cell_type": "code",
   "execution_count": null,
   "id": "6b9139f5",
   "metadata": {},
   "outputs": [],
   "source": [
    "tuple1 = (1, 2, 3)\n",
    "tuple2 = (1, 2, 4)\n",
    "result = tuple1 < tuple2  # True, because the third element differs"
   ]
  },
  {
   "cell_type": "markdown",
   "id": "7e413806",
   "metadata": {},
   "source": [
    "### Nested Tuples:\n",
    "\n",
    "Tuples can contain other tuples as elements.\n",
    "Accessing elements in nested tuples is done through multiple indices.\n"
   ]
  },
  {
   "cell_type": "code",
   "execution_count": null,
   "id": "286b4238",
   "metadata": {},
   "outputs": [],
   "source": [
    "\n",
    "nested_tuple = ((1, 2), (3, 4))\n",
    "element = nested_tuple[1][0]  # Accessing the element 3"
   ]
  },
  {
   "cell_type": "markdown",
   "id": "3db6903d",
   "metadata": {},
   "source": [
    "### Tuple Unpacking with Asterisk:\n",
    "\n",
    "The * operator in tuple unpacking can be used to collect multiple values into a single variable.\n"
   ]
  },
  {
   "cell_type": "code",
   "execution_count": null,
   "id": "29e9e0e1",
   "metadata": {},
   "outputs": [],
   "source": [
    "first, *rest = (1, 2, 3, 4, 5)"
   ]
  },
  {
   "cell_type": "code",
   "execution_count": null,
   "id": "c6423110",
   "metadata": {},
   "outputs": [],
   "source": []
  },
  {
   "cell_type": "code",
   "execution_count": null,
   "id": "301327e8",
   "metadata": {},
   "outputs": [],
   "source": []
  },
  {
   "cell_type": "code",
   "execution_count": null,
   "id": "babe9f18",
   "metadata": {},
   "outputs": [],
   "source": []
  },
  {
   "cell_type": "code",
   "execution_count": null,
   "id": "ca31f366",
   "metadata": {},
   "outputs": [],
   "source": []
  },
  {
   "cell_type": "code",
   "execution_count": null,
   "id": "3c557804",
   "metadata": {},
   "outputs": [],
   "source": []
  },
  {
   "cell_type": "code",
   "execution_count": null,
   "id": "bc2214a8",
   "metadata": {},
   "outputs": [],
   "source": []
  },
  {
   "cell_type": "code",
   "execution_count": null,
   "id": "02aee6b2",
   "metadata": {},
   "outputs": [],
   "source": []
  },
  {
   "cell_type": "code",
   "execution_count": null,
   "id": "f38a335d",
   "metadata": {},
   "outputs": [],
   "source": []
  },
  {
   "cell_type": "code",
   "execution_count": null,
   "id": "7ecd7352",
   "metadata": {},
   "outputs": [],
   "source": []
  },
  {
   "cell_type": "code",
   "execution_count": null,
   "id": "1eaf01f9",
   "metadata": {},
   "outputs": [],
   "source": []
  },
  {
   "cell_type": "code",
   "execution_count": null,
   "id": "5901d3a7",
   "metadata": {},
   "outputs": [],
   "source": []
  },
  {
   "cell_type": "code",
   "execution_count": null,
   "id": "c3850ea8",
   "metadata": {},
   "outputs": [],
   "source": []
  },
  {
   "cell_type": "code",
   "execution_count": null,
   "id": "7ce64697",
   "metadata": {},
   "outputs": [],
   "source": []
  }
 ],
 "metadata": {
  "kernelspec": {
   "display_name": "Python 3 (ipykernel)",
   "language": "python",
   "name": "python3"
  },
  "language_info": {
   "codemirror_mode": {
    "name": "ipython",
    "version": 3
   },
   "file_extension": ".py",
   "mimetype": "text/x-python",
   "name": "python",
   "nbconvert_exporter": "python",
   "pygments_lexer": "ipython3",
   "version": "3.9.13"
  }
 },
 "nbformat": 4,
 "nbformat_minor": 5
}

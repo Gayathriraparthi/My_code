{
 "cells": [
  {
   "cell_type": "markdown",
   "id": "da5ed86a",
   "metadata": {},
   "source": [
    "# ITP - Mini Project"
   ]
  },
  {
   "cell_type": "markdown",
   "id": "3d12fea4",
   "metadata": {},
   "source": [
    "### Information of shipments"
   ]
  },
  {
   "cell_type": "code",
   "execution_count": 7,
   "id": "d52c9be0",
   "metadata": {},
   "outputs": [],
   "source": [
    "Shipment_id  = [101,102,103,104,105,106]\n",
    "Sender = [1,4,2,1,3,5]\n",
    "Receiver = [3,1,3,5,4,2]\n",
    "Start_date = ['14-03-2020','18-06-2020','01-12-2020','23-06-2020','29-08-2020','28-06-2020']\n",
    "Delivery_Date = ['25-03-2020','09-07-2020','Null','25-06-2020','10-09-2020','Null']\n",
    "Sender_location = ['Area1','Area2','Area5','Area1','Area5','Area3']\n",
    "Receiver_location = ['Area6','Area4','Area1','Area4','Area3','Area1']\n",
    "Delivery_status = ['Delivered','Delivered','In-Transit','Delivered','Delivered','In-Transit']\n",
    "Shipping_cost = [198,275,200,314,275,270]"
   ]
  },
  {
   "cell_type": "markdown",
   "id": "c242f581",
   "metadata": {},
   "source": [
    "### Information of clients"
   ]
  },
  {
   "cell_type": "code",
   "execution_count": 8,
   "id": "b01f507f",
   "metadata": {},
   "outputs": [],
   "source": [
    "Client_id = [1,2,3,4,5]\n",
    "Client_Name = ['Phillip','Omega lll','Ramya','Romesh','John']"
   ]
  },
  {
   "cell_type": "markdown",
   "id": "a1b1f373",
   "metadata": {},
   "source": [
    "##### Q1. Create a Dictionary of lists to store the information of shipments given in the table"
   ]
  },
  {
   "cell_type": "code",
   "execution_count": 9,
   "id": "148dd035",
   "metadata": {},
   "outputs": [
    {
     "data": {
      "text/plain": [
       "{101: [1, 3, '14-03-2020', '25-03-2020', 'Area1', 'Area6', 'Delivered', 198],\n",
       " 102: [4, 1, '18-06-2020', '09-07-2020', 'Area2', 'Area4', 'Delivered', 275],\n",
       " 103: [2, 3, '01-12-2020', 'Null', 'Area5', 'Area1', 'In-Transit', 200],\n",
       " 104: [1, 5, '23-06-2020', '25-06-2020', 'Area1', 'Area4', 'Delivered', 314],\n",
       " 105: [3, 4, '29-08-2020', '10-09-2020', 'Area5', 'Area3', 'Delivered', 275],\n",
       " 106: [5, 2, '28-06-2020', 'Null', 'Area3', 'Area1', 'In-Transit', 270]}"
      ]
     },
     "execution_count": 9,
     "metadata": {},
     "output_type": "execute_result"
    }
   ],
   "source": [
    "Shipment_info = dict(zip(Shipment_id, [list(i) for i in zip(Sender,Receiver,Start_date,Delivery_Date,Sender_location,Receiver_location,Delivery_status,Shipping_cost)]))\n",
    "Shipment_info"
   ]
  },
  {
   "cell_type": "markdown",
   "id": "25516298",
   "metadata": {},
   "source": [
    "#### Q2. Create a Dictionary of to store the information of clients given in the table."
   ]
  },
  {
   "cell_type": "code",
   "execution_count": 10,
   "id": "e2fbeef2",
   "metadata": {},
   "outputs": [
    {
     "data": {
      "text/plain": [
       "{1: 'Phillip', 2: 'Omega lll', 3: 'Ramya', 4: 'Romesh', 5: 'John'}"
      ]
     },
     "execution_count": 10,
     "metadata": {},
     "output_type": "execute_result"
    }
   ],
   "source": [
    "Client_info = dict(zip(Client_id, Client_Name))\n",
    "Client_info"
   ]
  },
  {
   "cell_type": "markdown",
   "id": "c4207706",
   "metadata": {},
   "source": [
    "#### Q3. Write a code to replace client’s id with their respective name in shipment dictionary using a loop and dictionary comprehension"
   ]
  },
  {
   "cell_type": "code",
   "execution_count": 11,
   "id": "c5eb92b2",
   "metadata": {},
   "outputs": [],
   "source": [
    "for i,j in Shipment_info.items():\n",
    "    x = Shipment_info[i][0]\n",
    "    y = Shipment_info[i][1]\n",
    "    Shipment_info[i][0] = Client_info[x]\n",
    "    Shipment_info[i][1] = Client_info[y]"
   ]
  },
  {
   "cell_type": "code",
   "execution_count": 12,
   "id": "532996b6",
   "metadata": {},
   "outputs": [
    {
     "data": {
      "text/plain": [
       "dict_values([['Phillip', 'Ramya', '14-03-2020', '25-03-2020', 'Area1', 'Area6', 'Delivered', 198], ['Romesh', 'Phillip', '18-06-2020', '09-07-2020', 'Area2', 'Area4', 'Delivered', 275], ['Omega lll', 'Ramya', '01-12-2020', 'Null', 'Area5', 'Area1', 'In-Transit', 200], ['Phillip', 'John', '23-06-2020', '25-06-2020', 'Area1', 'Area4', 'Delivered', 314], ['Ramya', 'Romesh', '29-08-2020', '10-09-2020', 'Area5', 'Area3', 'Delivered', 275], ['John', 'Omega lll', '28-06-2020', 'Null', 'Area3', 'Area1', 'In-Transit', 270]])"
      ]
     },
     "execution_count": 12,
     "metadata": {},
     "output_type": "execute_result"
    }
   ],
   "source": [
    "Shipment_info.values() # can see all 'Sender' and 'Receiver' data changed from client id to corresponding names"
   ]
  },
  {
   "cell_type": "markdown",
   "id": "7a5eeb16",
   "metadata": {},
   "source": [
    "#### Q4. Print all shipment details that are sent by Phillip"
   ]
  },
  {
   "cell_type": "code",
   "execution_count": 13,
   "id": "8d40505d",
   "metadata": {},
   "outputs": [
    {
     "data": {
      "text/plain": [
       "[['Phillip',\n",
       "  'Ramya',\n",
       "  '14-03-2020',\n",
       "  '25-03-2020',\n",
       "  'Area1',\n",
       "  'Area6',\n",
       "  'Delivered',\n",
       "  198],\n",
       " ['Phillip',\n",
       "  'John',\n",
       "  '23-06-2020',\n",
       "  '25-06-2020',\n",
       "  'Area1',\n",
       "  'Area4',\n",
       "  'Delivered',\n",
       "  314]]"
      ]
     },
     "execution_count": 13,
     "metadata": {},
     "output_type": "execute_result"
    }
   ],
   "source": [
    "Phillip_sent_Shipment = [i for i in Shipment_info.values() if i[0] == 'Phillip']\n",
    "Phillip_sent_Shipment"
   ]
  },
  {
   "cell_type": "markdown",
   "id": "abc9e7a4",
   "metadata": {},
   "source": [
    "#### Q5. Print all shipment details that are received by Ramya"
   ]
  },
  {
   "cell_type": "code",
   "execution_count": 14,
   "id": "f4d4b569",
   "metadata": {},
   "outputs": [
    {
     "data": {
      "text/plain": [
       "[['Phillip',\n",
       "  'Ramya',\n",
       "  '14-03-2020',\n",
       "  '25-03-2020',\n",
       "  'Area1',\n",
       "  'Area6',\n",
       "  'Delivered',\n",
       "  198],\n",
       " ['Omega lll',\n",
       "  'Ramya',\n",
       "  '01-12-2020',\n",
       "  'Null',\n",
       "  'Area5',\n",
       "  'Area1',\n",
       "  'In-Transit',\n",
       "  200]]"
      ]
     },
     "execution_count": 14,
     "metadata": {},
     "output_type": "execute_result"
    }
   ],
   "source": [
    "Ramya_received_shipment = [i for i in Shipment_info.values() if i[1] == 'Ramya']\n",
    "Ramya_received_shipment"
   ]
  },
  {
   "cell_type": "markdown",
   "id": "064775c7",
   "metadata": {},
   "source": [
    "#### Q6. Print all shipments which are in 'In-Transit' status"
   ]
  },
  {
   "cell_type": "code",
   "execution_count": 15,
   "id": "496e9a7d",
   "metadata": {},
   "outputs": [
    {
     "data": {
      "text/plain": [
       "[['Omega lll',\n",
       "  'Ramya',\n",
       "  '01-12-2020',\n",
       "  'Null',\n",
       "  'Area5',\n",
       "  'Area1',\n",
       "  'In-Transit',\n",
       "  200],\n",
       " ['John',\n",
       "  'Omega lll',\n",
       "  '28-06-2020',\n",
       "  'Null',\n",
       "  'Area3',\n",
       "  'Area1',\n",
       "  'In-Transit',\n",
       "  270]]"
      ]
     },
     "execution_count": 15,
     "metadata": {},
     "output_type": "execute_result"
    }
   ],
   "source": [
    "In_transit_shipments = [i for i in Shipment_info.values() if i[6] == 'In-Transit']\n",
    "In_transit_shipments"
   ]
  },
  {
   "cell_type": "markdown",
   "id": "d864c877",
   "metadata": {},
   "source": [
    "#### Q7. Print all shipments which are delivered within 7 days of courier Start date"
   ]
  },
  {
   "cell_type": "code",
   "execution_count": 16,
   "id": "2bffd6fd",
   "metadata": {},
   "outputs": [],
   "source": [
    "from datetime import datetime\n",
    "def date_Formating(var1,var2):\n",
    "    end = datetime.strptime(var1,\"%d-%m-%Y\")\n",
    "    start = datetime.strptime(var2,\"%d-%m-%Y\")\n",
    "    return((end-start).days)"
   ]
  },
  {
   "cell_type": "code",
   "execution_count": 17,
   "id": "6567257c",
   "metadata": {},
   "outputs": [
    {
     "data": {
      "text/plain": [
       "[['Phillip',\n",
       "  'John',\n",
       "  '23-06-2020',\n",
       "  '25-06-2020',\n",
       "  'Area1',\n",
       "  'Area4',\n",
       "  'Delivered',\n",
       "  314]]"
      ]
     },
     "execution_count": 17,
     "metadata": {},
     "output_type": "execute_result"
    }
   ],
   "source": [
    "delivered_in_7_days = [i for i in Shipment_info.values() if ((i[6] != 'In-Transit') and (date_Formating(i[3],i[2]) <= 7))]\n",
    "delivered_in_7_days"
   ]
  },
  {
   "cell_type": "markdown",
   "id": "cc1e5eae",
   "metadata": {},
   "source": [
    "#### Q8. Print all shipments which are delivered after 15 days of courier start date or not yet been delivered."
   ]
  },
  {
   "cell_type": "code",
   "execution_count": 18,
   "id": "994b82e4",
   "metadata": {},
   "outputs": [
    {
     "data": {
      "text/plain": [
       "[['Romesh',\n",
       "  'Phillip',\n",
       "  '18-06-2020',\n",
       "  '09-07-2020',\n",
       "  'Area2',\n",
       "  'Area4',\n",
       "  'Delivered',\n",
       "  275],\n",
       " ['Omega lll',\n",
       "  'Ramya',\n",
       "  '01-12-2020',\n",
       "  'Null',\n",
       "  'Area5',\n",
       "  'Area1',\n",
       "  'In-Transit',\n",
       "  200],\n",
       " ['John',\n",
       "  'Omega lll',\n",
       "  '28-06-2020',\n",
       "  'Null',\n",
       "  'Area3',\n",
       "  'Area1',\n",
       "  'In-Transit',\n",
       "  270]]"
      ]
     },
     "execution_count": 18,
     "metadata": {},
     "output_type": "execute_result"
    }
   ],
   "source": [
    "delivered_after_15_days = [i for i in Shipment_info.values() if ((i[6] == 'In-Transit') or (date_Formating(i[3],i[2]) > 15))]\n",
    "delivered_after_15_days"
   ]
  },
  {
   "cell_type": "markdown",
   "id": "0e753009",
   "metadata": {},
   "source": [
    "#### Q9. Write a function find_all_routes  to display  all possible routes from senders location to receivers location given in the dictionary for each shipment."
   ]
  },
  {
   "cell_type": "code",
   "execution_count": 19,
   "id": "a8e54080",
   "metadata": {},
   "outputs": [],
   "source": [
    "route_map = [[0,1,0,0,0,1],[1,0,1,1,0,0],[0,1,0,1,0,0],[0,1,1,0,1,0],[0,0,0,1,0,0],[1,0,0,0,0,0]]"
   ]
  },
  {
   "cell_type": "code",
   "execution_count": 20,
   "id": "2c1ee27e",
   "metadata": {},
   "outputs": [
    {
     "name": "stdout",
     "output_type": "stream",
     "text": [
      "{1: [2, 6], 2: [1, 3, 4], 3: [2, 4], 4: [2, 3, 5], 5: [4], 6: [1]}\n"
     ]
    }
   ],
   "source": [
    "final_graph = dict()\n",
    "\n",
    "for i in range(0, 6):\n",
    "    temp = []\n",
    "    for j in range(0, 6):\n",
    "        if route_map[i][j] == 1:\n",
    "            temp.append(j+1)\n",
    "    final_graph[i+1] = temp\n",
    "    \n",
    "print(final_graph)\n"
   ]
  },
  {
   "cell_type": "code",
   "execution_count": 21,
   "id": "fd65625a",
   "metadata": {},
   "outputs": [
    {
     "name": "stdout",
     "output_type": "stream",
     "text": [
      "[4, 2, 1]\n",
      "[4, 3, 2, 1]\n"
     ]
    }
   ],
   "source": [
    "class Graph:\n",
    "    def __init__(self, vertices, final_graph):\n",
    "        self.V = vertices\n",
    "        self.graph = final_graph\n",
    "        \n",
    "    def find_all_routes(self, u, d, visited, path):\n",
    "        visited[u]= True\n",
    "        path.append(u)\n",
    "        if u == d:\n",
    "            print (path)\n",
    "        else:\n",
    "            for i in self.graph[u]:\n",
    "                if visited[i]== False:\n",
    "                    self.find_all_routes(i, d, visited, path)\n",
    "        path.pop()\n",
    "        visited[u]= False\n",
    "        \n",
    "    def print_all_routes(self, s, d):\n",
    "        visited =[False]*(self.V)\n",
    "        path = []\n",
    "        self.find_all_routes(s, d, visited, path)\n",
    "s=4;d=1\n",
    "g = Graph(7, final_graph)\n",
    "g.print_all_routes(s,d)"
   ]
  },
  {
   "cell_type": "code",
   "execution_count": 22,
   "id": "324d6222",
   "metadata": {},
   "outputs": [
    {
     "name": "stdout",
     "output_type": "stream",
     "text": [
      "All routes from Area1 and Area6 are :\n",
      "[1, 6]\n",
      "All routes from Area2 and Area4 are :\n",
      "[2, 3, 4]\n",
      "[2, 4]\n",
      "All routes from Area5 and Area1 are :\n",
      "[5, 4, 2, 1]\n",
      "[5, 4, 3, 2, 1]\n",
      "All routes from Area1 and Area4 are :\n",
      "[1, 2, 3, 4]\n",
      "[1, 2, 4]\n",
      "All routes from Area5 and Area3 are :\n",
      "[5, 4, 2, 3]\n",
      "[5, 4, 3]\n",
      "All routes from Area3 and Area1 are :\n",
      "[3, 2, 1]\n",
      "[3, 4, 2, 1]\n"
     ]
    }
   ],
   "source": [
    "for i in Shipment_info.values():\n",
    "    print(f'All routes from {i[4]} and {i[5]} are :')\n",
    "    g.print_all_routes(int(i[4][-1]), int(i[5][-1]))\n"
   ]
  }
 ],
 "metadata": {
  "kernelspec": {
   "display_name": "Python 3 (ipykernel)",
   "language": "python",
   "name": "python3"
  },
  "language_info": {
   "codemirror_mode": {
    "name": "ipython",
    "version": 3
   },
   "file_extension": ".py",
   "mimetype": "text/x-python",
   "name": "python",
   "nbconvert_exporter": "python",
   "pygments_lexer": "ipython3",
   "version": "3.9.13"
  }
 },
 "nbformat": 4,
 "nbformat_minor": 5
}

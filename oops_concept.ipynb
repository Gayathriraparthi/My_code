{
 "cells": [
  {
   "cell_type": "markdown",
   "id": "2e499914",
   "metadata": {},
   "source": [
    "# Inheritence"
   ]
  },
  {
   "cell_type": "markdown",
   "id": "52a7ca53",
   "metadata": {},
   "source": [
    "Inheritance: Inheritance is a mechanism that allows a class to inherit properties (attributes and methods) from another \n",
    "class. The class that inherits is called the derived or child class, and the class from which it inherits is called the \n",
    "base or parent class. The derived class can access and use the attributes and methods of the base class, in addition to \n",
    "defining its own attributes and methods.\n",
    "\n",
    "In Python, inheritance is achieved by specifying the parent class in parentheses after the derived class's name when \n",
    "defining the class. The derived class can then use the super() function to call the parent class's methods."
   ]
  },
  {
   "cell_type": "code",
   "execution_count": 58,
   "id": "04d581c1",
   "metadata": {},
   "outputs": [],
   "source": [
    "class Employee():\n",
    "    \n",
    "    def __init__(self,_name,_id,_basic_salary):\n",
    "        self.name = _name\n",
    "        self.empid = _id\n",
    "        self.basic_salary = _basic_salary\n",
    "        \n",
    "    def band(self):\n",
    "        if self.basic_salary > 500000:\n",
    "            return 'A'\n",
    "        return 'B'\n",
    "    \n",
    "class EmployeeTax(Employee):\n",
    "    \n",
    "    def __init__(self,_name,_id,_basic_salary,_hra,_pf,_travel,_tax):\n",
    "        super().__init__(_name,_id,_basic_salary)\n",
    "        self.hra = _hra\n",
    "        self.pf = _pf\n",
    "        self.travel = _travel\n",
    "        self.tax = _tax\n",
    "        \n",
    "    def gross_salary(self):\n",
    "         return self.basic_salary + self.hra + self.travel + self.pf + self.tax\n",
    "    \n",
    "    def taxation(self):\n",
    "        income_tax = 0\n",
    "        if self.gross_salary() < 500000:\n",
    "            return income_tax\n",
    "        elif 500000 < self.gross_salary() < 700000:\n",
    "            income_tax = self.gross_salary() * 0.005\n",
    "            return income_tax\n",
    "        else :\n",
    "            income_tax = self.gross_salary() * 0.01\n",
    "            return income_tax\n",
    "        \n",
    "class NRIEmployeeTax(EmployeeTax):\n",
    "    \n",
    "    def __init__(self,_name,_id,_basic_salary,_hra,_pf,_travel,_tax):\n",
    "        super().__init__(_name,_id,_basic_salary,_hra,_pf,_travel,_tax)\n",
    "        \n",
    "    def NRITaxation(self):\n",
    "        income_tax = 0\n",
    "        if self.gross_salary() < 500000:\n",
    "            return income_tax\n",
    "        elif 500000 < self.gross_salary() < 700000:\n",
    "            income_tax = self.gross_salary() * 0.01\n",
    "            return income_tax\n",
    "        else :\n",
    "            income_tax = self.gross_salary() * 0.02\n",
    "            return income_tax\n",
    "             "
   ]
  },
  {
   "cell_type": "code",
   "execution_count": 59,
   "id": "64b5da24",
   "metadata": {},
   "outputs": [],
   "source": [
    "et1 = EmployeeTax('John',12,850000,85000,45000,450,200)\n",
    "et2 = NRIEmployeeTax('Gayathri',12,850000,85000,45000,450,200)"
   ]
  },
  {
   "cell_type": "code",
   "execution_count": 60,
   "id": "84669207",
   "metadata": {},
   "outputs": [
    {
     "name": "stdout",
     "output_type": "stream",
     "text": [
      "980650\n",
      "980650\n",
      "9806.5\n",
      "19613.0\n"
     ]
    }
   ],
   "source": [
    "print(et1.gross_salary())\n",
    "print(et2.gross_salary())\n",
    "print(et1.taxation())\n",
    "print(et2.NRITaxation())"
   ]
  },
  {
   "cell_type": "code",
   "execution_count": 61,
   "id": "c64a94fb",
   "metadata": {},
   "outputs": [
    {
     "name": "stdout",
     "output_type": "stream",
     "text": [
      "85000\n"
     ]
    }
   ],
   "source": [
    "et1.name\n",
    "print(et1.hra)"
   ]
  },
  {
   "cell_type": "code",
   "execution_count": 92,
   "id": "68605782",
   "metadata": {},
   "outputs": [
    {
     "data": {
      "text/plain": [
       "85000"
      ]
     },
     "execution_count": 92,
     "metadata": {},
     "output_type": "execute_result"
    }
   ],
   "source": [
    "et1._EmployeeTax__hra # ro access private attribute or functions\n",
    "#instance._classname__attribute OR method"
   ]
  },
  {
   "cell_type": "markdown",
   "id": "50505a14",
   "metadata": {},
   "source": [
    "# Polymorphism"
   ]
  },
  {
   "cell_type": "markdown",
   "id": "393c5155",
   "metadata": {},
   "source": [
    "Polymorphism refers to the ability of objects of different classes to respond to the same method invocation. It allows \n",
    "different objects to be treated uniformly by using a common interface, even though they may have different underlying \n",
    "implementations. In Python, polymorphism is achieved through method overriding and method overloading."
   ]
  },
  {
   "cell_type": "markdown",
   "id": "eb60a8e9",
   "metadata": {},
   "source": [
    "## method overriding"
   ]
  },
  {
   "cell_type": "markdown",
   "id": "9a596fdc",
   "metadata": {},
   "source": [
    "Method overriding: It occurs when a derived class defines a method with the same name as a method in the base class.\n",
    "The derived class's method overrides the implementation of the base class's method, providing a specialized version."
   ]
  },
  {
   "cell_type": "code",
   "execution_count": 1,
   "id": "b062aeb9",
   "metadata": {},
   "outputs": [
    {
     "name": "stdout",
     "output_type": "stream",
     "text": [
      "Education : Degree\n",
      "Height : 5'7\n",
      "last name : Raparthi\n",
      "Education : Engineering\n",
      "Height : 5'2\n",
      "last name : Raparthi\n"
     ]
    }
   ],
   "source": [
    "class Father:\n",
    "    \n",
    "    def __int__(self):\n",
    "        pass\n",
    "    def Height(self):\n",
    "        return f'Height : 5\\'7'\n",
    "    \n",
    "    def Education(self):\n",
    "        return f'Education : Degree'\n",
    "    \n",
    "    def last_name(self):\n",
    "        return f'last name : Raparthi'\n",
    "    \n",
    "class Daughter(Father):\n",
    "    \n",
    "    def __int__(self):\n",
    "        pass\n",
    "    def Height(self):\n",
    "        return f'Height : 5\\'2'\n",
    "    \n",
    "    def Education(self):\n",
    "        return f'Education : Engineering'\n",
    "    \n",
    "    \n",
    "father = Father()\n",
    "daughter = Daughter()\n",
    "\n",
    "print(father.Education())\n",
    "print(father.Height())\n",
    "print(father.last_name())\n",
    "\n",
    "print(daughter.Education())\n",
    "print(daughter.Height())\n",
    "print(daughter.last_name())\n",
    "     "
   ]
  },
  {
   "cell_type": "code",
   "execution_count": 5,
   "id": "2253dfa1",
   "metadata": {},
   "outputs": [
    {
     "name": "stdout",
     "output_type": "stream",
     "text": [
      "15\n",
      "50.24\n"
     ]
    }
   ],
   "source": [
    "class Shape:\n",
    "    def area(self):\n",
    "        pass\n",
    "\n",
    "class Rectangle(Shape):\n",
    "    def area(self):\n",
    "        return self.length * self.width\n",
    "\n",
    "class Circle(Shape):\n",
    "    def area(self):\n",
    "        return 3.14 * self.radius * self.radius\n",
    "\n",
    "rect = Rectangle()\n",
    "rect.length = 5\n",
    "rect.width = 3\n",
    "print(rect.area())  \n",
    "\n",
    "circle = Circle()\n",
    "circle.radius = 4\n",
    "print(circle.area())  \n"
   ]
  },
  {
   "cell_type": "code",
   "execution_count": 57,
   "id": "a674920b",
   "metadata": {},
   "outputs": [
    {
     "name": "stdout",
     "output_type": "stream",
     "text": [
      "Namaskaram\n",
      "Hello\n"
     ]
    }
   ],
   "source": [
    "class language:\n",
    "    \n",
    "    def __init__(self):\n",
    "        pass\n",
    "    def say_hello(self):\n",
    "        raise NotImplementedError('please enter child class')\n",
    "        \n",
    "class Telugu(language):\n",
    "    def say_hello(self):\n",
    "        #print(\"Namaskaram\")\n",
    "        return('Namaskaram')\n",
    "    \n",
    "class English (language):\n",
    "    def say_hello(self):\n",
    "        return 'Hello'\n",
    "    \n",
    "def intro(obj):\n",
    "    return obj.say_hello()\n",
    "    \n",
    "Gayathri= Telugu()\n",
    "John = English()\n",
    "\n",
    "print(intro(Gayathri))\n",
    "print(intro(John))"
   ]
  },
  {
   "cell_type": "markdown",
   "id": "4e30c71e",
   "metadata": {},
   "source": [
    "## method overloading"
   ]
  },
  {
   "cell_type": "markdown",
   "id": "b9c85f88",
   "metadata": {},
   "source": [
    "Method overloading: Python does not support traditional method overloading (multiple methods with the same name but \n",
    "different parameter signatures), as supported in some other programming languages. However, you can achieve a form of\n",
    "method overloading by using default argument values and conditional logic inside a method."
   ]
  },
  {
   "cell_type": "code",
   "execution_count": 9,
   "id": "9ee4d99f",
   "metadata": {},
   "outputs": [
    {
     "name": "stdout",
     "output_type": "stream",
     "text": [
      "7\n",
      "12\n",
      "17\n",
      "23\n"
     ]
    }
   ],
   "source": [
    "class Maths:\n",
    "    \n",
    "    def add(self, a, b, c = 0, d = 0, e= 0):\n",
    "        return a + b + c + d + e\n",
    "    \n",
    "math = Maths()\n",
    "print(math.add(5, 2))      \n",
    "print(math.add(5, 3, 4))\n",
    "print(math.add(5, 3, 4, 5))\n",
    "print(math.add(5, 3, 4, 5, 6))\n"
   ]
  },
  {
   "cell_type": "code",
   "execution_count": 2,
   "id": "b8ed2ea6",
   "metadata": {},
   "outputs": [
    {
     "name": "stdout",
     "output_type": "stream",
     "text": [
      "Hello\n"
     ]
    }
   ],
   "source": [
    "print('Hello')"
   ]
  },
  {
   "cell_type": "code",
   "execution_count": 12,
   "id": "4d5819fe",
   "metadata": {},
   "outputs": [
    {
     "name": "stdout",
     "output_type": "stream",
     "text": [
      "This is Over loading Example\n",
      "Factorial of 5 is 0\n",
      "('Addition of 5 and 3 is ', 8)\n"
     ]
    }
   ],
   "source": [
    "class VIP:\n",
    "    \n",
    "    def vsp(self, a = None, b=None):\n",
    "        if b is None and a is None:\n",
    "            return f'This is Over loading Example'\n",
    "        elif a!= None and b == None:\n",
    "            fac = 1\n",
    "            for i in range (a+1):\n",
    "                fac *= i\n",
    "                return f'Factorial of {a} is {fac}'    \n",
    "        else:\n",
    "            return f'Addition of {a} and {b} is ', a + b\n",
    "        \n",
    "obj = VIP()\n",
    "\n",
    "print(obj.vsp()) \n",
    "print(obj.vsp(5))      \n",
    "print(obj.vsp(5, 3))   \n"
   ]
  },
  {
   "cell_type": "code",
   "execution_count": 2,
   "id": "95f18142",
   "metadata": {},
   "outputs": [],
   "source": [
    "import pandas as pd"
   ]
  },
  {
   "cell_type": "code",
   "execution_count": 20,
   "id": "6b039ae8",
   "metadata": {},
   "outputs": [
    {
     "data": {
      "text/html": [
       "<div>\n",
       "<style scoped>\n",
       "    .dataframe tbody tr th:only-of-type {\n",
       "        vertical-align: middle;\n",
       "    }\n",
       "\n",
       "    .dataframe tbody tr th {\n",
       "        vertical-align: top;\n",
       "    }\n",
       "\n",
       "    .dataframe thead th {\n",
       "        text-align: right;\n",
       "    }\n",
       "</style>\n",
       "<table border=\"1\" class=\"dataframe\">\n",
       "  <thead>\n",
       "    <tr style=\"text-align: right;\">\n",
       "      <th></th>\n",
       "      <th>col1</th>\n",
       "      <th>col2</th>\n",
       "      <th>col4</th>\n",
       "    </tr>\n",
       "  </thead>\n",
       "  <tbody>\n",
       "    <tr>\n",
       "      <th>0</th>\n",
       "      <td>1</td>\n",
       "      <td>a</td>\n",
       "      <td>NaN</td>\n",
       "    </tr>\n",
       "    <tr>\n",
       "      <th>1</th>\n",
       "      <td>2</td>\n",
       "      <td>b</td>\n",
       "      <td>NaN</td>\n",
       "    </tr>\n",
       "    <tr>\n",
       "      <th>2</th>\n",
       "      <td>3</td>\n",
       "      <td>c</td>\n",
       "      <td>NaN</td>\n",
       "    </tr>\n",
       "    <tr>\n",
       "      <th>3</th>\n",
       "      <td>4</td>\n",
       "      <td>d</td>\n",
       "      <td>NaN</td>\n",
       "    </tr>\n",
       "    <tr>\n",
       "      <th>0</th>\n",
       "      <td>1</td>\n",
       "      <td>NaN</td>\n",
       "      <td>1a</td>\n",
       "    </tr>\n",
       "    <tr>\n",
       "      <th>1</th>\n",
       "      <td>2</td>\n",
       "      <td>NaN</td>\n",
       "      <td>1b</td>\n",
       "    </tr>\n",
       "    <tr>\n",
       "      <th>2</th>\n",
       "      <td>3</td>\n",
       "      <td>NaN</td>\n",
       "      <td>1c</td>\n",
       "    </tr>\n",
       "    <tr>\n",
       "      <th>3</th>\n",
       "      <td>4</td>\n",
       "      <td>NaN</td>\n",
       "      <td>1d</td>\n",
       "    </tr>\n",
       "  </tbody>\n",
       "</table>\n",
       "</div>"
      ],
      "text/plain": [
       "   col1 col2 col4\n",
       "0     1    a  NaN\n",
       "1     2    b  NaN\n",
       "2     3    c  NaN\n",
       "3     4    d  NaN\n",
       "0     1  NaN   1a\n",
       "1     2  NaN   1b\n",
       "2     3  NaN   1c\n",
       "3     4  NaN   1d"
      ]
     },
     "execution_count": 20,
     "metadata": {},
     "output_type": "execute_result"
    }
   ],
   "source": [
    "df1 = pd.DataFrame({'col1':[1,2,3,4],'col2':['a','b','c','d']})\n",
    "df2 = pd.DataFrame({'col1':[1,2,3,4],'col4':['1a','1b','1c','1d']})\n",
    "df = pd.concat([df1,df2],axis = 0)\n",
    "df"
   ]
  },
  {
   "cell_type": "code",
   "execution_count": 21,
   "id": "6efd059d",
   "metadata": {},
   "outputs": [
    {
     "data": {
      "text/html": [
       "<div>\n",
       "<style scoped>\n",
       "    .dataframe tbody tr th:only-of-type {\n",
       "        vertical-align: middle;\n",
       "    }\n",
       "\n",
       "    .dataframe tbody tr th {\n",
       "        vertical-align: top;\n",
       "    }\n",
       "\n",
       "    .dataframe thead th {\n",
       "        text-align: right;\n",
       "    }\n",
       "</style>\n",
       "<table border=\"1\" class=\"dataframe\">\n",
       "  <thead>\n",
       "    <tr style=\"text-align: right;\">\n",
       "      <th></th>\n",
       "      <th>col1</th>\n",
       "      <th>col2</th>\n",
       "      <th>col1</th>\n",
       "      <th>col4</th>\n",
       "    </tr>\n",
       "  </thead>\n",
       "  <tbody>\n",
       "    <tr>\n",
       "      <th>0</th>\n",
       "      <td>1</td>\n",
       "      <td>a</td>\n",
       "      <td>1</td>\n",
       "      <td>1a</td>\n",
       "    </tr>\n",
       "    <tr>\n",
       "      <th>1</th>\n",
       "      <td>2</td>\n",
       "      <td>b</td>\n",
       "      <td>2</td>\n",
       "      <td>1b</td>\n",
       "    </tr>\n",
       "    <tr>\n",
       "      <th>2</th>\n",
       "      <td>3</td>\n",
       "      <td>c</td>\n",
       "      <td>3</td>\n",
       "      <td>1c</td>\n",
       "    </tr>\n",
       "    <tr>\n",
       "      <th>3</th>\n",
       "      <td>4</td>\n",
       "      <td>d</td>\n",
       "      <td>4</td>\n",
       "      <td>1d</td>\n",
       "    </tr>\n",
       "  </tbody>\n",
       "</table>\n",
       "</div>"
      ],
      "text/plain": [
       "   col1 col2  col1 col4\n",
       "0     1    a     1   1a\n",
       "1     2    b     2   1b\n",
       "2     3    c     3   1c\n",
       "3     4    d     4   1d"
      ]
     },
     "execution_count": 21,
     "metadata": {},
     "output_type": "execute_result"
    }
   ],
   "source": [
    "df = pd.concat([df1,df2],axis = 1)\n",
    "df"
   ]
  },
  {
   "cell_type": "code",
   "execution_count": null,
   "id": "f8a280f8",
   "metadata": {},
   "outputs": [],
   "source": []
  },
  {
   "cell_type": "code",
   "execution_count": 39,
   "id": "52c9c9f9",
   "metadata": {},
   "outputs": [
    {
     "data": {
      "text/html": [
       "<div>\n",
       "<style scoped>\n",
       "    .dataframe tbody tr th:only-of-type {\n",
       "        vertical-align: middle;\n",
       "    }\n",
       "\n",
       "    .dataframe tbody tr th {\n",
       "        vertical-align: top;\n",
       "    }\n",
       "\n",
       "    .dataframe thead th {\n",
       "        text-align: right;\n",
       "    }\n",
       "</style>\n",
       "<table border=\"1\" class=\"dataframe\">\n",
       "  <thead>\n",
       "    <tr style=\"text-align: right;\">\n",
       "      <th></th>\n",
       "      <th>col1_left</th>\n",
       "      <th>col2</th>\n",
       "      <th>col1_right</th>\n",
       "      <th>col4</th>\n",
       "    </tr>\n",
       "  </thead>\n",
       "  <tbody>\n",
       "    <tr>\n",
       "      <th>0</th>\n",
       "      <td>1</td>\n",
       "      <td>a</td>\n",
       "      <td>2.0</td>\n",
       "      <td>1b</td>\n",
       "    </tr>\n",
       "    <tr>\n",
       "      <th>1</th>\n",
       "      <td>2</td>\n",
       "      <td>b</td>\n",
       "      <td>3.0</td>\n",
       "      <td>1c</td>\n",
       "    </tr>\n",
       "    <tr>\n",
       "      <th>2</th>\n",
       "      <td>3</td>\n",
       "      <td>c</td>\n",
       "      <td>4.0</td>\n",
       "      <td>1d</td>\n",
       "    </tr>\n",
       "    <tr>\n",
       "      <th>3</th>\n",
       "      <td>4</td>\n",
       "      <td>d</td>\n",
       "      <td>NaN</td>\n",
       "      <td>NaN</td>\n",
       "    </tr>\n",
       "  </tbody>\n",
       "</table>\n",
       "</div>"
      ],
      "text/plain": [
       "   col1_left col2  col1_right col4\n",
       "0          1    a         2.0   1b\n",
       "1          2    b         3.0   1c\n",
       "2          3    c         4.0   1d\n",
       "3          4    d         NaN  NaN"
      ]
     },
     "execution_count": 39,
     "metadata": {},
     "output_type": "execute_result"
    }
   ],
   "source": [
    "a = df1.join(df2,how = \"left\",on =\"col1\",  lsuffix='_left', rsuffix='_right')\n",
    "a"
   ]
  },
  {
   "cell_type": "code",
   "execution_count": 36,
   "id": "b292e592",
   "metadata": {},
   "outputs": [
    {
     "data": {
      "text/html": [
       "<div>\n",
       "<style scoped>\n",
       "    .dataframe tbody tr th:only-of-type {\n",
       "        vertical-align: middle;\n",
       "    }\n",
       "\n",
       "    .dataframe tbody tr th {\n",
       "        vertical-align: top;\n",
       "    }\n",
       "\n",
       "    .dataframe thead th {\n",
       "        text-align: right;\n",
       "    }\n",
       "</style>\n",
       "<table border=\"1\" class=\"dataframe\">\n",
       "  <thead>\n",
       "    <tr style=\"text-align: right;\">\n",
       "      <th></th>\n",
       "      <th>col1</th>\n",
       "      <th>col2</th>\n",
       "      <th>col4</th>\n",
       "    </tr>\n",
       "  </thead>\n",
       "  <tbody>\n",
       "    <tr>\n",
       "      <th>0</th>\n",
       "      <td>1</td>\n",
       "      <td>a</td>\n",
       "      <td>1a</td>\n",
       "    </tr>\n",
       "    <tr>\n",
       "      <th>1</th>\n",
       "      <td>2</td>\n",
       "      <td>b</td>\n",
       "      <td>1b</td>\n",
       "    </tr>\n",
       "    <tr>\n",
       "      <th>2</th>\n",
       "      <td>3</td>\n",
       "      <td>c</td>\n",
       "      <td>1c</td>\n",
       "    </tr>\n",
       "    <tr>\n",
       "      <th>3</th>\n",
       "      <td>4</td>\n",
       "      <td>d</td>\n",
       "      <td>1d</td>\n",
       "    </tr>\n",
       "  </tbody>\n",
       "</table>\n",
       "</div>"
      ],
      "text/plain": [
       "   col1 col2 col4\n",
       "0     1    a   1a\n",
       "1     2    b   1b\n",
       "2     3    c   1c\n",
       "3     4    d   1d"
      ]
     },
     "execution_count": 36,
     "metadata": {},
     "output_type": "execute_result"
    }
   ],
   "source": [
    "a = pd.merge(df1,df2,on = \"col1\")\n",
    "a"
   ]
  },
  {
   "cell_type": "code",
   "execution_count": null,
   "id": "cfa8cb64",
   "metadata": {},
   "outputs": [],
   "source": []
  }
 ],
 "metadata": {
  "kernelspec": {
   "display_name": "Python 3 (ipykernel)",
   "language": "python",
   "name": "python3"
  },
  "language_info": {
   "codemirror_mode": {
    "name": "ipython",
    "version": 3
   },
   "file_extension": ".py",
   "mimetype": "text/x-python",
   "name": "python",
   "nbconvert_exporter": "python",
   "pygments_lexer": "ipython3",
   "version": "3.11.4"
  }
 },
 "nbformat": 4,
 "nbformat_minor": 5
}

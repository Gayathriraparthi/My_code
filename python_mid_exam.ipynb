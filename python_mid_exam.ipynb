{
 "cells": [
  {
   "cell_type": "markdown",
   "metadata": {
    "id": "wPhkT9lDvMyF"
   },
   "source": [
    "# INTRODUCTION TO PYTHON MID EXAM"
   ]
  },
  {
   "cell_type": "markdown",
   "metadata": {
    "id": "zQFj7A_FvMyH"
   },
   "source": [
    "# SECTION A: 5 MARKS"
   ]
  },
  {
   "cell_type": "markdown",
   "metadata": {
    "id": "klUb0nkjvMyI"
   },
   "source": [
    " _________________"
   ]
  },
  {
   "cell_type": "markdown",
   "metadata": {
    "id": "Ufx1kfj9vMyK"
   },
   "source": [
    "### 1. What is the difference between append() and extend() methods? (5 Marks)"
   ]
  },
  {
   "cell_type": "code",
   "execution_count": 1,
   "metadata": {},
   "outputs": [],
   "source": [
    "#append():append is a method of list,used to add element one at a time,if we add group of elements it is also added \n",
    "#as an element only.\n",
    "#extend():extend is a method of list,used to group of elements one by one."
   ]
  },
  {
   "cell_type": "code",
   "execution_count": 2,
   "metadata": {},
   "outputs": [
    {
     "name": "stdout",
     "output_type": "stream",
     "text": [
      "list1 after appending: [1, 2, 3, 4, 5, 6, 7, 8, 9, (10, 11, 12, 13)]\n",
      "list1 after extending: [1, 2, 3, 4, 5, 6, 7, 8, 9, (10, 11, 12, 13), 14, 15, 16]\n"
     ]
    }
   ],
   "source": [
    "list1 = [1,2,3,4,5]\n",
    "#append\n",
    "for i in [6,7,8,9,(10,11,12,13)]:\n",
    "    list1.append(i)\n",
    "print(\"list1 after appending:\",list1)\n",
    "#extend\n",
    "for i in [(14,15,16)]:\n",
    "    list1.extend(i)\n",
    "print(\"list1 after extending:\",list1)\n"
   ]
  },
  {
   "cell_type": "markdown",
   "metadata": {
    "id": "HJUXpES6vMyU"
   },
   "source": [
    "# SECTION B: 10 MARKS"
   ]
  },
  {
   "cell_type": "markdown",
   "metadata": {
    "id": "5Z9DD448vMyW"
   },
   "source": [
    "---------------------"
   ]
  },
  {
   "cell_type": "markdown",
   "metadata": {
    "id": "1lxmVJYdvMyX"
   },
   "source": [
    "### 2. Write a program to create a dictionary as follows ? (5 Marks)\n",
    "\n",
    "\n",
    "\n",
    "\n",
    "  **OUTPUT:**  * {1: 1, 2: 4, 3: 9, 4: 16, 5: 25, 6: 36, 7: 49, 8: 64, 9: 81, 10: 100, 11: 121, 12: 144, 13: 169, 14: 196, 15: 225}"
   ]
  },
  {
   "cell_type": "code",
   "execution_count": 3,
   "metadata": {},
   "outputs": [
    {
     "name": "stdout",
     "output_type": "stream",
     "text": [
      "{1: 1, 2: 4, 3: 9, 4: 16, 5: 25, 6: 36, 7: 49, 8: 64, 9: 81, 10: 100, 11: 121, 12: 144, 13: 169, 14: 196, 15: 225}\n"
     ]
    }
   ],
   "source": [
    "d = {}\n",
    "for i in range(1,16):\n",
    "    d[i] = i ** 2\n",
    "print(d)"
   ]
  },
  {
   "cell_type": "markdown",
   "metadata": {
    "id": "4S1F63UwvMyh"
   },
   "source": [
    "### 3. Write a program to Check if a given number is a Palindrome or not? (5 Marks)"
   ]
  },
  {
   "cell_type": "code",
   "execution_count": 2,
   "metadata": {},
   "outputs": [
    {
     "name": "stdout",
     "output_type": "stream",
     "text": [
      "enter a number:23564\n",
      "23564  is not a palindrome\n"
     ]
    }
   ],
   "source": [
    "num = int(input('enter a number:'))\n",
    "num1 = str(num)\n",
    "if num1[::] == num1[::-1]:\n",
    "    print(num,\" is a palindrome\")\n",
    "else:\n",
    "    print(num,\" is not a palindrome\")"
   ]
  },
  {
   "cell_type": "markdown",
   "metadata": {
    "id": "GOmdWBorvMyr"
   },
   "source": [
    "# SECTION C: 15 MARKS"
   ]
  },
  {
   "cell_type": "markdown",
   "metadata": {
    "id": "VO5-XnFwvMys"
   },
   "source": [
    "--------------------"
   ]
  },
  {
   "cell_type": "markdown",
   "metadata": {
    "id": "onfJdgzMvMyu"
   },
   "source": [
    "### 4. Python program which  generate a list and a tuple which contains every number.Suppose the following  (5 Marks)\n",
    "    \n",
    "    input = 23,56,76,12,87 Then, the output should be:\n",
    "\n",
    "    ['23', '56', '76', '12', '87']\n",
    "\n",
    "    ('23', '56', '76', '12', '87')"
   ]
  },
  {
   "cell_type": "code",
   "execution_count": 29,
   "metadata": {},
   "outputs": [
    {
     "name": "stdout",
     "output_type": "stream",
     "text": [
      "<class 'tuple'>\n",
      "[23, 56, 76, 12, 87]\n",
      "(23, 56, 76, 12, 87)\n"
     ]
    }
   ],
   "source": [
    "input1 = 23,56,76,12,87\n",
    "print(type(input1))\n",
    "l = []\n",
    "for i in input1:\n",
    "    l.append(i)\n",
    "print(l)\n",
    "t = tuple(l)\n",
    "print(t)\n"
   ]
  },
  {
   "cell_type": "code",
   "execution_count": 44,
   "metadata": {},
   "outputs": [
    {
     "ename": "TypeError",
     "evalue": "'tuple' object is not callable",
     "output_type": "error",
     "traceback": [
      "\u001b[1;31m---------------------------------------------------------------------------\u001b[0m",
      "\u001b[1;31mTypeError\u001b[0m                                 Traceback (most recent call last)",
      "\u001b[1;32m~\\AppData\\Local\\Temp\\ipykernel_20724\\805038418.py\u001b[0m in \u001b[0;36m<module>\u001b[1;34m\u001b[0m\n\u001b[1;32m----> 1\u001b[1;33m \u001b[0minput_number\u001b[0m \u001b[1;33m=\u001b[0m \u001b[0minput\u001b[0m\u001b[1;33m(\u001b[0m\u001b[1;34m'Enter number 23, 56, 76, 12, 87 :'\u001b[0m\u001b[1;33m)\u001b[0m\u001b[1;33m.\u001b[0m\u001b[0msplit\u001b[0m\u001b[1;33m(\u001b[0m\u001b[1;33m)\u001b[0m\u001b[1;33m\u001b[0m\u001b[1;33m\u001b[0m\u001b[0m\n\u001b[0m\u001b[0;32m      2\u001b[0m \u001b[0mprint\u001b[0m\u001b[1;33m(\u001b[0m\u001b[0mtype\u001b[0m\u001b[1;33m(\u001b[0m\u001b[0minput_number\u001b[0m\u001b[1;33m)\u001b[0m\u001b[1;33m)\u001b[0m\u001b[1;33m\u001b[0m\u001b[1;33m\u001b[0m\u001b[0m\n",
      "\u001b[1;31mTypeError\u001b[0m: 'tuple' object is not callable"
     ]
    }
   ],
   "source": [
    "input_number = input('Enter number 23, 56, 76, 12, 87 :').split()\n",
    "print(type(input_number))"
   ]
  },
  {
   "cell_type": "markdown",
   "metadata": {
    "id": "szS3-6vDvMy0"
   },
   "source": [
    "### 5.  Write a code to print “Python” for multiples of three instead of the number, “Coding” for the multiples of five, “Python Coding” for multiples of both three and five (range is from 1 to 26). (10 Marks)"
   ]
  },
  {
   "cell_type": "code",
   "execution_count": 45,
   "metadata": {},
   "outputs": [
    {
     "name": "stdout",
     "output_type": "stream",
     "text": [
      "3 Python\n",
      "5 Coding\n",
      "6 Python\n",
      "9 Python\n",
      "10 Coding\n",
      "12 Python\n",
      "15 Python Coding\n",
      "18 Python\n",
      "20 Coding\n",
      "21 Python\n",
      "24 Python\n",
      "25 Coding\n"
     ]
    }
   ],
   "source": [
    "\n",
    "for i in (range(1,26)):\n",
    "    if i % 3 == 0 and i % 5 == 0:\n",
    "        print(i,'Python Coding')\n",
    "    elif i % 3 == 0:\n",
    "        print(i,\"Python\")\n",
    "    elif i % 5== 0:\n",
    "        print(i,\"Coding\")\n",
    "    else:\n",
    "        pass\n"
   ]
  }
 ],
 "metadata": {
  "colab": {
   "name": "ITP_MID_EXAM_SET_4_PAPER.ipynb",
   "provenance": []
  },
  "kernelspec": {
   "display_name": "Python 3 (ipykernel)",
   "language": "python",
   "name": "python3"
  },
  "language_info": {
   "codemirror_mode": {
    "name": "ipython",
    "version": 3
   },
   "file_extension": ".py",
   "mimetype": "text/x-python",
   "name": "python",
   "nbconvert_exporter": "python",
   "pygments_lexer": "ipython3",
   "version": "3.9.13"
  }
 },
 "nbformat": 4,
 "nbformat_minor": 1
}

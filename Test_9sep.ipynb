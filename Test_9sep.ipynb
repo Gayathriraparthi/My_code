{
 "cells": [
  {
   "cell_type": "code",
   "execution_count": 33,
   "id": "41dfd5bf",
   "metadata": {},
   "outputs": [
    {
     "name": "stdout",
     "output_type": "stream",
     "text": [
      "Before : Hello!!!, how are you? -Hope it's going well.\n",
      "After : Hello how are you Hope its going well\n"
     ]
    }
   ],
   "source": [
    "\"\"\"1. Write a program to remove all punctuations/symbols from a given string.\n",
    "Input: Hello!!!, how are you? -Hope it's going well.\n",
    "Expected Output: Hello how are you Hope its going well\n",
    "\"\"\"\n",
    "\n",
    "s = \"Hello!!!, how are you? -Hope it's going well.\"\n",
    "output = \"\"\n",
    "\n",
    "for i in s:\n",
    "    if i.isalpha() == True or i == \" \":  \n",
    "        output += i\n",
    "print(f\"Before : {s}\")       \n",
    "print(f\"After : {output}\")\n"
   ]
  },
  {
   "cell_type": "code",
   "execution_count": 29,
   "id": "ab596db2",
   "metadata": {},
   "outputs": [
    {
     "name": "stdout",
     "output_type": "stream",
     "text": [
      "enter number:5600\n",
      "The reverse of 5600 is 65\n"
     ]
    }
   ],
   "source": [
    "\"\"\"2. Write a program that prompts the user to input a number and reverse its digits. For example, the reverse of 12345 \n",
    "is 54321; reverse of 5600 is 65.\n",
    "\"\"\"\n",
    "num = int(input(\"enter number:\"))\n",
    "dup = num\n",
    "reverse = 0\n",
    "\n",
    "while num:\n",
    "    n = num % 10\n",
    "    reverse = (reverse*10) + n\n",
    "    num = num//10\n",
    "\n",
    "print(f\"The reverse of {dup} is {reverse}\")\n"
   ]
  },
  {
   "cell_type": "code",
   "execution_count": 15,
   "id": "4959123c",
   "metadata": {},
   "outputs": [
    {
     "name": "stdout",
     "output_type": "stream",
     "text": [
      "No.of Negative Numbers in [5, -1, -2, 0, 3] are 2\n"
     ]
    }
   ],
   "source": [
    "\"\"\"3. Write a program to return the number of negative numbers in the given list.\n",
    "Sample Input: [5, -1, -2, 0, 3]\n",
    "Expected Output: 2\"\"\"\n",
    "\n",
    "Input= [5, -1, -2, 0, 3]\n",
    "count = 0\n",
    "\n",
    "for i in Input:\n",
    "    if i < 0:\n",
    "        count += 1\n",
    "        \n",
    "print(f\"No.of Negative Numbers in {Input} are {count}\")"
   ]
  },
  {
   "cell_type": "code",
   "execution_count": 31,
   "id": "8b521987",
   "metadata": {},
   "outputs": [
    {
     "name": "stdout",
     "output_type": "stream",
     "text": [
      "The sum cubes of [1, 2, 3] is 36\n"
     ]
    }
   ],
   "source": [
    "\"\"\"4. Write a program to find the sum of the cube of elements in a list. \n",
    "The list is received as an argument and it should return the sum.\"\"\"\n",
    "\n",
    "def cube_of_ele(l):\n",
    "    sum = 0\n",
    "    for i in l:\n",
    "        sum += i**3\n",
    "    return (f\"The sum cubes of {l} is {sum}\")\n",
    "\n",
    "l = [1,2,3]        \n",
    "print(cube_of_ele(l))\n"
   ]
  },
  {
   "cell_type": "code",
   "execution_count": null,
   "id": "770409b2",
   "metadata": {},
   "outputs": [],
   "source": []
  }
 ],
 "metadata": {
  "kernelspec": {
   "display_name": "Python 3 (ipykernel)",
   "language": "python",
   "name": "python3"
  },
  "language_info": {
   "codemirror_mode": {
    "name": "ipython",
    "version": 3
   },
   "file_extension": ".py",
   "mimetype": "text/x-python",
   "name": "python",
   "nbconvert_exporter": "python",
   "pygments_lexer": "ipython3",
   "version": "3.9.13"
  }
 },
 "nbformat": 4,
 "nbformat_minor": 5
}

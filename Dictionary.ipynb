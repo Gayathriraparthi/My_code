{
 "cells": [
  {
   "cell_type": "markdown",
   "id": "a2d35b5f",
   "metadata": {},
   "source": [
    "#### What is a dictionary in Python?\n",
    "A dictionary in Python is an unordered collection of key-value pairs. Each key is unique and maps to a specific value. Dictionaries are also known as associative arrays or hash maps in other programming languages.\n",
    "\n"
   ]
  },
  {
   "cell_type": "markdown",
   "id": "82a20f0a",
   "metadata": {},
   "source": [
    "#### How are dictionaries different from lists and tuples?\n",
    "\n",
    "Dictionaries are unordered and consist of key-value pairs, whereas lists and tuples are ordered sequences of elements.\n",
    "Dictionary elements are accessed by keys, while list and tuple elements are accessed by indices.\n",
    "Lists and dictionaries are mutable, allowing for modifications, while tuples are immutable (elements cannot be changed after creation).\n"
   ]
  },
  {
   "cell_type": "markdown",
   "id": "40b25870",
   "metadata": {},
   "source": [
    "### Creating Dictionaries:\n",
    "\n",
    "\n"
   ]
  },
  {
   "cell_type": "markdown",
   "id": "9ac18081",
   "metadata": {},
   "source": [
    "#### How do you create an empty dictionary in Python?\n",
    "You can create an empty dictionary using empty curly braces {} or by using the dict() constructor: my_dict = {} or my_dict = dict().\n",
    "\n"
   ]
  },
  {
   "cell_type": "markdown",
   "id": "4ec7a7be",
   "metadata": {},
   "source": [
    "#### Provide examples of different ways to create dictionaries with key-value pairs.\n",
    "\n",
    "person = {\"name\": \"Alice\", \"age\": 30}\n",
    "colors = dict(red=\"#FF0000\", green=\"#00FF00\", blue=\"#0000FF\")\n"
   ]
  },
  {
   "cell_type": "markdown",
   "id": "bd3186d6",
   "metadata": {},
   "source": [
    "### 3. Accessing Dictionary Elements:\n",
    "\n"
   ]
  },
  {
   "cell_type": "markdown",
   "id": "ec6690c0",
   "metadata": {},
   "source": [
    "#### How do you access the value associated with a specific key in a dictionary?\n",
    "You can access the value of a specific key using square brackets: value = my_dict[\"key\"].\n",
    "\n"
   ]
  },
  {
   "cell_type": "markdown",
   "id": "ee163d4e",
   "metadata": {},
   "source": [
    "#### What happens if you try to access a key that doesn't exist in the dictionary?\n",
    "If you try to access a key that doesn't exist, Python raises a KeyError exception. To avoid this, you can use the get() method or provide a default value.\n"
   ]
  },
  {
   "cell_type": "markdown",
   "id": "7a748f04",
   "metadata": {},
   "source": [
    "### 4. Modifying Dictionaries:\n",
    "\n"
   ]
  },
  {
   "cell_type": "markdown",
   "id": "eb4b65d4",
   "metadata": {},
   "source": [
    "#### How do you add a new key-value pair to a dictionary?\n",
    "You can add a new key-value pair to a dictionary by assigning a value to a new or existing key: my_dict[\"new_key\"] = \"new_value\".\n",
    "\n"
   ]
  },
  {
   "cell_type": "markdown",
   "id": "db37341b",
   "metadata": {},
   "source": [
    "#### How do you update the value of an existing key in a dictionary?\n",
    "You can update the value of an existing key by reassigning it: my_dict[\"key\"] = \"new_value\".\n",
    "\n"
   ]
  },
  {
   "cell_type": "markdown",
   "id": "b03bf10a",
   "metadata": {},
   "source": [
    "#### How do you remove a key-value pair from a dictionary?\n",
    "You can remove a key-value pair using the del statement: del my_dict[\"key\"].\n",
    "\n",
    "\n"
   ]
  },
  {
   "cell_type": "markdown",
   "id": "c4839ae9",
   "metadata": {},
   "source": [
    "### 5. Dictionary Methods:\n",
    "\n"
   ]
  },
  {
   "cell_type": "markdown",
   "id": "253f4c62",
   "metadata": {},
   "source": [
    "#### Explain the purpose and usage of the keys(), values(), and items() methods in dictionaries.\n",
    "\n",
    "keys(): Returns a view of all keys in the dictionary.\n",
    "values(): Returns a view of all values in the dictionary.\n",
    "items(): Returns a view of all key-value pairs (tuples) in the dictionary."
   ]
  },
  {
   "cell_type": "code",
   "execution_count": 10,
   "id": "b2439ce5",
   "metadata": {},
   "outputs": [
    {
     "data": {
      "text/plain": [
       "dict_items([('name', 'Alice'), ('age', 30)])"
      ]
     },
     "execution_count": 10,
     "metadata": {},
     "output_type": "execute_result"
    }
   ],
   "source": [
    "#Provide examples of how to use these methods.\n",
    "\n",
    "my_dict = {\"name\": \"Alice\", \"age\": 30}\n",
    "\n",
    "keys = my_dict.keys()  # dict_keys(['name', 'age'])\n",
    "values = my_dict.values()  # dict_values(['Alice', 30])\n",
    "items = my_dict.items()  # dict_items([('name', 'Alice'), ('age', 30)])\n",
    "items"
   ]
  },
  {
   "cell_type": "markdown",
   "id": "028b078a",
   "metadata": {},
   "source": [
    "### 6. Iterating Over Dictionaries:\n",
    "\n"
   ]
  },
  {
   "cell_type": "markdown",
   "id": "f1d7f72d",
   "metadata": {},
   "source": [
    "#### How can you iterate over the keys, values, and key-value pairs in a dictionary?\n",
    "You can use loops (for loop) to iterate over keys, values, or items (key-value pairs) in a dictionary.\n",
    "\n"
   ]
  },
  {
   "cell_type": "code",
   "execution_count": 3,
   "id": "e79ac05b",
   "metadata": {},
   "outputs": [
    {
     "name": "stdout",
     "output_type": "stream",
     "text": [
      "name\n",
      "age\n",
      "Alice\n",
      "30\n",
      "name: Alice\n",
      "age: 30\n"
     ]
    }
   ],
   "source": [
    "#Provide examples of different ways to loop through a dictionary.\n",
    "\n",
    "my_dict = {\"name\": \"Alice\", \"age\": 30}\n",
    "\n",
    "# Iterating over keys\n",
    "for key in my_dict:\n",
    "    print(key)\n",
    "\n",
    "# Iterating over values\n",
    "for value in my_dict.values():\n",
    "    print(value)\n",
    "\n",
    "# Iterating over key-value pairs\n",
    "for key, value in my_dict.items():\n",
    "    print(f\"{key}: {value}\")\n"
   ]
  },
  {
   "cell_type": "markdown",
   "id": "2ae60407",
   "metadata": {},
   "source": [
    "### 7. Dictionary Comprehensions:\n",
    "\n"
   ]
  },
  {
   "cell_type": "markdown",
   "id": "ece29696",
   "metadata": {},
   "source": [
    "#### What are dictionary comprehensions, and how do they work?\n",
    "Dictionary comprehensions are a concise way to create dictionaries by applying an expression to each key-value pair from an iterable source.\n",
    "\n",
    "\n"
   ]
  },
  {
   "cell_type": "code",
   "execution_count": 4,
   "id": "d8a4b073",
   "metadata": {},
   "outputs": [],
   "source": [
    "#Give an example of a dictionary comprehension.\n",
    "\n",
    "numbers = [1, 2, 3, 4, 5]\n",
    "squared_dict = {x: x**2 for x in numbers}  # {1: 1, 2: 4, 3: 9, 4: 16, 5: 25}\n"
   ]
  },
  {
   "cell_type": "markdown",
   "id": "91fc6251",
   "metadata": {},
   "source": [
    "### 8. Nested Dictionaries:\n"
   ]
  },
  {
   "cell_type": "markdown",
   "id": "d75dacf8",
   "metadata": {},
   "source": [
    "#### Can dictionaries be nested within other dictionaries?\n",
    "Yes, dictionaries can be nested within other dictionaries to create more complex data structures."
   ]
  },
  {
   "cell_type": "markdown",
   "id": "34773431",
   "metadata": {},
   "source": [
    "#### How do you access values in nested dictionaries?\n",
    "You can access values in nested dictionaries by chaining square brackets for each level of nesting: value = my_dict[\"key1\"][\"key2\"]."
   ]
  },
  {
   "cell_type": "markdown",
   "id": "5f960dcb",
   "metadata": {},
   "source": [
    "### 9. Dictionary Length:"
   ]
  },
  {
   "cell_type": "markdown",
   "id": "9bd61189",
   "metadata": {},
   "source": [
    "#### How do you find the number of key-value pairs in a dictionary?\n",
    "You can use the len() function to find the number of key-value pairs in a dictionary: length = len(my_dict).\n"
   ]
  },
  {
   "cell_type": "markdown",
   "id": "7d3d57d1",
   "metadata": {},
   "source": [
    "### What is the purpose of the len() function when used with dictionaries?\n",
    "The len() function returns the number of key-value pairs in a dictionary, allowing you to determine its size."
   ]
  },
  {
   "cell_type": "markdown",
   "id": "81a0265b",
   "metadata": {},
   "source": [
    "### 10. Dictionary Unpacking:"
   ]
  },
  {
   "cell_type": "markdown",
   "id": "9abb4951",
   "metadata": {},
   "source": [
    "#### How can you unpack key-value pairs from one dictionary into another?\n",
    "You can unpack key-value pairs from one dictionary into another using the ** operator: new_dict = {**dict1, **dict2}.\n",
    "\n"
   ]
  },
  {
   "cell_type": "code",
   "execution_count": 9,
   "id": "803e0adf",
   "metadata": {},
   "outputs": [
    {
     "data": {
      "text/plain": [
       "{'name': 'Alice', 'age': 30}"
      ]
     },
     "execution_count": 9,
     "metadata": {},
     "output_type": "execute_result"
    }
   ],
   "source": [
    "#Provide an example of dictionary unpacking.\n",
    "dict1 = {\"name\": \"Alice\"}\n",
    "dict2 = {\"age\": 30}\n",
    "merged_dict = {**dict1, **dict2}  # {'name': 'Alice', 'age': 30}\n",
    "merged_dict"
   ]
  },
  {
   "cell_type": "markdown",
   "id": "3a17e4db",
   "metadata": {},
   "source": [
    "### 11. Dictionary Sorting:"
   ]
  },
  {
   "cell_type": "markdown",
   "id": "3312362d",
   "metadata": {},
   "source": [
    "#### Are dictionaries in Python ordered or unordered?\n",
    "Starting from Python 3.7 and later, dictionaries are guaranteed to maintain the insertion order of their elements. In earlier versions, dictionaries were unordered.\n",
    "\n",
    "\n",
    "\n",
    "\n"
   ]
  },
  {
   "cell_type": "markdown",
   "id": "dbe7fa97",
   "metadata": {},
   "source": [
    "#### How can you sort the keys in a dictionary?\n",
    "You can sort the keys of a dictionary using the sorted() function, which returns a sorted list of keys.\n"
   ]
  },
  {
   "cell_type": "markdown",
   "id": "f35e23f8",
   "metadata": {},
   "source": [
    "### 12. Dictionary Views:"
   ]
  },
  {
   "cell_type": "markdown",
   "id": "649dd39c",
   "metadata": {},
   "source": [
    "#### What are dictionary views (dict_keys, dict_values, and dict_items)?\n",
    "Dictionary views are dynamic views that provide a way to access the keys, values, and key-value pairs of a dictionary. These views reflect changes made in the dictionary and can be used for iteration and membership testing.\n"
   ]
  },
  {
   "cell_type": "markdown",
   "id": "664cc5f7",
   "metadata": {},
   "source": [
    "#### How are they different from lists or sets?\n",
    "\n",
    "dict_keys is similar to a set of keys but is a dynamic view.\n",
    "dict_values is similar to a list of values but is a dynamic view.\n",
    "dict_items provides key-value pairs as tuples and is similar to a list of tuples but is also a dynamic view.\n",
    "\n"
   ]
  },
  {
   "cell_type": "markdown",
   "id": "8fbe8f70",
   "metadata": {},
   "source": [
    "### 13. Merging Dictionaries:\n"
   ]
  },
  {
   "cell_type": "markdown",
   "id": "cc2b7af5",
   "metadata": {},
   "source": [
    "#### How do you merge two dictionaries in Python?\n",
    "You can merge two dictionaries by using\n"
   ]
  },
  {
   "cell_type": "code",
   "execution_count": 6,
   "id": "18bf7f0e",
   "metadata": {},
   "outputs": [
    {
     "name": "stdout",
     "output_type": "stream",
     "text": [
      "{'a': 1, 'b': 3, 'c': 4}\n"
     ]
    }
   ],
   "source": [
    "#1. Using Dictionary Comprehension (Python 3.5 and later):\n",
    "#You can use dictionary comprehension to merge two dictionaries into a new one.\n",
    "\n",
    "\n",
    "dict1 = {\"a\": 1, \"b\": 2}\n",
    "dict2 = {\"b\": 3, \"c\": 4}\n",
    "\n",
    "merged_dict = {**dict1, **dict2}\n",
    "print(merged_dict)  # Output: {'a': 1, 'b': 3, 'c': 4}\n"
   ]
  },
  {
   "cell_type": "code",
   "execution_count": 7,
   "id": "50a7bc10",
   "metadata": {},
   "outputs": [
    {
     "name": "stdout",
     "output_type": "stream",
     "text": [
      "{'a': 1, 'b': 3, 'c': 4}\n"
     ]
    }
   ],
   "source": [
    "#2. Using the update() Method (Python 3.5 and later):\n",
    "#The update() method allows you to merge one dictionary into another. It updates the calling dictionary with key-value pairs from another dictionary.\n",
    "\n",
    "\n",
    "dict1 = {\"a\": 1, \"b\": 2}\n",
    "dict2 = {\"b\": 3, \"c\": 4}\n",
    "\n",
    "dict1.update(dict2)\n",
    "print(dict1)  # Output: {'a': 1, 'b': 3, 'c': 4}\n"
   ]
  },
  {
   "cell_type": "code",
   "execution_count": 8,
   "id": "c18add20",
   "metadata": {},
   "outputs": [
    {
     "name": "stdout",
     "output_type": "stream",
     "text": [
      "{'a': 1, 'b': 3, 'c': 4}\n"
     ]
    }
   ],
   "source": [
    "#3. Using Dictionary Unpacking (Python 3.5 and later):\n",
    "#You can use the ** operator to unpack key-value pairs from both dictionaries into a new one.\n",
    "\n",
    "\n",
    "dict1 = {\"a\": 1, \"b\": 2}\n",
    "dict2 = {\"b\": 3, \"c\": 4}\n",
    "\n",
    "merged_dict = {**dict1, **dict2}\n",
    "print(merged_dict)  # Output: {'a': 1, 'b': 3, 'c': 4}"
   ]
  },
  {
   "cell_type": "code",
   "execution_count": null,
   "id": "3475312f",
   "metadata": {},
   "outputs": [],
   "source": []
  },
  {
   "cell_type": "code",
   "execution_count": null,
   "id": "a8ef1762",
   "metadata": {},
   "outputs": [],
   "source": []
  },
  {
   "cell_type": "code",
   "execution_count": null,
   "id": "ac5f5bf0",
   "metadata": {},
   "outputs": [],
   "source": []
  },
  {
   "cell_type": "code",
   "execution_count": null,
   "id": "5c73d232",
   "metadata": {},
   "outputs": [],
   "source": []
  },
  {
   "cell_type": "code",
   "execution_count": null,
   "id": "4f74488c",
   "metadata": {},
   "outputs": [],
   "source": []
  },
  {
   "cell_type": "code",
   "execution_count": null,
   "id": "31882b51",
   "metadata": {},
   "outputs": [],
   "source": []
  },
  {
   "cell_type": "code",
   "execution_count": null,
   "id": "8fa8b0ed",
   "metadata": {},
   "outputs": [],
   "source": []
  },
  {
   "cell_type": "code",
   "execution_count": null,
   "id": "3ddd8456",
   "metadata": {},
   "outputs": [],
   "source": []
  },
  {
   "cell_type": "code",
   "execution_count": null,
   "id": "14e6dbb5",
   "metadata": {},
   "outputs": [],
   "source": []
  },
  {
   "cell_type": "code",
   "execution_count": null,
   "id": "eb0c19e1",
   "metadata": {},
   "outputs": [],
   "source": []
  }
 ],
 "metadata": {
  "kernelspec": {
   "display_name": "Python 3 (ipykernel)",
   "language": "python",
   "name": "python3"
  },
  "language_info": {
   "codemirror_mode": {
    "name": "ipython",
    "version": 3
   },
   "file_extension": ".py",
   "mimetype": "text/x-python",
   "name": "python",
   "nbconvert_exporter": "python",
   "pygments_lexer": "ipython3",
   "version": "3.9.13"
  }
 },
 "nbformat": 4,
 "nbformat_minor": 5
}

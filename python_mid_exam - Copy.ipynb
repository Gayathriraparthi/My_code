{
 "cells": [
  {
   "cell_type": "markdown",
   "metadata": {
    "id": "wPhkT9lDvMyF"
   },
   "source": [
    "# INTRODUCTION TO PYTHON MID EXAM"
   ]
  },
  {
   "cell_type": "markdown",
   "metadata": {
    "id": "zQFj7A_FvMyH"
   },
   "source": [
    "# SECTION A: 5 MARKS"
   ]
  },
  {
   "cell_type": "markdown",
   "metadata": {
    "id": "klUb0nkjvMyI"
   },
   "source": [
    " _________________"
   ]
  },
  {
   "cell_type": "markdown",
   "metadata": {
    "id": "Ufx1kfj9vMyK"
   },
   "source": [
    "### 1. What is the difference between append() and extend() methods? (5 Marks)"
   ]
  },
  {
   "cell_type": "markdown",
   "metadata": {
    "id": "JKSjUaf1vMyL"
   },
   "source": [
    "append() : This function is used to add data to lists. It will add the data given to it as one item even it is single item or list of items also.\n",
    "extend() : This function is also used for adding list of data to main list. But this function will add data items one by one."
   ]
  },
  {
   "cell_type": "code",
   "execution_count": 25,
   "metadata": {},
   "outputs": [
    {
     "name": "stdout",
     "output_type": "stream",
     "text": [
      "After appending [95,96,97] using append() : [1, 2, 3, 4, 5, [95, 96, 97]]\n",
      "After appending [91,92,93,94] using extend() : [1, 2, 3, 4, 5, [95, 96, 97], 91, 92, 93, 94]\n"
     ]
    }
   ],
   "source": [
    "#Example of append() and extend()\n",
    "main_list = [1,2,3,4,5]\n",
    "\n",
    "main_list.append([95,96,97])\n",
    "print('After appending [95,96,97] using append() :',main_list)\n",
    "main_list.extend([91,92,93,94])\n",
    "print('After appending [91,92,93,94] using extend() :',main_list)"
   ]
  },
  {
   "cell_type": "markdown",
   "metadata": {
    "id": "HJUXpES6vMyU"
   },
   "source": [
    "# SECTION B: 10 MARKS"
   ]
  },
  {
   "cell_type": "markdown",
   "metadata": {
    "id": "5Z9DD448vMyW"
   },
   "source": [
    "---------------------"
   ]
  },
  {
   "cell_type": "markdown",
   "metadata": {
    "id": "1lxmVJYdvMyX"
   },
   "source": [
    "### 2. Write a program to create a dictionary as follows ? (5 Marks)\n",
    "\n",
    "\n",
    "\n",
    "\n",
    "  **OUTPUT:**  * {1: 1, 2: 4, 3: 9, 4: 16, 5: 25, 6: 36, 7: 49, 8: 64, 9: 81, 10: 100, 11: 121, 12: 144, 13: 169, 14: 196, 15: 225}"
   ]
  },
  {
   "cell_type": "code",
   "execution_count": 7,
   "metadata": {
    "id": "f5IwOPbsvMyZ",
    "scrolled": true
   },
   "outputs": [
    {
     "name": "stdout",
     "output_type": "stream",
     "text": [
      "{1: 1, 2: 4, 3: 9, 4: 16, 5: 25, 6: 36, 7: 49, 8: 64, 9: 81, 10: 100, 11: 121, 12: 144, 13: 169, 14: 196, 15: 225}\n"
     ]
    }
   ],
   "source": [
    "keys = list(range(1,16))\n",
    "values = list(i**2 for i in keys)\n",
    "\n",
    "output_dict = dict(zip(keys, values))\n",
    "\n",
    "print(output_dict)"
   ]
  },
  {
   "cell_type": "markdown",
   "metadata": {
    "id": "4S1F63UwvMyh"
   },
   "source": [
    "### 3. Write a program to Check if a given number is a Palindrome or not? (5 Marks)"
   ]
  },
  {
   "cell_type": "code",
   "execution_count": 24,
   "metadata": {
    "id": "QpANDstmvMyj"
   },
   "outputs": [
    {
     "name": "stdout",
     "output_type": "stream",
     "text": [
      "Enter a number to check palindrome or not : 121\n",
      "Given number 121 is Panlindrome.\n"
     ]
    }
   ],
   "source": [
    "number = int(input('Enter a number to check palindrome or not : '))\n",
    "str_number = str(number)\n",
    "if str_number == str_number[::-1]:\n",
    "    print(f'Given number {number} is Panlindrome.')\n",
    "else:\n",
    "    print(f'Given number {number} is not a Panlindrome.')"
   ]
  },
  {
   "cell_type": "markdown",
   "metadata": {
    "id": "GOmdWBorvMyr"
   },
   "source": [
    "# SECTION C: 15 MARKS"
   ]
  },
  {
   "cell_type": "markdown",
   "metadata": {
    "id": "VO5-XnFwvMys"
   },
   "source": [
    "--------------------"
   ]
  },
  {
   "cell_type": "markdown",
   "metadata": {
    "id": "onfJdgzMvMyu"
   },
   "source": [
    "### 4. Python program which  generate a list and a tuple which contains every number.Suppose the following  (5 Marks)\n",
    "    \n",
    "    input = 23,56,76,12,87 Then, the output should be:\n",
    "\n",
    "    ['23', '56', '76', '12', '87']\n",
    "\n",
    "    ('23', '56', '76', '12', '87')"
   ]
  },
  {
   "cell_type": "code",
   "execution_count": 4,
   "metadata": {
    "id": "VwaDi-gfvMyv",
    "scrolled": true
   },
   "outputs": [
    {
     "name": "stdout",
     "output_type": "stream",
     "text": [
      "Enter number 23, 56, 76, 12, 87 :1,2,3\n",
      "<class 'list'>\n"
     ]
    }
   ],
   "source": [
    "input_number = input('Enter number 23, 56, 76, 12, 87 :').split()\n",
    "print(type(input_number))\n",
    "#print(list(input_number))\n",
    "#print(tuple(input_number))"
   ]
  },
  {
   "cell_type": "markdown",
   "metadata": {
    "id": "szS3-6vDvMy0"
   },
   "source": [
    "### 5.  Write a code to print “Python” for multiples of three instead of the number, “Coding” for the multiples of five, “Python Coding” for multiples of both three and five (range is from 1 to 26). (10 Marks)"
   ]
  },
  {
   "cell_type": "code",
   "execution_count": 2,
   "metadata": {
    "id": "fi6tehuSvMy1"
   },
   "outputs": [
    {
     "name": "stdout",
     "output_type": "stream",
     "text": [
      "3 Python\n",
      "5 Coding\n",
      "6 Python\n",
      "9 Python\n",
      "10 Coding\n",
      "12 Python\n",
      "15 Python Coding\n",
      "18 Python\n",
      "20 Coding\n",
      "21 Python\n",
      "24 Python\n",
      "25 Coding\n"
     ]
    }
   ],
   "source": [
    "for index, i in enumerate(range(1,26),1):\n",
    "    if ((i%3 == 0) & (i%5 == 0)):\n",
    "        print(index + 1, 'Python Coding')\n",
    "    elif i%3 == 0:\n",
    "        print(index + 1, 'Python')\n",
    "    elif i%5 == 0:\n",
    "        print(index + 1, 'Coding')"
   ]
  }
 ],
 "metadata": {
  "colab": {
   "name": "ITP_MID_EXAM_SET_4_PAPER.ipynb",
   "provenance": []
  },
  "kernelspec": {
   "display_name": "Python 3 (ipykernel)",
   "language": "python",
   "name": "python3"
  },
  "language_info": {
   "codemirror_mode": {
    "name": "ipython",
    "version": 3
   },
   "file_extension": ".py",
   "mimetype": "text/x-python",
   "name": "python",
   "nbconvert_exporter": "python",
   "pygments_lexer": "ipython3",
   "version": "3.9.13"
  }
 },
 "nbformat": 4,
 "nbformat_minor": 1
}

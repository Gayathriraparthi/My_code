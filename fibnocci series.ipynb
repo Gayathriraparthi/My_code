{
 "cells": [
  {
   "cell_type": "code",
   "execution_count": 2,
   "id": "4c3ce064",
   "metadata": {},
   "outputs": [
    {
     "name": "stdout",
     "output_type": "stream",
     "text": [
      "[0, 1, 1, 2, 3, 5, 8, 13, 21, 34]\n"
     ]
    }
   ],
   "source": [
    "# 1st 10 numbers in fibnocci series\n",
    "n = 10\n",
    "fib = [0,1]\n",
    "a = 0\n",
    "b = 1\n",
    "for i in range (1,n-1):\n",
    "    c = a+b\n",
    "    fib.append(c)\n",
    "\n",
    "    a = b\n",
    "    b = c\n",
    "    \n",
    "print (fib)"
   ]
  },
  {
   "cell_type": "code",
   "execution_count": 4,
   "id": "e01e6605",
   "metadata": {},
   "outputs": [
    {
     "data": {
      "text/plain": [
       "[0, 1, 1, 2, 3, 5, 8, 13, 21]"
      ]
     },
     "execution_count": 4,
     "metadata": {},
     "output_type": "execute_result"
    }
   ],
   "source": [
    "def fibo(n):\n",
    "    fib = [0,1]\n",
    "    a = 0\n",
    "    b = 1\n",
    "    for i in range (1,n-1):\n",
    "        c = a+b\n",
    "        fib.append(c)\n",
    "\n",
    "        a = b\n",
    "        b = c\n",
    "        \n",
    "    return (fib)\n",
    "\n",
    "fibo(9)\n",
    "    "
   ]
  },
  {
   "cell_type": "code",
   "execution_count": null,
   "id": "fab05f0e",
   "metadata": {},
   "outputs": [],
   "source": []
  },
  {
   "cell_type": "code",
   "execution_count": null,
   "id": "d07bd46a",
   "metadata": {},
   "outputs": [],
   "source": []
  }
 ],
 "metadata": {
  "kernelspec": {
   "display_name": "Python 3 (ipykernel)",
   "language": "python",
   "name": "python3"
  },
  "language_info": {
   "codemirror_mode": {
    "name": "ipython",
    "version": 3
   },
   "file_extension": ".py",
   "mimetype": "text/x-python",
   "name": "python",
   "nbconvert_exporter": "python",
   "pygments_lexer": "ipython3",
   "version": "3.9.13"
  }
 },
 "nbformat": 4,
 "nbformat_minor": 5
}

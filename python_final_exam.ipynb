{
 "cells": [
  {
   "cell_type": "markdown",
   "metadata": {},
   "source": [
    "# INTRODUCTION TO PYTHON FINAL EXAM"
   ]
  },
  {
   "cell_type": "markdown",
   "metadata": {},
   "source": [
    "# SECTION A: 20 MARKS"
   ]
  },
  {
   "cell_type": "markdown",
   "metadata": {},
   "source": [
    " _________________"
   ]
  },
  {
   "cell_type": "markdown",
   "metadata": {},
   "source": [
    "#### 1. Ram built his own house and was confused about what name he should keep for it. He asked his friend Shyam to help. Shyam suggested a lot of names. Ram has certain conditions for the name:  (5 marks)                                                                                                                      \n",
    "•\tIt should consist of exactly three distinct characters, say C1, C2 and C3\n",
    "•\tIt should satisfy the criteria that the string was of the form - C1n C2n C3n: This means, first C1 occurs n times, then C2 occurs n times and then C3 occurs n times. For example, xyz, ccaarr, mmmiiiaaa satisfy the criteria, but xyzw, aabbbcccc don't.\n",
    "Given N names suggested by Shyam, print \"OK\" if Ram likes the name and \"Not OK\" if he doesn't.\n",
    "\n",
    "•\tInput:\n",
    "First-line contains a single positive integer N - the number of names.\n",
    "N lines follow - each line contains a name.\n",
    "o\t\n",
    "Output:\n",
    "For each name, Print \"OK\" if the name satisfies the criteria, else print \"Not OK\", on a new line.\n",
    "Constraints:\n",
    "1 ≤ N ≤ 100 1 ≤ Length of names ≤ 500\n",
    "Names contain only lowercase English alphabets\n",
    "\n",
    "SAMPLE INPUT\n",
    "2\n",
    "\n",
    "bbbrrriii\n",
    "\n",
    "brian\n",
    "\n",
    "SAMPLE OUTPUT\n",
    "\n",
    "OK\n",
    "\n",
    "Not OK\n"
   ]
  },
  {
   "cell_type": "code",
   "execution_count": 3,
   "metadata": {},
   "outputs": [
    {
     "name": "stdout",
     "output_type": "stream",
     "text": [
      "brian - not okay\n",
      "xyzw - not okay\n",
      "bbbrrriii - okay\n",
      "xyz - okay\n",
      "ccaarr - okay\n",
      "mmmiiiaaa - okay\n",
      "mjmmjiii  - not okay\n"
     ]
    }
   ],
   "source": [
    "names = [\"bbbrrriii\",\"brian\",\"xyz\",\"xyzw\",\"ccaarr\",\"mmmiiiaaa\",\"mjmmjiii\"]\n",
    "names_3char = []\n",
    "for name in names:\n",
    "    name_list = [i for i in name]\n",
    "    if len(set(name_list)) == 3:\n",
    "        names_3char.append(name)\n",
    "    else:\n",
    "        print(name,\"- not okay\")\n",
    "for name in names_3char:\n",
    "    letter_count = {}\n",
    "    for i in name:\n",
    "        letter_count[i] = name.count(i)\n",
    "    values = list(letter_count.values())\n",
    "    keys = list(letter_count.keys())\n",
    "    if values[0] == values[1] == values[2]:\n",
    "        print(name,\"- okay\")\n",
    "    else:\n",
    "        print(name,\" - not okay\")\n",
    "           "
   ]
  },
  {
   "cell_type": "markdown",
   "metadata": {
    "colab_type": "text",
    "id": "A0Aonn8t4Wmj"
   },
   "source": [
    "#### 2. You are  working with NASA and suddenly you got an opportunity to travel to the moon. You have to stay there for 15 years.\n",
    " \n",
    " Exercise1: You have to calculate your weight in kilograms on the moon in a period of 15 years,(3 marks)\n",
    " \n",
    " Step1: Measure your Weight on the Moon and also create a variable to store it. Assume your starting weight:30\n",
    " \n",
    "● For each year, you can calculate the new weight by adding a kilogram, and then multiplying by 6.5 percent (0.65) to get the weight on the moon:\n",
    " \n",
    " Exercise2: Create basic Moon Weight Function: The function should take two parameters: current weight:30 and increased weight:0.5 (the amount the weight will increase each year)   (2 marks)\n",
    " \n",
    " Note: moon_weight = weight * 0.65\n",
    " "
   ]
  },
  {
   "cell_type": "code",
   "execution_count": 21,
   "metadata": {},
   "outputs": [
    {
     "data": {
      "text/plain": [
       "{1: 20.15,\n",
       " 2: 20.8,\n",
       " 3: 21.45,\n",
       " 4: 22.1,\n",
       " 5: 22.75,\n",
       " 6: 23.4,\n",
       " 7: 24.05,\n",
       " 8: 24.7,\n",
       " 9: 25.35,\n",
       " 10: 26.0,\n",
       " 11: 26.65,\n",
       " 12: 27.3,\n",
       " 13: 27.95,\n",
       " 14: 28.6,\n",
       " 15: 29.25}"
      ]
     },
     "execution_count": 21,
     "metadata": {},
     "output_type": "execute_result"
    }
   ],
   "source": [
    "# Exercise1\n",
    "weight = 30\n",
    "moon_wt_info = {}\n",
    "for i in range(1,16):\n",
    "    weight += 1\n",
    "    moon_weight = round(weight * .65,2)\n",
    "    moon_wt_info[i] =  moon_weight\n",
    "moon_wt_info     "
   ]
  },
  {
   "cell_type": "code",
   "execution_count": 39,
   "metadata": {},
   "outputs": [],
   "source": [
    "#Exercise2\n",
    "def Moon_weight(weight,inc_weight):\n",
    "    #weight += inc_weight\n",
    "    moon_weight = round(weight * .65,2)\n",
    "    return moon_weight\n",
    "        "
   ]
  },
  {
   "cell_type": "code",
   "execution_count": 40,
   "metadata": {},
   "outputs": [
    {
     "name": "stdout",
     "output_type": "stream",
     "text": [
      "{1: 20.15, 2: 20.8, 3: 21.45, 4: 22.1, 5: 22.75, 6: 23.4, 7: 24.05, 8: 24.7, 9: 25.35, 10: 26.0, 11: 26.65, 12: 27.3, 13: 27.95, 14: 28.6, 15: 29.25}\n"
     ]
    }
   ],
   "source": [
    "wt = 30\n",
    "inc_wt = 1\n",
    "moon_wt_info = {}\n",
    "for i in range(1,16):\n",
    "    wt += inc_wt\n",
    "    moon_wt_info[i] = Moon_weight(wt,inc_wt)\n",
    "    \n",
    "print(moon_wt_info)\n",
    "     "
   ]
  },
  {
   "cell_type": "markdown",
   "metadata": {
    "colab_type": "text",
    "id": "6dWb6mQY4WnA"
   },
   "source": [
    "#### 3. A famous hotel is maintaining its order history in the dictionary in the given format. Find out which food item is ordered the most (5 Marks)\n",
    "\n",
    " order_id: [list of items ordered]\n",
    " \n",
    " order_history= {165:['Noodles','Tomato Soup','Fries'],168:['Rice Idli','Rawa Dosa','Fries'],190:['Fries','Noodles']}"
   ]
  },
  {
   "cell_type": "code",
   "execution_count": 1,
   "metadata": {},
   "outputs": [
    {
     "name": "stdout",
     "output_type": "stream",
     "text": [
      "dict_keys(['Noodles', 'Tomato Soup', 'Fries', 'Rice Idli', 'Rawa Dosa'])\n",
      "Fries\n"
     ]
    }
   ],
   "source": [
    "order_history= {165:['Noodles','Tomato Soup','Fries','Drink'],168:['Rice Idli','Rawa Dosa','Fries'],190:['Fries','Noodles']}\n",
    "count_items ={'Noodles':0,'Tomato Soup':0,'Fries':0,'Rice Idli':0,'Rawa Dosa':0,}\n",
    "\n",
    "for order_id in order_history:\n",
    "    for item in order_history[order_id]:\n",
    "        if item in count_items.keys():\n",
    "            count_items[item] += 1 \n",
    "max_item = max(count_items.keys(),key = lambda x:x[1])\n",
    "print(count_items.keys())\n",
    "print(max_item)\n",
    "# print(count_items)  "
   ]
  },
  {
   "cell_type": "markdown",
   "metadata": {
    "colab_type": "raw",
    "id": "8DxhYECS4WnJ"
   },
   "source": [
    "#### 4. Write a Python program to make a currency converter. The currency converter should be able to convert a specific currency to an appropriate INR (Indian National Rupee) value. (5 MARKS)\n",
    " 1. USD (U.S Dollars) (1 USD =71.83 INR)\n",
    " 2. YEN (Japanese YEN)  (1 YEN= 0.66 INR\n",
    " 3. EURO (1 EURO=79.57 INR) \n",
    " 4. U.K. POUND (1 U.K POUND=93.11 INR)\n",
    "  \n",
    " INPUT AND OUTPUT SAMPLE:\n",
    " \n",
    " Enter the currency which you want to convert. e.g. USD\n",
    " \n",
    " Enter the value of the currency which you want to convert. e.g. 100\n",
    " \n",
    " The total converted value is 7183.0"
   ]
  },
  {
   "cell_type": "code",
   "execution_count": 12,
   "metadata": {},
   "outputs": [
    {
     "name": "stdout",
     "output_type": "stream",
     "text": [
      "enter any one currency type from USD,YEN,EURO,U.K POUND:USD\n",
      "enter any amountto be converted in number:50\n",
      "3541.5\n"
     ]
    }
   ],
   "source": [
    "currency = {\"USD\":70.83,\"YEN\":0.66,\"EURO\":79.57,\"U.K POUND\":93.11}\n",
    "\n",
    "currency_type = input(\"enter any one currency type from USD,YEN,EURO,U.K POUND:\")\n",
    "amount_to_convert = float(input(\"enter any amountto be converted in number:\"))\n",
    "\n",
    "if currency_type in currency:\n",
    "    amount_in_rupees = round(amount_to_convert * currency[currency_type],2)\n",
    "    print(amount_in_rupees)\n",
    "    "
   ]
  },
  {
   "cell_type": "markdown",
   "metadata": {},
   "source": [
    "# SECTION B: 20 MARKS"
   ]
  },
  {
   "cell_type": "markdown",
   "metadata": {},
   "source": [
    "---------------------"
   ]
  },
  {
   "cell_type": "markdown",
   "metadata": {},
   "source": [
    "#### 5. A Basket of Halloween candy has an unknown amount of candy and you need to guess exactly how much candy is in the bowl. You ask the person in charge a few questions to make a correct guess. If the candy is divided evenly among 5 people, how many pieces would be leftover? The answer is 2 pieces. You then ask about dividing the candy evenly among 6 people, and the amount left over is 3 pieces. Finally, you ask about dividing the candy evenly among 7 people, and the amount left over is 2 pieces. By looking at the bowl, you can tell that there are less than 200 pieces. Write a program to determine how many pieces are in the bowl.             (10 Marks)\n",
    "    \t\n",
    "   1. SAMPLE INPUT:\n",
    "If the candy is divided evenly among 5 people, how many pieces would be leftover?\n",
    "2\n",
    "\n",
    "If the candy is divided evenly among 6 people, how many pieces would be leftover?\n",
    "3\n",
    "\n",
    "If the candy is divided evenly among 7 people, how many pieces would be leftover?\n",
    "2\n",
    "\n",
    "  1. SAMPLE OUTPUT:\n",
    "Number of candies in the jar: 177\n",
    "\n",
    "\n",
    "  2. SAMPLE INPUT :\n",
    "If the candy is divided evenly among 5 people, how many pieces would be leftover?\n",
    "2\n",
    "\n",
    "If the candy is divided evenly among 6 people, how many pieces would be leftover?\n",
    "4\n",
    "\n",
    "If the candy is divided evenly among 7 people, how many pieces would be leftover?\n",
    "2\n",
    "\n",
    "  2. SAMPLE OUTPUT :\n",
    "Number of candies in the jar: 142\n"
   ]
  },
  {
   "cell_type": "code",
   "execution_count": 27,
   "metadata": {},
   "outputs": [
    {
     "name": "stdout",
     "output_type": "stream",
     "text": [
      "leftover after sharing 5 people:2\n",
      "leftover after sharing 6 people:3\n",
      "leftover after sharing 6 people:2\n",
      "177\n"
     ]
    }
   ],
   "source": [
    "people_and_leftOver = {5: int(input(\"leftover after sharing 5 people:\")),\n",
    "                       6: int(input(\"leftover after sharing 6 people:\")),\n",
    "                       7: int(input(\"leftover after sharing 6 people:\"))}\n",
    "for candies in range(1,200):\n",
    "    if candies < 200 and candies % 5 == people_and_leftOver[5] and candies % 6 == people_and_leftOver[6] and candies % 7 == people_and_leftOver[7]:\n",
    "        print(candies)"
   ]
  },
  {
   "cell_type": "markdown",
   "metadata": {},
   "source": [
    "#### 6.generated multiplication questions to do. After each, the program should tell them whether they got it right or wrong and what the correct answer is and finally it should display the total score out of 10 scored by a user.(10 marks)                                     For Example: \n",
    " Question 1: 3 x 4 = 12 Right! \n",
    " \n",
    " Question 2: 8 x 6 = 44 Wrong. The answer is 48. \n",
    " \n",
    " ... \n",
    " \n",
    " Question 10: 7 x 7 = 49 \n",
    " \n",
    " Right.\n"
   ]
  },
  {
   "cell_type": "code",
   "execution_count": 17,
   "metadata": {},
   "outputs": [
    {
     "name": "stdout",
     "output_type": "stream",
     "text": [
      "3 X 4 =15\n",
      "Wrong. The answer is 12\n",
      "3 X 5 =15\n",
      "Right\n",
      "3 X 6 =18\n",
      "Right\n",
      "3 X 7 =21\n",
      "Right\n",
      "3 X 8 =25\n",
      "Wrong. The answer is 24\n",
      "Your total score is 3/5\n"
     ]
    }
   ],
   "source": [
    "questions = [\"3 X 4 =\",\"3 X 5 =\",\"3 X 6 =\",\"3 X 7 =\",\"3 X 8 =\"]\n",
    "answers = {\"3 X 4 =\": 12 ,\"3 X 5 =\" : 15 ,\"3 X 6 =\" : 18,\"3 X 7 =\" : 21,\"3 X 8 =\":24}\n",
    "Score = 0\n",
    "for i in questions:\n",
    "    answer = int(input(i))\n",
    "    if answer == answers[i]:\n",
    "        print(\"Right\")\n",
    "        Score += 1\n",
    "    else:\n",
    "        print(f\"Wrong. The answer is {answers[i]}\")\n",
    "print(f\"Your total score is {Score}/5\")"
   ]
  },
  {
   "cell_type": "markdown",
   "metadata": {},
   "source": [
    "# SECTION C: 30 MARKS"
   ]
  },
  {
   "cell_type": "markdown",
   "metadata": {},
   "source": [
    " _________________"
   ]
  },
  {
   "cell_type": "markdown",
   "metadata": {},
   "source": [
    "### 7. Write a Python Program to create the following series and then print the nth Prime number from the Series,0, 1, 1, 2, 3, 5, 8, 13, 21, 34, 55, 89... (15 Marks)\n",
    "\n",
    "\n",
    "INPUT:8\n",
    "\n",
    "OUTPUT:28657\n"
   ]
  },
  {
   "cell_type": "code",
   "execution_count": 60,
   "metadata": {},
   "outputs": [
    {
     "name": "stdout",
     "output_type": "stream",
     "text": [
      "number:25\n",
      "[0, 1, 1, 2, 3, 5, 8, 13, 21, 34, 55, 89, 144, 233, 377, 610, 987, 1597, 2584, 4181, 6765, 10946, 17711, 28657, 46368, 75025, 121393]\n",
      "[0, 1, 1, 2, 3, 5, 13, 89, 233, 1597, 28657]\n",
      "28657\n"
     ]
    }
   ],
   "source": [
    "n = int(input(\"number:\"))\n",
    "l = [0,1]\n",
    "prime_list = []\n",
    "for i in range(0,n):\n",
    "        next = l[i] + l[i+1]\n",
    "        l.append(next)\n",
    "for n in l:\n",
    "    if n == 1 or n == 2:\n",
    "        prime_list.append(n)\n",
    "    else:\n",
    "        for z in range(2,n):\n",
    "            if n % z == 0:\n",
    "                break\n",
    "        else:\n",
    "            prime_list.append(n)\n",
    "print(l)            \n",
    "print(prime_list)  \n",
    "print(prime_list[10])"
   ]
  },
  {
   "cell_type": "code",
   "execution_count": 74,
   "metadata": {},
   "outputs": [
    {
     "name": "stdout",
     "output_type": "stream",
     "text": [
      "number:8\n",
      "[0, 1, 1, 2, 3, 5, 8, 13, 21, 34, 55, 89, 144, 233, 377, 610, 987, 1597, 2584, 4181, 6765, 10946, 17711, 28657]\n",
      "[2, 3, 5, 13, 89, 233, 1597, 28657]\n"
     ]
    }
   ],
   "source": [
    "term = int(input(\"number:\"))\n",
    "fib_list = [0,1]\n",
    "prime_list = []\n",
    "Flag = True\n",
    "while Flag:\n",
    "    while len(prime_list) < term:\n",
    "        next = fib_list[-1] + fib_list[-2]\n",
    "        fib_list.append(next)\n",
    "        \n",
    "        if next == 1:\n",
    "            pass\n",
    "        else:\n",
    "            for i in range(2,int(next/2)):\n",
    "                if next % i == 0:\n",
    "                    break\n",
    "            else:\n",
    "                prime_list.append(next)\n",
    "                           \n",
    "        if len(prime_list)+1 == term-1:\n",
    "            Flag = False\n",
    "        \n",
    "print(fib_list)\n",
    "print(prime_list)                          "
   ]
  },
  {
   "cell_type": "markdown",
   "metadata": {},
   "source": [
    "### 8. Write a program that converts Roman numerals into ordinary numbers. Here are the conversions: M=1000, D=500, C=100, L=50, X=10, V=5 I=1. Don’t forget about things like IV being 4 and XL being 40.(15 marks)\n",
    " \n",
    "\n",
    "Integer numbers and their Roman equivalent:\n",
    "\n",
    "1000 : 'M'\n",
    "\n",
    "900 : 'CM'\n",
    "\n",
    "500 : 'D'\n",
    "\n",
    "400 : 'CD'\n",
    "\n",
    "100 : 'C'\n",
    "\n",
    "90 : 'XC'\n",
    "\n",
    "50 : 'L'\n",
    "\n",
    "40 : 'XL'\n",
    "\n",
    "10 : 'X'\n",
    "\n",
    "9 : 'IX'\n",
    "\n",
    "5 : 'V'\n",
    "\n",
    "4: 'IV'\n",
    "\n",
    "1: 'I'\n",
    "\n",
    "SAMPLE INPUT:\n",
    "\n",
    "Enter number to Convert: 417\n",
    "\n",
    "SAMPLE OUTPUT:\n",
    "\n",
    "CDXVII\n",
    "\n"
   ]
  },
  {
   "cell_type": "code",
   "execution_count": 16,
   "metadata": {
    "scrolled": true
   },
   "outputs": [
    {
     "name": "stdout",
     "output_type": "stream",
     "text": [
      "any number:8944\n",
      "GMMMCMXLIV\n"
     ]
    }
   ],
   "source": [
    "roman_values = {5000: \"G\",1000 : \"M\", 900 :\"CM\",500 :\"D\", 400 :\"CD\", 100 :\"C\", 90 : \"XC\" ,50 : \"L\" ,40 : \"XL\" , \n",
    "                10 :\"X\",9 : \"IX\",5 : \"V\", 4 : \"IV\", 1 :\"I\"}\n",
    "output = []\n",
    "int_list = list(roman_values.keys())\n",
    "roman_list = list(roman_values.values())\n",
    "\n",
    "sample = int(input(\"any number:\"))\n",
    "\n",
    "for i in range(len(int_list)):\n",
    "    x = sample //int_list[i]\n",
    "    sample = sample % int_list[i]\n",
    "    output.append(roman_list[i] * x) \n",
    "    \n",
    "output = \"\".join(output) \n",
    "print(output)\n",
    "    \n"
   ]
  },
  {
   "cell_type": "code",
   "execution_count": null,
   "metadata": {},
   "outputs": [],
   "source": []
  }
 ],
 "metadata": {
  "colab": {
   "collapsed_sections": [],
   "name": "ITP_MID_1.ipynb",
   "provenance": []
  },
  "kernelspec": {
   "display_name": "Python 3 (ipykernel)",
   "language": "python",
   "name": "python3"
  },
  "language_info": {
   "codemirror_mode": {
    "name": "ipython",
    "version": 3
   },
   "file_extension": ".py",
   "mimetype": "text/x-python",
   "name": "python",
   "nbconvert_exporter": "python",
   "pygments_lexer": "ipython3",
   "version": "3.9.13"
  }
 },
 "nbformat": 4,
 "nbformat_minor": 1
}

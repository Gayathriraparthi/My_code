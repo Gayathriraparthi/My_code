{
 "cells": [
  {
   "cell_type": "markdown",
   "metadata": {
    "id": "tk6x8fIQwOMz"
   },
   "source": [
    "# INTRODUCTION TO PYTHON MID EXAM"
   ]
  },
  {
   "cell_type": "markdown",
   "metadata": {},
   "source": [
    "# Total -  50 Marks"
   ]
  },
  {
   "cell_type": "markdown",
   "metadata": {
    "id": "pC_8dpw3wOM9"
   },
   "source": [
    "# SECTION A: 8 MARKS"
   ]
  },
  {
   "cell_type": "markdown",
   "metadata": {
    "id": "2o-XCvgMwOM9"
   },
   "source": [
    " _________________"
   ]
  },
  {
   "cell_type": "markdown",
   "metadata": {
    "id": "IhKMetxqwOM-"
   },
   "source": [
    "### 1.What are the Immutable and Mutable built-in datatypes of Python Explain the feature immutable with suitable code(8 Marks)"
   ]
  },
  {
   "cell_type": "markdown",
   "metadata": {},
   "source": [
    "#### Immutable datatypes"
   ]
  },
  {
   "cell_type": "markdown",
   "metadata": {},
   "source": [
    "The datatypes in which the data connot be changed or modified are called as 'Immutable datatypes'.\n",
    "The immutable objects in python are 'String', 'Tuple', 'Set'."
   ]
  },
  {
   "cell_type": "code",
   "execution_count": 2,
   "metadata": {},
   "outputs": [
    {
     "ename": "TypeError",
     "evalue": "'str' object does not support item assignment",
     "output_type": "error",
     "traceback": [
      "\u001b[0;31m---------------------------------------------------------------------------\u001b[0m",
      "\u001b[0;31mTypeError\u001b[0m                                 Traceback (most recent call last)",
      "\u001b[0;32m<ipython-input-2-364679b002c3>\u001b[0m in \u001b[0;36m<module>\u001b[0;34m\u001b[0m\n\u001b[1;32m      2\u001b[0m \u001b[0;31m#Strings :\u001b[0m\u001b[0;34m\u001b[0m\u001b[0;34m\u001b[0m\u001b[0;34m\u001b[0m\u001b[0m\n\u001b[1;32m      3\u001b[0m \u001b[0mexample1\u001b[0m \u001b[0;34m=\u001b[0m \u001b[0;34m'python'\u001b[0m\u001b[0;34m\u001b[0m\u001b[0;34m\u001b[0m\u001b[0m\n\u001b[0;32m----> 4\u001b[0;31m \u001b[0mexample1\u001b[0m\u001b[0;34m[\u001b[0m\u001b[0;36m0\u001b[0m\u001b[0;34m]\u001b[0m \u001b[0;34m=\u001b[0m \u001b[0;34m'P'\u001b[0m\u001b[0;34m\u001b[0m\u001b[0;34m\u001b[0m\u001b[0m\n\u001b[0m\u001b[1;32m      5\u001b[0m \u001b[0mexample1\u001b[0m\u001b[0;34m\u001b[0m\u001b[0;34m\u001b[0m\u001b[0m\n\u001b[1;32m      6\u001b[0m \u001b[0;34m\u001b[0m\u001b[0m\n",
      "\u001b[0;31mTypeError\u001b[0m: 'str' object does not support item assignment"
     ]
    }
   ],
   "source": [
    "#Example for Immutable datatypes:\n",
    "#Strings : \n",
    "example1 = 'python'\n",
    "example1[0] = 'P'\n",
    "example1\n",
    "\n",
    "#Here changing 'p' to 'P' is trowing error as string are immutable"
   ]
  },
  {
   "cell_type": "code",
   "execution_count": 3,
   "metadata": {},
   "outputs": [
    {
     "ename": "TypeError",
     "evalue": "'tuple' object does not support item assignment",
     "output_type": "error",
     "traceback": [
      "\u001b[0;31m---------------------------------------------------------------------------\u001b[0m",
      "\u001b[0;31mTypeError\u001b[0m                                 Traceback (most recent call last)",
      "\u001b[0;32m<ipython-input-3-a21035510d6c>\u001b[0m in \u001b[0;36m<module>\u001b[0;34m\u001b[0m\n\u001b[1;32m      1\u001b[0m \u001b[0;31m#Tuple\u001b[0m\u001b[0;34m\u001b[0m\u001b[0;34m\u001b[0m\u001b[0;34m\u001b[0m\u001b[0m\n\u001b[1;32m      2\u001b[0m \u001b[0mexample2\u001b[0m \u001b[0;34m=\u001b[0m \u001b[0;34m(\u001b[0m\u001b[0;34m'Python'\u001b[0m\u001b[0;34m,\u001b[0m \u001b[0;34m'is'\u001b[0m\u001b[0;34m,\u001b[0m \u001b[0;34m'my'\u001b[0m\u001b[0;34m,\u001b[0m \u001b[0;34m'favorite'\u001b[0m\u001b[0;34m)\u001b[0m\u001b[0;34m\u001b[0m\u001b[0;34m\u001b[0m\u001b[0m\n\u001b[0;32m----> 3\u001b[0;31m \u001b[0mexample2\u001b[0m\u001b[0;34m[\u001b[0m\u001b[0;36m0\u001b[0m\u001b[0;34m]\u001b[0m \u001b[0;34m=\u001b[0m \u001b[0;34m'Data Science'\u001b[0m\u001b[0;34m\u001b[0m\u001b[0;34m\u001b[0m\u001b[0m\n\u001b[0m\u001b[1;32m      4\u001b[0m \u001b[0;34m\u001b[0m\u001b[0m\n\u001b[1;32m      5\u001b[0m \u001b[0;31m#Here changing 'Python' to 'Data Science' is trowing error as tuples are immutable\u001b[0m\u001b[0;34m\u001b[0m\u001b[0;34m\u001b[0m\u001b[0;34m\u001b[0m\u001b[0m\n",
      "\u001b[0;31mTypeError\u001b[0m: 'tuple' object does not support item assignment"
     ]
    }
   ],
   "source": [
    "#Tuple\n",
    "example2 = ('Python', 'is', 'my', 'favorite')\n",
    "example2[0] = 'Data Science'\n",
    "\n",
    "#Here changing 'Python' to 'Data Science' is trowing error as tuples are immutable"
   ]
  },
  {
   "cell_type": "code",
   "execution_count": 4,
   "metadata": {},
   "outputs": [
    {
     "ename": "TypeError",
     "evalue": "'set' object does not support item assignment",
     "output_type": "error",
     "traceback": [
      "\u001b[0;31m---------------------------------------------------------------------------\u001b[0m",
      "\u001b[0;31mTypeError\u001b[0m                                 Traceback (most recent call last)",
      "\u001b[0;32m<ipython-input-4-28726a05ddd8>\u001b[0m in \u001b[0;36m<module>\u001b[0;34m\u001b[0m\n\u001b[1;32m      1\u001b[0m \u001b[0;31m#set\u001b[0m\u001b[0;34m\u001b[0m\u001b[0;34m\u001b[0m\u001b[0;34m\u001b[0m\u001b[0m\n\u001b[1;32m      2\u001b[0m \u001b[0mexample3\u001b[0m \u001b[0;34m=\u001b[0m \u001b[0;34m{\u001b[0m\u001b[0;36m1\u001b[0m\u001b[0;34m,\u001b[0m \u001b[0;36m2\u001b[0m\u001b[0;34m,\u001b[0m \u001b[0;36m3\u001b[0m\u001b[0;34m,\u001b[0m \u001b[0;36m4\u001b[0m\u001b[0;34m,\u001b[0m \u001b[0;36m5\u001b[0m\u001b[0;34m}\u001b[0m\u001b[0;34m\u001b[0m\u001b[0;34m\u001b[0m\u001b[0m\n\u001b[0;32m----> 3\u001b[0;31m \u001b[0mexample3\u001b[0m\u001b[0;34m[\u001b[0m\u001b[0;36m0\u001b[0m\u001b[0;34m]\u001b[0m \u001b[0;34m=\u001b[0m \u001b[0;36m999\u001b[0m\u001b[0;34m\u001b[0m\u001b[0;34m\u001b[0m\u001b[0m\n\u001b[0m\u001b[1;32m      4\u001b[0m \u001b[0;34m\u001b[0m\u001b[0m\n\u001b[1;32m      5\u001b[0m \u001b[0;31m#Here changing '1' to '999' is trowing error as sets are unhashable. so updating also not possible . hence sets are also immutable.\u001b[0m\u001b[0;34m\u001b[0m\u001b[0;34m\u001b[0m\u001b[0;34m\u001b[0m\u001b[0m\n",
      "\u001b[0;31mTypeError\u001b[0m: 'set' object does not support item assignment"
     ]
    }
   ],
   "source": [
    "#set\n",
    "example3 = {1, 2, 3, 4, 5}\n",
    "example3[0] = 999\n",
    "\n",
    "#Here changing '1' to '999' is trowing error as sets are unhashable. so updating also not possible . hence sets are also immutable."
   ]
  },
  {
   "cell_type": "markdown",
   "metadata": {},
   "source": [
    "#### Mutable datatypes"
   ]
  },
  {
   "cell_type": "markdown",
   "metadata": {},
   "source": [
    "The datatypes in which the data can be modified/updated are called as 'Mutable datatypes'. \n",
    "Mutable objects in python are 'Lists', 'Dictionaries'."
   ]
  },
  {
   "cell_type": "code",
   "execution_count": 5,
   "metadata": {},
   "outputs": [
    {
     "data": {
      "text/plain": [
       "[999, 2, 3, 4, 5]"
      ]
     },
     "execution_count": 5,
     "metadata": {},
     "output_type": "execute_result"
    }
   ],
   "source": [
    "#Lists\n",
    "example4 = [1,2,3,4,5]\n",
    "example4[0] = 999\n",
    "example4\n",
    "\n",
    "#Here we can see 999 is updated in the list in place of 1 . So lists are mutable."
   ]
  },
  {
   "cell_type": "code",
   "execution_count": 6,
   "metadata": {},
   "outputs": [
    {
     "data": {
      "text/plain": [
       "{'1': 'python', '2': 'SQL', '3': 'C++'}"
      ]
     },
     "execution_count": 6,
     "metadata": {},
     "output_type": "execute_result"
    }
   ],
   "source": [
    "#Dictionaries\n",
    "example5 = {'1':'python', '2':'java', '3':'C++'}\n",
    "example5['2'] = 'SQL'\n",
    "example5\n",
    "\n",
    "#Here we can see 'java' is updaed with 'SQL'. So dictionaries are also mutable."
   ]
  },
  {
   "cell_type": "markdown",
   "metadata": {
    "id": "lzZpLpypwOM-"
   },
   "source": [
    "# SECTION B: 17 MARKS"
   ]
  },
  {
   "cell_type": "markdown",
   "metadata": {
    "id": "tJjwpEFhwOM_"
   },
   "source": [
    "---------------------"
   ]
  },
  {
   "cell_type": "markdown",
   "metadata": {
    "id": "AY1UV4uswOM_"
   },
   "source": [
    "### 2. Write a program for binary algebra. Accept two numbers. Convert them to binary and display addition and substraction? ( 7 Marks)\n",
    "    \n"
   ]
  },
  {
   "cell_type": "raw",
   "metadata": {},
   "source": [
    "**** Expected Output ****\n",
    "Enter first number3\n",
    "Enter second number4\n",
    "Binary equivalent of number1 0b11\n",
    "Binary equivalent of number2 0b100\n",
    "Addition is = 0b110b100 Substraction is = -0b1"
   ]
  },
  {
   "cell_type": "code",
   "execution_count": 2,
   "metadata": {},
   "outputs": [
    {
     "name": "stdout",
     "output_type": "stream",
     "text": [
      "Enter first number : 3\n",
      "Enter first number : 4\n",
      "Binary equivalent of number1 :  0b11\n",
      "Binary equivalent of number2 :  0b100\n",
      "Addition is = 0b110b100 Substraction is = -0b1\n"
     ]
    }
   ],
   "source": [
    "number1 = int(input('Enter first number : '))\n",
    "number2 = int(input('Enter first number : '))\n",
    "bin_number1 = bin(number1)\n",
    "bin_number2 = bin(number2)\n",
    "print('Binary equivalent of number1 : ', bin_number1)\n",
    "print('Binary equivalent of number2 : ', bin_number2)\n",
    "print('Addition is =', str(bin_number1) + str(bin_number2), 'Substraction is =',bin(number1-number2))"
   ]
  },
  {
   "cell_type": "markdown",
   "metadata": {
    "id": "iVv_AndAwONA"
   },
   "source": [
    "### 3.Write a code to accept full name as a combination of first name and last name seperated by space. Accept gender from user. Add appropriate salutation (Mr./Ms.) to the name. Display the output as given below? (5 Marks)"
   ]
  },
  {
   "cell_type": "raw",
   "metadata": {},
   "source": [
    "**** Expected Output ****\n",
    "Enter Full name as first name last namesani sharma\n",
    "Enter Gender (Male/Female)female\n",
    "Dear Ms.Sani, How are you?"
   ]
  },
  {
   "cell_type": "code",
   "execution_count": 5,
   "metadata": {},
   "outputs": [
    {
     "name": "stdout",
     "output_type": "stream",
     "text": [
      "Enter Full name as first name last namesani sharma\n",
      "Enter Gender (Male/Female)female\n",
      "Dear Ms.sani, How are you?\n"
     ]
    }
   ],
   "source": [
    "first_name, last_name  = input('Enter Full name as first name last name').split()\n",
    "gender = input('Enter Gender (Male/Female)')\n",
    "output_gender = ''\n",
    "if gender == 'female':\n",
    "    output_gender = 'Ms'\n",
    "else:\n",
    "    output_gender = 'Mr'\n",
    "print(f'Dear {output_gender}.{first_name}, How are you?')"
   ]
  },
  {
   "cell_type": "markdown",
   "metadata": {
    "id": "y8clA5NewONB"
   },
   "source": [
    "### 4.  Write a code to add “alpha”:26 to the existing dictionary. (5 Marks)\n",
    "dic={'Eddy':13,'Maria':44,'Jas':21}"
   ]
  },
  {
   "cell_type": "code",
   "execution_count": 6,
   "metadata": {},
   "outputs": [
    {
     "data": {
      "text/plain": [
       "{'Eddy': 13, 'Maria': 44, 'Jas': 21, 'alpha': 26}"
      ]
     },
     "execution_count": 6,
     "metadata": {},
     "output_type": "execute_result"
    }
   ],
   "source": [
    "dic={'Eddy':13,'Maria':44,'Jas':21}\n",
    "dic['alpha'] = 26\n",
    "dic"
   ]
  },
  {
   "cell_type": "markdown",
   "metadata": {
    "id": "IhDPiRcMwONB"
   },
   "source": [
    "# SECTION C: 25 MARKS"
   ]
  },
  {
   "cell_type": "markdown",
   "metadata": {
    "id": "UFb7os5OwONC"
   },
   "source": [
    "### 5. Write a python program. Suppose the input=6 Then, the output should be:\n",
    "### {1: 1, 2: 4, 3: 9, 4: 16, 5: 25, 6: 36} (5 Marks)"
   ]
  },
  {
   "cell_type": "code",
   "execution_count": 7,
   "metadata": {},
   "outputs": [
    {
     "name": "stdout",
     "output_type": "stream",
     "text": [
      "Enter a number : 6\n"
     ]
    },
    {
     "data": {
      "text/plain": [
       "{1: 1, 2: 4, 3: 9, 4: 16, 5: 25, 6: 36}"
      ]
     },
     "execution_count": 7,
     "metadata": {},
     "output_type": "execute_result"
    }
   ],
   "source": [
    "number = int(input('Enter a number : '))\n",
    "output_dict = dict()\n",
    "for i in range(1, number+1):\n",
    "    output_dict[i] = i**2\n",
    "    \n",
    "output_dict"
   ]
  },
  {
   "cell_type": "markdown",
   "metadata": {
    "id": "QVKkv-5ywONC"
   },
   "source": [
    "### 6. Write a code to find the factors of  a given number? Write Recursive and non-recursive codes (10 Marks)"
   ]
  },
  {
   "cell_type": "code",
   "execution_count": 4,
   "metadata": {},
   "outputs": [
    {
     "name": "stdout",
     "output_type": "stream",
     "text": [
      "Enter a number to find its factors : 40\n"
     ]
    }
   ],
   "source": [
    "input_number = int(input('Enter a number to find its factors : '))"
   ]
  },
  {
   "cell_type": "markdown",
   "metadata": {},
   "source": [
    "#### Recursive Code"
   ]
  },
  {
   "cell_type": "code",
   "execution_count": 5,
   "metadata": {},
   "outputs": [
    {
     "name": "stdout",
     "output_type": "stream",
     "text": [
      "Factors of 40 are  [1, 2, 4, 5, 8, 10, 20, 40]\n"
     ]
    }
   ],
   "source": [
    "factors = []\n",
    "for i in range(1, input_number+1):\n",
    "    if input_number%i == 0:\n",
    "        factors.append(i)\n",
    "    \n",
    "print(f'Factors of {input_number} are ', factors)\n"
   ]
  },
  {
   "cell_type": "markdown",
   "metadata": {},
   "source": [
    "#### Non - recursive code"
   ]
  },
  {
   "cell_type": "code",
   "execution_count": 7,
   "metadata": {},
   "outputs": [
    {
     "name": "stdout",
     "output_type": "stream",
     "text": [
      "Factors of 40 are  [1, 2, 4, 5, 8, 10, 20, 40]\n"
     ]
    }
   ],
   "source": [
    "def fact(num):\n",
    "    final_list = []\n",
    "    for i in range(1, num+1):\n",
    "        if num%i == 0:\n",
    "            final_list.append(i)\n",
    "    return(final_list)\n",
    "\n",
    "print(f'Factors of {input_number} are ', fact(input_number))\n"
   ]
  },
  {
   "cell_type": "markdown",
   "metadata": {
    "id": "QVKkv-5ywONC"
   },
   "source": [
    "### 7. For a given nested list find out the maximum element and calculate average of all elements. Use the given list?         list1 = [[20,25,30],[10,15,18],[12,45,20],35,20,23,28] (10 Marks)"
   ]
  },
  {
   "cell_type": "raw",
   "metadata": {},
   "source": [
    "**** Expected OUtput ****\n",
    "The maximum of the nested list is 45\n",
    "The average is 23.15"
   ]
  },
  {
   "cell_type": "code",
   "execution_count": 40,
   "metadata": {},
   "outputs": [
    {
     "name": "stdout",
     "output_type": "stream",
     "text": [
      "The maximum of the nested list is 45\n",
      "The average is 23.15\n"
     ]
    }
   ],
   "source": [
    "list1 = [[20,25,30],[10,15,18],[12,45,20],35,20,23,28]\n",
    "out_list1 = []\n",
    "for i in list1:\n",
    "    if (type(i) == int):\n",
    "        out_list1.append(i)\n",
    "    else:\n",
    "        for j in range(len(i)):\n",
    "            out_list1.append(i[j])\n",
    "print(f'The maximum of the nested list is {max(out_list1)}')\n",
    "print('The average is', round(sum(out_list1)/len(out_list1),2))"
   ]
  }
 ],
 "metadata": {
  "colab": {
   "name": "ITP_MID_EXAM_SET_5_WITH_SOLUTION.ipynb",
   "provenance": []
  },
  "kernelspec": {
   "display_name": "Python 3 (ipykernel)",
   "language": "python",
   "name": "python3"
  },
  "language_info": {
   "codemirror_mode": {
    "name": "ipython",
    "version": 3
   },
   "file_extension": ".py",
   "mimetype": "text/x-python",
   "name": "python",
   "nbconvert_exporter": "python",
   "pygments_lexer": "ipython3",
   "version": "3.9.13"
  }
 },
 "nbformat": 4,
 "nbformat_minor": 1
}

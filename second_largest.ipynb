{
 "cells": [
  {
   "cell_type": "code",
   "execution_count": 60,
   "id": "3c19b3ee",
   "metadata": {},
   "outputs": [
    {
     "name": "stdout",
     "output_type": "stream",
     "text": [
      "[-40, -3, -2, -1, -1, -1, 0, 0, 1, 1, 1, 1, 2, 3, 4, 6, 7, 8, 8, 12, 14]\n",
      "230\n"
     ]
    }
   ],
   "source": [
    "iteration = 0\n",
    "l = [3,2,1,4,6,8,14,12,1,7,8,0,1,-1,-1,0,-1,-3,-2,1,-40]\n",
    "for i in range(len(l)-1):\n",
    "    iteration = iteration+1\n",
    "    for j in range(i+1,len(l)):\n",
    "        iteration = iteration+1\n",
    "        if l[i] > l[j]:\n",
    "            l[i],l[j] = l[j],l[i]\n",
    "    \n",
    "print(l)\n",
    "print(iteration)"
   ]
  },
  {
   "cell_type": "code",
   "execution_count": 61,
   "id": "7573ce74",
   "metadata": {},
   "outputs": [
    {
     "name": "stdout",
     "output_type": "stream",
     "text": [
      "[-40, -3, -2, -1, -1, -1, 0, 0, 1, 1, 1, 1, 2, 3, 4, 6, 7, 8, 8, 12, 14]\n",
      "20\n"
     ]
    }
   ],
   "source": [
    "iteration = 0\n",
    "for i in range(len(l)-1):\n",
    "    iteration = iteration+1\n",
    "    if l[i] > l[i+1]:\n",
    "        l[i],l[i+1] = l[i+1],l[i]\n",
    "        \n",
    "        \n",
    "print(l)\n",
    "print(iteration)"
   ]
  },
  {
   "cell_type": "code",
   "execution_count": 62,
   "id": "2a956d77",
   "metadata": {},
   "outputs": [
    {
     "name": "stdout",
     "output_type": "stream",
     "text": [
      "14 12\n",
      "21\n"
     ]
    }
   ],
   "source": [
    "iteration =0\n",
    "first = 0\n",
    "second = 0\n",
    "for i in range(len(l)):\n",
    "    iteration = iteration+1\n",
    "    if l[i] > first:\n",
    "        first,second = l[i],first\n",
    "    elif l[i] > second:\n",
    "        second = l[i]\n",
    "\n",
    "print(first,second)\n",
    "print(iteration)   "
   ]
  },
  {
   "cell_type": "code",
   "execution_count": null,
   "id": "6c0812f2",
   "metadata": {},
   "outputs": [],
   "source": []
  },
  {
   "cell_type": "code",
   "execution_count": null,
   "id": "ab9e4b03",
   "metadata": {},
   "outputs": [],
   "source": []
  }
 ],
 "metadata": {
  "kernelspec": {
   "display_name": "Python 3 (ipykernel)",
   "language": "python",
   "name": "python3"
  },
  "language_info": {
   "codemirror_mode": {
    "name": "ipython",
    "version": 3
   },
   "file_extension": ".py",
   "mimetype": "text/x-python",
   "name": "python",
   "nbconvert_exporter": "python",
   "pygments_lexer": "ipython3",
   "version": "3.11.4"
  }
 },
 "nbformat": 4,
 "nbformat_minor": 5
}

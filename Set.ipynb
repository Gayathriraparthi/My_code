{
 "cells": [
  {
   "cell_type": "markdown",
   "id": "6c20c547",
   "metadata": {},
   "source": [
    "### Set Basics:\n",
    "\n"
   ]
  },
  {
   "cell_type": "markdown",
   "id": "dbe52464",
   "metadata": {},
   "source": [
    "#### What is a set in Python?\n",
    "A set in Python is an unordered collection of unique elements. It is defined by enclosing elements in curly braces {} or by using the set() constructor. Sets are similar to lists and dictionaries but have distinct characteristics: they don't allow duplicate elements, and they are unordered, meaning the elements have no specific order.\n",
    "\n"
   ]
  },
  {
   "cell_type": "markdown",
   "id": "9592fd26",
   "metadata": {},
   "source": [
    "#### How are sets different from other data structures like lists and dictionaries?\n",
    "\n",
    "Lists are ordered collections that allow duplicate elements, whereas sets are unordered and do not allow duplicates.\n",
    "Dictionaries are key-value pairs, where each element has a unique key associated with it, while sets contain only individual elements without any key-value pairs."
   ]
  },
  {
   "cell_type": "markdown",
   "id": "9fee0254",
   "metadata": {},
   "source": [
    "### Creating Sets:\n",
    "\n"
   ]
  },
  {
   "cell_type": "markdown",
   "id": "0ca71b91",
   "metadata": {},
   "source": [
    "#### How do you create an empty set in Python?\n",
    "You can create an empty set using the set() constructor like this: my_set = set().\n",
    "\n"
   ]
  },
  {
   "cell_type": "markdown",
   "id": "241de4fa",
   "metadata": {},
   "source": [
    "#### Provide examples of different ways to create sets with elements.\n",
    "\n"
   ]
  },
  {
   "cell_type": "code",
   "execution_count": 5,
   "id": "c5bacc53",
   "metadata": {},
   "outputs": [],
   "source": [
    "# Using curly braces\n",
    "my_set = {1, 2, 3}\n",
    "\n",
    "# Using the set() constructor\n",
    "another_set = set([3, 4, 5])\n",
    "\n",
    "# Creating a set with mixed data types\n",
    "mixed_set = {1, 'apple', 3.14}"
   ]
  },
  {
   "cell_type": "markdown",
   "id": "f4e6739c",
   "metadata": {},
   "source": [
    "### Adding and Removing Elements:\n",
    "\n"
   ]
  },
  {
   "cell_type": "markdown",
   "id": "7b5835c3",
   "metadata": {},
   "source": [
    "#### How do you add elements to a set?\n",
    "You can add elements to a set using the add() method. For example: my_set.add(4) will add the element 4 to the set my_set.\n",
    "\n"
   ]
  },
  {
   "cell_type": "markdown",
   "id": "357c837e",
   "metadata": {},
   "source": [
    "#### How do you remove elements from a set?\n",
    "You can remove elements from a set using methods like remove() or discard(). For example: my_set.remove(2) will remove the element 2 from the set my_set. If the element does not exist, remove() raises a KeyError, while discard() does not.\n",
    "\n"
   ]
  },
  {
   "cell_type": "markdown",
   "id": "faf4eb09",
   "metadata": {},
   "source": [
    "#### Explain the difference between add() and update() methods.\n",
    "\n",
    "The add() method is used to add a single element to the set.\n",
    "The update() method is used to add multiple elements (another iterable, like a list or another set) to the set. It takes an iterable as an argument and adds its elements to the set."
   ]
  },
  {
   "cell_type": "markdown",
   "id": "3cea92a5",
   "metadata": {},
   "source": [
    "### Set Operations:\n",
    "\n"
   ]
  },
  {
   "cell_type": "markdown",
   "id": "c4e46f60",
   "metadata": {},
   "source": [
    "#### What are some common set operations in Python?\n",
    "Common set operations include union, intersection, difference, symmetric difference, subset, and superset operations."
   ]
  },
  {
   "cell_type": "code",
   "execution_count": 12,
   "id": "d336630e",
   "metadata": {},
   "outputs": [
    {
     "data": {
      "text/plain": [
       "{1, 2}"
      ]
     },
     "execution_count": 12,
     "metadata": {},
     "output_type": "execute_result"
    }
   ],
   "source": [
    "#Provide examples of union, intersection, and difference operations.\n",
    "\n",
    "set1 = {1, 2, 3}\n",
    "set2 = {3, 4, 5}\n",
    "\n",
    "# Union of two sets\n",
    "union_result = set1.union(set2)  # or set1 | set2\n",
    "# Result: {1, 2, 3, 4, 5}\n",
    "\n",
    "# Intersection of two sets\n",
    "intersection_result = set1.intersection(set2)  # or set1 & set2\n",
    "# Result: {3}\n",
    "\n",
    "# Difference between two sets\n",
    "difference_result = set1.difference(set2)  # or set1 - set2\n",
    "# Result: {1, 2}\n",
    "difference_result"
   ]
  },
  {
   "cell_type": "markdown",
   "id": "d9bcd1ec",
   "metadata": {},
   "source": [
    "### Set Methods:\n"
   ]
  },
  {
   "cell_type": "markdown",
   "id": "9f871658",
   "metadata": {},
   "source": [
    "#### Explain the purpose and usage of methods like union(), intersection(), difference(), and symmetric_difference() in sets.\n",
    "\n",
    "union(): Returns a new set containing all elements from both sets.\n",
    "intersection(): Returns a new set containing elements that are common to both sets.\n",
    "difference(): Returns a new set containing elements that are in the first set but not in the second.\n",
    "symmetric_difference(): Returns a new set containing elements that are in either of the sets but not in their intersection."
   ]
  },
  {
   "cell_type": "markdown",
   "id": "df9b448d",
   "metadata": {},
   "source": [
    "#### How do you check if one set is a subset or superset of another set?\n",
    "You can use the issubset() and issuperset() methods to check for subset and superset relationships, respectively. For example:\n",
    "\n",
    "\n"
   ]
  },
  {
   "cell_type": "code",
   "execution_count": null,
   "id": "68069215",
   "metadata": {},
   "outputs": [],
   "source": [
    "set1 = {1, 2}\n",
    "set2 = {1, 2, 3}\n",
    "\n",
    "# Check if set1 is a subset of set2\n",
    "is_subset = set1.issubset(set2)  # True\n",
    "\n",
    "# Check if set2 is a superset of set1\n",
    "is_superset = set2.issuperset(set1)  # True"
   ]
  },
  {
   "cell_type": "markdown",
   "id": "10f32986",
   "metadata": {},
   "source": [
    "### Set Comprehensions:\n"
   ]
  },
  {
   "cell_type": "markdown",
   "id": "a8be8b4a",
   "metadata": {},
   "source": [
    "#### What are set comprehensions, and how do they work?\n",
    "Set comprehensions are a concise way to create sets by applying an expression to each item in an iterable (e.g., a list or range) and collecting the results in a set. They have a similar syntax to list comprehensions but use curly braces {}.\n",
    "\n"
   ]
  },
  {
   "cell_type": "markdown",
   "id": "424b4b06",
   "metadata": {},
   "source": [
    "#### Give an example of a set comprehension.\n",
    "Here's an example of a set comprehension that generates a set of squares for numbers from 1 to 5:\n"
   ]
  },
  {
   "cell_type": "code",
   "execution_count": null,
   "id": "5be423b1",
   "metadata": {},
   "outputs": [],
   "source": [
    "squares = {x**2 for x in range(1, 6)}\n",
    "# Result: {1, 4, 9, 16, 25}\n"
   ]
  },
  {
   "cell_type": "markdown",
   "id": "e8c16a9a",
   "metadata": {},
   "source": [
    "### Frozen Sets:\n",
    "\n"
   ]
  },
  {
   "cell_type": "markdown",
   "id": "e3acb278",
   "metadata": {},
   "source": [
    "#### What is a frozen set, and how is it different from a regular set?\n",
    "A frozen set is an immutable version of a set. It cannot be modified after creation, meaning you cannot add or remove elements from it. Frozen sets are created using the frozenset() constructor and are useful when you need a hashable, unchangeable set-like object.\n",
    "\n"
   ]
  },
  {
   "cell_type": "markdown",
   "id": "0118d943",
   "metadata": {},
   "source": [
    "#### When would you use a frozen set in your code?\n",
    "You would use a frozen set when you need a set-like object that can be used as a dictionary key or included in another set, list, or tuple. Since frozen sets are hashable and unchangeable, they are suitable for scenarios where immutability is required.\n"
   ]
  },
  {
   "cell_type": "markdown",
   "id": "165b5b0a",
   "metadata": {},
   "source": [
    "### Removing Duplicates:"
   ]
  },
  {
   "cell_type": "markdown",
   "id": "39166dbd",
   "metadata": {},
   "source": [
    "#### How can you remove duplicate elements from a list and convert it into a set?\n",
    "You can remove duplicates from a list by converting it to a set. Since sets do not allow duplicates, any duplicates in the list will be automatically removed during the conversion process.\n",
    "\n"
   ]
  },
  {
   "cell_type": "markdown",
   "id": "c2340975",
   "metadata": {},
   "source": [
    "#### Provide an example of this process.\n",
    "Here's an example of removing duplicates from a list:"
   ]
  },
  {
   "cell_type": "code",
   "execution_count": null,
   "id": "505481dc",
   "metadata": {},
   "outputs": [],
   "source": [
    "my_list = [1, 2, 2, 3, 4, 4, 5]\n",
    "unique_set = set(my_list)  # Converts list to set, removing duplicates\n",
    "unique_list = list(unique_set)  # Converts set back to list\n",
    "# Result: unique_list is [1, 2, 3, 4, 5]\n"
   ]
  },
  {
   "cell_type": "markdown",
   "id": "cad21f37",
   "metadata": {},
   "source": [
    "### Set Membership Testing:\n",
    "To check if an element is present in a set in Python, you can use the in keyword. \n",
    "The in keyword returns True if the element is found in the set and False otherwise. It's a convenient way to perform set membership testing.\n",
    "Here's how it works:"
   ]
  },
  {
   "cell_type": "code",
   "execution_count": null,
   "id": "06b15ada",
   "metadata": {},
   "outputs": [],
   "source": [
    "my_set = {1, 2, 3, 4, 5}\n",
    "element = 3\n",
    "\n",
    "if element in my_set:\n",
    "    print(f\"{element} is present in the set.\")\n",
    "else:\n",
    "    print(f\"{element} is not present in the set.\")\n"
   ]
  },
  {
   "cell_type": "markdown",
   "id": "235dc904",
   "metadata": {},
   "source": [
    "### Set vs. List Performance:\n",
    "\n",
    "You would choose to use a set over a list for storing and managing data when you need to ensure uniqueness and don't care about the order of elements. Sets are designed to store unique elements, and they provide fast membership testing.\n",
    "\n",
    "Scenarios where sets offer performance advantages include:\n",
    "\n",
    "Checking for the existence of an element in a collection (sets have O(1) average time complexity for this).\n",
    "Removing duplicates from a list by converting it to a set (eliminates duplicates in O(n) time).\n",
    "Finding the intersection or difference between collections efficiently."
   ]
  },
  {
   "cell_type": "markdown",
   "id": "92e179df",
   "metadata": {},
   "source": [
    "### Mutability vs. Immutability:\n",
    "\n",
    "Sets are mutable in Python. This means that you can add, remove, or modify elements within a set after its creation.\n",
    "Mutability affects the behavior of sets in the sense that you can change their contents (add or remove elements) without creating a new set. This is different from immutable data structures like tuples or strings, where you cannot modify their contents after creation."
   ]
  },
  {
   "cell_type": "markdown",
   "id": "e3bfda2e",
   "metadata": {},
   "source": [
    "### Set Conversion:\n",
    "\n",
    "You can convert a set into various data structures in Python using constructors or typecasting. Here are some examples:\n",
    "\n",
    "Converting a set to a list:"
   ]
  },
  {
   "cell_type": "code",
   "execution_count": 7,
   "id": "7a327ec1",
   "metadata": {},
   "outputs": [],
   "source": [
    "my_set = {1, 2, 3, 4, 5}\n",
    "my_list = list(my_set)\n"
   ]
  },
  {
   "cell_type": "code",
   "execution_count": 8,
   "id": "f820891f",
   "metadata": {},
   "outputs": [],
   "source": [
    "#Converting a set to a tuple:\n",
    "my_set = {1, 2, 3, 4, 5}\n",
    "my_tuple = tuple(my_set)\n"
   ]
  },
  {
   "cell_type": "markdown",
   "id": "5cefbc23",
   "metadata": {},
   "source": [
    "### Set Intersection with Multiple Sets:\n",
    "\n",
    "To find the intersection of multiple sets in Python, you can use the intersection() method or the & operator. Here's an example with three sets:"
   ]
  },
  {
   "cell_type": "code",
   "execution_count": 9,
   "id": "f1adb8e4",
   "metadata": {},
   "outputs": [
    {
     "name": "stdout",
     "output_type": "stream",
     "text": [
      "{4}\n"
     ]
    }
   ],
   "source": [
    "set1 = {1, 2, 3, 4}\n",
    "set2 = {3, 4, 5, 6}\n",
    "set3 = {4, 5, 7, 8}\n",
    "\n",
    "intersection_result = set1.intersection(set2, set3)\n",
    "# Alternatively, you can use the & operator:\n",
    "# intersection_result = set1 & set2 & set3\n",
    "\n",
    "print(intersection_result)  # Output: {4}\n"
   ]
  },
  {
   "cell_type": "markdown",
   "id": "b81f6c85",
   "metadata": {},
   "source": [
    "#### Set Symmetric Difference:\n",
    "\n",
    "The symmetric difference of two sets A and B contains elements that are in either A or B, but not in both. In Python, you can find the symmetric difference of two sets using the symmetric_difference() method or the ^ operator. Here's an example:"
   ]
  },
  {
   "cell_type": "code",
   "execution_count": 10,
   "id": "b2f504b3",
   "metadata": {},
   "outputs": [
    {
     "name": "stdout",
     "output_type": "stream",
     "text": [
      "{1, 2, 5, 6}\n"
     ]
    }
   ],
   "source": [
    "set1 = {1, 2, 3, 4}\n",
    "set2 = {3, 4, 5, 6}\n",
    "\n",
    "symmetric_diff = set1.symmetric_difference(set2)\n",
    "# Alternatively, you can use the ^ operator:\n",
    "# symmetric_diff = set1 ^ set2\n",
    "\n",
    "print(symmetric_diff)  # Output: {1, 2, 5, 6}\n"
   ]
  },
  {
   "cell_type": "code",
   "execution_count": null,
   "id": "8ceefff1",
   "metadata": {},
   "outputs": [],
   "source": []
  },
  {
   "cell_type": "code",
   "execution_count": null,
   "id": "22959a46",
   "metadata": {},
   "outputs": [],
   "source": []
  },
  {
   "cell_type": "code",
   "execution_count": null,
   "id": "85a06581",
   "metadata": {},
   "outputs": [],
   "source": []
  },
  {
   "cell_type": "code",
   "execution_count": null,
   "id": "26cde7c2",
   "metadata": {},
   "outputs": [],
   "source": []
  },
  {
   "cell_type": "code",
   "execution_count": null,
   "id": "5d534fed",
   "metadata": {},
   "outputs": [],
   "source": []
  },
  {
   "cell_type": "code",
   "execution_count": null,
   "id": "87319b47",
   "metadata": {},
   "outputs": [],
   "source": []
  },
  {
   "cell_type": "code",
   "execution_count": null,
   "id": "905dd984",
   "metadata": {},
   "outputs": [],
   "source": []
  }
 ],
 "metadata": {
  "kernelspec": {
   "display_name": "Python 3 (ipykernel)",
   "language": "python",
   "name": "python3"
  },
  "language_info": {
   "codemirror_mode": {
    "name": "ipython",
    "version": 3
   },
   "file_extension": ".py",
   "mimetype": "text/x-python",
   "name": "python",
   "nbconvert_exporter": "python",
   "pygments_lexer": "ipython3",
   "version": "3.9.13"
  }
 },
 "nbformat": 4,
 "nbformat_minor": 5
}
